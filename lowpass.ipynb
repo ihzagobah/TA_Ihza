{
  "nbformat": 4,
  "nbformat_minor": 0,
  "metadata": {
    "colab": {
      "name": "lowpass.ipynb",
      "provenance": []
    },
    "kernelspec": {
      "name": "python3",
      "display_name": "Python 3"
    },
    "language_info": {
      "name": "python"
    }
  },
  "cells": [
    {
      "cell_type": "code",
      "metadata": {
        "id": "0I2U0XLtitG-"
      },
      "source": [
        "import math   \n",
        "import csv\n",
        "import numpy as np \n",
        "import soundfile as sf\n",
        "import librosa\n",
        "import matplotlib.pyplot as plt\n",
        "import IPython\n",
        "import pandas as pd\n",
        "import os\n",
        "import sklearn\n",
        "from sklearn.preprocessing import LabelEncoder, StandardScaler\n",
        "from sklearn.model_selection import train_test_split\n",
        "from sklearn.metrics import mean_squared_error\n",
        "import IPython.display as ipd\n",
        "from scipy.signal import freqz"
      ],
      "execution_count": null,
      "outputs": []
    },
    {
      "cell_type": "code",
      "metadata": {
        "colab": {
          "base_uri": "https://localhost:8080/"
        },
        "id": "sJ6B7DzekS1n",
        "outputId": "ec158575-dfff-4150-e4a8-548d2808204f"
      },
      "source": [
        "from google.colab import drive\n",
        "drive.mount(\"/content/gdrive\")"
      ],
      "execution_count": null,
      "outputs": [
        {
          "output_type": "stream",
          "name": "stdout",
          "text": [
            "Mounted at /content/gdrive\n"
          ]
        }
      ]
    },
    {
      "cell_type": "code",
      "metadata": {
        "id": "rqPpIdRvi0__"
      },
      "source": [
        "#music file, Fs\n",
        "song_sample, sampling_freq = sf.read('/content/gdrive/My Drive/sinyal/P_9_2c.wav')"
      ],
      "execution_count": null,
      "outputs": []
    },
    {
      "cell_type": "code",
      "metadata": {
        "id": "MA4HQrGBDuy6",
        "colab": {
          "base_uri": "https://localhost:8080/",
          "height": 423
        },
        "outputId": "af2e85f9-5570-4f39-bdfa-9f64fd02e13f"
      },
      "source": [
        "audio = []\n",
        "label = []\n",
        "file_audio = []\n",
        "path = '/content/gdrive/MyDrive/dataset/'\n",
        "\n",
        "audio_df = pd.DataFrame()\n",
        "for files in os.listdir(path):\n",
        "  path2 = os.path.join(path, files)\n",
        "  audio_names = files.split(\".\")[0]\n",
        "  audio_label = files.split(\"_\")[1]\n",
        "  audio_files = files\n",
        "\n",
        "  audio.append(audio_names)\n",
        "  label.append(audio_label)\n",
        "  file_audio.append(audio_files)\n",
        "\n",
        "audio_df['audio_names']=audio\n",
        "audio_df['audio_label']=label\n",
        "audio_df['file_audio']=file_audio\n",
        "audio_df"
      ],
      "execution_count": null,
      "outputs": [
        {
          "output_type": "execute_result",
          "data": {
            "text/html": [
              "\n",
              "  <div id=\"df-79aa99d4-a1fa-4bca-980b-bc00f2ae2c6a\">\n",
              "    <div class=\"colab-df-container\">\n",
              "      <div>\n",
              "<style scoped>\n",
              "    .dataframe tbody tr th:only-of-type {\n",
              "        vertical-align: middle;\n",
              "    }\n",
              "\n",
              "    .dataframe tbody tr th {\n",
              "        vertical-align: top;\n",
              "    }\n",
              "\n",
              "    .dataframe thead th {\n",
              "        text-align: right;\n",
              "    }\n",
              "</style>\n",
              "<table border=\"1\" class=\"dataframe\">\n",
              "  <thead>\n",
              "    <tr style=\"text-align: right;\">\n",
              "      <th></th>\n",
              "      <th>audio_names</th>\n",
              "      <th>audio_label</th>\n",
              "      <th>file_audio</th>\n",
              "    </tr>\n",
              "  </thead>\n",
              "  <tbody>\n",
              "    <tr>\n",
              "      <th>0</th>\n",
              "      <td>New_AS_001</td>\n",
              "      <td>AS</td>\n",
              "      <td>New_AS_001.wav</td>\n",
              "    </tr>\n",
              "    <tr>\n",
              "      <th>1</th>\n",
              "      <td>New_AS_002</td>\n",
              "      <td>AS</td>\n",
              "      <td>New_AS_002.wav</td>\n",
              "    </tr>\n",
              "    <tr>\n",
              "      <th>2</th>\n",
              "      <td>New_AS_003</td>\n",
              "      <td>AS</td>\n",
              "      <td>New_AS_003.wav</td>\n",
              "    </tr>\n",
              "    <tr>\n",
              "      <th>3</th>\n",
              "      <td>New_AS_004</td>\n",
              "      <td>AS</td>\n",
              "      <td>New_AS_004.wav</td>\n",
              "    </tr>\n",
              "    <tr>\n",
              "      <th>4</th>\n",
              "      <td>New_AS_005</td>\n",
              "      <td>AS</td>\n",
              "      <td>New_AS_005.wav</td>\n",
              "    </tr>\n",
              "    <tr>\n",
              "      <th>...</th>\n",
              "      <td>...</td>\n",
              "      <td>...</td>\n",
              "      <td>...</td>\n",
              "    </tr>\n",
              "    <tr>\n",
              "      <th>995</th>\n",
              "      <td>New_AS_198</td>\n",
              "      <td>AS</td>\n",
              "      <td>New_AS_198.wav</td>\n",
              "    </tr>\n",
              "    <tr>\n",
              "      <th>996</th>\n",
              "      <td>New_AS_199</td>\n",
              "      <td>AS</td>\n",
              "      <td>New_AS_199.wav</td>\n",
              "    </tr>\n",
              "    <tr>\n",
              "      <th>997</th>\n",
              "      <td>New_AS_200</td>\n",
              "      <td>AS</td>\n",
              "      <td>New_AS_200.wav</td>\n",
              "    </tr>\n",
              "    <tr>\n",
              "      <th>998</th>\n",
              "      <td>New_MVP_199</td>\n",
              "      <td>MVP</td>\n",
              "      <td>New_MVP_199.wav</td>\n",
              "    </tr>\n",
              "    <tr>\n",
              "      <th>999</th>\n",
              "      <td>New_MVP_200</td>\n",
              "      <td>MVP</td>\n",
              "      <td>New_MVP_200.wav</td>\n",
              "    </tr>\n",
              "  </tbody>\n",
              "</table>\n",
              "<p>1000 rows × 3 columns</p>\n",
              "</div>\n",
              "      <button class=\"colab-df-convert\" onclick=\"convertToInteractive('df-79aa99d4-a1fa-4bca-980b-bc00f2ae2c6a')\"\n",
              "              title=\"Convert this dataframe to an interactive table.\"\n",
              "              style=\"display:none;\">\n",
              "        \n",
              "  <svg xmlns=\"http://www.w3.org/2000/svg\" height=\"24px\"viewBox=\"0 0 24 24\"\n",
              "       width=\"24px\">\n",
              "    <path d=\"M0 0h24v24H0V0z\" fill=\"none\"/>\n",
              "    <path d=\"M18.56 5.44l.94 2.06.94-2.06 2.06-.94-2.06-.94-.94-2.06-.94 2.06-2.06.94zm-11 1L8.5 8.5l.94-2.06 2.06-.94-2.06-.94L8.5 2.5l-.94 2.06-2.06.94zm10 10l.94 2.06.94-2.06 2.06-.94-2.06-.94-.94-2.06-.94 2.06-2.06.94z\"/><path d=\"M17.41 7.96l-1.37-1.37c-.4-.4-.92-.59-1.43-.59-.52 0-1.04.2-1.43.59L10.3 9.45l-7.72 7.72c-.78.78-.78 2.05 0 2.83L4 21.41c.39.39.9.59 1.41.59.51 0 1.02-.2 1.41-.59l7.78-7.78 2.81-2.81c.8-.78.8-2.07 0-2.86zM5.41 20L4 18.59l7.72-7.72 1.47 1.35L5.41 20z\"/>\n",
              "  </svg>\n",
              "      </button>\n",
              "      \n",
              "  <style>\n",
              "    .colab-df-container {\n",
              "      display:flex;\n",
              "      flex-wrap:wrap;\n",
              "      gap: 12px;\n",
              "    }\n",
              "\n",
              "    .colab-df-convert {\n",
              "      background-color: #E8F0FE;\n",
              "      border: none;\n",
              "      border-radius: 50%;\n",
              "      cursor: pointer;\n",
              "      display: none;\n",
              "      fill: #1967D2;\n",
              "      height: 32px;\n",
              "      padding: 0 0 0 0;\n",
              "      width: 32px;\n",
              "    }\n",
              "\n",
              "    .colab-df-convert:hover {\n",
              "      background-color: #E2EBFA;\n",
              "      box-shadow: 0px 1px 2px rgba(60, 64, 67, 0.3), 0px 1px 3px 1px rgba(60, 64, 67, 0.15);\n",
              "      fill: #174EA6;\n",
              "    }\n",
              "\n",
              "    [theme=dark] .colab-df-convert {\n",
              "      background-color: #3B4455;\n",
              "      fill: #D2E3FC;\n",
              "    }\n",
              "\n",
              "    [theme=dark] .colab-df-convert:hover {\n",
              "      background-color: #434B5C;\n",
              "      box-shadow: 0px 1px 3px 1px rgba(0, 0, 0, 0.15);\n",
              "      filter: drop-shadow(0px 1px 2px rgba(0, 0, 0, 0.3));\n",
              "      fill: #FFFFFF;\n",
              "    }\n",
              "  </style>\n",
              "\n",
              "      <script>\n",
              "        const buttonEl =\n",
              "          document.querySelector('#df-79aa99d4-a1fa-4bca-980b-bc00f2ae2c6a button.colab-df-convert');\n",
              "        buttonEl.style.display =\n",
              "          google.colab.kernel.accessAllowed ? 'block' : 'none';\n",
              "\n",
              "        async function convertToInteractive(key) {\n",
              "          const element = document.querySelector('#df-79aa99d4-a1fa-4bca-980b-bc00f2ae2c6a');\n",
              "          const dataTable =\n",
              "            await google.colab.kernel.invokeFunction('convertToInteractive',\n",
              "                                                     [key], {});\n",
              "          if (!dataTable) return;\n",
              "\n",
              "          const docLinkHtml = 'Like what you see? Visit the ' +\n",
              "            '<a target=\"_blank\" href=https://colab.research.google.com/notebooks/data_table.ipynb>data table notebook</a>'\n",
              "            + ' to learn more about interactive tables.';\n",
              "          element.innerHTML = '';\n",
              "          dataTable['output_type'] = 'display_data';\n",
              "          await google.colab.output.renderOutput(dataTable, element);\n",
              "          const docLink = document.createElement('div');\n",
              "          docLink.innerHTML = docLinkHtml;\n",
              "          element.appendChild(docLink);\n",
              "        }\n",
              "      </script>\n",
              "    </div>\n",
              "  </div>\n",
              "  "
            ],
            "text/plain": [
              "     audio_names audio_label       file_audio\n",
              "0     New_AS_001          AS   New_AS_001.wav\n",
              "1     New_AS_002          AS   New_AS_002.wav\n",
              "2     New_AS_003          AS   New_AS_003.wav\n",
              "3     New_AS_004          AS   New_AS_004.wav\n",
              "4     New_AS_005          AS   New_AS_005.wav\n",
              "..           ...         ...              ...\n",
              "995   New_AS_198          AS   New_AS_198.wav\n",
              "996   New_AS_199          AS   New_AS_199.wav\n",
              "997   New_AS_200          AS   New_AS_200.wav\n",
              "998  New_MVP_199         MVP  New_MVP_199.wav\n",
              "999  New_MVP_200         MVP  New_MVP_200.wav\n",
              "\n",
              "[1000 rows x 3 columns]"
            ]
          },
          "metadata": {},
          "execution_count": 3
        }
      ]
    },
    {
      "cell_type": "code",
      "metadata": {
        "colab": {
          "base_uri": "https://localhost:8080/"
        },
        "id": "qztaxv0AD1LW",
        "outputId": "cd1519c1-6e8e-45c8-cf43-01a68a164535"
      },
      "source": [
        "def signal(path, audio_df):\n",
        "  signal_ori = []\n",
        "  for idx, rows in audio_df.iterrows():\n",
        "    path2 = os.path.join(path, rows.file_audio)\n",
        "    signal, sampling_freq = sf.read(path2)    # Read audio\n",
        "    signal = np.interp(signal, (signal.min(), signal.max()), (-1, 1))    # norm audio to (1, -1)\n",
        "    signal_ori.append(signal)\n",
        "\n",
        "  signal_ori = np.array(signal_ori)\n",
        "  print(signal_ori.shape)\n",
        "  return signal_ori\n",
        "\n",
        "path = '/content/gdrive/MyDrive/dataset/'\n",
        "signal_ori = signal(path, audio_df)"
      ],
      "execution_count": null,
      "outputs": [
        {
          "output_type": "stream",
          "name": "stdout",
          "text": [
            "(1000,)\n"
          ]
        },
        {
          "output_type": "stream",
          "name": "stderr",
          "text": [
            "/usr/local/lib/python3.7/dist-packages/ipykernel_launcher.py:9: VisibleDeprecationWarning: Creating an ndarray from ragged nested sequences (which is a list-or-tuple of lists-or-tuples-or ndarrays with different lengths or shapes) is deprecated. If you meant to do this, you must specify 'dtype=object' when creating the ndarray\n",
            "  if __name__ == '__main__':\n"
          ]
        }
      ]
    },
    {
      "cell_type": "code",
      "metadata": {
        "id": "ZsBBNuezGa8i"
      },
      "source": [
        "!mkdir audio_denoising_file"
      ],
      "execution_count": null,
      "outputs": []
    },
    {
      "cell_type": "code",
      "metadata": {
        "id": "Y2MRy0pLGfqW"
      },
      "source": [
        "#hasil denoise dalam bentuk wav\n",
        "def denoise(path, audio_df):\n",
        "  #denoising = []\n",
        "  for idx, rows in audio_df.iterrows():\n",
        "    path2 = os.path.join(path, rows.file_audio)\n",
        "    signal, sampling_freq = sf.read(path2)     # Read audio\n",
        "    signal = np.interp(signal, (signal.min(), signal.max()), (-1, 1))    # norm audio to (1, -1)\n",
        "\n",
        "    #low pass filter\n",
        "    #L\n",
        "    filter_len = 101\n",
        "    #Fc origigal 7500, kita coba 1000, 2000, dsb\n",
        "    low_cutoff_freq = 2000\n",
        "\n",
        "    zero_index = [0]\n",
        "\n",
        "    #Ft\n",
        "    normalized_transition_freq_low = low_cutoff_freq/sampling_freq\n",
        "    #setting the initial weights filled with zeros in the array\n",
        "    filter_coefficients = filter_len * zero_index\n",
        "    #M\n",
        "    filter_order = filter_len - 1\n",
        "\n",
        "    two_pi = 2*np.pi\n",
        "\n",
        "    i=0\n",
        "    w_num=[]\n",
        "    w_den = []\n",
        "\n",
        "    #taking half of the M value\n",
        "    half_filter = filter_order/2\n",
        "    two_pi = 2*np.pi\n",
        "\n",
        "    #low-pass filter algorithm\n",
        "    two_norm_freq_low = 2*normalized_transition_freq_low\n",
        "    for index in range(filter_len):\n",
        "      if(index != half_filter):\n",
        "        #dividing the numerator and denominator for the equation\n",
        "        w_num = np.sin(two_pi*normalized_transition_freq_low*(index-half_filter))\n",
        "        w_den = np.pi*(index-half_filter)\n",
        "        filter_coefficients[index] = w_num/w_den\n",
        "      else:\n",
        "        filter_coefficients[index] = two_norm_freq_low\n",
        "\n",
        "    #variable for hamming window values\n",
        "    hamming_win_weights = zero_index * filter_len\n",
        "\n",
        "    eq1 = 0.54\n",
        "    coeff = 0.46\n",
        "\n",
        "    for i in range(filter_len):\n",
        "      h_num = two_pi*i\n",
        "      h_cos = np.cos(h_num/filter_order)\n",
        "      hamming_win_weights[i] = (eq1 - coeff*(h_cos))\n",
        "\n",
        "    hamming_window1 = []\n",
        "\n",
        "    windowed_output = zero_index * filter_len\n",
        "    for i in range(filter_len):\n",
        "      windowed_output[i] = filter_coefficients[i] * hamming_win_weights[i]\n",
        "\n",
        "    hamming_window2 = []\n",
        "\n",
        "    cleanFile = np.convolve(windowed_output,signal)\n",
        "\n",
        "    temp = '/content/audio_denoising_file/'\n",
        "    saving_path = os.path.join(temp, rows.file_audio)\n",
        "    sf.write(saving_path, cleanFile, sampling_freq, 'PCM_16')\n",
        "\n",
        "  #denoising = np.array(denoising)\n",
        "  #print(denoising.shape)\n",
        "  #return denoising\n",
        "\n",
        "path = '/content/gdrive/MyDrive/dataset/'\n",
        "denoise(path, audio_df)"
      ],
      "execution_count": null,
      "outputs": []
    },
    {
      "cell_type": "code",
      "metadata": {
        "colab": {
          "base_uri": "https://localhost:8080/"
        },
        "id": "JA98p6bgI744",
        "outputId": "50c25ee4-128e-4129-ce75-0293d5ab9944"
      },
      "source": [
        "#hasil denoise dalam bentuk list/array\n",
        "def list_denoise(path, audio_df):\n",
        "  signal_denoise_list = []\n",
        "  for idx, rows in audio_df.iterrows():\n",
        "    path2 = os.path.join(path, rows.file_audio)\n",
        "    signal, sampling_freq = sf.read(path2)     # Read audio    # Read audio\n",
        "    signal = np.interp(signal, (signal.min(), signal.max()), (-1, 1))    # norm audio to (1, -1)\n",
        "    signal_denoise_list.append(signal)\n",
        "\n",
        "  signal_denoise_list = np.array(signal_denoise_list)\n",
        "  print(signal_denoise_list.shape)\n",
        "  return signal_denoise_list\n",
        "\n",
        "path = '/content/audio_denoising_file/'\n",
        "signal_denoise_list = signal(path, audio_df)"
      ],
      "execution_count": null,
      "outputs": [
        {
          "output_type": "stream",
          "name": "stdout",
          "text": [
            "(1000,)\n"
          ]
        },
        {
          "output_type": "stream",
          "name": "stderr",
          "text": [
            "/usr/local/lib/python3.7/dist-packages/ipykernel_launcher.py:9: VisibleDeprecationWarning: Creating an ndarray from ragged nested sequences (which is a list-or-tuple of lists-or-tuples-or ndarrays with different lengths or shapes) is deprecated. If you meant to do this, you must specify 'dtype=object' when creating the ndarray\n",
            "  if __name__ == '__main__':\n"
          ]
        }
      ]
    },
    {
      "cell_type": "code",
      "metadata": {
        "id": "ZV7y0SMqJTlg"
      },
      "source": [
        "!apt-get install rar"
      ],
      "execution_count": null,
      "outputs": []
    },
    {
      "cell_type": "code",
      "metadata": {
        "id": "CbFCAvu9JePX"
      },
      "source": [
        "!rar a \"/content/audio_denoising_file\" \"/content/audio_denoising_file\""
      ],
      "execution_count": null,
      "outputs": []
    },
    {
      "cell_type": "code",
      "source": [
        "signal_ori[0].shape"
      ],
      "metadata": {
        "colab": {
          "base_uri": "https://localhost:8080/"
        },
        "id": "z8FkUWXV9r_a",
        "outputId": "fb4f413c-5c72-4abe-b89c-53c0b8a9acb7"
      },
      "execution_count": null,
      "outputs": [
        {
          "output_type": "execute_result",
          "data": {
            "text/plain": [
              "(20849,)"
            ]
          },
          "metadata": {},
          "execution_count": 15
        }
      ]
    },
    {
      "cell_type": "code",
      "source": [
        "signal_denoise_list[0].shape"
      ],
      "metadata": {
        "colab": {
          "base_uri": "https://localhost:8080/"
        },
        "id": "zGEv8GP19x9j",
        "outputId": "433e903d-2dc9-4a15-bcda-ec5ce8190dee"
      },
      "execution_count": null,
      "outputs": [
        {
          "output_type": "execute_result",
          "data": {
            "text/plain": [
              "(20949,)"
            ]
          },
          "metadata": {},
          "execution_count": 16
        }
      ]
    },
    {
      "cell_type": "code",
      "source": [
        "tambahan = np.zeros(shape=(100))"
      ],
      "metadata": {
        "id": "5IOqiujl993q"
      },
      "execution_count": null,
      "outputs": []
    },
    {
      "cell_type": "code",
      "source": [
        "gabung = np.concatenate((signal_ori[0],tambahan))"
      ],
      "metadata": {
        "id": "pDqlGWBh-DFc"
      },
      "execution_count": null,
      "outputs": []
    },
    {
      "cell_type": "code",
      "source": [
        "gabung.shape"
      ],
      "metadata": {
        "colab": {
          "base_uri": "https://localhost:8080/"
        },
        "id": "HOYOBPAD-F1y",
        "outputId": "76355a15-b074-40f1-a6fa-44017fd4878a"
      },
      "execution_count": null,
      "outputs": [
        {
          "output_type": "execute_result",
          "data": {
            "text/plain": [
              "(20949,)"
            ]
          },
          "metadata": {},
          "execution_count": 22
        }
      ]
    },
    {
      "cell_type": "code",
      "metadata": {
        "id": "41unyV2vJht_",
        "colab": {
          "base_uri": "https://localhost:8080/"
        },
        "outputId": "2c2f48b5-4f86-4d31-f84e-6db1e1d13b72"
      },
      "source": [
        "mse_list = []\n",
        "rmse_list = []\n",
        "pnsr_list = []\n",
        "\n",
        "for i in range(0,1000):\n",
        "  mse = mean_squared_error(gabung, signal_denoise_list[0])\n",
        "  rmse = np.sqrt(mean_squared_error(gabung, signal_denoise_list[0]))\n",
        "  pnsr = 20*np.log10(np.max(gabung)/np.sqrt(mse))\n",
        "\n",
        "  mse_list.append(mse) \n",
        "  rmse_list.append(rmse)\n",
        "  pnsr_list.append(pnsr)\n",
        "\n",
        "print('MSE: {:.4f}'.format(np.mean(mse_list)))\n",
        "print('RMSE: {:.4f}'.format(np.mean(rmse_list)))\n",
        "print('PNSR: {:.4f}'.format(np.mean(pnsr_list)))"
      ],
      "execution_count": null,
      "outputs": [
        {
          "output_type": "stream",
          "name": "stdout",
          "text": [
            "MSE: 0.1204\n",
            "RMSE: 0.3469\n",
            "PNSR: 9.1948\n"
          ]
        }
      ]
    },
    {
      "cell_type": "markdown",
      "source": [
        "load list untuk di ekstraksi"
      ],
      "metadata": {
        "id": "WHxohaGXOEl0"
      }
    },
    {
      "cell_type": "code",
      "source": [
        "!ls \"/content/gdrive/My Drive/sinyal3\""
      ],
      "metadata": {
        "colab": {
          "base_uri": "https://localhost:8080/"
        },
        "id": "OKF_RcYcOFJD",
        "outputId": "b20b3ca0-ec93-437d-9c18-f94651dc1da1"
      },
      "execution_count": null,
      "outputs": [
        {
          "output_type": "stream",
          "name": "stdout",
          "text": [
            "AS  MR\tMS  MVP  N\n"
          ]
        }
      ]
    },
    {
      "cell_type": "code",
      "source": [
        "from glob import glob\n",
        "\n",
        "#directories audio abnormal\n",
        "data_AS = '/content/gdrive/My Drive/sinyal3/AS/'\n",
        "audio_files_AS = glob(data_AS  + '*.wav')\n",
        "\n",
        "data_MR = '/content/gdrive/My Drive/sinyal3/MR/'\n",
        "audio_files_MR = glob(data_MR  + '*.wav')\n",
        "\n",
        "data_MS = '/content/gdrive/My Drive/sinyal3/MS/'\n",
        "audio_files_MS = glob(data_MS  + '*.wav')\n",
        "\n",
        "data_MVP = '/content/gdrive/My Drive/sinyal3/MVP/'\n",
        "audio_files_MVP = glob(data_MVP  + '*.wav')\n",
        "\n",
        "#directories of normal audios\n",
        "data_N = '/content/gdrive/My Drive/sinyal3/AS/'\n",
        "audio_files_N = glob(data_N  + '*.wav')\n",
        "\n",
        "print(f'Number of AS audios : {len(audio_files_AS)}')\n",
        "print(f'Number of MR audios : {len(audio_files_MR)}')\n",
        "print(f'Number of MS audios : {len(audio_files_MS)}')\n",
        "print(f'Number of MVP audios : {len(audio_files_MVP)}')\n",
        "print(f'Number of N audios : {len(audio_files_N)}')"
      ],
      "metadata": {
        "colab": {
          "base_uri": "https://localhost:8080/"
        },
        "id": "u-3HCFhvOHJT",
        "outputId": "caa5b1c1-3135-47e7-efe0-20d1448aabd5"
      },
      "execution_count": null,
      "outputs": [
        {
          "output_type": "stream",
          "name": "stdout",
          "text": [
            "Number of AS audios : 200\n",
            "Number of MR audios : 200\n",
            "Number of MS audios : 200\n",
            "Number of MVP audios : 200\n",
            "Number of N audios : 200\n"
          ]
        }
      ]
    },
    {
      "cell_type": "markdown",
      "source": [
        "Load random audio file from Dataset"
      ],
      "metadata": {
        "id": "wOnFARpCOMUy"
      }
    },
    {
      "cell_type": "code",
      "source": [
        "pathAS=\"/content/gdrive/My Drive/sinyal3/AS/New_AS_001.wav\"\n",
        "pathMR=\"/content/gdrive/My Drive/sinyal3/MR/New_MR_001.wav\"\n",
        "pathMS=\"/content/gdrive/My Drive/sinyal3/MS/New_MS_001.wav\"\n",
        "pathMVP=\"/content/gdrive/My Drive/sinyal3/MVP/New_MVP_021.wav\"\n",
        "pathN=\"/content/gdrive/My Drive/sinyal3/N/New_N_035.wav\"\n",
        "sinyalAS, srAS=librosa.load(pathAS)\n",
        "sinyalMR, srMR=librosa.load(pathMR)\n",
        "sinyalMS, srMS=librosa.load(pathMS)\n",
        "sinyalMVP, srMVP=librosa.load(pathMVP)\n",
        "sinyalN, srN=librosa.load(pathN)\n",
        "print(type(sinyalAS), type(srAS))\n",
        "print(type(sinyalMR), type(srMR))\n",
        "print(type(sinyalMS), type(srMS))\n",
        "print(type(sinyalMVP), type(srMVP))\n",
        "print(type(sinyalN), type(srN))"
      ],
      "metadata": {
        "colab": {
          "base_uri": "https://localhost:8080/"
        },
        "id": "DsQyldQPONZD",
        "outputId": "96b58792-f1b4-421e-c670-fe3ef108a38c"
      },
      "execution_count": null,
      "outputs": [
        {
          "output_type": "stream",
          "name": "stdout",
          "text": [
            "<class 'numpy.ndarray'> <class 'int'>\n",
            "<class 'numpy.ndarray'> <class 'int'>\n",
            "<class 'numpy.ndarray'> <class 'int'>\n",
            "<class 'numpy.ndarray'> <class 'int'>\n",
            "<class 'numpy.ndarray'> <class 'int'>\n"
          ]
        }
      ]
    },
    {
      "cell_type": "markdown",
      "source": [
        "load use wave"
      ],
      "metadata": {
        "id": "RddQgl3_OSMT"
      }
    },
    {
      "cell_type": "code",
      "source": [
        "# Load use wave \n",
        "import wave\n",
        "wav1 = wave.open(pathAS)\n",
        "print(\"Signal Aortic valve Stenosis (AS)\")\n",
        "print(\"Sampling (frame) rate = \", wav1.getframerate())\n",
        "print(\"Total samples (frames) = \", wav1.getnframes())\n",
        "print(\"Duration = \", wav1.getnframes()/wav1.getframerate())\n",
        "print(\"----------------------------------\")\n",
        "wav2 = wave.open(pathMR)\n",
        "print(\"Signal Mitral valve Regurgitation (MR)\")\n",
        "print(\"Sampling (frame) rate = \", wav2.getframerate())\n",
        "print(\"Total samples (frames) = \", wav2.getnframes())\n",
        "print(\"Duration = \", wav2.getnframes()/wav2.getframerate())\n",
        "print(\"----------------------------------\")\n",
        "wav3 = wave.open(pathMS)\n",
        "print(\"Signal  Mitral valve Stenosis (MS)\")\n",
        "print(\"Sampling (frame) rate = \", wav3.getframerate())\n",
        "print(\"Total samples (frames) = \", wav3.getnframes())\n",
        "print(\"Duration = \", wav3.getnframes()/wav3.getframerate())\n",
        "print(\"----------------------------------\")\n",
        "wav4 = wave.open(pathMVP)\n",
        "print(\"Signal Murmur in systole (MVP)\")\n",
        "print(\"Sampling (frame) rate = \", wav4.getframerate())\n",
        "print(\"Total samples (frames) = \", wav4.getnframes())\n",
        "print(\"Duration = \", wav4.getnframes()/wav4.getframerate())\n",
        "print(\"----------------------------------\")\n",
        "wav5 = wave.open(pathN)\n",
        "print(\"Signal Normal (N)\")\n",
        "print(\"Sampling (frame) rate = \", wav5.getframerate())\n",
        "print(\"Total samples (frames) = \", wav5.getnframes())\n",
        "print(\"Duration = \", wav5.getnframes()/wav5.getframerate())"
      ],
      "metadata": {
        "colab": {
          "base_uri": "https://localhost:8080/"
        },
        "id": "pLBRpfeYOSwM",
        "outputId": "829ea5ae-af94-4903-91a0-546f740110eb"
      },
      "execution_count": null,
      "outputs": [
        {
          "output_type": "stream",
          "name": "stdout",
          "text": [
            "Signal Aortic valve Stenosis (AS)\n",
            "Sampling (frame) rate =  8000\n",
            "Total samples (frames) =  20949\n",
            "Duration =  2.618625\n",
            "----------------------------------\n",
            "Signal Mitral valve Regurgitation (MR)\n",
            "Sampling (frame) rate =  8000\n",
            "Total samples (frames) =  16895\n",
            "Duration =  2.111875\n",
            "----------------------------------\n",
            "Signal  Mitral valve Stenosis (MS)\n",
            "Sampling (frame) rate =  8000\n",
            "Total samples (frames) =  23726\n",
            "Duration =  2.96575\n",
            "----------------------------------\n",
            "Signal Murmur in systole (MVP)\n",
            "Sampling (frame) rate =  8000\n",
            "Total samples (frames) =  20502\n",
            "Duration =  2.56275\n",
            "----------------------------------\n",
            "Signal Normal (N)\n",
            "Sampling (frame) rate =  8000\n",
            "Total samples (frames) =  16834\n",
            "Duration =  2.10425\n"
          ]
        }
      ]
    },
    {
      "cell_type": "markdown",
      "source": [
        "Ekstraksi"
      ],
      "metadata": {
        "id": "4cKSowF6OXut"
      }
    },
    {
      "cell_type": "code",
      "source": [
        "pip install python_speech_features"
      ],
      "metadata": {
        "colab": {
          "base_uri": "https://localhost:8080/"
        },
        "id": "L43j4DixOYQL",
        "outputId": "a0bdc4a5-89b0-4162-ec65-ad5bb5b4a5ad"
      },
      "execution_count": null,
      "outputs": [
        {
          "output_type": "stream",
          "name": "stdout",
          "text": [
            "Collecting python_speech_features\n",
            "  Downloading python_speech_features-0.6.tar.gz (5.6 kB)\n",
            "Building wheels for collected packages: python-speech-features\n",
            "  Building wheel for python-speech-features (setup.py) ... \u001b[?25l\u001b[?25hdone\n",
            "  Created wheel for python-speech-features: filename=python_speech_features-0.6-py3-none-any.whl size=5888 sha256=0051a0eb15ad0387868e15307f1e3bc2bf3696a3c686409009d583f95443ea72\n",
            "  Stored in directory: /root/.cache/pip/wheels/b0/0e/94/28cd6afa3cd5998a63eef99fe31777acd7d758f59cf24839eb\n",
            "Successfully built python-speech-features\n",
            "Installing collected packages: python-speech-features\n",
            "Successfully installed python-speech-features-0.6\n"
          ]
        }
      ]
    },
    {
      "cell_type": "code",
      "source": [
        "#ekstrak MFCCs\n",
        "from python_speech_features import mfcc"
      ],
      "metadata": {
        "id": "r8Z-90naOZ-N"
      },
      "execution_count": null,
      "outputs": []
    },
    {
      "cell_type": "code",
      "source": [
        "mfccs = mfcc(sinyalAS, srAS)\n",
        "print('\\nMFCC:\\nNumber of windows =', mfccs.shape[0])\n",
        "print('Length of each feature =', mfccs.shape[1])"
      ],
      "metadata": {
        "colab": {
          "base_uri": "https://localhost:8080/"
        },
        "id": "GspFDHr_Obou",
        "outputId": "b9bd4822-5fe2-4550-d0d0-f7ef6e82365f"
      },
      "execution_count": null,
      "outputs": [
        {
          "output_type": "stream",
          "name": "stderr",
          "text": [
            "WARNING:root:frame length (551) is greater than FFT size (512), frame will be truncated. Increase NFFT to avoid.\n"
          ]
        },
        {
          "output_type": "stream",
          "name": "stdout",
          "text": [
            "\n",
            "MFCC:\n",
            "Number of windows = 260\n",
            "Length of each feature = 13\n"
          ]
        }
      ]
    },
    {
      "cell_type": "code",
      "source": [
        "from python_speech_features import logfbank\n",
        "\n",
        "mfccs = mfccs.T\n",
        "plt.matshow(mfccs)\n",
        "plt.title('MFCCs')\n",
        "\n",
        "filterbank_features = logfbank(sinyalAS, srAS)\n",
        "\n",
        "print('\\nFilter bank:\\nNumber of windows =', filterbank_features.shape[0])\n",
        "print('Length of each feature =', filterbank_features.shape[1])\n",
        "\n",
        "filterbank_features = filterbank_features.T\n",
        "plt.matshow(filterbank_features)\n",
        "plt.title('Filter bank')\n",
        "plt.show()"
      ],
      "metadata": {
        "colab": {
          "base_uri": "https://localhost:8080/",
          "height": 317
        },
        "id": "-75JmPMYOfYk",
        "outputId": "76b2562d-d203-4a0a-984f-0e85312428ff"
      },
      "execution_count": null,
      "outputs": [
        {
          "output_type": "stream",
          "name": "stderr",
          "text": [
            "WARNING:root:frame length (551) is greater than FFT size (512), frame will be truncated. Increase NFFT to avoid.\n"
          ]
        },
        {
          "output_type": "stream",
          "name": "stdout",
          "text": [
            "\n",
            "Filter bank:\n",
            "Number of windows = 260\n",
            "Length of each feature = 26\n"
          ]
        },
        {
          "output_type": "display_data",
          "data": {
            "image/png": "[encoded data removed]",
            "text/plain": [
              "<Figure size 1152x144 with 1 Axes>"
            ]
          },
          "metadata": {
            "needs_background": "light"
          }
        },
        {
          "output_type": "display_data",
          "data": {
            "image/png": "[encoded data removed]",
            "text/plain": [
              "<Figure size 1152x144 with 1 Axes>"
            ]
          },
          "metadata": {
            "needs_background": "light"
          }
        }
      ]
    },
    {
      "cell_type": "code",
      "source": [
        "# Get more components\n",
        "mfccs1 = librosa.feature.mfcc(sinyalAS, sr=srAS, n_mfcc=39)\n",
        "mfccs2 = librosa.feature.mfcc(sinyalMR, sr=8000, n_mfcc=26, n_fft=2048, hop_length=512, n_mels=128)\n",
        "mfccs3 = librosa.feature.mfcc(sinyalMS, sr=8000, n_mfcc=26, n_fft=2048, hop_length=512, n_mels=128)\n",
        "mfccs4 = librosa.feature.mfcc(sinyalMVP, sr=8000, n_mfcc=26, n_fft=2048, hop_length=512, n_mels=128)\n",
        "mfccs5 = librosa.feature.mfcc(sinyalN, sr=8000, n_mfcc=26, n_fft=2048, hop_length=512, n_mels=128)\n",
        "print (mfccs1)"
      ],
      "metadata": {
        "colab": {
          "base_uri": "https://localhost:8080/"
        },
        "id": "DOh7fBalOhkT",
        "outputId": "0e821682-3529-412d-82b5-8cb527cb5187"
      },
      "execution_count": null,
      "outputs": [
        {
          "output_type": "stream",
          "name": "stdout",
          "text": [
            "[[-434.26074    -406.70172    -384.68875    ... -484.89783\n",
            "  -482.1582     -473.80167   ]\n",
            " [  67.09292     103.334595    131.33531    ...    0.99816513\n",
            "     4.6436005    15.81496   ]\n",
            " [  52.865448     82.20219     102.31946    ...    0.9529357\n",
            "     3.9521952    13.354191  ]\n",
            " ...\n",
            " [  -1.3886275    -1.7476869    -1.7572839  ...    0.9164287\n",
            "     1.7098916     2.1660502 ]\n",
            " [  -3.236342     -2.871469     -3.5068026  ...    0.9045974\n",
            "     1.359187      1.6666353 ]\n",
            " [  -4.500184     -4.219882     -5.413933   ...    0.8657078\n",
            "     0.8172616     0.7347108 ]]\n"
          ]
        }
      ]
    },
    {
      "cell_type": "code",
      "source": [
        "import librosa.display\n",
        "plt.figure(figsize=(25, 10))\n",
        "librosa.display.specshow(mfccs1,\n",
        "                         sr=srAS,\n",
        "                         x_axis='time',\n",
        "                         y_axis='hz')\n",
        "plt.colorbar(format=\"%+2f\")\n",
        "plt.title(\"Signal Aortic valve Stenosis (AS)\")\n",
        "plt.tight_layout()"
      ],
      "metadata": {
        "colab": {
          "base_uri": "https://localhost:8080/",
          "height": 574
        },
        "id": "zlPNKVTAOiaE",
        "outputId": "39957c53-1631-45b1-db92-35fa90111b23"
      },
      "execution_count": null,
      "outputs": [
        {
          "output_type": "display_data",
          "data": {
            "image/png": "[encoded data removed]",
            "text/plain": [
              "<Figure size 1800x720 with 2 Axes>"
            ]
          },
          "metadata": {
            "needs_background": "light"
          }
        }
      ]
    },
    {
      "cell_type": "code",
      "source": [
        "delta_mfccs = librosa.feature.delta(mfccs1)\n",
        "delta2_mfccs = librosa.feature.delta(mfccs1, order=2)"
      ],
      "metadata": {
        "id": "7_I1K7LzOl3T"
      },
      "execution_count": null,
      "outputs": []
    },
    {
      "cell_type": "code",
      "source": [
        "plt.figure(figsize=(25, 10))\n",
        "librosa.display.specshow(delta_mfccs,\n",
        "                         sr=srAS,\n",
        "                         x_axis='time',\n",
        "                         y_axis='hz')\n",
        "plt.colorbar(format=\"%+2f\")\n",
        "plt.title(\"Signal Aortic valve Stenosis (AS)\")\n",
        "plt.tight_layout()"
      ],
      "metadata": {
        "colab": {
          "base_uri": "https://localhost:8080/",
          "height": 577
        },
        "id": "Em5ZmwVgOmps",
        "outputId": "d1e9b593-170f-4920-8e9f-ce8ffb93ae05"
      },
      "execution_count": null,
      "outputs": [
        {
          "output_type": "display_data",
          "data": {
            "image/png": "[encoded data removed]",
            "text/plain": [
              "<Figure size 1800x720 with 2 Axes>"
            ]
          },
          "metadata": {
            "needs_background": "light"
          }
        }
      ]
    },
    {
      "cell_type": "code",
      "source": [
        "plt.figure(figsize=(25, 10))\n",
        "librosa.display.specshow(delta2_mfccs,\n",
        "                         sr=srAS,\n",
        "                         x_axis='time',\n",
        "                         y_axis='hz')\n",
        "plt.colorbar(format=\"%+2f\")\n",
        "plt.title(\"Signal Aortic valve Stenosis (AS)\")\n",
        "plt.tight_layout()"
      ],
      "metadata": {
        "colab": {
          "base_uri": "https://localhost:8080/",
          "height": 578
        },
        "id": "nfFpt-baOofD",
        "outputId": "8448f22c-879d-4c45-c2a0-118930987d09"
      },
      "execution_count": null,
      "outputs": [
        {
          "output_type": "display_data",
          "data": {
            "image/png": "[encoded data removed]",
            "text/plain": [
              "<Figure size 1800x720 with 2 Axes>"
            ]
          },
          "metadata": {
            "needs_background": "light"
          }
        }
      ]
    },
    {
      "cell_type": "code",
      "source": [
        "comprehensive_mfccs = np.concatenate((mfccs1, delta_mfccs, delta2_mfccs))"
      ],
      "metadata": {
        "id": "dIssSNufOsli"
      },
      "execution_count": null,
      "outputs": []
    },
    {
      "cell_type": "code",
      "source": [
        "plt.figure(figsize=(20, 6))\n",
        "librosa.display.specshow(mfccs1,\n",
        "                         sr=srAS,\n",
        "                         x_axis='time',\n",
        "                         y_axis='hz')\n",
        "plt.colorbar()\n",
        "plt.title(\"Signal Aortic valve Stenosis (AS)\")\n",
        "plt.tight_layout()\n",
        "plt.savefig('MFCCs_AS.png')"
      ],
      "metadata": {
        "colab": {
          "base_uri": "https://localhost:8080/",
          "height": 441
        },
        "id": "01nk3vPiOuuq",
        "outputId": "a078ab10-8dd4-4086-e760-7da137795365"
      },
      "execution_count": null,
      "outputs": [
        {
          "output_type": "display_data",
          "data": {
            "image/png": "[encoded data removed]",
            "text/plain": [
              "<Figure size 1440x432 with 2 Axes>"
            ]
          },
          "metadata": {
            "needs_background": "light"
          }
        }
      ]
    },
    {
      "cell_type": "markdown",
      "source": [
        "Buat Dataset ekstraksi fitur"
      ],
      "metadata": {
        "id": "ksxYyJeCOxhy"
      }
    },
    {
      "cell_type": "code",
      "source": [
        "header = 'filename' \n",
        "for i in range(1, 40):\n",
        "    header += f' mfcc{i}'\n",
        "header += ' label'\n",
        "header = header.split()"
      ],
      "metadata": {
        "id": "yG6ASkwgOyuz"
      },
      "execution_count": null,
      "outputs": []
    },
    {
      "cell_type": "code",
      "source": [
        "file = open('MFCCs.csv', 'w', newline='')\n",
        "with file:\n",
        "    writer = csv.writer(file)\n",
        "    writer.writerow(header)\n",
        "genres = 'AS MR MS MVP N'.split()\n",
        "for g in genres:\n",
        "    for filename in os.listdir(f'/content/gdrive/My Drive/sinyal3/{g}'):\n",
        "        signal = f'/content/gdrive/My Drive/sinyal3/{g}/{filename}'\n",
        "        # use kaiser_fast technique for faster extraction\n",
        "        y, sr = librosa.load(signal, mono=True, duration=3, res_type='kaiser_fast')\n",
        "        mfcc = librosa.feature.mfcc(y=y, sr=sr, n_mfcc=39)\n",
        "        to_append = f'{filename}'  \n",
        "        for e in mfcc:\n",
        "            to_append += f' {np.mean(e.T,axis=0)}'\n",
        "        to_append += f' {g}'\n",
        "        file = open('MFCCs.csv', 'a', newline='')\n",
        "        with file:\n",
        "            writer = csv.writer(file)\n",
        "            writer.writerow(to_append.split())"
      ],
      "metadata": {
        "id": "qiIR9Y6eO1tS"
      },
      "execution_count": null,
      "outputs": []
    },
    {
      "cell_type": "markdown",
      "source": [
        "New Section"
      ],
      "metadata": {
        "id": "jfHOUa7XPX0k"
      }
    },
    {
      "cell_type": "code",
      "source": [
        "data1_1 = pd.read_csv('MFCCs.csv')\n",
        "data1_1.head()"
      ],
      "metadata": {
        "colab": {
          "base_uri": "https://localhost:8080/",
          "height": 270
        },
        "id": "TYTTiQ-EPY0j",
        "outputId": "5949cf7c-4c17-474b-8584-5bb65f21bd8d"
      },
      "execution_count": null,
      "outputs": [
        {
          "output_type": "execute_result",
          "data": {
            "text/html": [
              "\n",
              "  <div id=\"df-96dd4e99-0386-41c8-a6d7-72384dbbef23\">\n",
              "    <div class=\"colab-df-container\">\n",
              "      <div>\n",
              "<style scoped>\n",
              "    .dataframe tbody tr th:only-of-type {\n",
              "        vertical-align: middle;\n",
              "    }\n",
              "\n",
              "    .dataframe tbody tr th {\n",
              "        vertical-align: top;\n",
              "    }\n",
              "\n",
              "    .dataframe thead th {\n",
              "        text-align: right;\n",
              "    }\n",
              "</style>\n",
              "<table border=\"1\" class=\"dataframe\">\n",
              "  <thead>\n",
              "    <tr style=\"text-align: right;\">\n",
              "      <th></th>\n",
              "      <th>filename</th>\n",
              "      <th>mfcc1</th>\n",
              "      <th>mfcc2</th>\n",
              "      <th>mfcc3</th>\n",
              "      <th>mfcc4</th>\n",
              "      <th>mfcc5</th>\n",
              "      <th>mfcc6</th>\n",
              "      <th>mfcc7</th>\n",
              "      <th>mfcc8</th>\n",
              "      <th>mfcc9</th>\n",
              "      <th>mfcc10</th>\n",
              "      <th>mfcc11</th>\n",
              "      <th>mfcc12</th>\n",
              "      <th>mfcc13</th>\n",
              "      <th>mfcc14</th>\n",
              "      <th>mfcc15</th>\n",
              "      <th>mfcc16</th>\n",
              "      <th>mfcc17</th>\n",
              "      <th>mfcc18</th>\n",
              "      <th>mfcc19</th>\n",
              "      <th>mfcc20</th>\n",
              "      <th>mfcc21</th>\n",
              "      <th>mfcc22</th>\n",
              "      <th>mfcc23</th>\n",
              "      <th>mfcc24</th>\n",
              "      <th>mfcc25</th>\n",
              "      <th>mfcc26</th>\n",
              "      <th>mfcc27</th>\n",
              "      <th>mfcc28</th>\n",
              "      <th>mfcc29</th>\n",
              "      <th>mfcc30</th>\n",
              "      <th>mfcc31</th>\n",
              "      <th>mfcc32</th>\n",
              "      <th>mfcc33</th>\n",
              "      <th>mfcc34</th>\n",
              "      <th>mfcc35</th>\n",
              "      <th>mfcc36</th>\n",
              "      <th>mfcc37</th>\n",
              "      <th>mfcc38</th>\n",
              "      <th>mfcc39</th>\n",
              "      <th>label</th>\n",
              "    </tr>\n",
              "  </thead>\n",
              "  <tbody>\n",
              "    <tr>\n",
              "      <th>0</th>\n",
              "      <td>New_AS_019.wav</td>\n",
              "      <td>-408.199463</td>\n",
              "      <td>108.693329</td>\n",
              "      <td>66.010132</td>\n",
              "      <td>36.814259</td>\n",
              "      <td>27.551611</td>\n",
              "      <td>21.399467</td>\n",
              "      <td>11.284242</td>\n",
              "      <td>5.456727</td>\n",
              "      <td>6.637220</td>\n",
              "      <td>6.659049</td>\n",
              "      <td>2.000329</td>\n",
              "      <td>-1.317850</td>\n",
              "      <td>-0.300773</td>\n",
              "      <td>0.227564</td>\n",
              "      <td>-2.144926</td>\n",
              "      <td>-3.257847</td>\n",
              "      <td>-1.257708</td>\n",
              "      <td>-0.187348</td>\n",
              "      <td>-2.007010</td>\n",
              "      <td>-3.386442</td>\n",
              "      <td>-2.671402</td>\n",
              "      <td>-2.518635</td>\n",
              "      <td>-3.941102</td>\n",
              "      <td>-4.513446</td>\n",
              "      <td>-3.661229</td>\n",
              "      <td>-3.724493</td>\n",
              "      <td>-5.007153</td>\n",
              "      <td>-5.094913</td>\n",
              "      <td>-3.647751</td>\n",
              "      <td>-3.113459</td>\n",
              "      <td>-4.119761</td>\n",
              "      <td>-4.455429</td>\n",
              "      <td>-3.300090</td>\n",
              "      <td>-2.509027</td>\n",
              "      <td>-2.896121</td>\n",
              "      <td>-2.931610</td>\n",
              "      <td>-2.010350</td>\n",
              "      <td>-1.597472</td>\n",
              "      <td>-2.274990</td>\n",
              "      <td>AS</td>\n",
              "    </tr>\n",
              "    <tr>\n",
              "      <th>1</th>\n",
              "      <td>New_AS_012.wav</td>\n",
              "      <td>-402.907471</td>\n",
              "      <td>105.200851</td>\n",
              "      <td>64.808014</td>\n",
              "      <td>36.632317</td>\n",
              "      <td>27.551531</td>\n",
              "      <td>22.176857</td>\n",
              "      <td>12.967642</td>\n",
              "      <td>6.818097</td>\n",
              "      <td>6.725326</td>\n",
              "      <td>6.038620</td>\n",
              "      <td>1.785296</td>\n",
              "      <td>-0.846643</td>\n",
              "      <td>0.398718</td>\n",
              "      <td>0.787782</td>\n",
              "      <td>-1.897804</td>\n",
              "      <td>-3.530992</td>\n",
              "      <td>-1.927256</td>\n",
              "      <td>-0.625538</td>\n",
              "      <td>-1.841062</td>\n",
              "      <td>-2.925998</td>\n",
              "      <td>-2.272323</td>\n",
              "      <td>-2.264474</td>\n",
              "      <td>-4.030215</td>\n",
              "      <td>-5.010062</td>\n",
              "      <td>-3.949449</td>\n",
              "      <td>-3.196094</td>\n",
              "      <td>-4.074843</td>\n",
              "      <td>-4.651443</td>\n",
              "      <td>-3.827086</td>\n",
              "      <td>-3.299937</td>\n",
              "      <td>-3.888664</td>\n",
              "      <td>-3.945032</td>\n",
              "      <td>-2.833223</td>\n",
              "      <td>-2.276914</td>\n",
              "      <td>-2.978786</td>\n",
              "      <td>-3.282526</td>\n",
              "      <td>-2.356179</td>\n",
              "      <td>-1.637907</td>\n",
              "      <td>-2.022694</td>\n",
              "      <td>AS</td>\n",
              "    </tr>\n",
              "    <tr>\n",
              "      <th>2</th>\n",
              "      <td>New_AS_017.wav</td>\n",
              "      <td>-400.250458</td>\n",
              "      <td>106.139961</td>\n",
              "      <td>66.186516</td>\n",
              "      <td>37.998375</td>\n",
              "      <td>27.884878</td>\n",
              "      <td>21.274035</td>\n",
              "      <td>11.961509</td>\n",
              "      <td>6.675927</td>\n",
              "      <td>7.217396</td>\n",
              "      <td>6.642431</td>\n",
              "      <td>2.444823</td>\n",
              "      <td>-0.301474</td>\n",
              "      <td>0.318765</td>\n",
              "      <td>0.119635</td>\n",
              "      <td>-2.303644</td>\n",
              "      <td>-3.153952</td>\n",
              "      <td>-1.299856</td>\n",
              "      <td>-0.448023</td>\n",
              "      <td>-2.072645</td>\n",
              "      <td>-3.216447</td>\n",
              "      <td>-2.530094</td>\n",
              "      <td>-2.330977</td>\n",
              "      <td>-3.598201</td>\n",
              "      <td>-4.320426</td>\n",
              "      <td>-3.787320</td>\n",
              "      <td>-3.784015</td>\n",
              "      <td>-4.672847</td>\n",
              "      <td>-4.585380</td>\n",
              "      <td>-3.280690</td>\n",
              "      <td>-2.825525</td>\n",
              "      <td>-3.705111</td>\n",
              "      <td>-3.972817</td>\n",
              "      <td>-2.994630</td>\n",
              "      <td>-2.527876</td>\n",
              "      <td>-3.228772</td>\n",
              "      <td>-3.387804</td>\n",
              "      <td>-2.203602</td>\n",
              "      <td>-1.284070</td>\n",
              "      <td>-1.688242</td>\n",
              "      <td>AS</td>\n",
              "    </tr>\n",
              "    <tr>\n",
              "      <th>3</th>\n",
              "      <td>New_AS_016.wav</td>\n",
              "      <td>-397.024628</td>\n",
              "      <td>109.818665</td>\n",
              "      <td>67.796227</td>\n",
              "      <td>38.931812</td>\n",
              "      <td>29.672338</td>\n",
              "      <td>23.466425</td>\n",
              "      <td>13.171189</td>\n",
              "      <td>6.796102</td>\n",
              "      <td>7.219104</td>\n",
              "      <td>6.922193</td>\n",
              "      <td>2.737959</td>\n",
              "      <td>0.024755</td>\n",
              "      <td>0.862393</td>\n",
              "      <td>0.588155</td>\n",
              "      <td>-2.329691</td>\n",
              "      <td>-3.476345</td>\n",
              "      <td>-1.392999</td>\n",
              "      <td>-0.355356</td>\n",
              "      <td>-2.298799</td>\n",
              "      <td>-3.756372</td>\n",
              "      <td>-2.870697</td>\n",
              "      <td>-2.499688</td>\n",
              "      <td>-4.203357</td>\n",
              "      <td>-5.365290</td>\n",
              "      <td>-4.492387</td>\n",
              "      <td>-3.846003</td>\n",
              "      <td>-4.725413</td>\n",
              "      <td>-5.132377</td>\n",
              "      <td>-4.020629</td>\n",
              "      <td>-3.300955</td>\n",
              "      <td>-3.930188</td>\n",
              "      <td>-4.170196</td>\n",
              "      <td>-3.167670</td>\n",
              "      <td>-2.459863</td>\n",
              "      <td>-2.766725</td>\n",
              "      <td>-2.772867</td>\n",
              "      <td>-2.003383</td>\n",
              "      <td>-1.731805</td>\n",
              "      <td>-2.330357</td>\n",
              "      <td>AS</td>\n",
              "    </tr>\n",
              "    <tr>\n",
              "      <th>4</th>\n",
              "      <td>New_AS_018.wav</td>\n",
              "      <td>-402.779755</td>\n",
              "      <td>105.839119</td>\n",
              "      <td>65.926910</td>\n",
              "      <td>37.713520</td>\n",
              "      <td>27.622786</td>\n",
              "      <td>21.090820</td>\n",
              "      <td>11.727324</td>\n",
              "      <td>6.303440</td>\n",
              "      <td>6.962652</td>\n",
              "      <td>6.792815</td>\n",
              "      <td>2.832304</td>\n",
              "      <td>-0.054726</td>\n",
              "      <td>0.417546</td>\n",
              "      <td>0.302270</td>\n",
              "      <td>-2.127299</td>\n",
              "      <td>-3.317739</td>\n",
              "      <td>-1.797795</td>\n",
              "      <td>-0.856836</td>\n",
              "      <td>-2.081034</td>\n",
              "      <td>-2.941357</td>\n",
              "      <td>-2.254757</td>\n",
              "      <td>-2.147919</td>\n",
              "      <td>-3.442257</td>\n",
              "      <td>-4.188581</td>\n",
              "      <td>-3.693981</td>\n",
              "      <td>-3.618819</td>\n",
              "      <td>-4.394650</td>\n",
              "      <td>-4.429911</td>\n",
              "      <td>-3.448359</td>\n",
              "      <td>-3.131867</td>\n",
              "      <td>-3.881751</td>\n",
              "      <td>-4.083735</td>\n",
              "      <td>-3.185630</td>\n",
              "      <td>-2.628554</td>\n",
              "      <td>-3.028286</td>\n",
              "      <td>-3.104229</td>\n",
              "      <td>-2.244873</td>\n",
              "      <td>-1.635218</td>\n",
              "      <td>-1.912504</td>\n",
              "      <td>AS</td>\n",
              "    </tr>\n",
              "  </tbody>\n",
              "</table>\n",
              "</div>\n",
              "      <button class=\"colab-df-convert\" onclick=\"convertToInteractive('df-96dd4e99-0386-41c8-a6d7-72384dbbef23')\"\n",
              "              title=\"Convert this dataframe to an interactive table.\"\n",
              "              style=\"display:none;\">\n",
              "        \n",
              "  <svg xmlns=\"http://www.w3.org/2000/svg\" height=\"24px\"viewBox=\"0 0 24 24\"\n",
              "       width=\"24px\">\n",
              "    <path d=\"M0 0h24v24H0V0z\" fill=\"none\"/>\n",
              "    <path d=\"M18.56 5.44l.94 2.06.94-2.06 2.06-.94-2.06-.94-.94-2.06-.94 2.06-2.06.94zm-11 1L8.5 8.5l.94-2.06 2.06-.94-2.06-.94L8.5 2.5l-.94 2.06-2.06.94zm10 10l.94 2.06.94-2.06 2.06-.94-2.06-.94-.94-2.06-.94 2.06-2.06.94z\"/><path d=\"M17.41 7.96l-1.37-1.37c-.4-.4-.92-.59-1.43-.59-.52 0-1.04.2-1.43.59L10.3 9.45l-7.72 7.72c-.78.78-.78 2.05 0 2.83L4 21.41c.39.39.9.59 1.41.59.51 0 1.02-.2 1.41-.59l7.78-7.78 2.81-2.81c.8-.78.8-2.07 0-2.86zM5.41 20L4 18.59l7.72-7.72 1.47 1.35L5.41 20z\"/>\n",
              "  </svg>\n",
              "      </button>\n",
              "      \n",
              "  <style>\n",
              "    .colab-df-container {\n",
              "      display:flex;\n",
              "      flex-wrap:wrap;\n",
              "      gap: 12px;\n",
              "    }\n",
              "\n",
              "    .colab-df-convert {\n",
              "      background-color: #E8F0FE;\n",
              "      border: none;\n",
              "      border-radius: 50%;\n",
              "      cursor: pointer;\n",
              "      display: none;\n",
              "      fill: #1967D2;\n",
              "      height: 32px;\n",
              "      padding: 0 0 0 0;\n",
              "      width: 32px;\n",
              "    }\n",
              "\n",
              "    .colab-df-convert:hover {\n",
              "      background-color: #E2EBFA;\n",
              "      box-shadow: 0px 1px 2px rgba(60, 64, 67, 0.3), 0px 1px 3px 1px rgba(60, 64, 67, 0.15);\n",
              "      fill: #174EA6;\n",
              "    }\n",
              "\n",
              "    [theme=dark] .colab-df-convert {\n",
              "      background-color: #3B4455;\n",
              "      fill: #D2E3FC;\n",
              "    }\n",
              "\n",
              "    [theme=dark] .colab-df-convert:hover {\n",
              "      background-color: #434B5C;\n",
              "      box-shadow: 0px 1px 3px 1px rgba(0, 0, 0, 0.15);\n",
              "      filter: drop-shadow(0px 1px 2px rgba(0, 0, 0, 0.3));\n",
              "      fill: #FFFFFF;\n",
              "    }\n",
              "  </style>\n",
              "\n",
              "      <script>\n",
              "        const buttonEl =\n",
              "          document.querySelector('#df-96dd4e99-0386-41c8-a6d7-72384dbbef23 button.colab-df-convert');\n",
              "        buttonEl.style.display =\n",
              "          google.colab.kernel.accessAllowed ? 'block' : 'none';\n",
              "\n",
              "        async function convertToInteractive(key) {\n",
              "          const element = document.querySelector('#df-96dd4e99-0386-41c8-a6d7-72384dbbef23');\n",
              "          const dataTable =\n",
              "            await google.colab.kernel.invokeFunction('convertToInteractive',\n",
              "                                                     [key], {});\n",
              "          if (!dataTable) return;\n",
              "\n",
              "          const docLinkHtml = 'Like what you see? Visit the ' +\n",
              "            '<a target=\"_blank\" href=https://colab.research.google.com/notebooks/data_table.ipynb>data table notebook</a>'\n",
              "            + ' to learn more about interactive tables.';\n",
              "          element.innerHTML = '';\n",
              "          dataTable['output_type'] = 'display_data';\n",
              "          await google.colab.output.renderOutput(dataTable, element);\n",
              "          const docLink = document.createElement('div');\n",
              "          docLink.innerHTML = docLinkHtml;\n",
              "          element.appendChild(docLink);\n",
              "        }\n",
              "      </script>\n",
              "    </div>\n",
              "  </div>\n",
              "  "
            ],
            "text/plain": [
              "         filename       mfcc1       mfcc2  ...    mfcc38    mfcc39  label\n",
              "0  New_AS_019.wav -408.199463  108.693329  ... -1.597472 -2.274990     AS\n",
              "1  New_AS_012.wav -402.907471  105.200851  ... -1.637907 -2.022694     AS\n",
              "2  New_AS_017.wav -400.250458  106.139961  ... -1.284070 -1.688242     AS\n",
              "3  New_AS_016.wav -397.024628  109.818665  ... -1.731805 -2.330357     AS\n",
              "4  New_AS_018.wav -402.779755  105.839119  ... -1.635218 -1.912504     AS\n",
              "\n",
              "[5 rows x 41 columns]"
            ]
          },
          "metadata": {},
          "execution_count": 46
        }
      ]
    },
    {
      "cell_type": "markdown",
      "source": [
        "prepare data untuk seleksi fitur"
      ],
      "metadata": {
        "id": "tyFlHf5KPcDD"
      }
    },
    {
      "cell_type": "code",
      "source": [
        "print('MFCCs :',data1_1.shape)"
      ],
      "metadata": {
        "colab": {
          "base_uri": "https://localhost:8080/"
        },
        "id": "Lxk51YgyPaVU",
        "outputId": "23b6bbcb-4c02-4d48-d878-546baf65c7f3"
      },
      "execution_count": null,
      "outputs": [
        {
          "output_type": "stream",
          "name": "stdout",
          "text": [
            "MFCCs : (1000, 41)\n"
          ]
        }
      ]
    },
    {
      "cell_type": "code",
      "source": [
        "data1_1 = data1_1.drop(['filename'], axis=1)\n",
        "data1_1.head()"
      ],
      "metadata": {
        "colab": {
          "base_uri": "https://localhost:8080/",
          "height": 270
        },
        "id": "b8LHuTkXPhpb",
        "outputId": "7b2074ec-867f-4ac1-f2f4-78baaa2e9168"
      },
      "execution_count": null,
      "outputs": [
        {
          "output_type": "execute_result",
          "data": {
            "text/html": [
              "\n",
              "  <div id=\"df-72f8282e-d5f1-4290-b9eb-392079b5d0d2\">\n",
              "    <div class=\"colab-df-container\">\n",
              "      <div>\n",
              "<style scoped>\n",
              "    .dataframe tbody tr th:only-of-type {\n",
              "        vertical-align: middle;\n",
              "    }\n",
              "\n",
              "    .dataframe tbody tr th {\n",
              "        vertical-align: top;\n",
              "    }\n",
              "\n",
              "    .dataframe thead th {\n",
              "        text-align: right;\n",
              "    }\n",
              "</style>\n",
              "<table border=\"1\" class=\"dataframe\">\n",
              "  <thead>\n",
              "    <tr style=\"text-align: right;\">\n",
              "      <th></th>\n",
              "      <th>mfcc1</th>\n",
              "      <th>mfcc2</th>\n",
              "      <th>mfcc3</th>\n",
              "      <th>mfcc4</th>\n",
              "      <th>mfcc5</th>\n",
              "      <th>mfcc6</th>\n",
              "      <th>mfcc7</th>\n",
              "      <th>mfcc8</th>\n",
              "      <th>mfcc9</th>\n",
              "      <th>mfcc10</th>\n",
              "      <th>mfcc11</th>\n",
              "      <th>mfcc12</th>\n",
              "      <th>mfcc13</th>\n",
              "      <th>mfcc14</th>\n",
              "      <th>mfcc15</th>\n",
              "      <th>mfcc16</th>\n",
              "      <th>mfcc17</th>\n",
              "      <th>mfcc18</th>\n",
              "      <th>mfcc19</th>\n",
              "      <th>mfcc20</th>\n",
              "      <th>mfcc21</th>\n",
              "      <th>mfcc22</th>\n",
              "      <th>mfcc23</th>\n",
              "      <th>mfcc24</th>\n",
              "      <th>mfcc25</th>\n",
              "      <th>mfcc26</th>\n",
              "      <th>mfcc27</th>\n",
              "      <th>mfcc28</th>\n",
              "      <th>mfcc29</th>\n",
              "      <th>mfcc30</th>\n",
              "      <th>mfcc31</th>\n",
              "      <th>mfcc32</th>\n",
              "      <th>mfcc33</th>\n",
              "      <th>mfcc34</th>\n",
              "      <th>mfcc35</th>\n",
              "      <th>mfcc36</th>\n",
              "      <th>mfcc37</th>\n",
              "      <th>mfcc38</th>\n",
              "      <th>mfcc39</th>\n",
              "      <th>label</th>\n",
              "    </tr>\n",
              "  </thead>\n",
              "  <tbody>\n",
              "    <tr>\n",
              "      <th>0</th>\n",
              "      <td>-408.199463</td>\n",
              "      <td>108.693329</td>\n",
              "      <td>66.010132</td>\n",
              "      <td>36.814259</td>\n",
              "      <td>27.551611</td>\n",
              "      <td>21.399467</td>\n",
              "      <td>11.284242</td>\n",
              "      <td>5.456727</td>\n",
              "      <td>6.637220</td>\n",
              "      <td>6.659049</td>\n",
              "      <td>2.000329</td>\n",
              "      <td>-1.317850</td>\n",
              "      <td>-0.300773</td>\n",
              "      <td>0.227564</td>\n",
              "      <td>-2.144926</td>\n",
              "      <td>-3.257847</td>\n",
              "      <td>-1.257708</td>\n",
              "      <td>-0.187348</td>\n",
              "      <td>-2.007010</td>\n",
              "      <td>-3.386442</td>\n",
              "      <td>-2.671402</td>\n",
              "      <td>-2.518635</td>\n",
              "      <td>-3.941102</td>\n",
              "      <td>-4.513446</td>\n",
              "      <td>-3.661229</td>\n",
              "      <td>-3.724493</td>\n",
              "      <td>-5.007153</td>\n",
              "      <td>-5.094913</td>\n",
              "      <td>-3.647751</td>\n",
              "      <td>-3.113459</td>\n",
              "      <td>-4.119761</td>\n",
              "      <td>-4.455429</td>\n",
              "      <td>-3.300090</td>\n",
              "      <td>-2.509027</td>\n",
              "      <td>-2.896121</td>\n",
              "      <td>-2.931610</td>\n",
              "      <td>-2.010350</td>\n",
              "      <td>-1.597472</td>\n",
              "      <td>-2.274990</td>\n",
              "      <td>AS</td>\n",
              "    </tr>\n",
              "    <tr>\n",
              "      <th>1</th>\n",
              "      <td>-402.907471</td>\n",
              "      <td>105.200851</td>\n",
              "      <td>64.808014</td>\n",
              "      <td>36.632317</td>\n",
              "      <td>27.551531</td>\n",
              "      <td>22.176857</td>\n",
              "      <td>12.967642</td>\n",
              "      <td>6.818097</td>\n",
              "      <td>6.725326</td>\n",
              "      <td>6.038620</td>\n",
              "      <td>1.785296</td>\n",
              "      <td>-0.846643</td>\n",
              "      <td>0.398718</td>\n",
              "      <td>0.787782</td>\n",
              "      <td>-1.897804</td>\n",
              "      <td>-3.530992</td>\n",
              "      <td>-1.927256</td>\n",
              "      <td>-0.625538</td>\n",
              "      <td>-1.841062</td>\n",
              "      <td>-2.925998</td>\n",
              "      <td>-2.272323</td>\n",
              "      <td>-2.264474</td>\n",
              "      <td>-4.030215</td>\n",
              "      <td>-5.010062</td>\n",
              "      <td>-3.949449</td>\n",
              "      <td>-3.196094</td>\n",
              "      <td>-4.074843</td>\n",
              "      <td>-4.651443</td>\n",
              "      <td>-3.827086</td>\n",
              "      <td>-3.299937</td>\n",
              "      <td>-3.888664</td>\n",
              "      <td>-3.945032</td>\n",
              "      <td>-2.833223</td>\n",
              "      <td>-2.276914</td>\n",
              "      <td>-2.978786</td>\n",
              "      <td>-3.282526</td>\n",
              "      <td>-2.356179</td>\n",
              "      <td>-1.637907</td>\n",
              "      <td>-2.022694</td>\n",
              "      <td>AS</td>\n",
              "    </tr>\n",
              "    <tr>\n",
              "      <th>2</th>\n",
              "      <td>-400.250458</td>\n",
              "      <td>106.139961</td>\n",
              "      <td>66.186516</td>\n",
              "      <td>37.998375</td>\n",
              "      <td>27.884878</td>\n",
              "      <td>21.274035</td>\n",
              "      <td>11.961509</td>\n",
              "      <td>6.675927</td>\n",
              "      <td>7.217396</td>\n",
              "      <td>6.642431</td>\n",
              "      <td>2.444823</td>\n",
              "      <td>-0.301474</td>\n",
              "      <td>0.318765</td>\n",
              "      <td>0.119635</td>\n",
              "      <td>-2.303644</td>\n",
              "      <td>-3.153952</td>\n",
              "      <td>-1.299856</td>\n",
              "      <td>-0.448023</td>\n",
              "      <td>-2.072645</td>\n",
              "      <td>-3.216447</td>\n",
              "      <td>-2.530094</td>\n",
              "      <td>-2.330977</td>\n",
              "      <td>-3.598201</td>\n",
              "      <td>-4.320426</td>\n",
              "      <td>-3.787320</td>\n",
              "      <td>-3.784015</td>\n",
              "      <td>-4.672847</td>\n",
              "      <td>-4.585380</td>\n",
              "      <td>-3.280690</td>\n",
              "      <td>-2.825525</td>\n",
              "      <td>-3.705111</td>\n",
              "      <td>-3.972817</td>\n",
              "      <td>-2.994630</td>\n",
              "      <td>-2.527876</td>\n",
              "      <td>-3.228772</td>\n",
              "      <td>-3.387804</td>\n",
              "      <td>-2.203602</td>\n",
              "      <td>-1.284070</td>\n",
              "      <td>-1.688242</td>\n",
              "      <td>AS</td>\n",
              "    </tr>\n",
              "    <tr>\n",
              "      <th>3</th>\n",
              "      <td>-397.024628</td>\n",
              "      <td>109.818665</td>\n",
              "      <td>67.796227</td>\n",
              "      <td>38.931812</td>\n",
              "      <td>29.672338</td>\n",
              "      <td>23.466425</td>\n",
              "      <td>13.171189</td>\n",
              "      <td>6.796102</td>\n",
              "      <td>7.219104</td>\n",
              "      <td>6.922193</td>\n",
              "      <td>2.737959</td>\n",
              "      <td>0.024755</td>\n",
              "      <td>0.862393</td>\n",
              "      <td>0.588155</td>\n",
              "      <td>-2.329691</td>\n",
              "      <td>-3.476345</td>\n",
              "      <td>-1.392999</td>\n",
              "      <td>-0.355356</td>\n",
              "      <td>-2.298799</td>\n",
              "      <td>-3.756372</td>\n",
              "      <td>-2.870697</td>\n",
              "      <td>-2.499688</td>\n",
              "      <td>-4.203357</td>\n",
              "      <td>-5.365290</td>\n",
              "      <td>-4.492387</td>\n",
              "      <td>-3.846003</td>\n",
              "      <td>-4.725413</td>\n",
              "      <td>-5.132377</td>\n",
              "      <td>-4.020629</td>\n",
              "      <td>-3.300955</td>\n",
              "      <td>-3.930188</td>\n",
              "      <td>-4.170196</td>\n",
              "      <td>-3.167670</td>\n",
              "      <td>-2.459863</td>\n",
              "      <td>-2.766725</td>\n",
              "      <td>-2.772867</td>\n",
              "      <td>-2.003383</td>\n",
              "      <td>-1.731805</td>\n",
              "      <td>-2.330357</td>\n",
              "      <td>AS</td>\n",
              "    </tr>\n",
              "    <tr>\n",
              "      <th>4</th>\n",
              "      <td>-402.779755</td>\n",
              "      <td>105.839119</td>\n",
              "      <td>65.926910</td>\n",
              "      <td>37.713520</td>\n",
              "      <td>27.622786</td>\n",
              "      <td>21.090820</td>\n",
              "      <td>11.727324</td>\n",
              "      <td>6.303440</td>\n",
              "      <td>6.962652</td>\n",
              "      <td>6.792815</td>\n",
              "      <td>2.832304</td>\n",
              "      <td>-0.054726</td>\n",
              "      <td>0.417546</td>\n",
              "      <td>0.302270</td>\n",
              "      <td>-2.127299</td>\n",
              "      <td>-3.317739</td>\n",
              "      <td>-1.797795</td>\n",
              "      <td>-0.856836</td>\n",
              "      <td>-2.081034</td>\n",
              "      <td>-2.941357</td>\n",
              "      <td>-2.254757</td>\n",
              "      <td>-2.147919</td>\n",
              "      <td>-3.442257</td>\n",
              "      <td>-4.188581</td>\n",
              "      <td>-3.693981</td>\n",
              "      <td>-3.618819</td>\n",
              "      <td>-4.394650</td>\n",
              "      <td>-4.429911</td>\n",
              "      <td>-3.448359</td>\n",
              "      <td>-3.131867</td>\n",
              "      <td>-3.881751</td>\n",
              "      <td>-4.083735</td>\n",
              "      <td>-3.185630</td>\n",
              "      <td>-2.628554</td>\n",
              "      <td>-3.028286</td>\n",
              "      <td>-3.104229</td>\n",
              "      <td>-2.244873</td>\n",
              "      <td>-1.635218</td>\n",
              "      <td>-1.912504</td>\n",
              "      <td>AS</td>\n",
              "    </tr>\n",
              "  </tbody>\n",
              "</table>\n",
              "</div>\n",
              "      <button class=\"colab-df-convert\" onclick=\"convertToInteractive('df-72f8282e-d5f1-4290-b9eb-392079b5d0d2')\"\n",
              "              title=\"Convert this dataframe to an interactive table.\"\n",
              "              style=\"display:none;\">\n",
              "        \n",
              "  <svg xmlns=\"http://www.w3.org/2000/svg\" height=\"24px\"viewBox=\"0 0 24 24\"\n",
              "       width=\"24px\">\n",
              "    <path d=\"M0 0h24v24H0V0z\" fill=\"none\"/>\n",
              "    <path d=\"M18.56 5.44l.94 2.06.94-2.06 2.06-.94-2.06-.94-.94-2.06-.94 2.06-2.06.94zm-11 1L8.5 8.5l.94-2.06 2.06-.94-2.06-.94L8.5 2.5l-.94 2.06-2.06.94zm10 10l.94 2.06.94-2.06 2.06-.94-2.06-.94-.94-2.06-.94 2.06-2.06.94z\"/><path d=\"M17.41 7.96l-1.37-1.37c-.4-.4-.92-.59-1.43-.59-.52 0-1.04.2-1.43.59L10.3 9.45l-7.72 7.72c-.78.78-.78 2.05 0 2.83L4 21.41c.39.39.9.59 1.41.59.51 0 1.02-.2 1.41-.59l7.78-7.78 2.81-2.81c.8-.78.8-2.07 0-2.86zM5.41 20L4 18.59l7.72-7.72 1.47 1.35L5.41 20z\"/>\n",
              "  </svg>\n",
              "      </button>\n",
              "      \n",
              "  <style>\n",
              "    .colab-df-container {\n",
              "      display:flex;\n",
              "      flex-wrap:wrap;\n",
              "      gap: 12px;\n",
              "    }\n",
              "\n",
              "    .colab-df-convert {\n",
              "      background-color: #E8F0FE;\n",
              "      border: none;\n",
              "      border-radius: 50%;\n",
              "      cursor: pointer;\n",
              "      display: none;\n",
              "      fill: #1967D2;\n",
              "      height: 32px;\n",
              "      padding: 0 0 0 0;\n",
              "      width: 32px;\n",
              "    }\n",
              "\n",
              "    .colab-df-convert:hover {\n",
              "      background-color: #E2EBFA;\n",
              "      box-shadow: 0px 1px 2px rgba(60, 64, 67, 0.3), 0px 1px 3px 1px rgba(60, 64, 67, 0.15);\n",
              "      fill: #174EA6;\n",
              "    }\n",
              "\n",
              "    [theme=dark] .colab-df-convert {\n",
              "      background-color: #3B4455;\n",
              "      fill: #D2E3FC;\n",
              "    }\n",
              "\n",
              "    [theme=dark] .colab-df-convert:hover {\n",
              "      background-color: #434B5C;\n",
              "      box-shadow: 0px 1px 3px 1px rgba(0, 0, 0, 0.15);\n",
              "      filter: drop-shadow(0px 1px 2px rgba(0, 0, 0, 0.3));\n",
              "      fill: #FFFFFF;\n",
              "    }\n",
              "  </style>\n",
              "\n",
              "      <script>\n",
              "        const buttonEl =\n",
              "          document.querySelector('#df-72f8282e-d5f1-4290-b9eb-392079b5d0d2 button.colab-df-convert');\n",
              "        buttonEl.style.display =\n",
              "          google.colab.kernel.accessAllowed ? 'block' : 'none';\n",
              "\n",
              "        async function convertToInteractive(key) {\n",
              "          const element = document.querySelector('#df-72f8282e-d5f1-4290-b9eb-392079b5d0d2');\n",
              "          const dataTable =\n",
              "            await google.colab.kernel.invokeFunction('convertToInteractive',\n",
              "                                                     [key], {});\n",
              "          if (!dataTable) return;\n",
              "\n",
              "          const docLinkHtml = 'Like what you see? Visit the ' +\n",
              "            '<a target=\"_blank\" href=https://colab.research.google.com/notebooks/data_table.ipynb>data table notebook</a>'\n",
              "            + ' to learn more about interactive tables.';\n",
              "          element.innerHTML = '';\n",
              "          dataTable['output_type'] = 'display_data';\n",
              "          await google.colab.output.renderOutput(dataTable, element);\n",
              "          const docLink = document.createElement('div');\n",
              "          docLink.innerHTML = docLinkHtml;\n",
              "          element.appendChild(docLink);\n",
              "        }\n",
              "      </script>\n",
              "    </div>\n",
              "  </div>\n",
              "  "
            ],
            "text/plain": [
              "        mfcc1       mfcc2      mfcc3  ...    mfcc38    mfcc39  label\n",
              "0 -408.199463  108.693329  66.010132  ... -1.597472 -2.274990     AS\n",
              "1 -402.907471  105.200851  64.808014  ... -1.637907 -2.022694     AS\n",
              "2 -400.250458  106.139961  66.186516  ... -1.284070 -1.688242     AS\n",
              "3 -397.024628  109.818665  67.796227  ... -1.731805 -2.330357     AS\n",
              "4 -402.779755  105.839119  65.926910  ... -1.635218 -1.912504     AS\n",
              "\n",
              "[5 rows x 40 columns]"
            ]
          },
          "metadata": {},
          "execution_count": 48
        }
      ]
    },
    {
      "cell_type": "code",
      "source": [
        "data1_1.dtypes"
      ],
      "metadata": {
        "colab": {
          "base_uri": "https://localhost:8080/"
        },
        "id": "Y_Lm0cJ0Pjsr",
        "outputId": "a6cb4eab-dc0c-448d-d2c0-6a54b6e49c80"
      },
      "execution_count": null,
      "outputs": [
        {
          "output_type": "execute_result",
          "data": {
            "text/plain": [
              "mfcc1     float64\n",
              "mfcc2     float64\n",
              "mfcc3     float64\n",
              "mfcc4     float64\n",
              "mfcc5     float64\n",
              "mfcc6     float64\n",
              "mfcc7     float64\n",
              "mfcc8     float64\n",
              "mfcc9     float64\n",
              "mfcc10    float64\n",
              "mfcc11    float64\n",
              "mfcc12    float64\n",
              "mfcc13    float64\n",
              "mfcc14    float64\n",
              "mfcc15    float64\n",
              "mfcc16    float64\n",
              "mfcc17    float64\n",
              "mfcc18    float64\n",
              "mfcc19    float64\n",
              "mfcc20    float64\n",
              "mfcc21    float64\n",
              "mfcc22    float64\n",
              "mfcc23    float64\n",
              "mfcc24    float64\n",
              "mfcc25    float64\n",
              "mfcc26    float64\n",
              "mfcc27    float64\n",
              "mfcc28    float64\n",
              "mfcc29    float64\n",
              "mfcc30    float64\n",
              "mfcc31    float64\n",
              "mfcc32    float64\n",
              "mfcc33    float64\n",
              "mfcc34    float64\n",
              "mfcc35    float64\n",
              "mfcc36    float64\n",
              "mfcc37    float64\n",
              "mfcc38    float64\n",
              "mfcc39    float64\n",
              "label      object\n",
              "dtype: object"
            ]
          },
          "metadata": {},
          "execution_count": 49
        }
      ]
    },
    {
      "cell_type": "code",
      "source": [
        "data1_1['label'] = pd.Categorical(data1_1['label'])"
      ],
      "metadata": {
        "id": "ShC3-MWHPlfE"
      },
      "execution_count": null,
      "outputs": []
    },
    {
      "cell_type": "code",
      "source": [
        "y1 = LabelEncoder().fit_transform(data1_1.iloc[:, -1])"
      ],
      "metadata": {
        "id": "bPnkjWSKPmLE"
      },
      "execution_count": null,
      "outputs": []
    },
    {
      "cell_type": "code",
      "source": [
        "X1 = StandardScaler().fit_transform(np.array(data1_1.iloc[:, :-1], dtype = float))"
      ],
      "metadata": {
        "id": "Kzhxx7pEPn5j"
      },
      "execution_count": null,
      "outputs": []
    },
    {
      "cell_type": "code",
      "source": [
        "X1_train, X1_test, y1_train, y1_test = train_test_split(X1, y1, test_size=0.2, random_state=127)"
      ],
      "metadata": {
        "id": "YPgZOcXBPxDk"
      },
      "execution_count": null,
      "outputs": []
    },
    {
      "cell_type": "code",
      "source": [
        "X1_train.shape, X1_test.shape"
      ],
      "metadata": {
        "colab": {
          "base_uri": "https://localhost:8080/"
        },
        "id": "y1S3uk48PyGL",
        "outputId": "5cbe03a1-5569-4af1-94f1-7433023132ae"
      },
      "execution_count": null,
      "outputs": [
        {
          "output_type": "execute_result",
          "data": {
            "text/plain": [
              "((800, 39), (200, 39))"
            ]
          },
          "metadata": {},
          "execution_count": 54
        }
      ]
    },
    {
      "cell_type": "markdown",
      "source": [
        "fitur seleksi"
      ],
      "metadata": {
        "id": "TfNNGWjWPz-j"
      }
    },
    {
      "cell_type": "code",
      "source": [
        "#normalization\n",
        "x_train_N = (X1_train-X1_train.mean())/(X1_train.max()-X1_train.min())\n",
        "x_test_N = (X1_test-X1_test.mean())/(X1_test.max()-X1_test.min())"
      ],
      "metadata": {
        "id": "_QdeywI-P0Vr"
      },
      "execution_count": null,
      "outputs": []
    },
    {
      "cell_type": "code",
      "source": [
        "def calculate_sensitivity_specificity(y_test, y_pred):\n",
        "    # Note: More parameters are defined than necessary. \n",
        "    # This would allow return of other measures other than sensitivity and specificity\n",
        "    \n",
        "    # Get true/false for whether a breach actually occurred\n",
        "    actual_pos = y_test == 1\n",
        "    actual_neg = y_test == 0\n",
        "    \n",
        "    # Get true and false test (true test match actual, false tests differ from actual)\n",
        "    true_pos = (y_pred == 1) & (actual_pos)\n",
        "    false_pos = (y_pred == 1) & (actual_neg)\n",
        "    true_neg = (y_pred == 0) & (actual_neg)\n",
        "    false_neg = (y_pred == 0) & (actual_pos)\n",
        "    \n",
        "    # Calculate accuracy\n",
        "    accuracy = np.mean(y_pred == y_test)\n",
        "    \n",
        "    # Calculate sensitivity and specificity\n",
        "    sensitivity = np.sum(true_pos) / np.sum(actual_pos)\n",
        "    specificity = np.sum(true_neg) / np.sum(actual_neg)\n",
        "    \n",
        "    return sensitivity, specificity, accuracy"
      ],
      "metadata": {
        "id": "CQT6pZg7P5DT"
      },
      "execution_count": null,
      "outputs": []
    },
    {
      "cell_type": "code",
      "source": [
        "# Using PCA from sklearn PCA\n",
        "from sklearn.decomposition import PCA\n",
        "import seaborn as sns"
      ],
      "metadata": {
        "id": "3RmDO27aP8Ly"
      },
      "execution_count": null,
      "outputs": []
    },
    {
      "cell_type": "code",
      "source": [
        "# initialize model\n",
        "pca = PCA(n_components=0.99)\n",
        "# fit to training data\n",
        "pca.fit(X1_train)\n",
        "# transform\n",
        "X_pca = pca.transform(X1_train)"
      ],
      "metadata": {
        "id": "2b36IxZBP860"
      },
      "execution_count": null,
      "outputs": []
    },
    {
      "cell_type": "code",
      "source": [
        "pca = PCA(n_components=39)\n",
        "# fit to training data\n",
        "pca.fit(X1_train)\n",
        "# transform\n",
        "X_train_pca = pca.transform(X1_train)\n",
        "\n",
        "X_test_pca = pca.transform(X1_test)"
      ],
      "metadata": {
        "id": "5cTUmB0OP-Mj"
      },
      "execution_count": null,
      "outputs": []
    },
    {
      "cell_type": "code",
      "source": [
        "X1_train.shape\n",
        "X1_test.shape"
      ],
      "metadata": {
        "colab": {
          "base_uri": "https://localhost:8080/"
        },
        "id": "a5WSJJQJQA4c",
        "outputId": "f6a8a26b-fe97-426a-b2f6-e734825c5c65"
      },
      "execution_count": null,
      "outputs": [
        {
          "output_type": "execute_result",
          "data": {
            "text/plain": [
              "(200, 39)"
            ]
          },
          "metadata": {},
          "execution_count": 60
        }
      ]
    },
    {
      "cell_type": "code",
      "source": [
        "pca = PCA(n_components=1)\n",
        "X_train = pca.fit_transform(X1_train)\n",
        "X_test = pca.transform(X1_test)"
      ],
      "metadata": {
        "id": "wKRMSqTFQCSb"
      },
      "execution_count": null,
      "outputs": []
    },
    {
      "cell_type": "code",
      "source": [
        "from sklearn.metrics import accuracy_score, confusion_matrix, classification_report\n",
        "def print_score(clf, X_train, y_train, X_test, y_test, train=True):\n",
        "    if train:\n",
        "        pred = clf.predict(X_train)\n",
        "        clf_report = pd.DataFrame(classification_report(y_train, pred, output_dict=True))\n",
        "        print(\"Train Result:n================================================\")\n",
        "        print(f\"Accuracy Score: {accuracy_score(y_train, pred) * 100:.2f}%\")\n",
        "        print(\"_______________________________________________\")\n",
        "        print(f\"CLASSIFICATION REPORT:n{clf_report}\")\n",
        "        print(\"_______________________________________________\")\n",
        "        print(f\"Confusion Matrix: n {confusion_matrix(y_train, pred)}n\")\n",
        "    elif train==False:\n",
        "        pred = clf.predict(X_test)\n",
        "        clf_report = pd.DataFrame(classification_report(y_test, pred, output_dict=True))\n",
        "        print(\"Test Result:n================================================\")        \n",
        "        print(f\"Accuracy Score: {accuracy_score(y_test, pred) * 100:.2f}%\")\n",
        "        print(\"_______________________________________________\")\n",
        "        print(f\"CLASSIFICATION REPORT:n{clf_report}\")\n",
        "        print(\"_______________________________________________\")\n",
        "        print(f\"Confusion Matrix: n {confusion_matrix(y_test, pred)}n\")"
      ],
      "metadata": {
        "id": "skNHLEh3QEGz"
      },
      "execution_count": null,
      "outputs": []
    },
    {
      "cell_type": "code",
      "source": [
        "from sklearn.svm import LinearSVC\n",
        "model = LinearSVC(loss='hinge', dual=True)\n",
        "model.fit(X1_train, y1_train)\n",
        "print_score(model, X1_train, y1_train, X1_test, y1_test, train=True)\n",
        "print_score(model, X1_train, y1_train, X1_test, y1_test, train=False)"
      ],
      "metadata": {
        "colab": {
          "base_uri": "https://localhost:8080/"
        },
        "id": "BK6fUpsSQGJT",
        "outputId": "0ac32f0b-90e8-48f6-93fa-5cbb2b6b9b7b"
      },
      "execution_count": null,
      "outputs": [
        {
          "output_type": "stream",
          "name": "stdout",
          "text": [
            "Train Result:n================================================\n",
            "Accuracy Score: 90.62%\n",
            "_______________________________________________\n",
            "CLASSIFICATION REPORT:n                    0           1  ...   macro avg  weighted avg\n",
            "precision    0.894410    0.907895  ...    0.905581      0.905388\n",
            "recall       0.872727    0.896104  ...    0.906750      0.906250\n",
            "f1-score     0.883436    0.901961  ...    0.905721      0.905370\n",
            "support    165.000000  154.000000  ...  800.000000    800.000000\n",
            "\n",
            "[4 rows x 8 columns]\n",
            "_______________________________________________\n",
            "Confusion Matrix: n [[144   0   5  16   0]\n",
            " [  6 138   7   0   3]\n",
            " [  4   0 149   3   1]\n",
            " [  6  14   2 134   7]\n",
            " [  1   0   0   0 160]]n\n",
            "Test Result:n================================================\n",
            "Accuracy Score: 90.00%\n",
            "_______________________________________________\n",
            "CLASSIFICATION REPORT:n                   0          1          2  ...  accuracy   macro avg  weighted avg\n",
            "precision   0.780488   0.891304   0.975610  ...       0.9    0.900369      0.903926\n",
            "recall      0.914286   0.891304   0.930233  ...       0.9    0.898516      0.900000\n",
            "f1-score    0.842105   0.891304   0.952381  ...       0.9    0.896864      0.899608\n",
            "support    35.000000  46.000000  43.000000  ...       0.9  200.000000    200.000000\n",
            "\n",
            "[4 rows x 8 columns]\n",
            "_______________________________________________\n",
            "Confusion Matrix: n [[32  1  1  1  0]\n",
            " [ 4 41  0  0  1]\n",
            " [ 1  0 40  2  0]\n",
            " [ 4  4  0 28  1]\n",
            " [ 0  0  0  0 39]]n\n"
          ]
        },
        {
          "output_type": "stream",
          "name": "stderr",
          "text": [
            "/usr/local/lib/python3.7/dist-packages/sklearn/svm/_base.py:1208: ConvergenceWarning: Liblinear failed to converge, increase the number of iterations.\n",
            "  ConvergenceWarning,\n"
          ]
        }
      ]
    },
    {
      "cell_type": "code",
      "source": [
        "from sklearn.model_selection import GridSearchCV\n",
        "from sklearn.svm import SVC\n",
        "\n",
        "param_grid = {'C': [0.01, 0.1, 0.5, 1, 10, 100], \n",
        "              'gamma': [1, 0.75, 0.5, 0.25, 0.1, 0.01, 0.001], \n",
        "              'kernel': ['rbf', 'poly', 'linear']} \n",
        "grid = GridSearchCV(SVC(), param_grid, refit=True, verbose=1, cv=5, iid=True)\n",
        "grid.fit(X_train, y_train)\n",
        "best_params = grid.best_params_\n",
        "print(f\"Best params: {best_params}\")\n",
        "svm_clf = SVC(**best_params)\n",
        "svm_clf.fit(X_train, y1_train)\n",
        "print_score(svm_clf, X_train, y1_train, X_test, y1_test, train=True)\n",
        "print_score(svm_clf, X_train, y1_train, X_test, y1_test, train=False)"
      ],
      "metadata": {
        "colab": {
          "base_uri": "https://localhost:8080/",
          "height": 244
        },
        "id": "rjXt8WuHQG47",
        "outputId": "b5454baf-eedc-4a51-f2d3-4522319eb11e"
      },
      "execution_count": null,
      "outputs": [
        {
          "output_type": "error",
          "ename": "TypeError",
          "evalue": "ignored",
          "traceback": [
            "\u001b[0;31m---------------------------------------------------------------------------\u001b[0m",
            "\u001b[0;31mTypeError\u001b[0m                                 Traceback (most recent call last)",
            "\u001b[0;32m<ipython-input-64-e99e8b3f0e2c>\u001b[0m in \u001b[0;36m<module>\u001b[0;34m()\u001b[0m\n\u001b[1;32m      5\u001b[0m               \u001b[0;34m'gamma'\u001b[0m\u001b[0;34m:\u001b[0m \u001b[0;34m[\u001b[0m\u001b[0;36m1\u001b[0m\u001b[0;34m,\u001b[0m \u001b[0;36m0.75\u001b[0m\u001b[0;34m,\u001b[0m \u001b[0;36m0.5\u001b[0m\u001b[0;34m,\u001b[0m \u001b[0;36m0.25\u001b[0m\u001b[0;34m,\u001b[0m \u001b[0;36m0.1\u001b[0m\u001b[0;34m,\u001b[0m \u001b[0;36m0.01\u001b[0m\u001b[0;34m,\u001b[0m \u001b[0;36m0.001\u001b[0m\u001b[0;34m]\u001b[0m\u001b[0;34m,\u001b[0m\u001b[0;34m\u001b[0m\u001b[0;34m\u001b[0m\u001b[0m\n\u001b[1;32m      6\u001b[0m               'kernel': ['rbf', 'poly', 'linear']} \n\u001b[0;32m----> 7\u001b[0;31m \u001b[0mgrid\u001b[0m \u001b[0;34m=\u001b[0m \u001b[0mGridSearchCV\u001b[0m\u001b[0;34m(\u001b[0m\u001b[0mSVC\u001b[0m\u001b[0;34m(\u001b[0m\u001b[0;34m)\u001b[0m\u001b[0;34m,\u001b[0m \u001b[0mparam_grid\u001b[0m\u001b[0;34m,\u001b[0m \u001b[0mrefit\u001b[0m\u001b[0;34m=\u001b[0m\u001b[0;32mTrue\u001b[0m\u001b[0;34m,\u001b[0m \u001b[0mverbose\u001b[0m\u001b[0;34m=\u001b[0m\u001b[0;36m1\u001b[0m\u001b[0;34m,\u001b[0m \u001b[0mcv\u001b[0m\u001b[0;34m=\u001b[0m\u001b[0;36m5\u001b[0m\u001b[0;34m,\u001b[0m \u001b[0miid\u001b[0m\u001b[0;34m=\u001b[0m\u001b[0;32mTrue\u001b[0m\u001b[0;34m)\u001b[0m\u001b[0;34m\u001b[0m\u001b[0;34m\u001b[0m\u001b[0m\n\u001b[0m\u001b[1;32m      8\u001b[0m \u001b[0mgrid\u001b[0m\u001b[0;34m.\u001b[0m\u001b[0mfit\u001b[0m\u001b[0;34m(\u001b[0m\u001b[0mX_train\u001b[0m\u001b[0;34m,\u001b[0m \u001b[0my_train\u001b[0m\u001b[0;34m)\u001b[0m\u001b[0;34m\u001b[0m\u001b[0;34m\u001b[0m\u001b[0m\n\u001b[1;32m      9\u001b[0m \u001b[0mbest_params\u001b[0m \u001b[0;34m=\u001b[0m \u001b[0mgrid\u001b[0m\u001b[0;34m.\u001b[0m\u001b[0mbest_params_\u001b[0m\u001b[0;34m\u001b[0m\u001b[0;34m\u001b[0m\u001b[0m\n",
            "\u001b[0;31mTypeError\u001b[0m: __init__() got an unexpected keyword argument 'iid'"
          ]
        }
      ]
    },
    {
      "cell_type": "markdown",
      "source": [
        "klasifikasi"
      ],
      "metadata": {
        "id": "_B8Vw2YuQLPC"
      }
    },
    {
      "cell_type": "code",
      "source": [
        "X1_train.shape\n",
        "X1_test.shape"
      ],
      "metadata": {
        "colab": {
          "base_uri": "https://localhost:8080/"
        },
        "id": "FUpOW6w7QMQD",
        "outputId": "9db45ed4-7f32-4f0a-c737-07b53a83c8f5"
      },
      "execution_count": null,
      "outputs": [
        {
          "output_type": "execute_result",
          "data": {
            "text/plain": [
              "(200, 39)"
            ]
          },
          "metadata": {},
          "execution_count": 65
        }
      ]
    },
    {
      "cell_type": "code",
      "source": [
        "pca = PCA(n_components=39)\n",
        "X_train = pca.fit_transform(X1_train)\n",
        "X_test = pca.transform(X1_test)"
      ],
      "metadata": {
        "id": "rQZBf-5rQNrL"
      },
      "execution_count": null,
      "outputs": []
    },
    {
      "cell_type": "code",
      "source": [
        "from sklearn import svm\n",
        "from sklearn.model_selection import GridSearchCV\n",
        "  \n",
        "# defining parameter range\n",
        "param_grid = {'C': [0.1, 1, 10, 100, 1000], \n",
        "              'gamma': [1, 0.1, 0.01, 0.001, 0.0001],\n",
        "              'kernel': ['rbf','linear']} \n",
        "  \n",
        "grid = GridSearchCV(svm.SVC(), param_grid, refit = True, verbose = 10, scoring='accuracy')\n",
        "  \n",
        "# fitting the model for grid search\n",
        "grid.fit(X_train, y1_train)"
      ],
      "metadata": {
        "colab": {
          "base_uri": "https://localhost:8080/"
        },
        "id": "4wP2JbfnQPq7",
        "outputId": "5e835165-485c-446b-cda7-4b514ab855bb"
      },
      "execution_count": null,
      "outputs": [
        {
          "output_type": "stream",
          "name": "stdout",
          "text": [
            "Fitting 5 folds for each of 50 candidates, totalling 250 fits\n",
            "[CV 1/5; 1/50] START C=0.1, gamma=1, kernel=rbf.................................\n",
            "[CV 1/5; 1/50] END ..C=0.1, gamma=1, kernel=rbf;, score=0.381 total time=   0.1s\n",
            "[CV 2/5; 1/50] START C=0.1, gamma=1, kernel=rbf.................................\n",
            "[CV 2/5; 1/50] END ..C=0.1, gamma=1, kernel=rbf;, score=0.338 total time=   0.1s\n",
            "[CV 3/5; 1/50] START C=0.1, gamma=1, kernel=rbf.................................\n",
            "[CV 3/5; 1/50] END ..C=0.1, gamma=1, kernel=rbf;, score=0.381 total time=   0.1s\n",
            "[CV 4/5; 1/50] START C=0.1, gamma=1, kernel=rbf.................................\n",
            "[CV 4/5; 1/50] END ..C=0.1, gamma=1, kernel=rbf;, score=0.356 total time=   0.1s\n",
            "[CV 5/5; 1/50] START C=0.1, gamma=1, kernel=rbf.................................\n",
            "[CV 5/5; 1/50] END ..C=0.1, gamma=1, kernel=rbf;, score=0.319 total time=   0.1s\n",
            "[CV 1/5; 2/50] START C=0.1, gamma=1, kernel=linear..............................\n",
            "[CV 1/5; 2/50] END C=0.1, gamma=1, kernel=linear;, score=0.906 total time=   0.0s\n",
            "[CV 2/5; 2/50] START C=0.1, gamma=1, kernel=linear..............................\n",
            "[CV 2/5; 2/50] END C=0.1, gamma=1, kernel=linear;, score=0.938 total time=   0.0s\n",
            "[CV 3/5; 2/50] START C=0.1, gamma=1, kernel=linear..............................\n",
            "[CV 3/5; 2/50] END C=0.1, gamma=1, kernel=linear;, score=0.875 total time=   0.0s\n",
            "[CV 4/5; 2/50] START C=0.1, gamma=1, kernel=linear..............................\n",
            "[CV 4/5; 2/50] END C=0.1, gamma=1, kernel=linear;, score=0.887 total time=   0.0s\n",
            "[CV 5/5; 2/50] START C=0.1, gamma=1, kernel=linear..............................\n",
            "[CV 5/5; 2/50] END C=0.1, gamma=1, kernel=linear;, score=0.881 total time=   0.0s\n",
            "[CV 1/5; 3/50] START C=0.1, gamma=0.1, kernel=rbf...............................\n",
            "[CV 1/5; 3/50] END C=0.1, gamma=0.1, kernel=rbf;, score=0.819 total time=   0.0s\n",
            "[CV 2/5; 3/50] START C=0.1, gamma=0.1, kernel=rbf...............................\n",
            "[CV 2/5; 3/50] END C=0.1, gamma=0.1, kernel=rbf;, score=0.856 total time=   0.0s\n",
            "[CV 3/5; 3/50] START C=0.1, gamma=0.1, kernel=rbf...............................\n",
            "[CV 3/5; 3/50] END C=0.1, gamma=0.1, kernel=rbf;, score=0.769 total time=   0.0s\n",
            "[CV 4/5; 3/50] START C=0.1, gamma=0.1, kernel=rbf...............................\n",
            "[CV 4/5; 3/50] END C=0.1, gamma=0.1, kernel=rbf;, score=0.863 total time=   0.0s\n",
            "[CV 5/5; 3/50] START C=0.1, gamma=0.1, kernel=rbf...............................\n",
            "[CV 5/5; 3/50] END C=0.1, gamma=0.1, kernel=rbf;, score=0.844 total time=   0.0s\n",
            "[CV 1/5; 4/50] START C=0.1, gamma=0.1, kernel=linear............................\n",
            "[CV 1/5; 4/50] END C=0.1, gamma=0.1, kernel=linear;, score=0.906 total time=   0.0s\n",
            "[CV 2/5; 4/50] START C=0.1, gamma=0.1, kernel=linear............................\n",
            "[CV 2/5; 4/50] END C=0.1, gamma=0.1, kernel=linear;, score=0.938 total time=   0.0s\n",
            "[CV 3/5; 4/50] START C=0.1, gamma=0.1, kernel=linear............................\n",
            "[CV 3/5; 4/50] END C=0.1, gamma=0.1, kernel=linear;, score=0.875 total time=   0.0s\n",
            "[CV 4/5; 4/50] START C=0.1, gamma=0.1, kernel=linear............................\n",
            "[CV 4/5; 4/50] END C=0.1, gamma=0.1, kernel=linear;, score=0.887 total time=   0.0s\n",
            "[CV 5/5; 4/50] START C=0.1, gamma=0.1, kernel=linear............................\n",
            "[CV 5/5; 4/50] END C=0.1, gamma=0.1, kernel=linear;, score=0.881 total time=   0.0s\n",
            "[CV 1/5; 5/50] START C=0.1, gamma=0.01, kernel=rbf..............................\n",
            "[CV 1/5; 5/50] END C=0.1, gamma=0.01, kernel=rbf;, score=0.719 total time=   0.0s\n",
            "[CV 2/5; 5/50] START C=0.1, gamma=0.01, kernel=rbf..............................\n",
            "[CV 2/5; 5/50] END C=0.1, gamma=0.01, kernel=rbf;, score=0.700 total time=   0.0s\n",
            "[CV 3/5; 5/50] START C=0.1, gamma=0.01, kernel=rbf..............................\n",
            "[CV 3/5; 5/50] END C=0.1, gamma=0.01, kernel=rbf;, score=0.669 total time=   0.0s\n",
            "[CV 4/5; 5/50] START C=0.1, gamma=0.01, kernel=rbf..............................\n",
            "[CV 4/5; 5/50] END C=0.1, gamma=0.01, kernel=rbf;, score=0.762 total time=   0.0s\n",
            "[CV 5/5; 5/50] START C=0.1, gamma=0.01, kernel=rbf..............................\n",
            "[CV 5/5; 5/50] END C=0.1, gamma=0.01, kernel=rbf;, score=0.731 total time=   0.0s\n",
            "[CV 1/5; 6/50] START C=0.1, gamma=0.01, kernel=linear...........................\n",
            "[CV 1/5; 6/50] END C=0.1, gamma=0.01, kernel=linear;, score=0.906 total time=   0.0s\n",
            "[CV 2/5; 6/50] START C=0.1, gamma=0.01, kernel=linear...........................\n",
            "[CV 2/5; 6/50] END C=0.1, gamma=0.01, kernel=linear;, score=0.938 total time=   0.0s\n",
            "[CV 3/5; 6/50] START C=0.1, gamma=0.01, kernel=linear...........................\n",
            "[CV 3/5; 6/50] END C=0.1, gamma=0.01, kernel=linear;, score=0.875 total time=   0.0s\n",
            "[CV 4/5; 6/50] START C=0.1, gamma=0.01, kernel=linear...........................\n",
            "[CV 4/5; 6/50] END C=0.1, gamma=0.01, kernel=linear;, score=0.887 total time=   0.0s\n",
            "[CV 5/5; 6/50] START C=0.1, gamma=0.01, kernel=linear...........................\n",
            "[CV 5/5; 6/50] END C=0.1, gamma=0.01, kernel=linear;, score=0.881 total time=   0.0s\n",
            "[CV 1/5; 7/50] START C=0.1, gamma=0.001, kernel=rbf.............................\n",
            "[CV 1/5; 7/50] END C=0.1, gamma=0.001, kernel=rbf;, score=0.269 total time=   0.1s\n",
            "[CV 2/5; 7/50] START C=0.1, gamma=0.001, kernel=rbf.............................\n",
            "[CV 2/5; 7/50] END C=0.1, gamma=0.001, kernel=rbf;, score=0.331 total time=   0.1s\n",
            "[CV 3/5; 7/50] START C=0.1, gamma=0.001, kernel=rbf.............................\n",
            "[CV 3/5; 7/50] END C=0.1, gamma=0.001, kernel=rbf;, score=0.319 total time=   0.1s\n",
            "[CV 4/5; 7/50] START C=0.1, gamma=0.001, kernel=rbf.............................\n",
            "[CV 4/5; 7/50] END C=0.1, gamma=0.001, kernel=rbf;, score=0.312 total time=   0.1s\n",
            "[CV 5/5; 7/50] START C=0.1, gamma=0.001, kernel=rbf.............................\n",
            "[CV 5/5; 7/50] END C=0.1, gamma=0.001, kernel=rbf;, score=0.344 total time=   0.1s\n",
            "[CV 1/5; 8/50] START C=0.1, gamma=0.001, kernel=linear..........................\n",
            "[CV 1/5; 8/50] END C=0.1, gamma=0.001, kernel=linear;, score=0.906 total time=   0.0s\n",
            "[CV 2/5; 8/50] START C=0.1, gamma=0.001, kernel=linear..........................\n",
            "[CV 2/5; 8/50] END C=0.1, gamma=0.001, kernel=linear;, score=0.938 total time=   0.0s\n",
            "[CV 3/5; 8/50] START C=0.1, gamma=0.001, kernel=linear..........................\n",
            "[CV 3/5; 8/50] END C=0.1, gamma=0.001, kernel=linear;, score=0.875 total time=   0.0s\n",
            "[CV 4/5; 8/50] START C=0.1, gamma=0.001, kernel=linear..........................\n",
            "[CV 4/5; 8/50] END C=0.1, gamma=0.001, kernel=linear;, score=0.887 total time=   0.0s\n",
            "[CV 5/5; 8/50] START C=0.1, gamma=0.001, kernel=linear..........................\n",
            "[CV 5/5; 8/50] END C=0.1, gamma=0.001, kernel=linear;, score=0.881 total time=   0.0s\n",
            "[CV 1/5; 9/50] START C=0.1, gamma=0.0001, kernel=rbf............................\n",
            "[CV 1/5; 9/50] END C=0.1, gamma=0.0001, kernel=rbf;, score=0.206 total time=   0.1s\n",
            "[CV 2/5; 9/50] START C=0.1, gamma=0.0001, kernel=rbf............................\n",
            "[CV 2/5; 9/50] END C=0.1, gamma=0.0001, kernel=rbf;, score=0.206 total time=   0.1s\n",
            "[CV 3/5; 9/50] START C=0.1, gamma=0.0001, kernel=rbf............................\n",
            "[CV 3/5; 9/50] END C=0.1, gamma=0.0001, kernel=rbf;, score=0.206 total time=   0.1s\n",
            "[CV 4/5; 9/50] START C=0.1, gamma=0.0001, kernel=rbf............................\n",
            "[CV 4/5; 9/50] END C=0.1, gamma=0.0001, kernel=rbf;, score=0.206 total time=   0.1s\n",
            "[CV 5/5; 9/50] START C=0.1, gamma=0.0001, kernel=rbf............................\n",
            "[CV 5/5; 9/50] END C=0.1, gamma=0.0001, kernel=rbf;, score=0.206 total time=   0.1s\n",
            "[CV 1/5; 10/50] START C=0.1, gamma=0.0001, kernel=linear........................\n",
            "[CV 1/5; 10/50] END C=0.1, gamma=0.0001, kernel=linear;, score=0.906 total time=   0.0s\n",
            "[CV 2/5; 10/50] START C=0.1, gamma=0.0001, kernel=linear........................\n",
            "[CV 2/5; 10/50] END C=0.1, gamma=0.0001, kernel=linear;, score=0.938 total time=   0.0s\n",
            "[CV 3/5; 10/50] START C=0.1, gamma=0.0001, kernel=linear........................\n",
            "[CV 3/5; 10/50] END C=0.1, gamma=0.0001, kernel=linear;, score=0.875 total time=   0.0s\n",
            "[CV 4/5; 10/50] START C=0.1, gamma=0.0001, kernel=linear........................\n",
            "[CV 4/5; 10/50] END C=0.1, gamma=0.0001, kernel=linear;, score=0.887 total time=   0.0s\n",
            "[CV 5/5; 10/50] START C=0.1, gamma=0.0001, kernel=linear........................\n",
            "[CV 5/5; 10/50] END C=0.1, gamma=0.0001, kernel=linear;, score=0.881 total time=   0.0s\n",
            "[CV 1/5; 11/50] START C=1, gamma=1, kernel=rbf..................................\n",
            "[CV 1/5; 11/50] END ...C=1, gamma=1, kernel=rbf;, score=0.906 total time=   0.1s\n",
            "[CV 2/5; 11/50] START C=1, gamma=1, kernel=rbf..................................\n",
            "[CV 2/5; 11/50] END ...C=1, gamma=1, kernel=rbf;, score=0.881 total time=   0.1s\n",
            "[CV 3/5; 11/50] START C=1, gamma=1, kernel=rbf..................................\n",
            "[CV 3/5; 11/50] END ...C=1, gamma=1, kernel=rbf;, score=0.881 total time=   0.1s\n",
            "[CV 4/5; 11/50] START C=1, gamma=1, kernel=rbf..................................\n",
            "[CV 4/5; 11/50] END ...C=1, gamma=1, kernel=rbf;, score=0.925 total time=   0.1s\n",
            "[CV 5/5; 11/50] START C=1, gamma=1, kernel=rbf..................................\n",
            "[CV 5/5; 11/50] END ...C=1, gamma=1, kernel=rbf;, score=0.906 total time=   0.1s\n",
            "[CV 1/5; 12/50] START C=1, gamma=1, kernel=linear...............................\n",
            "[CV 1/5; 12/50] END C=1, gamma=1, kernel=linear;, score=0.925 total time=   0.0s\n",
            "[CV 2/5; 12/50] START C=1, gamma=1, kernel=linear...............................\n",
            "[CV 2/5; 12/50] END C=1, gamma=1, kernel=linear;, score=0.944 total time=   0.0s\n",
            "[CV 3/5; 12/50] START C=1, gamma=1, kernel=linear...............................\n",
            "[CV 3/5; 12/50] END C=1, gamma=1, kernel=linear;, score=0.856 total time=   0.0s\n",
            "[CV 4/5; 12/50] START C=1, gamma=1, kernel=linear...............................\n",
            "[CV 4/5; 12/50] END C=1, gamma=1, kernel=linear;, score=0.919 total time=   0.0s\n",
            "[CV 5/5; 12/50] START C=1, gamma=1, kernel=linear...............................\n",
            "[CV 5/5; 12/50] END C=1, gamma=1, kernel=linear;, score=0.919 total time=   0.0s\n",
            "[CV 1/5; 13/50] START C=1, gamma=0.1, kernel=rbf................................\n",
            "[CV 1/5; 13/50] END .C=1, gamma=0.1, kernel=rbf;, score=0.988 total time=   0.0s\n",
            "[CV 2/5; 13/50] START C=1, gamma=0.1, kernel=rbf................................\n",
            "[CV 2/5; 13/50] END .C=1, gamma=0.1, kernel=rbf;, score=0.994 total time=   0.0s\n",
            "[CV 3/5; 13/50] START C=1, gamma=0.1, kernel=rbf................................\n",
            "[CV 3/5; 13/50] END .C=1, gamma=0.1, kernel=rbf;, score=0.963 total time=   0.0s\n",
            "[CV 4/5; 13/50] START C=1, gamma=0.1, kernel=rbf................................\n",
            "[CV 4/5; 13/50] END .C=1, gamma=0.1, kernel=rbf;, score=0.975 total time=   0.0s\n",
            "[CV 5/5; 13/50] START C=1, gamma=0.1, kernel=rbf................................\n",
            "[CV 5/5; 13/50] END .C=1, gamma=0.1, kernel=rbf;, score=0.988 total time=   0.0s\n",
            "[CV 1/5; 14/50] START C=1, gamma=0.1, kernel=linear.............................\n",
            "[CV 1/5; 14/50] END C=1, gamma=0.1, kernel=linear;, score=0.925 total time=   0.0s\n",
            "[CV 2/5; 14/50] START C=1, gamma=0.1, kernel=linear.............................\n",
            "[CV 2/5; 14/50] END C=1, gamma=0.1, kernel=linear;, score=0.944 total time=   0.0s\n",
            "[CV 3/5; 14/50] START C=1, gamma=0.1, kernel=linear.............................\n",
            "[CV 3/5; 14/50] END C=1, gamma=0.1, kernel=linear;, score=0.856 total time=   0.0s\n",
            "[CV 4/5; 14/50] START C=1, gamma=0.1, kernel=linear.............................\n",
            "[CV 4/5; 14/50] END C=1, gamma=0.1, kernel=linear;, score=0.919 total time=   0.0s\n",
            "[CV 5/5; 14/50] START C=1, gamma=0.1, kernel=linear.............................\n",
            "[CV 5/5; 14/50] END C=1, gamma=0.1, kernel=linear;, score=0.919 total time=   0.0s\n",
            "[CV 1/5; 15/50] START C=1, gamma=0.01, kernel=rbf...............................\n",
            "[CV 1/5; 15/50] END C=1, gamma=0.01, kernel=rbf;, score=0.912 total time=   0.0s\n",
            "[CV 2/5; 15/50] START C=1, gamma=0.01, kernel=rbf...............................\n",
            "[CV 2/5; 15/50] END C=1, gamma=0.01, kernel=rbf;, score=0.912 total time=   0.0s\n",
            "[CV 3/5; 15/50] START C=1, gamma=0.01, kernel=rbf...............................\n",
            "[CV 3/5; 15/50] END C=1, gamma=0.01, kernel=rbf;, score=0.856 total time=   0.0s\n",
            "[CV 4/5; 15/50] START C=1, gamma=0.01, kernel=rbf...............................\n",
            "[CV 4/5; 15/50] END C=1, gamma=0.01, kernel=rbf;, score=0.900 total time=   0.0s\n",
            "[CV 5/5; 15/50] START C=1, gamma=0.01, kernel=rbf...............................\n",
            "[CV 5/5; 15/50] END C=1, gamma=0.01, kernel=rbf;, score=0.912 total time=   0.0s\n",
            "[CV 1/5; 16/50] START C=1, gamma=0.01, kernel=linear............................\n",
            "[CV 1/5; 16/50] END C=1, gamma=0.01, kernel=linear;, score=0.925 total time=   0.0s\n",
            "[CV 2/5; 16/50] START C=1, gamma=0.01, kernel=linear............................\n",
            "[CV 2/5; 16/50] END C=1, gamma=0.01, kernel=linear;, score=0.944 total time=   0.0s\n",
            "[CV 3/5; 16/50] START C=1, gamma=0.01, kernel=linear............................\n",
            "[CV 3/5; 16/50] END C=1, gamma=0.01, kernel=linear;, score=0.856 total time=   0.0s\n",
            "[CV 4/5; 16/50] START C=1, gamma=0.01, kernel=linear............................\n",
            "[CV 4/5; 16/50] END C=1, gamma=0.01, kernel=linear;, score=0.919 total time=   0.0s\n",
            "[CV 5/5; 16/50] START C=1, gamma=0.01, kernel=linear............................\n",
            "[CV 5/5; 16/50] END C=1, gamma=0.01, kernel=linear;, score=0.919 total time=   0.0s\n",
            "[CV 1/5; 17/50] START C=1, gamma=0.001, kernel=rbf..............................\n",
            "[CV 1/5; 17/50] END C=1, gamma=0.001, kernel=rbf;, score=0.725 total time=   0.0s\n",
            "[CV 2/5; 17/50] START C=1, gamma=0.001, kernel=rbf..............................\n",
            "[CV 2/5; 17/50] END C=1, gamma=0.001, kernel=rbf;, score=0.694 total time=   0.0s\n",
            "[CV 3/5; 17/50] START C=1, gamma=0.001, kernel=rbf..............................\n",
            "[CV 3/5; 17/50] END C=1, gamma=0.001, kernel=rbf;, score=0.700 total time=   0.0s\n",
            "[CV 4/5; 17/50] START C=1, gamma=0.001, kernel=rbf..............................\n",
            "[CV 4/5; 17/50] END C=1, gamma=0.001, kernel=rbf;, score=0.781 total time=   0.0s\n",
            "[CV 5/5; 17/50] START C=1, gamma=0.001, kernel=rbf..............................\n",
            "[CV 5/5; 17/50] END C=1, gamma=0.001, kernel=rbf;, score=0.694 total time=   0.0s\n",
            "[CV 1/5; 18/50] START C=1, gamma=0.001, kernel=linear...........................\n",
            "[CV 1/5; 18/50] END C=1, gamma=0.001, kernel=linear;, score=0.925 total time=   0.0s\n",
            "[CV 2/5; 18/50] START C=1, gamma=0.001, kernel=linear...........................\n",
            "[CV 2/5; 18/50] END C=1, gamma=0.001, kernel=linear;, score=0.944 total time=   0.0s\n",
            "[CV 3/5; 18/50] START C=1, gamma=0.001, kernel=linear...........................\n",
            "[CV 3/5; 18/50] END C=1, gamma=0.001, kernel=linear;, score=0.856 total time=   0.0s\n",
            "[CV 4/5; 18/50] START C=1, gamma=0.001, kernel=linear...........................\n",
            "[CV 4/5; 18/50] END C=1, gamma=0.001, kernel=linear;, score=0.919 total time=   0.0s\n",
            "[CV 5/5; 18/50] START C=1, gamma=0.001, kernel=linear...........................\n",
            "[CV 5/5; 18/50] END C=1, gamma=0.001, kernel=linear;, score=0.919 total time=   0.0s\n",
            "[CV 1/5; 19/50] START C=1, gamma=0.0001, kernel=rbf.............................\n",
            "[CV 1/5; 19/50] END C=1, gamma=0.0001, kernel=rbf;, score=0.256 total time=   0.1s\n",
            "[CV 2/5; 19/50] START C=1, gamma=0.0001, kernel=rbf.............................\n",
            "[CV 2/5; 19/50] END C=1, gamma=0.0001, kernel=rbf;, score=0.319 total time=   0.1s\n",
            "[CV 3/5; 19/50] START C=1, gamma=0.0001, kernel=rbf.............................\n",
            "[CV 3/5; 19/50] END C=1, gamma=0.0001, kernel=rbf;, score=0.325 total time=   0.1s\n",
            "[CV 4/5; 19/50] START C=1, gamma=0.0001, kernel=rbf.............................\n",
            "[CV 4/5; 19/50] END C=1, gamma=0.0001, kernel=rbf;, score=0.287 total time=   0.1s\n",
            "[CV 5/5; 19/50] START C=1, gamma=0.0001, kernel=rbf.............................\n",
            "[CV 5/5; 19/50] END C=1, gamma=0.0001, kernel=rbf;, score=0.325 total time=   0.1s\n",
            "[CV 1/5; 20/50] START C=1, gamma=0.0001, kernel=linear..........................\n",
            "[CV 1/5; 20/50] END C=1, gamma=0.0001, kernel=linear;, score=0.925 total time=   0.0s\n",
            "[CV 2/5; 20/50] START C=1, gamma=0.0001, kernel=linear..........................\n",
            "[CV 2/5; 20/50] END C=1, gamma=0.0001, kernel=linear;, score=0.944 total time=   0.0s\n",
            "[CV 3/5; 20/50] START C=1, gamma=0.0001, kernel=linear..........................\n",
            "[CV 3/5; 20/50] END C=1, gamma=0.0001, kernel=linear;, score=0.856 total time=   0.0s\n",
            "[CV 4/5; 20/50] START C=1, gamma=0.0001, kernel=linear..........................\n",
            "[CV 4/5; 20/50] END C=1, gamma=0.0001, kernel=linear;, score=0.919 total time=   0.0s\n",
            "[CV 5/5; 20/50] START C=1, gamma=0.0001, kernel=linear..........................\n",
            "[CV 5/5; 20/50] END C=1, gamma=0.0001, kernel=linear;, score=0.919 total time=   0.0s\n",
            "[CV 1/5; 21/50] START C=10, gamma=1, kernel=rbf.................................\n",
            "[CV 1/5; 21/50] END ..C=10, gamma=1, kernel=rbf;, score=0.919 total time=   0.1s\n",
            "[CV 2/5; 21/50] START C=10, gamma=1, kernel=rbf.................................\n",
            "[CV 2/5; 21/50] END ..C=10, gamma=1, kernel=rbf;, score=0.881 total time=   0.1s\n",
            "[CV 3/5; 21/50] START C=10, gamma=1, kernel=rbf.................................\n",
            "[CV 3/5; 21/50] END ..C=10, gamma=1, kernel=rbf;, score=0.887 total time=   0.1s\n",
            "[CV 4/5; 21/50] START C=10, gamma=1, kernel=rbf.................................\n",
            "[CV 4/5; 21/50] END ..C=10, gamma=1, kernel=rbf;, score=0.931 total time=   0.1s\n",
            "[CV 5/5; 21/50] START C=10, gamma=1, kernel=rbf.................................\n",
            "[CV 5/5; 21/50] END ..C=10, gamma=1, kernel=rbf;, score=0.912 total time=   0.1s\n",
            "[CV 1/5; 22/50] START C=10, gamma=1, kernel=linear..............................\n",
            "[CV 1/5; 22/50] END C=10, gamma=1, kernel=linear;, score=0.944 total time=   0.1s\n",
            "[CV 2/5; 22/50] START C=10, gamma=1, kernel=linear..............................\n",
            "[CV 2/5; 22/50] END C=10, gamma=1, kernel=linear;, score=0.925 total time=   0.2s\n",
            "[CV 3/5; 22/50] START C=10, gamma=1, kernel=linear..............................\n",
            "[CV 3/5; 22/50] END C=10, gamma=1, kernel=linear;, score=0.863 total time=   0.1s\n",
            "[CV 4/5; 22/50] START C=10, gamma=1, kernel=linear..............................\n",
            "[CV 4/5; 22/50] END C=10, gamma=1, kernel=linear;, score=0.919 total time=   0.1s\n",
            "[CV 5/5; 22/50] START C=10, gamma=1, kernel=linear..............................\n",
            "[CV 5/5; 22/50] END C=10, gamma=1, kernel=linear;, score=0.944 total time=   0.1s\n",
            "[CV 1/5; 23/50] START C=10, gamma=0.1, kernel=rbf...............................\n",
            "[CV 1/5; 23/50] END C=10, gamma=0.1, kernel=rbf;, score=0.988 total time=   0.0s\n",
            "[CV 2/5; 23/50] START C=10, gamma=0.1, kernel=rbf...............................\n",
            "[CV 2/5; 23/50] END C=10, gamma=0.1, kernel=rbf;, score=0.994 total time=   0.0s\n",
            "[CV 3/5; 23/50] START C=10, gamma=0.1, kernel=rbf...............................\n",
            "[CV 3/5; 23/50] END C=10, gamma=0.1, kernel=rbf;, score=0.956 total time=   0.0s\n",
            "[CV 4/5; 23/50] START C=10, gamma=0.1, kernel=rbf...............................\n",
            "[CV 4/5; 23/50] END C=10, gamma=0.1, kernel=rbf;, score=0.981 total time=   0.0s\n",
            "[CV 5/5; 23/50] START C=10, gamma=0.1, kernel=rbf...............................\n",
            "[CV 5/5; 23/50] END C=10, gamma=0.1, kernel=rbf;, score=0.988 total time=   0.0s\n",
            "[CV 1/5; 24/50] START C=10, gamma=0.1, kernel=linear............................\n",
            "[CV 1/5; 24/50] END C=10, gamma=0.1, kernel=linear;, score=0.944 total time=   0.1s\n",
            "[CV 2/5; 24/50] START C=10, gamma=0.1, kernel=linear............................\n",
            "[CV 2/5; 24/50] END C=10, gamma=0.1, kernel=linear;, score=0.925 total time=   0.2s\n",
            "[CV 3/5; 24/50] START C=10, gamma=0.1, kernel=linear............................\n",
            "[CV 3/5; 24/50] END C=10, gamma=0.1, kernel=linear;, score=0.863 total time=   0.1s\n",
            "[CV 4/5; 24/50] START C=10, gamma=0.1, kernel=linear............................\n",
            "[CV 4/5; 24/50] END C=10, gamma=0.1, kernel=linear;, score=0.919 total time=   0.1s\n",
            "[CV 5/5; 24/50] START C=10, gamma=0.1, kernel=linear............................\n",
            "[CV 5/5; 24/50] END C=10, gamma=0.1, kernel=linear;, score=0.944 total time=   0.1s\n",
            "[CV 1/5; 25/50] START C=10, gamma=0.01, kernel=rbf..............................\n",
            "[CV 1/5; 25/50] END C=10, gamma=0.01, kernel=rbf;, score=0.981 total time=   0.0s\n",
            "[CV 2/5; 25/50] START C=10, gamma=0.01, kernel=rbf..............................\n",
            "[CV 2/5; 25/50] END C=10, gamma=0.01, kernel=rbf;, score=0.988 total time=   0.0s\n",
            "[CV 3/5; 25/50] START C=10, gamma=0.01, kernel=rbf..............................\n",
            "[CV 3/5; 25/50] END C=10, gamma=0.01, kernel=rbf;, score=0.975 total time=   0.0s\n",
            "[CV 4/5; 25/50] START C=10, gamma=0.01, kernel=rbf..............................\n",
            "[CV 4/5; 25/50] END C=10, gamma=0.01, kernel=rbf;, score=0.969 total time=   0.0s\n",
            "[CV 5/5; 25/50] START C=10, gamma=0.01, kernel=rbf..............................\n",
            "[CV 5/5; 25/50] END C=10, gamma=0.01, kernel=rbf;, score=0.994 total time=   0.0s\n",
            "[CV 1/5; 26/50] START C=10, gamma=0.01, kernel=linear...........................\n",
            "[CV 1/5; 26/50] END C=10, gamma=0.01, kernel=linear;, score=0.944 total time=   0.1s\n",
            "[CV 2/5; 26/50] START C=10, gamma=0.01, kernel=linear...........................\n",
            "[CV 2/5; 26/50] END C=10, gamma=0.01, kernel=linear;, score=0.925 total time=   0.2s\n",
            "[CV 3/5; 26/50] START C=10, gamma=0.01, kernel=linear...........................\n",
            "[CV 3/5; 26/50] END C=10, gamma=0.01, kernel=linear;, score=0.863 total time=   0.1s\n",
            "[CV 4/5; 26/50] START C=10, gamma=0.01, kernel=linear...........................\n",
            "[CV 4/5; 26/50] END C=10, gamma=0.01, kernel=linear;, score=0.919 total time=   0.1s\n",
            "[CV 5/5; 26/50] START C=10, gamma=0.01, kernel=linear...........................\n",
            "[CV 5/5; 26/50] END C=10, gamma=0.01, kernel=linear;, score=0.944 total time=   0.1s\n",
            "[CV 1/5; 27/50] START C=10, gamma=0.001, kernel=rbf.............................\n",
            "[CV 1/5; 27/50] END C=10, gamma=0.001, kernel=rbf;, score=0.863 total time=   0.0s\n",
            "[CV 2/5; 27/50] START C=10, gamma=0.001, kernel=rbf.............................\n",
            "[CV 2/5; 27/50] END C=10, gamma=0.001, kernel=rbf;, score=0.900 total time=   0.0s\n",
            "[CV 3/5; 27/50] START C=10, gamma=0.001, kernel=rbf.............................\n",
            "[CV 3/5; 27/50] END C=10, gamma=0.001, kernel=rbf;, score=0.844 total time=   0.0s\n",
            "[CV 4/5; 27/50] START C=10, gamma=0.001, kernel=rbf.............................\n",
            "[CV 4/5; 27/50] END C=10, gamma=0.001, kernel=rbf;, score=0.875 total time=   0.0s\n",
            "[CV 5/5; 27/50] START C=10, gamma=0.001, kernel=rbf.............................\n",
            "[CV 5/5; 27/50] END C=10, gamma=0.001, kernel=rbf;, score=0.844 total time=   0.0s\n",
            "[CV 1/5; 28/50] START C=10, gamma=0.001, kernel=linear..........................\n",
            "[CV 1/5; 28/50] END C=10, gamma=0.001, kernel=linear;, score=0.944 total time=   0.1s\n",
            "[CV 2/5; 28/50] START C=10, gamma=0.001, kernel=linear..........................\n",
            "[CV 2/5; 28/50] END C=10, gamma=0.001, kernel=linear;, score=0.925 total time=   0.2s\n",
            "[CV 3/5; 28/50] START C=10, gamma=0.001, kernel=linear..........................\n",
            "[CV 3/5; 28/50] END C=10, gamma=0.001, kernel=linear;, score=0.863 total time=   0.1s\n",
            "[CV 4/5; 28/50] START C=10, gamma=0.001, kernel=linear..........................\n",
            "[CV 4/5; 28/50] END C=10, gamma=0.001, kernel=linear;, score=0.919 total time=   0.1s\n",
            "[CV 5/5; 28/50] START C=10, gamma=0.001, kernel=linear..........................\n",
            "[CV 5/5; 28/50] END C=10, gamma=0.001, kernel=linear;, score=0.944 total time=   0.1s\n",
            "[CV 1/5; 29/50] START C=10, gamma=0.0001, kernel=rbf............................\n",
            "[CV 1/5; 29/50] END C=10, gamma=0.0001, kernel=rbf;, score=0.700 total time=   0.0s\n",
            "[CV 2/5; 29/50] START C=10, gamma=0.0001, kernel=rbf............................\n",
            "[CV 2/5; 29/50] END C=10, gamma=0.0001, kernel=rbf;, score=0.719 total time=   0.0s\n",
            "[CV 3/5; 29/50] START C=10, gamma=0.0001, kernel=rbf............................\n",
            "[CV 3/5; 29/50] END C=10, gamma=0.0001, kernel=rbf;, score=0.700 total time=   0.0s\n",
            "[CV 4/5; 29/50] START C=10, gamma=0.0001, kernel=rbf............................\n",
            "[CV 4/5; 29/50] END C=10, gamma=0.0001, kernel=rbf;, score=0.762 total time=   0.0s\n",
            "[CV 5/5; 29/50] START C=10, gamma=0.0001, kernel=rbf............................\n",
            "[CV 5/5; 29/50] END C=10, gamma=0.0001, kernel=rbf;, score=0.694 total time=   0.1s\n",
            "[CV 1/5; 30/50] START C=10, gamma=0.0001, kernel=linear.........................\n",
            "[CV 1/5; 30/50] END C=10, gamma=0.0001, kernel=linear;, score=0.944 total time=   0.1s\n",
            "[CV 2/5; 30/50] START C=10, gamma=0.0001, kernel=linear.........................\n",
            "[CV 2/5; 30/50] END C=10, gamma=0.0001, kernel=linear;, score=0.925 total time=   0.2s\n",
            "[CV 3/5; 30/50] START C=10, gamma=0.0001, kernel=linear.........................\n",
            "[CV 3/5; 30/50] END C=10, gamma=0.0001, kernel=linear;, score=0.863 total time=   0.1s\n",
            "[CV 4/5; 30/50] START C=10, gamma=0.0001, kernel=linear.........................\n",
            "[CV 4/5; 30/50] END C=10, gamma=0.0001, kernel=linear;, score=0.919 total time=   0.1s\n",
            "[CV 5/5; 30/50] START C=10, gamma=0.0001, kernel=linear.........................\n",
            "[CV 5/5; 30/50] END C=10, gamma=0.0001, kernel=linear;, score=0.944 total time=   0.1s\n",
            "[CV 1/5; 31/50] START C=100, gamma=1, kernel=rbf................................\n",
            "[CV 1/5; 31/50] END .C=100, gamma=1, kernel=rbf;, score=0.919 total time=   0.1s\n",
            "[CV 2/5; 31/50] START C=100, gamma=1, kernel=rbf................................\n",
            "[CV 2/5; 31/50] END .C=100, gamma=1, kernel=rbf;, score=0.881 total time=   0.1s\n",
            "[CV 3/5; 31/50] START C=100, gamma=1, kernel=rbf................................\n",
            "[CV 3/5; 31/50] END .C=100, gamma=1, kernel=rbf;, score=0.887 total time=   0.1s\n",
            "[CV 4/5; 31/50] START C=100, gamma=1, kernel=rbf................................\n",
            "[CV 4/5; 31/50] END .C=100, gamma=1, kernel=rbf;, score=0.931 total time=   0.1s\n",
            "[CV 5/5; 31/50] START C=100, gamma=1, kernel=rbf................................\n",
            "[CV 5/5; 31/50] END .C=100, gamma=1, kernel=rbf;, score=0.912 total time=   0.1s\n",
            "[CV 1/5; 32/50] START C=100, gamma=1, kernel=linear.............................\n",
            "[CV 1/5; 32/50] END C=100, gamma=1, kernel=linear;, score=0.931 total time=   0.8s\n",
            "[CV 2/5; 32/50] START C=100, gamma=1, kernel=linear.............................\n",
            "[CV 2/5; 32/50] END C=100, gamma=1, kernel=linear;, score=0.925 total time=   0.7s\n",
            "[CV 3/5; 32/50] START C=100, gamma=1, kernel=linear.............................\n",
            "[CV 3/5; 32/50] END C=100, gamma=1, kernel=linear;, score=0.869 total time=   0.2s\n",
            "[CV 4/5; 32/50] START C=100, gamma=1, kernel=linear.............................\n",
            "[CV 4/5; 32/50] END C=100, gamma=1, kernel=linear;, score=0.919 total time=   0.2s\n",
            "[CV 5/5; 32/50] START C=100, gamma=1, kernel=linear.............................\n",
            "[CV 5/5; 32/50] END C=100, gamma=1, kernel=linear;, score=0.931 total time=   0.5s\n",
            "[CV 1/5; 33/50] START C=100, gamma=0.1, kernel=rbf..............................\n",
            "[CV 1/5; 33/50] END C=100, gamma=0.1, kernel=rbf;, score=0.988 total time=   0.0s\n",
            "[CV 2/5; 33/50] START C=100, gamma=0.1, kernel=rbf..............................\n",
            "[CV 2/5; 33/50] END C=100, gamma=0.1, kernel=rbf;, score=0.994 total time=   0.0s\n",
            "[CV 3/5; 33/50] START C=100, gamma=0.1, kernel=rbf..............................\n",
            "[CV 3/5; 33/50] END C=100, gamma=0.1, kernel=rbf;, score=0.956 total time=   0.0s\n",
            "[CV 4/5; 33/50] START C=100, gamma=0.1, kernel=rbf..............................\n",
            "[CV 4/5; 33/50] END C=100, gamma=0.1, kernel=rbf;, score=0.981 total time=   0.0s\n",
            "[CV 5/5; 33/50] START C=100, gamma=0.1, kernel=rbf..............................\n",
            "[CV 5/5; 33/50] END C=100, gamma=0.1, kernel=rbf;, score=0.988 total time=   0.0s\n",
            "[CV 1/5; 34/50] START C=100, gamma=0.1, kernel=linear...........................\n",
            "[CV 1/5; 34/50] END C=100, gamma=0.1, kernel=linear;, score=0.931 total time=   0.8s\n",
            "[CV 2/5; 34/50] START C=100, gamma=0.1, kernel=linear...........................\n",
            "[CV 2/5; 34/50] END C=100, gamma=0.1, kernel=linear;, score=0.925 total time=   0.6s\n",
            "[CV 3/5; 34/50] START C=100, gamma=0.1, kernel=linear...........................\n",
            "[CV 3/5; 34/50] END C=100, gamma=0.1, kernel=linear;, score=0.869 total time=   0.2s\n",
            "[CV 4/5; 34/50] START C=100, gamma=0.1, kernel=linear...........................\n",
            "[CV 4/5; 34/50] END C=100, gamma=0.1, kernel=linear;, score=0.919 total time=   0.2s\n",
            "[CV 5/5; 34/50] START C=100, gamma=0.1, kernel=linear...........................\n",
            "[CV 5/5; 34/50] END C=100, gamma=0.1, kernel=linear;, score=0.931 total time=   0.5s\n",
            "[CV 1/5; 35/50] START C=100, gamma=0.01, kernel=rbf.............................\n",
            "[CV 1/5; 35/50] END C=100, gamma=0.01, kernel=rbf;, score=0.994 total time=   0.0s\n",
            "[CV 2/5; 35/50] START C=100, gamma=0.01, kernel=rbf.............................\n",
            "[CV 2/5; 35/50] END C=100, gamma=0.01, kernel=rbf;, score=0.981 total time=   0.0s\n",
            "[CV 3/5; 35/50] START C=100, gamma=0.01, kernel=rbf.............................\n",
            "[CV 3/5; 35/50] END C=100, gamma=0.01, kernel=rbf;, score=0.981 total time=   0.0s\n",
            "[CV 4/5; 35/50] START C=100, gamma=0.01, kernel=rbf.............................\n",
            "[CV 4/5; 35/50] END C=100, gamma=0.01, kernel=rbf;, score=0.975 total time=   0.0s\n",
            "[CV 5/5; 35/50] START C=100, gamma=0.01, kernel=rbf.............................\n",
            "[CV 5/5; 35/50] END C=100, gamma=0.01, kernel=rbf;, score=0.994 total time=   0.0s\n",
            "[CV 1/5; 36/50] START C=100, gamma=0.01, kernel=linear..........................\n",
            "[CV 1/5; 36/50] END C=100, gamma=0.01, kernel=linear;, score=0.931 total time=   0.8s\n",
            "[CV 2/5; 36/50] START C=100, gamma=0.01, kernel=linear..........................\n",
            "[CV 2/5; 36/50] END C=100, gamma=0.01, kernel=linear;, score=0.925 total time=   0.6s\n",
            "[CV 3/5; 36/50] START C=100, gamma=0.01, kernel=linear..........................\n",
            "[CV 3/5; 36/50] END C=100, gamma=0.01, kernel=linear;, score=0.869 total time=   0.2s\n",
            "[CV 4/5; 36/50] START C=100, gamma=0.01, kernel=linear..........................\n",
            "[CV 4/5; 36/50] END C=100, gamma=0.01, kernel=linear;, score=0.919 total time=   0.2s\n",
            "[CV 5/5; 36/50] START C=100, gamma=0.01, kernel=linear..........................\n",
            "[CV 5/5; 36/50] END C=100, gamma=0.01, kernel=linear;, score=0.931 total time=   0.5s\n",
            "[CV 1/5; 37/50] START C=100, gamma=0.001, kernel=rbf............................\n",
            "[CV 1/5; 37/50] END C=100, gamma=0.001, kernel=rbf;, score=0.969 total time=   0.0s\n",
            "[CV 2/5; 37/50] START C=100, gamma=0.001, kernel=rbf............................\n",
            "[CV 2/5; 37/50] END C=100, gamma=0.001, kernel=rbf;, score=0.950 total time=   0.0s\n",
            "[CV 3/5; 37/50] START C=100, gamma=0.001, kernel=rbf............................\n",
            "[CV 3/5; 37/50] END C=100, gamma=0.001, kernel=rbf;, score=0.944 total time=   0.0s\n",
            "[CV 4/5; 37/50] START C=100, gamma=0.001, kernel=rbf............................\n",
            "[CV 4/5; 37/50] END C=100, gamma=0.001, kernel=rbf;, score=0.931 total time=   0.0s\n",
            "[CV 5/5; 37/50] START C=100, gamma=0.001, kernel=rbf............................\n",
            "[CV 5/5; 37/50] END C=100, gamma=0.001, kernel=rbf;, score=0.963 total time=   0.0s\n",
            "[CV 1/5; 38/50] START C=100, gamma=0.001, kernel=linear.........................\n",
            "[CV 1/5; 38/50] END C=100, gamma=0.001, kernel=linear;, score=0.931 total time=   0.8s\n",
            "[CV 2/5; 38/50] START C=100, gamma=0.001, kernel=linear.........................\n",
            "[CV 2/5; 38/50] END C=100, gamma=0.001, kernel=linear;, score=0.925 total time=   0.7s\n",
            "[CV 3/5; 38/50] START C=100, gamma=0.001, kernel=linear.........................\n",
            "[CV 3/5; 38/50] END C=100, gamma=0.001, kernel=linear;, score=0.869 total time=   0.2s\n",
            "[CV 4/5; 38/50] START C=100, gamma=0.001, kernel=linear.........................\n",
            "[CV 4/5; 38/50] END C=100, gamma=0.001, kernel=linear;, score=0.919 total time=   0.2s\n",
            "[CV 5/5; 38/50] START C=100, gamma=0.001, kernel=linear.........................\n",
            "[CV 5/5; 38/50] END C=100, gamma=0.001, kernel=linear;, score=0.931 total time=   0.5s\n",
            "[CV 1/5; 39/50] START C=100, gamma=0.0001, kernel=rbf...........................\n",
            "[CV 1/5; 39/50] END C=100, gamma=0.0001, kernel=rbf;, score=0.869 total time=   0.0s\n",
            "[CV 2/5; 39/50] START C=100, gamma=0.0001, kernel=rbf...........................\n",
            "[CV 2/5; 39/50] END C=100, gamma=0.0001, kernel=rbf;, score=0.894 total time=   0.0s\n",
            "[CV 3/5; 39/50] START C=100, gamma=0.0001, kernel=rbf...........................\n",
            "[CV 3/5; 39/50] END C=100, gamma=0.0001, kernel=rbf;, score=0.800 total time=   0.0s\n",
            "[CV 4/5; 39/50] START C=100, gamma=0.0001, kernel=rbf...........................\n",
            "[CV 4/5; 39/50] END C=100, gamma=0.0001, kernel=rbf;, score=0.869 total time=   0.0s\n",
            "[CV 5/5; 39/50] START C=100, gamma=0.0001, kernel=rbf...........................\n",
            "[CV 5/5; 39/50] END C=100, gamma=0.0001, kernel=rbf;, score=0.844 total time=   0.0s\n",
            "[CV 1/5; 40/50] START C=100, gamma=0.0001, kernel=linear........................\n",
            "[CV 1/5; 40/50] END C=100, gamma=0.0001, kernel=linear;, score=0.931 total time=   0.8s\n",
            "[CV 2/5; 40/50] START C=100, gamma=0.0001, kernel=linear........................\n",
            "[CV 2/5; 40/50] END C=100, gamma=0.0001, kernel=linear;, score=0.925 total time=   0.6s\n",
            "[CV 3/5; 40/50] START C=100, gamma=0.0001, kernel=linear........................\n",
            "[CV 3/5; 40/50] END C=100, gamma=0.0001, kernel=linear;, score=0.869 total time=   0.2s\n",
            "[CV 4/5; 40/50] START C=100, gamma=0.0001, kernel=linear........................\n",
            "[CV 4/5; 40/50] END C=100, gamma=0.0001, kernel=linear;, score=0.919 total time=   0.2s\n",
            "[CV 5/5; 40/50] START C=100, gamma=0.0001, kernel=linear........................\n",
            "[CV 5/5; 40/50] END C=100, gamma=0.0001, kernel=linear;, score=0.931 total time=   0.5s\n",
            "[CV 1/5; 41/50] START C=1000, gamma=1, kernel=rbf...............................\n",
            "[CV 1/5; 41/50] END C=1000, gamma=1, kernel=rbf;, score=0.919 total time=   0.1s\n",
            "[CV 2/5; 41/50] START C=1000, gamma=1, kernel=rbf...............................\n",
            "[CV 2/5; 41/50] END C=1000, gamma=1, kernel=rbf;, score=0.881 total time=   0.1s\n",
            "[CV 3/5; 41/50] START C=1000, gamma=1, kernel=rbf...............................\n",
            "[CV 3/5; 41/50] END C=1000, gamma=1, kernel=rbf;, score=0.887 total time=   0.1s\n",
            "[CV 4/5; 41/50] START C=1000, gamma=1, kernel=rbf...............................\n",
            "[CV 4/5; 41/50] END C=1000, gamma=1, kernel=rbf;, score=0.931 total time=   0.1s\n",
            "[CV 5/5; 41/50] START C=1000, gamma=1, kernel=rbf...............................\n",
            "[CV 5/5; 41/50] END C=1000, gamma=1, kernel=rbf;, score=0.912 total time=   0.1s\n",
            "[CV 1/5; 42/50] START C=1000, gamma=1, kernel=linear............................\n",
            "[CV 1/5; 42/50] END C=1000, gamma=1, kernel=linear;, score=0.931 total time=   5.2s\n",
            "[CV 2/5; 42/50] START C=1000, gamma=1, kernel=linear............................\n",
            "[CV 2/5; 42/50] END C=1000, gamma=1, kernel=linear;, score=0.931 total time=   7.1s\n",
            "[CV 3/5; 42/50] START C=1000, gamma=1, kernel=linear............................\n",
            "[CV 3/5; 42/50] END C=1000, gamma=1, kernel=linear;, score=0.881 total time=   7.6s\n",
            "[CV 4/5; 42/50] START C=1000, gamma=1, kernel=linear............................\n",
            "[CV 4/5; 42/50] END C=1000, gamma=1, kernel=linear;, score=0.938 total time=   3.7s\n",
            "[CV 5/5; 42/50] START C=1000, gamma=1, kernel=linear............................\n",
            "[CV 5/5; 42/50] END C=1000, gamma=1, kernel=linear;, score=0.938 total time=   3.9s\n",
            "[CV 1/5; 43/50] START C=1000, gamma=0.1, kernel=rbf.............................\n",
            "[CV 1/5; 43/50] END C=1000, gamma=0.1, kernel=rbf;, score=0.988 total time=   0.0s\n",
            "[CV 2/5; 43/50] START C=1000, gamma=0.1, kernel=rbf.............................\n",
            "[CV 2/5; 43/50] END C=1000, gamma=0.1, kernel=rbf;, score=0.994 total time=   0.0s\n",
            "[CV 3/5; 43/50] START C=1000, gamma=0.1, kernel=rbf.............................\n",
            "[CV 3/5; 43/50] END C=1000, gamma=0.1, kernel=rbf;, score=0.956 total time=   0.0s\n",
            "[CV 4/5; 43/50] START C=1000, gamma=0.1, kernel=rbf.............................\n",
            "[CV 4/5; 43/50] END C=1000, gamma=0.1, kernel=rbf;, score=0.981 total time=   0.0s\n",
            "[CV 5/5; 43/50] START C=1000, gamma=0.1, kernel=rbf.............................\n",
            "[CV 5/5; 43/50] END C=1000, gamma=0.1, kernel=rbf;, score=0.988 total time=   0.0s\n",
            "[CV 1/5; 44/50] START C=1000, gamma=0.1, kernel=linear..........................\n",
            "[CV 1/5; 44/50] END C=1000, gamma=0.1, kernel=linear;, score=0.931 total time=   5.2s\n",
            "[CV 2/5; 44/50] START C=1000, gamma=0.1, kernel=linear..........................\n",
            "[CV 2/5; 44/50] END C=1000, gamma=0.1, kernel=linear;, score=0.931 total time=   7.0s\n",
            "[CV 3/5; 44/50] START C=1000, gamma=0.1, kernel=linear..........................\n",
            "[CV 3/5; 44/50] END C=1000, gamma=0.1, kernel=linear;, score=0.881 total time=   7.5s\n",
            "[CV 4/5; 44/50] START C=1000, gamma=0.1, kernel=linear..........................\n",
            "[CV 4/5; 44/50] END C=1000, gamma=0.1, kernel=linear;, score=0.938 total time=   3.6s\n",
            "[CV 5/5; 44/50] START C=1000, gamma=0.1, kernel=linear..........................\n",
            "[CV 5/5; 44/50] END C=1000, gamma=0.1, kernel=linear;, score=0.938 total time=   3.8s\n",
            "[CV 1/5; 45/50] START C=1000, gamma=0.01, kernel=rbf............................\n",
            "[CV 1/5; 45/50] END C=1000, gamma=0.01, kernel=rbf;, score=0.994 total time=   0.0s\n",
            "[CV 2/5; 45/50] START C=1000, gamma=0.01, kernel=rbf............................\n",
            "[CV 2/5; 45/50] END C=1000, gamma=0.01, kernel=rbf;, score=0.988 total time=   0.0s\n",
            "[CV 3/5; 45/50] START C=1000, gamma=0.01, kernel=rbf............................\n",
            "[CV 3/5; 45/50] END C=1000, gamma=0.01, kernel=rbf;, score=0.981 total time=   0.0s\n",
            "[CV 4/5; 45/50] START C=1000, gamma=0.01, kernel=rbf............................\n",
            "[CV 4/5; 45/50] END C=1000, gamma=0.01, kernel=rbf;, score=0.981 total time=   0.0s\n",
            "[CV 5/5; 45/50] START C=1000, gamma=0.01, kernel=rbf............................\n",
            "[CV 5/5; 45/50] END C=1000, gamma=0.01, kernel=rbf;, score=0.988 total time=   0.0s\n",
            "[CV 1/5; 46/50] START C=1000, gamma=0.01, kernel=linear.........................\n",
            "[CV 1/5; 46/50] END C=1000, gamma=0.01, kernel=linear;, score=0.931 total time=   5.1s\n",
            "[CV 2/5; 46/50] START C=1000, gamma=0.01, kernel=linear.........................\n",
            "[CV 2/5; 46/50] END C=1000, gamma=0.01, kernel=linear;, score=0.931 total time=   7.0s\n",
            "[CV 3/5; 46/50] START C=1000, gamma=0.01, kernel=linear.........................\n",
            "[CV 3/5; 46/50] END C=1000, gamma=0.01, kernel=linear;, score=0.881 total time=   7.5s\n",
            "[CV 4/5; 46/50] START C=1000, gamma=0.01, kernel=linear.........................\n",
            "[CV 4/5; 46/50] END C=1000, gamma=0.01, kernel=linear;, score=0.938 total time=   3.6s\n",
            "[CV 5/5; 46/50] START C=1000, gamma=0.01, kernel=linear.........................\n",
            "[CV 5/5; 46/50] END C=1000, gamma=0.01, kernel=linear;, score=0.938 total time=   3.8s\n",
            "[CV 1/5; 47/50] START C=1000, gamma=0.001, kernel=rbf...........................\n",
            "[CV 1/5; 47/50] END C=1000, gamma=0.001, kernel=rbf;, score=0.969 total time=   0.0s\n",
            "[CV 2/5; 47/50] START C=1000, gamma=0.001, kernel=rbf...........................\n",
            "[CV 2/5; 47/50] END C=1000, gamma=0.001, kernel=rbf;, score=0.981 total time=   0.0s\n",
            "[CV 3/5; 47/50] START C=1000, gamma=0.001, kernel=rbf...........................\n",
            "[CV 3/5; 47/50] END C=1000, gamma=0.001, kernel=rbf;, score=0.963 total time=   0.0s\n",
            "[CV 4/5; 47/50] START C=1000, gamma=0.001, kernel=rbf...........................\n",
            "[CV 4/5; 47/50] END C=1000, gamma=0.001, kernel=rbf;, score=0.944 total time=   0.0s\n",
            "[CV 5/5; 47/50] START C=1000, gamma=0.001, kernel=rbf...........................\n",
            "[CV 5/5; 47/50] END C=1000, gamma=0.001, kernel=rbf;, score=0.981 total time=   0.0s\n",
            "[CV 1/5; 48/50] START C=1000, gamma=0.001, kernel=linear........................\n",
            "[CV 1/5; 48/50] END C=1000, gamma=0.001, kernel=linear;, score=0.931 total time=   5.2s\n",
            "[CV 2/5; 48/50] START C=1000, gamma=0.001, kernel=linear........................\n",
            "[CV 2/5; 48/50] END C=1000, gamma=0.001, kernel=linear;, score=0.931 total time=   7.1s\n",
            "[CV 3/5; 48/50] START C=1000, gamma=0.001, kernel=linear........................\n",
            "[CV 3/5; 48/50] END C=1000, gamma=0.001, kernel=linear;, score=0.881 total time=   7.7s\n",
            "[CV 4/5; 48/50] START C=1000, gamma=0.001, kernel=linear........................\n",
            "[CV 4/5; 48/50] END C=1000, gamma=0.001, kernel=linear;, score=0.938 total time=   3.7s\n",
            "[CV 5/5; 48/50] START C=1000, gamma=0.001, kernel=linear........................\n",
            "[CV 5/5; 48/50] END C=1000, gamma=0.001, kernel=linear;, score=0.938 total time=   3.9s\n",
            "[CV 1/5; 49/50] START C=1000, gamma=0.0001, kernel=rbf..........................\n",
            "[CV 1/5; 49/50] END C=1000, gamma=0.0001, kernel=rbf;, score=0.950 total time=   0.0s\n",
            "[CV 2/5; 49/50] START C=1000, gamma=0.0001, kernel=rbf..........................\n",
            "[CV 2/5; 49/50] END C=1000, gamma=0.0001, kernel=rbf;, score=0.950 total time=   0.0s\n",
            "[CV 3/5; 49/50] START C=1000, gamma=0.0001, kernel=rbf..........................\n",
            "[CV 3/5; 49/50] END C=1000, gamma=0.0001, kernel=rbf;, score=0.894 total time=   0.0s\n",
            "[CV 4/5; 49/50] START C=1000, gamma=0.0001, kernel=rbf..........................\n",
            "[CV 4/5; 49/50] END C=1000, gamma=0.0001, kernel=rbf;, score=0.919 total time=   0.0s\n",
            "[CV 5/5; 49/50] START C=1000, gamma=0.0001, kernel=rbf..........................\n",
            "[CV 5/5; 49/50] END C=1000, gamma=0.0001, kernel=rbf;, score=0.931 total time=   0.0s\n",
            "[CV 1/5; 50/50] START C=1000, gamma=0.0001, kernel=linear.......................\n",
            "[CV 1/5; 50/50] END C=1000, gamma=0.0001, kernel=linear;, score=0.931 total time=   5.1s\n",
            "[CV 2/5; 50/50] START C=1000, gamma=0.0001, kernel=linear.......................\n",
            "[CV 2/5; 50/50] END C=1000, gamma=0.0001, kernel=linear;, score=0.931 total time=   7.0s\n",
            "[CV 3/5; 50/50] START C=1000, gamma=0.0001, kernel=linear.......................\n",
            "[CV 3/5; 50/50] END C=1000, gamma=0.0001, kernel=linear;, score=0.881 total time=   7.6s\n",
            "[CV 4/5; 50/50] START C=1000, gamma=0.0001, kernel=linear.......................\n",
            "[CV 4/5; 50/50] END C=1000, gamma=0.0001, kernel=linear;, score=0.938 total time=   3.7s\n",
            "[CV 5/5; 50/50] START C=1000, gamma=0.0001, kernel=linear.......................\n",
            "[CV 5/5; 50/50] END C=1000, gamma=0.0001, kernel=linear;, score=0.938 total time=   3.8s\n"
          ]
        },
        {
          "output_type": "execute_result",
          "data": {
            "text/plain": [
              "GridSearchCV(estimator=SVC(),\n",
              "             param_grid={'C': [0.1, 1, 10, 100, 1000],\n",
              "                         'gamma': [1, 0.1, 0.01, 0.001, 0.0001],\n",
              "                         'kernel': ['rbf', 'linear']},\n",
              "             scoring='accuracy', verbose=10)"
            ]
          },
          "metadata": {},
          "execution_count": 67
        }
      ]
    },
    {
      "cell_type": "code",
      "source": [
        "# print best parameter after tuning\n",
        "print(grid.best_params_)\n",
        "  \n",
        "# print how our model looks after hyper-parameter tuning\n",
        "print(grid.best_estimator_)"
      ],
      "metadata": {
        "colab": {
          "base_uri": "https://localhost:8080/"
        },
        "id": "_lTgMziAQTyL",
        "outputId": "4b38666f-c7fa-48ea-ba8a-ff161c56d277"
      },
      "execution_count": null,
      "outputs": [
        {
          "output_type": "stream",
          "name": "stdout",
          "text": [
            "{'C': 1000, 'gamma': 0.01, 'kernel': 'rbf'}\n",
            "SVC(C=1000, gamma=0.01)\n"
          ]
        }
      ]
    },
    {
      "cell_type": "code",
      "source": [
        "Dataframe = pd.DataFrame(grid.cv_results_)\n",
        "Dataframe = Dataframe.drop(['std_test_score','split4_test_score','split3_test_score','split2_test_score','split1_test_score','split0_test_score','params','std_score_time','mean_score_time','std_fit_time','mean_fit_time'],axis=1)\n",
        "Dataframe.sort_values('rank_test_score', ascending=\"True\")\n",
        "csvpak = Dataframe.sort_values('rank_test_score', ascending=\"True\")\n",
        "csvpak.to_csv('datatuning.csv')"
      ],
      "metadata": {
        "id": "ZzNyQNuJQUar"
      },
      "execution_count": null,
      "outputs": []
    },
    {
      "cell_type": "code",
      "source": [
        "grid_predictions = grid.predict(X_test)\n",
        "\n",
        "print(confusion_matrix(y1_test, grid_predictions))  \n",
        "# print classification report\n",
        "print(classification_report(y1_test, grid_predictions, target_names=['Sinyal AS', 'Sinyal MR','Sinyal MS','Sinyal MVP','Sinyal N']))\n",
        "print(\"Accuracy : \",accuracy_score(y1_test, grid_predictions))"
      ],
      "metadata": {
        "colab": {
          "base_uri": "https://localhost:8080/"
        },
        "id": "sGGlFVLQQV8v",
        "outputId": "67c39922-165c-44a4-b1b7-0cac0553d484"
      },
      "execution_count": null,
      "outputs": [
        {
          "output_type": "stream",
          "name": "stdout",
          "text": [
            "[[35  0  0  0  0]\n",
            " [ 0 46  0  0  0]\n",
            " [ 0  0 43  0  0]\n",
            " [ 1  0  0 36  0]\n",
            " [ 0  0  0  0 39]]\n",
            "              precision    recall  f1-score   support\n",
            "\n",
            "   Sinyal AS       0.97      1.00      0.99        35\n",
            "   Sinyal MR       1.00      1.00      1.00        46\n",
            "   Sinyal MS       1.00      1.00      1.00        43\n",
            "  Sinyal MVP       1.00      0.97      0.99        37\n",
            "    Sinyal N       1.00      1.00      1.00        39\n",
            "\n",
            "    accuracy                           0.99       200\n",
            "   macro avg       0.99      0.99      0.99       200\n",
            "weighted avg       1.00      0.99      1.00       200\n",
            "\n",
            "Accuracy :  0.995\n"
          ]
        }
      ]
    },
    {
      "cell_type": "code",
      "source": [
        "sensitivity, specificity, accuracy = calculate_sensitivity_specificity(y1_test, grid_predictions)\n",
        "print ('Sensitivity:', sensitivity)\n",
        "print ('Specificity:', specificity)\n",
        "print ('Accuracy:', accuracy)"
      ],
      "metadata": {
        "colab": {
          "base_uri": "https://localhost:8080/"
        },
        "id": "Ireyg_nnQXdG",
        "outputId": "d3c128c7-cb04-4830-e89f-91d9a56e7bd3"
      },
      "execution_count": null,
      "outputs": [
        {
          "output_type": "stream",
          "name": "stdout",
          "text": [
            "Sensitivity: 1.0\n",
            "Specificity: 1.0\n",
            "Accuracy: 0.995\n"
          ]
        }
      ]
    },
    {
      "cell_type": "code",
      "source": [
        "#no pca\n",
        "from sklearn import svm\n",
        "from sklearn.model_selection import GridSearchCV\n",
        "  \n",
        "# defining parameter range\n",
        "param_grid = {'C': [0.1, 1, 10, 100, 1000], \n",
        "              'gamma': [1, 0.1, 0.01, 0.001, 0.0001],\n",
        "              'kernel': ['rbf','linear']} \n",
        "  \n",
        "grid = GridSearchCV(svm.SVC(), param_grid, refit = True, verbose = 10, scoring='accuracy')\n",
        "  \n",
        "# fitting the model for grid search\n",
        "grid.fit(X1_train, y1_train)"
      ],
      "metadata": {
        "colab": {
          "base_uri": "https://localhost:8080/"
        },
        "id": "POj2ahGLQYyj",
        "outputId": "2ab79c60-7178-49e0-a934-23328c3e9f2a"
      },
      "execution_count": null,
      "outputs": [
        {
          "output_type": "stream",
          "name": "stdout",
          "text": [
            "Fitting 5 folds for each of 50 candidates, totalling 250 fits\n",
            "[CV 1/5; 1/50] START C=0.1, gamma=1, kernel=rbf.................................\n",
            "[CV 1/5; 1/50] END ..C=0.1, gamma=1, kernel=rbf;, score=0.381 total time=   0.1s\n",
            "[CV 2/5; 1/50] START C=0.1, gamma=1, kernel=rbf.................................\n",
            "[CV 2/5; 1/50] END ..C=0.1, gamma=1, kernel=rbf;, score=0.338 total time=   0.1s\n",
            "[CV 3/5; 1/50] START C=0.1, gamma=1, kernel=rbf.................................\n",
            "[CV 3/5; 1/50] END ..C=0.1, gamma=1, kernel=rbf;, score=0.381 total time=   0.1s\n",
            "[CV 4/5; 1/50] START C=0.1, gamma=1, kernel=rbf.................................\n",
            "[CV 4/5; 1/50] END ..C=0.1, gamma=1, kernel=rbf;, score=0.356 total time=   0.1s\n",
            "[CV 5/5; 1/50] START C=0.1, gamma=1, kernel=rbf.................................\n",
            "[CV 5/5; 1/50] END ..C=0.1, gamma=1, kernel=rbf;, score=0.319 total time=   0.1s\n",
            "[CV 1/5; 2/50] START C=0.1, gamma=1, kernel=linear..............................\n",
            "[CV 1/5; 2/50] END C=0.1, gamma=1, kernel=linear;, score=0.906 total time=   0.0s\n",
            "[CV 2/5; 2/50] START C=0.1, gamma=1, kernel=linear..............................\n",
            "[CV 2/5; 2/50] END C=0.1, gamma=1, kernel=linear;, score=0.938 total time=   0.0s\n",
            "[CV 3/5; 2/50] START C=0.1, gamma=1, kernel=linear..............................\n",
            "[CV 3/5; 2/50] END C=0.1, gamma=1, kernel=linear;, score=0.875 total time=   0.0s\n",
            "[CV 4/5; 2/50] START C=0.1, gamma=1, kernel=linear..............................\n",
            "[CV 4/5; 2/50] END C=0.1, gamma=1, kernel=linear;, score=0.887 total time=   0.0s\n",
            "[CV 5/5; 2/50] START C=0.1, gamma=1, kernel=linear..............................\n",
            "[CV 5/5; 2/50] END C=0.1, gamma=1, kernel=linear;, score=0.881 total time=   0.0s\n",
            "[CV 1/5; 3/50] START C=0.1, gamma=0.1, kernel=rbf...............................\n",
            "[CV 1/5; 3/50] END C=0.1, gamma=0.1, kernel=rbf;, score=0.819 total time=   0.0s\n",
            "[CV 2/5; 3/50] START C=0.1, gamma=0.1, kernel=rbf...............................\n",
            "[CV 2/5; 3/50] END C=0.1, gamma=0.1, kernel=rbf;, score=0.856 total time=   0.0s\n",
            "[CV 3/5; 3/50] START C=0.1, gamma=0.1, kernel=rbf...............................\n",
            "[CV 3/5; 3/50] END C=0.1, gamma=0.1, kernel=rbf;, score=0.769 total time=   0.0s\n",
            "[CV 4/5; 3/50] START C=0.1, gamma=0.1, kernel=rbf...............................\n",
            "[CV 4/5; 3/50] END C=0.1, gamma=0.1, kernel=rbf;, score=0.863 total time=   0.0s\n",
            "[CV 5/5; 3/50] START C=0.1, gamma=0.1, kernel=rbf...............................\n",
            "[CV 5/5; 3/50] END C=0.1, gamma=0.1, kernel=rbf;, score=0.844 total time=   0.0s\n",
            "[CV 1/5; 4/50] START C=0.1, gamma=0.1, kernel=linear............................\n",
            "[CV 1/5; 4/50] END C=0.1, gamma=0.1, kernel=linear;, score=0.906 total time=   0.0s\n",
            "[CV 2/5; 4/50] START C=0.1, gamma=0.1, kernel=linear............................\n",
            "[CV 2/5; 4/50] END C=0.1, gamma=0.1, kernel=linear;, score=0.938 total time=   0.0s\n",
            "[CV 3/5; 4/50] START C=0.1, gamma=0.1, kernel=linear............................\n",
            "[CV 3/5; 4/50] END C=0.1, gamma=0.1, kernel=linear;, score=0.875 total time=   0.0s\n",
            "[CV 4/5; 4/50] START C=0.1, gamma=0.1, kernel=linear............................\n",
            "[CV 4/5; 4/50] END C=0.1, gamma=0.1, kernel=linear;, score=0.887 total time=   0.0s\n",
            "[CV 5/5; 4/50] START C=0.1, gamma=0.1, kernel=linear............................\n",
            "[CV 5/5; 4/50] END C=0.1, gamma=0.1, kernel=linear;, score=0.881 total time=   0.0s\n",
            "[CV 1/5; 5/50] START C=0.1, gamma=0.01, kernel=rbf..............................\n",
            "[CV 1/5; 5/50] END C=0.1, gamma=0.01, kernel=rbf;, score=0.719 total time=   0.1s\n",
            "[CV 2/5; 5/50] START C=0.1, gamma=0.01, kernel=rbf..............................\n",
            "[CV 2/5; 5/50] END C=0.1, gamma=0.01, kernel=rbf;, score=0.700 total time=   0.0s\n",
            "[CV 3/5; 5/50] START C=0.1, gamma=0.01, kernel=rbf..............................\n",
            "[CV 3/5; 5/50] END C=0.1, gamma=0.01, kernel=rbf;, score=0.669 total time=   0.0s\n",
            "[CV 4/5; 5/50] START C=0.1, gamma=0.01, kernel=rbf..............................\n",
            "[CV 4/5; 5/50] END C=0.1, gamma=0.01, kernel=rbf;, score=0.762 total time=   0.1s\n",
            "[CV 5/5; 5/50] START C=0.1, gamma=0.01, kernel=rbf..............................\n",
            "[CV 5/5; 5/50] END C=0.1, gamma=0.01, kernel=rbf;, score=0.731 total time=   0.1s\n",
            "[CV 1/5; 6/50] START C=0.1, gamma=0.01, kernel=linear...........................\n",
            "[CV 1/5; 6/50] END C=0.1, gamma=0.01, kernel=linear;, score=0.906 total time=   0.0s\n",
            "[CV 2/5; 6/50] START C=0.1, gamma=0.01, kernel=linear...........................\n",
            "[CV 2/5; 6/50] END C=0.1, gamma=0.01, kernel=linear;, score=0.938 total time=   0.0s\n",
            "[CV 3/5; 6/50] START C=0.1, gamma=0.01, kernel=linear...........................\n",
            "[CV 3/5; 6/50] END C=0.1, gamma=0.01, kernel=linear;, score=0.875 total time=   0.0s\n",
            "[CV 4/5; 6/50] START C=0.1, gamma=0.01, kernel=linear...........................\n",
            "[CV 4/5; 6/50] END C=0.1, gamma=0.01, kernel=linear;, score=0.887 total time=   0.0s\n",
            "[CV 5/5; 6/50] START C=0.1, gamma=0.01, kernel=linear...........................\n",
            "[CV 5/5; 6/50] END C=0.1, gamma=0.01, kernel=linear;, score=0.881 total time=   0.0s\n",
            "[CV 1/5; 7/50] START C=0.1, gamma=0.001, kernel=rbf.............................\n",
            "[CV 1/5; 7/50] END C=0.1, gamma=0.001, kernel=rbf;, score=0.269 total time=   0.1s\n",
            "[CV 2/5; 7/50] START C=0.1, gamma=0.001, kernel=rbf.............................\n",
            "[CV 2/5; 7/50] END C=0.1, gamma=0.001, kernel=rbf;, score=0.331 total time=   0.1s\n",
            "[CV 3/5; 7/50] START C=0.1, gamma=0.001, kernel=rbf.............................\n",
            "[CV 3/5; 7/50] END C=0.1, gamma=0.001, kernel=rbf;, score=0.319 total time=   0.1s\n",
            "[CV 4/5; 7/50] START C=0.1, gamma=0.001, kernel=rbf.............................\n",
            "[CV 4/5; 7/50] END C=0.1, gamma=0.001, kernel=rbf;, score=0.312 total time=   0.1s\n",
            "[CV 5/5; 7/50] START C=0.1, gamma=0.001, kernel=rbf.............................\n",
            "[CV 5/5; 7/50] END C=0.1, gamma=0.001, kernel=rbf;, score=0.344 total time=   0.1s\n",
            "[CV 1/5; 8/50] START C=0.1, gamma=0.001, kernel=linear..........................\n",
            "[CV 1/5; 8/50] END C=0.1, gamma=0.001, kernel=linear;, score=0.906 total time=   0.0s\n",
            "[CV 2/5; 8/50] START C=0.1, gamma=0.001, kernel=linear..........................\n",
            "[CV 2/5; 8/50] END C=0.1, gamma=0.001, kernel=linear;, score=0.938 total time=   0.0s\n",
            "[CV 3/5; 8/50] START C=0.1, gamma=0.001, kernel=linear..........................\n",
            "[CV 3/5; 8/50] END C=0.1, gamma=0.001, kernel=linear;, score=0.875 total time=   0.0s\n",
            "[CV 4/5; 8/50] START C=0.1, gamma=0.001, kernel=linear..........................\n",
            "[CV 4/5; 8/50] END C=0.1, gamma=0.001, kernel=linear;, score=0.887 total time=   0.0s\n",
            "[CV 5/5; 8/50] START C=0.1, gamma=0.001, kernel=linear..........................\n",
            "[CV 5/5; 8/50] END C=0.1, gamma=0.001, kernel=linear;, score=0.881 total time=   0.0s\n",
            "[CV 1/5; 9/50] START C=0.1, gamma=0.0001, kernel=rbf............................\n",
            "[CV 1/5; 9/50] END C=0.1, gamma=0.0001, kernel=rbf;, score=0.206 total time=   0.1s\n",
            "[CV 2/5; 9/50] START C=0.1, gamma=0.0001, kernel=rbf............................\n",
            "[CV 2/5; 9/50] END C=0.1, gamma=0.0001, kernel=rbf;, score=0.206 total time=   0.1s\n",
            "[CV 3/5; 9/50] START C=0.1, gamma=0.0001, kernel=rbf............................\n",
            "[CV 3/5; 9/50] END C=0.1, gamma=0.0001, kernel=rbf;, score=0.206 total time=   0.1s\n",
            "[CV 4/5; 9/50] START C=0.1, gamma=0.0001, kernel=rbf............................\n",
            "[CV 4/5; 9/50] END C=0.1, gamma=0.0001, kernel=rbf;, score=0.206 total time=   0.1s\n",
            "[CV 5/5; 9/50] START C=0.1, gamma=0.0001, kernel=rbf............................\n",
            "[CV 5/5; 9/50] END C=0.1, gamma=0.0001, kernel=rbf;, score=0.206 total time=   0.1s\n",
            "[CV 1/5; 10/50] START C=0.1, gamma=0.0001, kernel=linear........................\n",
            "[CV 1/5; 10/50] END C=0.1, gamma=0.0001, kernel=linear;, score=0.906 total time=   0.0s\n",
            "[CV 2/5; 10/50] START C=0.1, gamma=0.0001, kernel=linear........................\n",
            "[CV 2/5; 10/50] END C=0.1, gamma=0.0001, kernel=linear;, score=0.938 total time=   0.0s\n",
            "[CV 3/5; 10/50] START C=0.1, gamma=0.0001, kernel=linear........................\n",
            "[CV 3/5; 10/50] END C=0.1, gamma=0.0001, kernel=linear;, score=0.875 total time=   0.0s\n",
            "[CV 4/5; 10/50] START C=0.1, gamma=0.0001, kernel=linear........................\n",
            "[CV 4/5; 10/50] END C=0.1, gamma=0.0001, kernel=linear;, score=0.887 total time=   0.0s\n",
            "[CV 5/5; 10/50] START C=0.1, gamma=0.0001, kernel=linear........................\n",
            "[CV 5/5; 10/50] END C=0.1, gamma=0.0001, kernel=linear;, score=0.881 total time=   0.0s\n",
            "[CV 1/5; 11/50] START C=1, gamma=1, kernel=rbf..................................\n",
            "[CV 1/5; 11/50] END ...C=1, gamma=1, kernel=rbf;, score=0.906 total time=   0.1s\n",
            "[CV 2/5; 11/50] START C=1, gamma=1, kernel=rbf..................................\n",
            "[CV 2/5; 11/50] END ...C=1, gamma=1, kernel=rbf;, score=0.881 total time=   0.1s\n",
            "[CV 3/5; 11/50] START C=1, gamma=1, kernel=rbf..................................\n",
            "[CV 3/5; 11/50] END ...C=1, gamma=1, kernel=rbf;, score=0.881 total time=   0.1s\n",
            "[CV 4/5; 11/50] START C=1, gamma=1, kernel=rbf..................................\n",
            "[CV 4/5; 11/50] END ...C=1, gamma=1, kernel=rbf;, score=0.925 total time=   0.1s\n",
            "[CV 5/5; 11/50] START C=1, gamma=1, kernel=rbf..................................\n",
            "[CV 5/5; 11/50] END ...C=1, gamma=1, kernel=rbf;, score=0.906 total time=   0.1s\n",
            "[CV 1/5; 12/50] START C=1, gamma=1, kernel=linear...............................\n",
            "[CV 1/5; 12/50] END C=1, gamma=1, kernel=linear;, score=0.925 total time=   0.0s\n",
            "[CV 2/5; 12/50] START C=1, gamma=1, kernel=linear...............................\n",
            "[CV 2/5; 12/50] END C=1, gamma=1, kernel=linear;, score=0.944 total time=   0.0s\n",
            "[CV 3/5; 12/50] START C=1, gamma=1, kernel=linear...............................\n",
            "[CV 3/5; 12/50] END C=1, gamma=1, kernel=linear;, score=0.856 total time=   0.0s\n",
            "[CV 4/5; 12/50] START C=1, gamma=1, kernel=linear...............................\n",
            "[CV 4/5; 12/50] END C=1, gamma=1, kernel=linear;, score=0.919 total time=   0.0s\n",
            "[CV 5/5; 12/50] START C=1, gamma=1, kernel=linear...............................\n",
            "[CV 5/5; 12/50] END C=1, gamma=1, kernel=linear;, score=0.919 total time=   0.0s\n",
            "[CV 1/5; 13/50] START C=1, gamma=0.1, kernel=rbf................................\n",
            "[CV 1/5; 13/50] END .C=1, gamma=0.1, kernel=rbf;, score=0.988 total time=   0.0s\n",
            "[CV 2/5; 13/50] START C=1, gamma=0.1, kernel=rbf................................\n",
            "[CV 2/5; 13/50] END .C=1, gamma=0.1, kernel=rbf;, score=0.994 total time=   0.0s\n",
            "[CV 3/5; 13/50] START C=1, gamma=0.1, kernel=rbf................................\n",
            "[CV 3/5; 13/50] END .C=1, gamma=0.1, kernel=rbf;, score=0.963 total time=   0.0s\n",
            "[CV 4/5; 13/50] START C=1, gamma=0.1, kernel=rbf................................\n",
            "[CV 4/5; 13/50] END .C=1, gamma=0.1, kernel=rbf;, score=0.975 total time=   0.0s\n",
            "[CV 5/5; 13/50] START C=1, gamma=0.1, kernel=rbf................................\n",
            "[CV 5/5; 13/50] END .C=1, gamma=0.1, kernel=rbf;, score=0.988 total time=   0.0s\n",
            "[CV 1/5; 14/50] START C=1, gamma=0.1, kernel=linear.............................\n",
            "[CV 1/5; 14/50] END C=1, gamma=0.1, kernel=linear;, score=0.925 total time=   0.0s\n",
            "[CV 2/5; 14/50] START C=1, gamma=0.1, kernel=linear.............................\n",
            "[CV 2/5; 14/50] END C=1, gamma=0.1, kernel=linear;, score=0.944 total time=   0.0s\n",
            "[CV 3/5; 14/50] START C=1, gamma=0.1, kernel=linear.............................\n",
            "[CV 3/5; 14/50] END C=1, gamma=0.1, kernel=linear;, score=0.856 total time=   0.0s\n",
            "[CV 4/5; 14/50] START C=1, gamma=0.1, kernel=linear.............................\n",
            "[CV 4/5; 14/50] END C=1, gamma=0.1, kernel=linear;, score=0.919 total time=   0.0s\n",
            "[CV 5/5; 14/50] START C=1, gamma=0.1, kernel=linear.............................\n",
            "[CV 5/5; 14/50] END C=1, gamma=0.1, kernel=linear;, score=0.919 total time=   0.0s\n",
            "[CV 1/5; 15/50] START C=1, gamma=0.01, kernel=rbf...............................\n",
            "[CV 1/5; 15/50] END C=1, gamma=0.01, kernel=rbf;, score=0.912 total time=   0.0s\n",
            "[CV 2/5; 15/50] START C=1, gamma=0.01, kernel=rbf...............................\n",
            "[CV 2/5; 15/50] END C=1, gamma=0.01, kernel=rbf;, score=0.912 total time=   0.0s\n",
            "[CV 3/5; 15/50] START C=1, gamma=0.01, kernel=rbf...............................\n",
            "[CV 3/5; 15/50] END C=1, gamma=0.01, kernel=rbf;, score=0.856 total time=   0.0s\n",
            "[CV 4/5; 15/50] START C=1, gamma=0.01, kernel=rbf...............................\n",
            "[CV 4/5; 15/50] END C=1, gamma=0.01, kernel=rbf;, score=0.900 total time=   0.0s\n",
            "[CV 5/5; 15/50] START C=1, gamma=0.01, kernel=rbf...............................\n",
            "[CV 5/5; 15/50] END C=1, gamma=0.01, kernel=rbf;, score=0.912 total time=   0.0s\n",
            "[CV 1/5; 16/50] START C=1, gamma=0.01, kernel=linear............................\n",
            "[CV 1/5; 16/50] END C=1, gamma=0.01, kernel=linear;, score=0.925 total time=   0.0s\n",
            "[CV 2/5; 16/50] START C=1, gamma=0.01, kernel=linear............................\n",
            "[CV 2/5; 16/50] END C=1, gamma=0.01, kernel=linear;, score=0.944 total time=   0.0s\n",
            "[CV 3/5; 16/50] START C=1, gamma=0.01, kernel=linear............................\n",
            "[CV 3/5; 16/50] END C=1, gamma=0.01, kernel=linear;, score=0.856 total time=   0.0s\n",
            "[CV 4/5; 16/50] START C=1, gamma=0.01, kernel=linear............................\n",
            "[CV 4/5; 16/50] END C=1, gamma=0.01, kernel=linear;, score=0.919 total time=   0.0s\n",
            "[CV 5/5; 16/50] START C=1, gamma=0.01, kernel=linear............................\n",
            "[CV 5/5; 16/50] END C=1, gamma=0.01, kernel=linear;, score=0.919 total time=   0.0s\n",
            "[CV 1/5; 17/50] START C=1, gamma=0.001, kernel=rbf..............................\n",
            "[CV 1/5; 17/50] END C=1, gamma=0.001, kernel=rbf;, score=0.725 total time=   0.0s\n",
            "[CV 2/5; 17/50] START C=1, gamma=0.001, kernel=rbf..............................\n",
            "[CV 2/5; 17/50] END C=1, gamma=0.001, kernel=rbf;, score=0.694 total time=   0.0s\n",
            "[CV 3/5; 17/50] START C=1, gamma=0.001, kernel=rbf..............................\n",
            "[CV 3/5; 17/50] END C=1, gamma=0.001, kernel=rbf;, score=0.700 total time=   0.0s\n",
            "[CV 4/5; 17/50] START C=1, gamma=0.001, kernel=rbf..............................\n",
            "[CV 4/5; 17/50] END C=1, gamma=0.001, kernel=rbf;, score=0.781 total time=   0.0s\n",
            "[CV 5/5; 17/50] START C=1, gamma=0.001, kernel=rbf..............................\n",
            "[CV 5/5; 17/50] END C=1, gamma=0.001, kernel=rbf;, score=0.694 total time=   0.0s\n",
            "[CV 1/5; 18/50] START C=1, gamma=0.001, kernel=linear...........................\n",
            "[CV 1/5; 18/50] END C=1, gamma=0.001, kernel=linear;, score=0.925 total time=   0.0s\n",
            "[CV 2/5; 18/50] START C=1, gamma=0.001, kernel=linear...........................\n",
            "[CV 2/5; 18/50] END C=1, gamma=0.001, kernel=linear;, score=0.944 total time=   0.0s\n",
            "[CV 3/5; 18/50] START C=1, gamma=0.001, kernel=linear...........................\n",
            "[CV 3/5; 18/50] END C=1, gamma=0.001, kernel=linear;, score=0.856 total time=   0.0s\n",
            "[CV 4/5; 18/50] START C=1, gamma=0.001, kernel=linear...........................\n",
            "[CV 4/5; 18/50] END C=1, gamma=0.001, kernel=linear;, score=0.919 total time=   0.0s\n",
            "[CV 5/5; 18/50] START C=1, gamma=0.001, kernel=linear...........................\n",
            "[CV 5/5; 18/50] END C=1, gamma=0.001, kernel=linear;, score=0.919 total time=   0.0s\n",
            "[CV 1/5; 19/50] START C=1, gamma=0.0001, kernel=rbf.............................\n",
            "[CV 1/5; 19/50] END C=1, gamma=0.0001, kernel=rbf;, score=0.256 total time=   0.1s\n",
            "[CV 2/5; 19/50] START C=1, gamma=0.0001, kernel=rbf.............................\n",
            "[CV 2/5; 19/50] END C=1, gamma=0.0001, kernel=rbf;, score=0.319 total time=   0.1s\n",
            "[CV 3/5; 19/50] START C=1, gamma=0.0001, kernel=rbf.............................\n",
            "[CV 3/5; 19/50] END C=1, gamma=0.0001, kernel=rbf;, score=0.325 total time=   0.1s\n",
            "[CV 4/5; 19/50] START C=1, gamma=0.0001, kernel=rbf.............................\n",
            "[CV 4/5; 19/50] END C=1, gamma=0.0001, kernel=rbf;, score=0.287 total time=   0.1s\n",
            "[CV 5/5; 19/50] START C=1, gamma=0.0001, kernel=rbf.............................\n",
            "[CV 5/5; 19/50] END C=1, gamma=0.0001, kernel=rbf;, score=0.325 total time=   0.1s\n",
            "[CV 1/5; 20/50] START C=1, gamma=0.0001, kernel=linear..........................\n",
            "[CV 1/5; 20/50] END C=1, gamma=0.0001, kernel=linear;, score=0.925 total time=   0.0s\n",
            "[CV 2/5; 20/50] START C=1, gamma=0.0001, kernel=linear..........................\n",
            "[CV 2/5; 20/50] END C=1, gamma=0.0001, kernel=linear;, score=0.944 total time=   0.0s\n",
            "[CV 3/5; 20/50] START C=1, gamma=0.0001, kernel=linear..........................\n",
            "[CV 3/5; 20/50] END C=1, gamma=0.0001, kernel=linear;, score=0.856 total time=   0.0s\n",
            "[CV 4/5; 20/50] START C=1, gamma=0.0001, kernel=linear..........................\n",
            "[CV 4/5; 20/50] END C=1, gamma=0.0001, kernel=linear;, score=0.919 total time=   0.0s\n",
            "[CV 5/5; 20/50] START C=1, gamma=0.0001, kernel=linear..........................\n",
            "[CV 5/5; 20/50] END C=1, gamma=0.0001, kernel=linear;, score=0.919 total time=   0.0s\n",
            "[CV 1/5; 21/50] START C=10, gamma=1, kernel=rbf.................................\n",
            "[CV 1/5; 21/50] END ..C=10, gamma=1, kernel=rbf;, score=0.919 total time=   0.1s\n",
            "[CV 2/5; 21/50] START C=10, gamma=1, kernel=rbf.................................\n",
            "[CV 2/5; 21/50] END ..C=10, gamma=1, kernel=rbf;, score=0.881 total time=   0.1s\n",
            "[CV 3/5; 21/50] START C=10, gamma=1, kernel=rbf.................................\n",
            "[CV 3/5; 21/50] END ..C=10, gamma=1, kernel=rbf;, score=0.887 total time=   0.1s\n",
            "[CV 4/5; 21/50] START C=10, gamma=1, kernel=rbf.................................\n",
            "[CV 4/5; 21/50] END ..C=10, gamma=1, kernel=rbf;, score=0.931 total time=   0.1s\n",
            "[CV 5/5; 21/50] START C=10, gamma=1, kernel=rbf.................................\n",
            "[CV 5/5; 21/50] END ..C=10, gamma=1, kernel=rbf;, score=0.912 total time=   0.1s\n",
            "[CV 1/5; 22/50] START C=10, gamma=1, kernel=linear..............................\n",
            "[CV 1/5; 22/50] END C=10, gamma=1, kernel=linear;, score=0.944 total time=   0.1s\n",
            "[CV 2/5; 22/50] START C=10, gamma=1, kernel=linear..............................\n",
            "[CV 2/5; 22/50] END C=10, gamma=1, kernel=linear;, score=0.925 total time=   0.2s\n",
            "[CV 3/5; 22/50] START C=10, gamma=1, kernel=linear..............................\n",
            "[CV 3/5; 22/50] END C=10, gamma=1, kernel=linear;, score=0.863 total time=   0.1s\n",
            "[CV 4/5; 22/50] START C=10, gamma=1, kernel=linear..............................\n",
            "[CV 4/5; 22/50] END C=10, gamma=1, kernel=linear;, score=0.919 total time=   0.1s\n",
            "[CV 5/5; 22/50] START C=10, gamma=1, kernel=linear..............................\n",
            "[CV 5/5; 22/50] END C=10, gamma=1, kernel=linear;, score=0.944 total time=   0.1s\n",
            "[CV 1/5; 23/50] START C=10, gamma=0.1, kernel=rbf...............................\n",
            "[CV 1/5; 23/50] END C=10, gamma=0.1, kernel=rbf;, score=0.988 total time=   0.0s\n",
            "[CV 2/5; 23/50] START C=10, gamma=0.1, kernel=rbf...............................\n",
            "[CV 2/5; 23/50] END C=10, gamma=0.1, kernel=rbf;, score=0.994 total time=   0.0s\n",
            "[CV 3/5; 23/50] START C=10, gamma=0.1, kernel=rbf...............................\n",
            "[CV 3/5; 23/50] END C=10, gamma=0.1, kernel=rbf;, score=0.956 total time=   0.0s\n",
            "[CV 4/5; 23/50] START C=10, gamma=0.1, kernel=rbf...............................\n",
            "[CV 4/5; 23/50] END C=10, gamma=0.1, kernel=rbf;, score=0.981 total time=   0.0s\n",
            "[CV 5/5; 23/50] START C=10, gamma=0.1, kernel=rbf...............................\n",
            "[CV 5/5; 23/50] END C=10, gamma=0.1, kernel=rbf;, score=0.988 total time=   0.0s\n",
            "[CV 1/5; 24/50] START C=10, gamma=0.1, kernel=linear............................\n",
            "[CV 1/5; 24/50] END C=10, gamma=0.1, kernel=linear;, score=0.944 total time=   0.1s\n",
            "[CV 2/5; 24/50] START C=10, gamma=0.1, kernel=linear............................\n",
            "[CV 2/5; 24/50] END C=10, gamma=0.1, kernel=linear;, score=0.925 total time=   0.2s\n",
            "[CV 3/5; 24/50] START C=10, gamma=0.1, kernel=linear............................\n",
            "[CV 3/5; 24/50] END C=10, gamma=0.1, kernel=linear;, score=0.863 total time=   0.1s\n",
            "[CV 4/5; 24/50] START C=10, gamma=0.1, kernel=linear............................\n",
            "[CV 4/5; 24/50] END C=10, gamma=0.1, kernel=linear;, score=0.919 total time=   0.1s\n",
            "[CV 5/5; 24/50] START C=10, gamma=0.1, kernel=linear............................\n",
            "[CV 5/5; 24/50] END C=10, gamma=0.1, kernel=linear;, score=0.944 total time=   0.1s\n",
            "[CV 1/5; 25/50] START C=10, gamma=0.01, kernel=rbf..............................\n",
            "[CV 1/5; 25/50] END C=10, gamma=0.01, kernel=rbf;, score=0.981 total time=   0.0s\n",
            "[CV 2/5; 25/50] START C=10, gamma=0.01, kernel=rbf..............................\n",
            "[CV 2/5; 25/50] END C=10, gamma=0.01, kernel=rbf;, score=0.988 total time=   0.0s\n",
            "[CV 3/5; 25/50] START C=10, gamma=0.01, kernel=rbf..............................\n",
            "[CV 3/5; 25/50] END C=10, gamma=0.01, kernel=rbf;, score=0.975 total time=   0.0s\n",
            "[CV 4/5; 25/50] START C=10, gamma=0.01, kernel=rbf..............................\n",
            "[CV 4/5; 25/50] END C=10, gamma=0.01, kernel=rbf;, score=0.969 total time=   0.0s\n",
            "[CV 5/5; 25/50] START C=10, gamma=0.01, kernel=rbf..............................\n",
            "[CV 5/5; 25/50] END C=10, gamma=0.01, kernel=rbf;, score=0.994 total time=   0.0s\n",
            "[CV 1/5; 26/50] START C=10, gamma=0.01, kernel=linear...........................\n",
            "[CV 1/5; 26/50] END C=10, gamma=0.01, kernel=linear;, score=0.944 total time=   0.1s\n",
            "[CV 2/5; 26/50] START C=10, gamma=0.01, kernel=linear...........................\n",
            "[CV 2/5; 26/50] END C=10, gamma=0.01, kernel=linear;, score=0.925 total time=   0.2s\n",
            "[CV 3/5; 26/50] START C=10, gamma=0.01, kernel=linear...........................\n",
            "[CV 3/5; 26/50] END C=10, gamma=0.01, kernel=linear;, score=0.863 total time=   0.1s\n",
            "[CV 4/5; 26/50] START C=10, gamma=0.01, kernel=linear...........................\n",
            "[CV 4/5; 26/50] END C=10, gamma=0.01, kernel=linear;, score=0.919 total time=   0.1s\n",
            "[CV 5/5; 26/50] START C=10, gamma=0.01, kernel=linear...........................\n",
            "[CV 5/5; 26/50] END C=10, gamma=0.01, kernel=linear;, score=0.944 total time=   0.1s\n",
            "[CV 1/5; 27/50] START C=10, gamma=0.001, kernel=rbf.............................\n",
            "[CV 1/5; 27/50] END C=10, gamma=0.001, kernel=rbf;, score=0.863 total time=   0.0s\n",
            "[CV 2/5; 27/50] START C=10, gamma=0.001, kernel=rbf.............................\n",
            "[CV 2/5; 27/50] END C=10, gamma=0.001, kernel=rbf;, score=0.900 total time=   0.0s\n",
            "[CV 3/5; 27/50] START C=10, gamma=0.001, kernel=rbf.............................\n",
            "[CV 3/5; 27/50] END C=10, gamma=0.001, kernel=rbf;, score=0.844 total time=   0.0s\n",
            "[CV 4/5; 27/50] START C=10, gamma=0.001, kernel=rbf.............................\n",
            "[CV 4/5; 27/50] END C=10, gamma=0.001, kernel=rbf;, score=0.875 total time=   0.0s\n",
            "[CV 5/5; 27/50] START C=10, gamma=0.001, kernel=rbf.............................\n",
            "[CV 5/5; 27/50] END C=10, gamma=0.001, kernel=rbf;, score=0.844 total time=   0.0s\n",
            "[CV 1/5; 28/50] START C=10, gamma=0.001, kernel=linear..........................\n",
            "[CV 1/5; 28/50] END C=10, gamma=0.001, kernel=linear;, score=0.944 total time=   0.1s\n",
            "[CV 2/5; 28/50] START C=10, gamma=0.001, kernel=linear..........................\n",
            "[CV 2/5; 28/50] END C=10, gamma=0.001, kernel=linear;, score=0.925 total time=   0.2s\n",
            "[CV 3/5; 28/50] START C=10, gamma=0.001, kernel=linear..........................\n",
            "[CV 3/5; 28/50] END C=10, gamma=0.001, kernel=linear;, score=0.863 total time=   0.0s\n",
            "[CV 4/5; 28/50] START C=10, gamma=0.001, kernel=linear..........................\n",
            "[CV 4/5; 28/50] END C=10, gamma=0.001, kernel=linear;, score=0.919 total time=   0.1s\n",
            "[CV 5/5; 28/50] START C=10, gamma=0.001, kernel=linear..........................\n",
            "[CV 5/5; 28/50] END C=10, gamma=0.001, kernel=linear;, score=0.944 total time=   0.1s\n",
            "[CV 1/5; 29/50] START C=10, gamma=0.0001, kernel=rbf............................\n",
            "[CV 1/5; 29/50] END C=10, gamma=0.0001, kernel=rbf;, score=0.700 total time=   0.1s\n",
            "[CV 2/5; 29/50] START C=10, gamma=0.0001, kernel=rbf............................\n",
            "[CV 2/5; 29/50] END C=10, gamma=0.0001, kernel=rbf;, score=0.719 total time=   0.0s\n",
            "[CV 3/5; 29/50] START C=10, gamma=0.0001, kernel=rbf............................\n",
            "[CV 3/5; 29/50] END C=10, gamma=0.0001, kernel=rbf;, score=0.700 total time=   0.0s\n",
            "[CV 4/5; 29/50] START C=10, gamma=0.0001, kernel=rbf............................\n",
            "[CV 4/5; 29/50] END C=10, gamma=0.0001, kernel=rbf;, score=0.762 total time=   0.0s\n",
            "[CV 5/5; 29/50] START C=10, gamma=0.0001, kernel=rbf............................\n",
            "[CV 5/5; 29/50] END C=10, gamma=0.0001, kernel=rbf;, score=0.694 total time=   0.0s\n",
            "[CV 1/5; 30/50] START C=10, gamma=0.0001, kernel=linear.........................\n",
            "[CV 1/5; 30/50] END C=10, gamma=0.0001, kernel=linear;, score=0.944 total time=   0.1s\n",
            "[CV 2/5; 30/50] START C=10, gamma=0.0001, kernel=linear.........................\n",
            "[CV 2/5; 30/50] END C=10, gamma=0.0001, kernel=linear;, score=0.925 total time=   0.2s\n",
            "[CV 3/5; 30/50] START C=10, gamma=0.0001, kernel=linear.........................\n",
            "[CV 3/5; 30/50] END C=10, gamma=0.0001, kernel=linear;, score=0.863 total time=   0.0s\n",
            "[CV 4/5; 30/50] START C=10, gamma=0.0001, kernel=linear.........................\n",
            "[CV 4/5; 30/50] END C=10, gamma=0.0001, kernel=linear;, score=0.919 total time=   0.1s\n",
            "[CV 5/5; 30/50] START C=10, gamma=0.0001, kernel=linear.........................\n",
            "[CV 5/5; 30/50] END C=10, gamma=0.0001, kernel=linear;, score=0.944 total time=   0.1s\n",
            "[CV 1/5; 31/50] START C=100, gamma=1, kernel=rbf................................\n",
            "[CV 1/5; 31/50] END .C=100, gamma=1, kernel=rbf;, score=0.919 total time=   0.1s\n",
            "[CV 2/5; 31/50] START C=100, gamma=1, kernel=rbf................................\n",
            "[CV 2/5; 31/50] END .C=100, gamma=1, kernel=rbf;, score=0.881 total time=   0.1s\n",
            "[CV 3/5; 31/50] START C=100, gamma=1, kernel=rbf................................\n",
            "[CV 3/5; 31/50] END .C=100, gamma=1, kernel=rbf;, score=0.887 total time=   0.1s\n",
            "[CV 4/5; 31/50] START C=100, gamma=1, kernel=rbf................................\n",
            "[CV 4/5; 31/50] END .C=100, gamma=1, kernel=rbf;, score=0.931 total time=   0.1s\n",
            "[CV 5/5; 31/50] START C=100, gamma=1, kernel=rbf................................\n",
            "[CV 5/5; 31/50] END .C=100, gamma=1, kernel=rbf;, score=0.912 total time=   0.1s\n",
            "[CV 1/5; 32/50] START C=100, gamma=1, kernel=linear.............................\n",
            "[CV 1/5; 32/50] END C=100, gamma=1, kernel=linear;, score=0.931 total time=   0.8s\n",
            "[CV 2/5; 32/50] START C=100, gamma=1, kernel=linear.............................\n",
            "[CV 2/5; 32/50] END C=100, gamma=1, kernel=linear;, score=0.925 total time=   0.7s\n",
            "[CV 3/5; 32/50] START C=100, gamma=1, kernel=linear.............................\n",
            "[CV 3/5; 32/50] END C=100, gamma=1, kernel=linear;, score=0.869 total time=   0.3s\n",
            "[CV 4/5; 32/50] START C=100, gamma=1, kernel=linear.............................\n",
            "[CV 4/5; 32/50] END C=100, gamma=1, kernel=linear;, score=0.919 total time=   0.3s\n",
            "[CV 5/5; 32/50] START C=100, gamma=1, kernel=linear.............................\n",
            "[CV 5/5; 32/50] END C=100, gamma=1, kernel=linear;, score=0.931 total time=   0.4s\n",
            "[CV 1/5; 33/50] START C=100, gamma=0.1, kernel=rbf..............................\n",
            "[CV 1/5; 33/50] END C=100, gamma=0.1, kernel=rbf;, score=0.988 total time=   0.0s\n",
            "[CV 2/5; 33/50] START C=100, gamma=0.1, kernel=rbf..............................\n",
            "[CV 2/5; 33/50] END C=100, gamma=0.1, kernel=rbf;, score=0.994 total time=   0.0s\n",
            "[CV 3/5; 33/50] START C=100, gamma=0.1, kernel=rbf..............................\n",
            "[CV 3/5; 33/50] END C=100, gamma=0.1, kernel=rbf;, score=0.956 total time=   0.0s\n",
            "[CV 4/5; 33/50] START C=100, gamma=0.1, kernel=rbf..............................\n",
            "[CV 4/5; 33/50] END C=100, gamma=0.1, kernel=rbf;, score=0.981 total time=   0.0s\n",
            "[CV 5/5; 33/50] START C=100, gamma=0.1, kernel=rbf..............................\n",
            "[CV 5/5; 33/50] END C=100, gamma=0.1, kernel=rbf;, score=0.988 total time=   0.0s\n",
            "[CV 1/5; 34/50] START C=100, gamma=0.1, kernel=linear...........................\n",
            "[CV 1/5; 34/50] END C=100, gamma=0.1, kernel=linear;, score=0.931 total time=   0.8s\n",
            "[CV 2/5; 34/50] START C=100, gamma=0.1, kernel=linear...........................\n",
            "[CV 2/5; 34/50] END C=100, gamma=0.1, kernel=linear;, score=0.925 total time=   0.7s\n",
            "[CV 3/5; 34/50] START C=100, gamma=0.1, kernel=linear...........................\n",
            "[CV 3/5; 34/50] END C=100, gamma=0.1, kernel=linear;, score=0.869 total time=   0.3s\n",
            "[CV 4/5; 34/50] START C=100, gamma=0.1, kernel=linear...........................\n",
            "[CV 4/5; 34/50] END C=100, gamma=0.1, kernel=linear;, score=0.919 total time=   0.3s\n",
            "[CV 5/5; 34/50] START C=100, gamma=0.1, kernel=linear...........................\n",
            "[CV 5/5; 34/50] END C=100, gamma=0.1, kernel=linear;, score=0.931 total time=   0.4s\n",
            "[CV 1/5; 35/50] START C=100, gamma=0.01, kernel=rbf.............................\n",
            "[CV 1/5; 35/50] END C=100, gamma=0.01, kernel=rbf;, score=0.994 total time=   0.0s\n",
            "[CV 2/5; 35/50] START C=100, gamma=0.01, kernel=rbf.............................\n",
            "[CV 2/5; 35/50] END C=100, gamma=0.01, kernel=rbf;, score=0.981 total time=   0.0s\n",
            "[CV 3/5; 35/50] START C=100, gamma=0.01, kernel=rbf.............................\n",
            "[CV 3/5; 35/50] END C=100, gamma=0.01, kernel=rbf;, score=0.981 total time=   0.0s\n",
            "[CV 4/5; 35/50] START C=100, gamma=0.01, kernel=rbf.............................\n",
            "[CV 4/5; 35/50] END C=100, gamma=0.01, kernel=rbf;, score=0.975 total time=   0.0s\n",
            "[CV 5/5; 35/50] START C=100, gamma=0.01, kernel=rbf.............................\n",
            "[CV 5/5; 35/50] END C=100, gamma=0.01, kernel=rbf;, score=0.994 total time=   0.0s\n",
            "[CV 1/5; 36/50] START C=100, gamma=0.01, kernel=linear..........................\n",
            "[CV 1/5; 36/50] END C=100, gamma=0.01, kernel=linear;, score=0.931 total time=   0.8s\n",
            "[CV 2/5; 36/50] START C=100, gamma=0.01, kernel=linear..........................\n",
            "[CV 2/5; 36/50] END C=100, gamma=0.01, kernel=linear;, score=0.925 total time=   0.7s\n",
            "[CV 3/5; 36/50] START C=100, gamma=0.01, kernel=linear..........................\n",
            "[CV 3/5; 36/50] END C=100, gamma=0.01, kernel=linear;, score=0.869 total time=   0.3s\n",
            "[CV 4/5; 36/50] START C=100, gamma=0.01, kernel=linear..........................\n",
            "[CV 4/5; 36/50] END C=100, gamma=0.01, kernel=linear;, score=0.919 total time=   0.3s\n",
            "[CV 5/5; 36/50] START C=100, gamma=0.01, kernel=linear..........................\n",
            "[CV 5/5; 36/50] END C=100, gamma=0.01, kernel=linear;, score=0.931 total time=   0.4s\n",
            "[CV 1/5; 37/50] START C=100, gamma=0.001, kernel=rbf............................\n",
            "[CV 1/5; 37/50] END C=100, gamma=0.001, kernel=rbf;, score=0.969 total time=   0.0s\n",
            "[CV 2/5; 37/50] START C=100, gamma=0.001, kernel=rbf............................\n",
            "[CV 2/5; 37/50] END C=100, gamma=0.001, kernel=rbf;, score=0.950 total time=   0.0s\n",
            "[CV 3/5; 37/50] START C=100, gamma=0.001, kernel=rbf............................\n",
            "[CV 3/5; 37/50] END C=100, gamma=0.001, kernel=rbf;, score=0.944 total time=   0.0s\n",
            "[CV 4/5; 37/50] START C=100, gamma=0.001, kernel=rbf............................\n",
            "[CV 4/5; 37/50] END C=100, gamma=0.001, kernel=rbf;, score=0.931 total time=   0.0s\n",
            "[CV 5/5; 37/50] START C=100, gamma=0.001, kernel=rbf............................\n",
            "[CV 5/5; 37/50] END C=100, gamma=0.001, kernel=rbf;, score=0.963 total time=   0.0s\n",
            "[CV 1/5; 38/50] START C=100, gamma=0.001, kernel=linear.........................\n",
            "[CV 1/5; 38/50] END C=100, gamma=0.001, kernel=linear;, score=0.931 total time=   0.8s\n",
            "[CV 2/5; 38/50] START C=100, gamma=0.001, kernel=linear.........................\n",
            "[CV 2/5; 38/50] END C=100, gamma=0.001, kernel=linear;, score=0.925 total time=   0.7s\n",
            "[CV 3/5; 38/50] START C=100, gamma=0.001, kernel=linear.........................\n",
            "[CV 3/5; 38/50] END C=100, gamma=0.001, kernel=linear;, score=0.869 total time=   0.3s\n",
            "[CV 4/5; 38/50] START C=100, gamma=0.001, kernel=linear.........................\n",
            "[CV 4/5; 38/50] END C=100, gamma=0.001, kernel=linear;, score=0.919 total time=   0.3s\n",
            "[CV 5/5; 38/50] START C=100, gamma=0.001, kernel=linear.........................\n",
            "[CV 5/5; 38/50] END C=100, gamma=0.001, kernel=linear;, score=0.931 total time=   0.4s\n",
            "[CV 1/5; 39/50] START C=100, gamma=0.0001, kernel=rbf...........................\n",
            "[CV 1/5; 39/50] END C=100, gamma=0.0001, kernel=rbf;, score=0.869 total time=   0.0s\n",
            "[CV 2/5; 39/50] START C=100, gamma=0.0001, kernel=rbf...........................\n",
            "[CV 2/5; 39/50] END C=100, gamma=0.0001, kernel=rbf;, score=0.894 total time=   0.0s\n",
            "[CV 3/5; 39/50] START C=100, gamma=0.0001, kernel=rbf...........................\n",
            "[CV 3/5; 39/50] END C=100, gamma=0.0001, kernel=rbf;, score=0.800 total time=   0.0s\n",
            "[CV 4/5; 39/50] START C=100, gamma=0.0001, kernel=rbf...........................\n",
            "[CV 4/5; 39/50] END C=100, gamma=0.0001, kernel=rbf;, score=0.869 total time=   0.0s\n",
            "[CV 5/5; 39/50] START C=100, gamma=0.0001, kernel=rbf...........................\n",
            "[CV 5/5; 39/50] END C=100, gamma=0.0001, kernel=rbf;, score=0.844 total time=   0.0s\n",
            "[CV 1/5; 40/50] START C=100, gamma=0.0001, kernel=linear........................\n",
            "[CV 1/5; 40/50] END C=100, gamma=0.0001, kernel=linear;, score=0.931 total time=   0.8s\n",
            "[CV 2/5; 40/50] START C=100, gamma=0.0001, kernel=linear........................\n",
            "[CV 2/5; 40/50] END C=100, gamma=0.0001, kernel=linear;, score=0.925 total time=   0.7s\n",
            "[CV 3/5; 40/50] START C=100, gamma=0.0001, kernel=linear........................\n",
            "[CV 3/5; 40/50] END C=100, gamma=0.0001, kernel=linear;, score=0.869 total time=   0.3s\n",
            "[CV 4/5; 40/50] START C=100, gamma=0.0001, kernel=linear........................\n",
            "[CV 4/5; 40/50] END C=100, gamma=0.0001, kernel=linear;, score=0.919 total time=   0.3s\n",
            "[CV 5/5; 40/50] START C=100, gamma=0.0001, kernel=linear........................\n",
            "[CV 5/5; 40/50] END C=100, gamma=0.0001, kernel=linear;, score=0.931 total time=   0.4s\n",
            "[CV 1/5; 41/50] START C=1000, gamma=1, kernel=rbf...............................\n",
            "[CV 1/5; 41/50] END C=1000, gamma=1, kernel=rbf;, score=0.919 total time=   0.1s\n",
            "[CV 2/5; 41/50] START C=1000, gamma=1, kernel=rbf...............................\n",
            "[CV 2/5; 41/50] END C=1000, gamma=1, kernel=rbf;, score=0.881 total time=   0.1s\n",
            "[CV 3/5; 41/50] START C=1000, gamma=1, kernel=rbf...............................\n",
            "[CV 3/5; 41/50] END C=1000, gamma=1, kernel=rbf;, score=0.887 total time=   0.1s\n",
            "[CV 4/5; 41/50] START C=1000, gamma=1, kernel=rbf...............................\n",
            "[CV 4/5; 41/50] END C=1000, gamma=1, kernel=rbf;, score=0.931 total time=   0.1s\n",
            "[CV 5/5; 41/50] START C=1000, gamma=1, kernel=rbf...............................\n",
            "[CV 5/5; 41/50] END C=1000, gamma=1, kernel=rbf;, score=0.912 total time=   0.1s\n",
            "[CV 1/5; 42/50] START C=1000, gamma=1, kernel=linear............................\n",
            "[CV 1/5; 42/50] END C=1000, gamma=1, kernel=linear;, score=0.931 total time=   5.4s\n",
            "[CV 2/5; 42/50] START C=1000, gamma=1, kernel=linear............................\n",
            "[CV 2/5; 42/50] END C=1000, gamma=1, kernel=linear;, score=0.931 total time=   7.5s\n",
            "[CV 3/5; 42/50] START C=1000, gamma=1, kernel=linear............................\n",
            "[CV 3/5; 42/50] END C=1000, gamma=1, kernel=linear;, score=0.881 total time=   7.9s\n",
            "[CV 4/5; 42/50] START C=1000, gamma=1, kernel=linear............................\n",
            "[CV 4/5; 42/50] END C=1000, gamma=1, kernel=linear;, score=0.938 total time=   3.9s\n",
            "[CV 5/5; 42/50] START C=1000, gamma=1, kernel=linear............................\n",
            "[CV 5/5; 42/50] END C=1000, gamma=1, kernel=linear;, score=0.938 total time=   2.4s\n",
            "[CV 1/5; 43/50] START C=1000, gamma=0.1, kernel=rbf.............................\n",
            "[CV 1/5; 43/50] END C=1000, gamma=0.1, kernel=rbf;, score=0.988 total time=   0.0s\n",
            "[CV 2/5; 43/50] START C=1000, gamma=0.1, kernel=rbf.............................\n",
            "[CV 2/5; 43/50] END C=1000, gamma=0.1, kernel=rbf;, score=0.994 total time=   0.0s\n",
            "[CV 3/5; 43/50] START C=1000, gamma=0.1, kernel=rbf.............................\n",
            "[CV 3/5; 43/50] END C=1000, gamma=0.1, kernel=rbf;, score=0.956 total time=   0.0s\n",
            "[CV 4/5; 43/50] START C=1000, gamma=0.1, kernel=rbf.............................\n",
            "[CV 4/5; 43/50] END C=1000, gamma=0.1, kernel=rbf;, score=0.981 total time=   0.0s\n",
            "[CV 5/5; 43/50] START C=1000, gamma=0.1, kernel=rbf.............................\n",
            "[CV 5/5; 43/50] END C=1000, gamma=0.1, kernel=rbf;, score=0.988 total time=   0.0s\n",
            "[CV 1/5; 44/50] START C=1000, gamma=0.1, kernel=linear..........................\n",
            "[CV 1/5; 44/50] END C=1000, gamma=0.1, kernel=linear;, score=0.931 total time=   5.4s\n",
            "[CV 2/5; 44/50] START C=1000, gamma=0.1, kernel=linear..........................\n",
            "[CV 2/5; 44/50] END C=1000, gamma=0.1, kernel=linear;, score=0.931 total time=   7.4s\n",
            "[CV 3/5; 44/50] START C=1000, gamma=0.1, kernel=linear..........................\n",
            "[CV 3/5; 44/50] END C=1000, gamma=0.1, kernel=linear;, score=0.881 total time=   7.8s\n",
            "[CV 4/5; 44/50] START C=1000, gamma=0.1, kernel=linear..........................\n",
            "[CV 4/5; 44/50] END C=1000, gamma=0.1, kernel=linear;, score=0.938 total time=   3.9s\n",
            "[CV 5/5; 44/50] START C=1000, gamma=0.1, kernel=linear..........................\n",
            "[CV 5/5; 44/50] END C=1000, gamma=0.1, kernel=linear;, score=0.938 total time=   2.3s\n",
            "[CV 1/5; 45/50] START C=1000, gamma=0.01, kernel=rbf............................\n",
            "[CV 1/5; 45/50] END C=1000, gamma=0.01, kernel=rbf;, score=0.994 total time=   0.0s\n",
            "[CV 2/5; 45/50] START C=1000, gamma=0.01, kernel=rbf............................\n",
            "[CV 2/5; 45/50] END C=1000, gamma=0.01, kernel=rbf;, score=0.988 total time=   0.0s\n",
            "[CV 3/5; 45/50] START C=1000, gamma=0.01, kernel=rbf............................\n",
            "[CV 3/5; 45/50] END C=1000, gamma=0.01, kernel=rbf;, score=0.981 total time=   0.0s\n",
            "[CV 4/5; 45/50] START C=1000, gamma=0.01, kernel=rbf............................\n",
            "[CV 4/5; 45/50] END C=1000, gamma=0.01, kernel=rbf;, score=0.981 total time=   0.0s\n",
            "[CV 5/5; 45/50] START C=1000, gamma=0.01, kernel=rbf............................\n",
            "[CV 5/5; 45/50] END C=1000, gamma=0.01, kernel=rbf;, score=0.988 total time=   0.0s\n",
            "[CV 1/5; 46/50] START C=1000, gamma=0.01, kernel=linear.........................\n",
            "[CV 1/5; 46/50] END C=1000, gamma=0.01, kernel=linear;, score=0.931 total time=   5.3s\n",
            "[CV 2/5; 46/50] START C=1000, gamma=0.01, kernel=linear.........................\n",
            "[CV 2/5; 46/50] END C=1000, gamma=0.01, kernel=linear;, score=0.931 total time=   7.4s\n",
            "[CV 3/5; 46/50] START C=1000, gamma=0.01, kernel=linear.........................\n",
            "[CV 3/5; 46/50] END C=1000, gamma=0.01, kernel=linear;, score=0.881 total time=   7.9s\n",
            "[CV 4/5; 46/50] START C=1000, gamma=0.01, kernel=linear.........................\n",
            "[CV 4/5; 46/50] END C=1000, gamma=0.01, kernel=linear;, score=0.938 total time=   3.8s\n",
            "[CV 5/5; 46/50] START C=1000, gamma=0.01, kernel=linear.........................\n",
            "[CV 5/5; 46/50] END C=1000, gamma=0.01, kernel=linear;, score=0.938 total time=   2.2s\n",
            "[CV 1/5; 47/50] START C=1000, gamma=0.001, kernel=rbf...........................\n",
            "[CV 1/5; 47/50] END C=1000, gamma=0.001, kernel=rbf;, score=0.969 total time=   0.0s\n",
            "[CV 2/5; 47/50] START C=1000, gamma=0.001, kernel=rbf...........................\n",
            "[CV 2/5; 47/50] END C=1000, gamma=0.001, kernel=rbf;, score=0.981 total time=   0.0s\n",
            "[CV 3/5; 47/50] START C=1000, gamma=0.001, kernel=rbf...........................\n",
            "[CV 3/5; 47/50] END C=1000, gamma=0.001, kernel=rbf;, score=0.963 total time=   0.0s\n",
            "[CV 4/5; 47/50] START C=1000, gamma=0.001, kernel=rbf...........................\n",
            "[CV 4/5; 47/50] END C=1000, gamma=0.001, kernel=rbf;, score=0.944 total time=   0.0s\n",
            "[CV 5/5; 47/50] START C=1000, gamma=0.001, kernel=rbf...........................\n",
            "[CV 5/5; 47/50] END C=1000, gamma=0.001, kernel=rbf;, score=0.981 total time=   0.0s\n",
            "[CV 1/5; 48/50] START C=1000, gamma=0.001, kernel=linear........................\n",
            "[CV 1/5; 48/50] END C=1000, gamma=0.001, kernel=linear;, score=0.931 total time=   5.3s\n",
            "[CV 2/5; 48/50] START C=1000, gamma=0.001, kernel=linear........................\n",
            "[CV 2/5; 48/50] END C=1000, gamma=0.001, kernel=linear;, score=0.931 total time=   7.4s\n",
            "[CV 3/5; 48/50] START C=1000, gamma=0.001, kernel=linear........................\n",
            "[CV 3/5; 48/50] END C=1000, gamma=0.001, kernel=linear;, score=0.881 total time=   7.9s\n",
            "[CV 4/5; 48/50] START C=1000, gamma=0.001, kernel=linear........................\n",
            "[CV 4/5; 48/50] END C=1000, gamma=0.001, kernel=linear;, score=0.938 total time=   3.9s\n",
            "[CV 5/5; 48/50] START C=1000, gamma=0.001, kernel=linear........................\n",
            "[CV 5/5; 48/50] END C=1000, gamma=0.001, kernel=linear;, score=0.938 total time=   2.3s\n",
            "[CV 1/5; 49/50] START C=1000, gamma=0.0001, kernel=rbf..........................\n",
            "[CV 1/5; 49/50] END C=1000, gamma=0.0001, kernel=rbf;, score=0.950 total time=   0.0s\n",
            "[CV 2/5; 49/50] START C=1000, gamma=0.0001, kernel=rbf..........................\n",
            "[CV 2/5; 49/50] END C=1000, gamma=0.0001, kernel=rbf;, score=0.950 total time=   0.0s\n",
            "[CV 3/5; 49/50] START C=1000, gamma=0.0001, kernel=rbf..........................\n",
            "[CV 3/5; 49/50] END C=1000, gamma=0.0001, kernel=rbf;, score=0.894 total time=   0.0s\n",
            "[CV 4/5; 49/50] START C=1000, gamma=0.0001, kernel=rbf..........................\n",
            "[CV 4/5; 49/50] END C=1000, gamma=0.0001, kernel=rbf;, score=0.919 total time=   0.0s\n",
            "[CV 5/5; 49/50] START C=1000, gamma=0.0001, kernel=rbf..........................\n",
            "[CV 5/5; 49/50] END C=1000, gamma=0.0001, kernel=rbf;, score=0.931 total time=   0.0s\n",
            "[CV 1/5; 50/50] START C=1000, gamma=0.0001, kernel=linear.......................\n",
            "[CV 1/5; 50/50] END C=1000, gamma=0.0001, kernel=linear;, score=0.931 total time=   5.4s\n",
            "[CV 2/5; 50/50] START C=1000, gamma=0.0001, kernel=linear.......................\n",
            "[CV 2/5; 50/50] END C=1000, gamma=0.0001, kernel=linear;, score=0.931 total time=   7.4s\n",
            "[CV 3/5; 50/50] START C=1000, gamma=0.0001, kernel=linear.......................\n",
            "[CV 3/5; 50/50] END C=1000, gamma=0.0001, kernel=linear;, score=0.881 total time=   7.9s\n",
            "[CV 4/5; 50/50] START C=1000, gamma=0.0001, kernel=linear.......................\n",
            "[CV 4/5; 50/50] END C=1000, gamma=0.0001, kernel=linear;, score=0.938 total time=   3.8s\n",
            "[CV 5/5; 50/50] START C=1000, gamma=0.0001, kernel=linear.......................\n",
            "[CV 5/5; 50/50] END C=1000, gamma=0.0001, kernel=linear;, score=0.938 total time=   2.3s\n"
          ]
        },
        {
          "output_type": "execute_result",
          "data": {
            "text/plain": [
              "GridSearchCV(estimator=SVC(),\n",
              "             param_grid={'C': [0.1, 1, 10, 100, 1000],\n",
              "                         'gamma': [1, 0.1, 0.01, 0.001, 0.0001],\n",
              "                         'kernel': ['rbf', 'linear']},\n",
              "             scoring='accuracy', verbose=10)"
            ]
          },
          "metadata": {},
          "execution_count": 72
        }
      ]
    },
    {
      "cell_type": "code",
      "source": [
        "# print best parameter after tuning\n",
        "print(grid.best_params_)\n",
        "  \n",
        "# print how our model looks after hyper-parameter tuning\n",
        "print(grid.best_estimator_)"
      ],
      "metadata": {
        "colab": {
          "base_uri": "https://localhost:8080/"
        },
        "id": "MamKhx3dQaaT",
        "outputId": "34b61e99-8738-4781-8d3c-90b4a7635d8f"
      },
      "execution_count": null,
      "outputs": [
        {
          "output_type": "stream",
          "name": "stdout",
          "text": [
            "{'C': 1000, 'gamma': 0.01, 'kernel': 'rbf'}\n",
            "SVC(C=1000, gamma=0.01)\n"
          ]
        }
      ]
    },
    {
      "cell_type": "code",
      "source": [
        "Dataframe = pd.DataFrame(grid.cv_results_)\n",
        "Dataframe = Dataframe.drop(['std_test_score','split4_test_score','split3_test_score','split2_test_score','split1_test_score','split0_test_score','params','std_score_time','mean_score_time','std_fit_time','mean_fit_time'],axis=1)\n",
        "Dataframe.sort_values('rank_test_score', ascending=\"True\")\n",
        "csvpak = Dataframe.sort_values('rank_test_score', ascending=\"True\")\n",
        "csvpak.to_csv('datatuning.csv')"
      ],
      "metadata": {
        "id": "Nfi6pySUQdSM"
      },
      "execution_count": null,
      "outputs": []
    },
    {
      "cell_type": "code",
      "source": [
        "grid_predictions = grid.predict(X1_test)\n",
        "\n",
        "print(confusion_matrix(y1_test, grid_predictions))  \n",
        "# print classification report\n",
        "print(classification_report(y1_test, grid_predictions, target_names=['Sinyal AS', 'Sinyal MR','Sinyal MS','Sinyal MVP','Sinyal N']))\n",
        "print(\"Accuracy : \",accuracy_score(y1_test, grid_predictions))"
      ],
      "metadata": {
        "colab": {
          "base_uri": "https://localhost:8080/"
        },
        "id": "JUkd6o0cQey1",
        "outputId": "4527ff05-0737-41f2-de8a-c222e43c540b"
      },
      "execution_count": null,
      "outputs": [
        {
          "output_type": "stream",
          "name": "stdout",
          "text": [
            "[[35  0  0  0  0]\n",
            " [ 0 46  0  0  0]\n",
            " [ 0  0 43  0  0]\n",
            " [ 1  0  0 36  0]\n",
            " [ 0  0  0  0 39]]\n",
            "              precision    recall  f1-score   support\n",
            "\n",
            "   Sinyal AS       0.97      1.00      0.99        35\n",
            "   Sinyal MR       1.00      1.00      1.00        46\n",
            "   Sinyal MS       1.00      1.00      1.00        43\n",
            "  Sinyal MVP       1.00      0.97      0.99        37\n",
            "    Sinyal N       1.00      1.00      1.00        39\n",
            "\n",
            "    accuracy                           0.99       200\n",
            "   macro avg       0.99      0.99      0.99       200\n",
            "weighted avg       1.00      0.99      1.00       200\n",
            "\n",
            "Accuracy :  0.995\n"
          ]
        }
      ]
    },
    {
      "cell_type": "code",
      "source": [
        "sensitivity, specificity, accuracy = calculate_sensitivity_specificity(y1_test, grid_predictions)\n",
        "print ('Sensitivity:', sensitivity)\n",
        "print ('Specificity:', specificity)\n",
        "print ('Accuracy:', accuracy)"
      ],
      "metadata": {
        "colab": {
          "base_uri": "https://localhost:8080/"
        },
        "id": "Ou7TnNvCQfcD",
        "outputId": "4f001981-43dd-419e-e5db-437b4dd1de16"
      },
      "execution_count": null,
      "outputs": [
        {
          "output_type": "stream",
          "name": "stdout",
          "text": [
            "Sensitivity: 1.0\n",
            "Specificity: 1.0\n",
            "Accuracy: 0.995\n"
          ]
        }
      ]
    }
  ]
}