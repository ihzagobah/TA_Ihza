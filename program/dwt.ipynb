{
  "nbformat": 4,
  "nbformat_minor": 0,
  "metadata": {
    "colab": {
      "provenance": [],
      "collapsed_sections": []
    },
    "kernelspec": {
      "name": "python3",
      "display_name": "Python 3"
    },
    "language_info": {
      "name": "python"
    }
  },
  "cells": [
    {
      "cell_type": "markdown",
      "source": [
        "Run ke-1"
      ],
      "metadata": {
        "id": "KdoYpTOrwrqy"
      }
    },
    {
      "cell_type": "code",
      "metadata": {
        "colab": {
          "base_uri": "https://localhost:8080/"
        },
        "id": "7MNy_cdovyOF",
        "outputId": "3f329a32-c134-4684-afa6-cfd331d8ab7f"
      },
      "source": [
        "from google.colab import drive\n",
        "drive.mount(\"/content/gdrive\")"
      ],
      "execution_count": null,
      "outputs": [
        {
          "output_type": "stream",
          "name": "stdout",
          "text": [
            "Mounted at /content/gdrive\n"
          ]
        }
      ]
    },
    {
      "cell_type": "markdown",
      "source": [
        "run ke-2 untuk olah data noise"
      ],
      "metadata": {
        "id": "s43iqIEvwwdS"
      }
    },
    {
      "cell_type": "code",
      "metadata": {
        "id": "g7EhuMPevpv4"
      },
      "source": [
        "def get_white_noise(signal,SNR) :\n",
        "    #RMS value of signal\n",
        "    RMS_s=math.sqrt(np.mean(signal**2))\n",
        "    #RMS values of noise\n",
        "    RMS_n=math.sqrt(RMS_s**2/(pow(10,SNR/10)))\n",
        "    #Additive white gausian noise. Thereore mean=0\n",
        "    #Because sample length is large (typically > 40000)\n",
        "    #we can use the population formula for standard daviation.\n",
        "    #because mean=0 STD=RMS\n",
        "    STD_n=RMS_n\n",
        "    noise=np.random.normal(0, STD_n, signal.shape[0])\n",
        "    return noise\n",
        "  "
      ],
      "execution_count": null,
      "outputs": []
    },
    {
      "cell_type": "code",
      "metadata": {
        "id": "BVdhBv96vs0G"
      },
      "source": [
        "def get_noise_from_sound(signal,noise,SNR):\n",
        "    RMS_s=math.sqrt(np.mean(signal**2))\n",
        "    #required RMS of noise\n",
        "    RMS_n=math.sqrt(RMS_s**2/(pow(10,SNR/10)))\n",
        "    \n",
        "    #current RMS of noise\n",
        "    RMS_n_current=math.sqrt(np.mean(noise**2))\n",
        "    noise=noise*(RMS_n/RMS_n_current)\n",
        "    \n",
        "    return noise"
      ],
      "execution_count": null,
      "outputs": []
    },
    {
      "cell_type": "code",
      "metadata": {
        "id": "o88LtHKXvvAO"
      },
      "source": [
        "def to_polar(complex_ar):\n",
        "    return np.abs(complex_ar),np.angle(complex_ar)"
      ],
      "execution_count": null,
      "outputs": []
    },
    {
      "cell_type": "markdown",
      "source": [
        "run ke-3 untuk proses import library"
      ],
      "metadata": {
        "id": "1tgRkvSOxN2P"
      }
    },
    {
      "cell_type": "code",
      "metadata": {
        "id": "io85hxM6MMxU"
      },
      "source": [
        "import math   \n",
        "import numpy as np \n",
        "import soundfile as sf\n",
        "import librosa\n",
        "import matplotlib.pyplot as plt\n",
        "import IPython\n",
        "import pandas as pd\n",
        "import os\n",
        "import sklearn\n",
        "from sklearn.preprocessing import LabelEncoder, StandardScaler\n",
        "from sklearn.model_selection import train_test_split\n",
        "from sklearn.metrics import mean_squared_error\n",
        "import IPython.display as ipd\n",
        "\n",
        "import csv\n",
        "from skimage.restoration import denoise_wavelet"
      ],
      "execution_count": null,
      "outputs": []
    },
    {
      "cell_type": "markdown",
      "source": [
        "run ke-4 untuk proses olah data dan denoising"
      ],
      "metadata": {
        "id": "MM2O5y3JxP0v"
      }
    },
    {
      "cell_type": "code",
      "metadata": {
        "colab": {
          "base_uri": "https://localhost:8080/",
          "height": 423
        },
        "id": "3Ba3GlYAqYNW",
        "outputId": "48f36141-b0b1-463b-fe5c-b54feec45fb7"
      },
      "source": [
        "audio = []\n",
        "label = []\n",
        "file_audio = []\n",
        "path = '/content/gdrive/MyDrive/dataset/'\n",
        "\n",
        "audio_df = pd.DataFrame()\n",
        "for files in os.listdir(path):\n",
        "  path2 = os.path.join(path, files)\n",
        "  audio_names = files.split(\".\")[0]\n",
        "  audio_label = files.split(\"_\")[1]\n",
        "  audio_files = files\n",
        "\n",
        "  audio.append(audio_names)\n",
        "  label.append(audio_label)\n",
        "  file_audio.append(audio_files)\n",
        "\n",
        "audio_df['audio_names']=audio\n",
        "audio_df['audio_label']=label\n",
        "audio_df['file_audio']=file_audio\n",
        "audio_df"
      ],
      "execution_count": null,
      "outputs": [
        {
          "output_type": "execute_result",
          "data": {
            "text/html": [
              "\n",
              "  <div id=\"df-e589e261-4ff6-43b8-b1f9-5bac472ab16e\">\n",
              "    <div class=\"colab-df-container\">\n",
              "      <div>\n",
              "<style scoped>\n",
              "    .dataframe tbody tr th:only-of-type {\n",
              "        vertical-align: middle;\n",
              "    }\n",
              "\n",
              "    .dataframe tbody tr th {\n",
              "        vertical-align: top;\n",
              "    }\n",
              "\n",
              "    .dataframe thead th {\n",
              "        text-align: right;\n",
              "    }\n",
              "</style>\n",
              "<table border=\"1\" class=\"dataframe\">\n",
              "  <thead>\n",
              "    <tr style=\"text-align: right;\">\n",
              "      <th></th>\n",
              "      <th>audio_names</th>\n",
              "      <th>audio_label</th>\n",
              "      <th>file_audio</th>\n",
              "    </tr>\n",
              "  </thead>\n",
              "  <tbody>\n",
              "    <tr>\n",
              "      <th>0</th>\n",
              "      <td>New_AS_001</td>\n",
              "      <td>AS</td>\n",
              "      <td>New_AS_001.wav</td>\n",
              "    </tr>\n",
              "    <tr>\n",
              "      <th>1</th>\n",
              "      <td>New_AS_002</td>\n",
              "      <td>AS</td>\n",
              "      <td>New_AS_002.wav</td>\n",
              "    </tr>\n",
              "    <tr>\n",
              "      <th>2</th>\n",
              "      <td>New_AS_003</td>\n",
              "      <td>AS</td>\n",
              "      <td>New_AS_003.wav</td>\n",
              "    </tr>\n",
              "    <tr>\n",
              "      <th>3</th>\n",
              "      <td>New_AS_004</td>\n",
              "      <td>AS</td>\n",
              "      <td>New_AS_004.wav</td>\n",
              "    </tr>\n",
              "    <tr>\n",
              "      <th>4</th>\n",
              "      <td>New_AS_005</td>\n",
              "      <td>AS</td>\n",
              "      <td>New_AS_005.wav</td>\n",
              "    </tr>\n",
              "    <tr>\n",
              "      <th>...</th>\n",
              "      <td>...</td>\n",
              "      <td>...</td>\n",
              "      <td>...</td>\n",
              "    </tr>\n",
              "    <tr>\n",
              "      <th>995</th>\n",
              "      <td>New_AS_198</td>\n",
              "      <td>AS</td>\n",
              "      <td>New_AS_198.wav</td>\n",
              "    </tr>\n",
              "    <tr>\n",
              "      <th>996</th>\n",
              "      <td>New_AS_199</td>\n",
              "      <td>AS</td>\n",
              "      <td>New_AS_199.wav</td>\n",
              "    </tr>\n",
              "    <tr>\n",
              "      <th>997</th>\n",
              "      <td>New_AS_200</td>\n",
              "      <td>AS</td>\n",
              "      <td>New_AS_200.wav</td>\n",
              "    </tr>\n",
              "    <tr>\n",
              "      <th>998</th>\n",
              "      <td>New_MVP_199</td>\n",
              "      <td>MVP</td>\n",
              "      <td>New_MVP_199.wav</td>\n",
              "    </tr>\n",
              "    <tr>\n",
              "      <th>999</th>\n",
              "      <td>New_MVP_200</td>\n",
              "      <td>MVP</td>\n",
              "      <td>New_MVP_200.wav</td>\n",
              "    </tr>\n",
              "  </tbody>\n",
              "</table>\n",
              "<p>1000 rows × 3 columns</p>\n",
              "</div>\n",
              "      <button class=\"colab-df-convert\" onclick=\"convertToInteractive('df-e589e261-4ff6-43b8-b1f9-5bac472ab16e')\"\n",
              "              title=\"Convert this dataframe to an interactive table.\"\n",
              "              style=\"display:none;\">\n",
              "        \n",
              "  <svg xmlns=\"http://www.w3.org/2000/svg\" height=\"24px\"viewBox=\"0 0 24 24\"\n",
              "       width=\"24px\">\n",
              "    <path d=\"M0 0h24v24H0V0z\" fill=\"none\"/>\n",
              "    <path d=\"M18.56 5.44l.94 2.06.94-2.06 2.06-.94-2.06-.94-.94-2.06-.94 2.06-2.06.94zm-11 1L8.5 8.5l.94-2.06 2.06-.94-2.06-.94L8.5 2.5l-.94 2.06-2.06.94zm10 10l.94 2.06.94-2.06 2.06-.94-2.06-.94-.94-2.06-.94 2.06-2.06.94z\"/><path d=\"M17.41 7.96l-1.37-1.37c-.4-.4-.92-.59-1.43-.59-.52 0-1.04.2-1.43.59L10.3 9.45l-7.72 7.72c-.78.78-.78 2.05 0 2.83L4 21.41c.39.39.9.59 1.41.59.51 0 1.02-.2 1.41-.59l7.78-7.78 2.81-2.81c.8-.78.8-2.07 0-2.86zM5.41 20L4 18.59l7.72-7.72 1.47 1.35L5.41 20z\"/>\n",
              "  </svg>\n",
              "      </button>\n",
              "      \n",
              "  <style>\n",
              "    .colab-df-container {\n",
              "      display:flex;\n",
              "      flex-wrap:wrap;\n",
              "      gap: 12px;\n",
              "    }\n",
              "\n",
              "    .colab-df-convert {\n",
              "      background-color: #E8F0FE;\n",
              "      border: none;\n",
              "      border-radius: 50%;\n",
              "      cursor: pointer;\n",
              "      display: none;\n",
              "      fill: #1967D2;\n",
              "      height: 32px;\n",
              "      padding: 0 0 0 0;\n",
              "      width: 32px;\n",
              "    }\n",
              "\n",
              "    .colab-df-convert:hover {\n",
              "      background-color: #E2EBFA;\n",
              "      box-shadow: 0px 1px 2px rgba(60, 64, 67, 0.3), 0px 1px 3px 1px rgba(60, 64, 67, 0.15);\n",
              "      fill: #174EA6;\n",
              "    }\n",
              "\n",
              "    [theme=dark] .colab-df-convert {\n",
              "      background-color: #3B4455;\n",
              "      fill: #D2E3FC;\n",
              "    }\n",
              "\n",
              "    [theme=dark] .colab-df-convert:hover {\n",
              "      background-color: #434B5C;\n",
              "      box-shadow: 0px 1px 3px 1px rgba(0, 0, 0, 0.15);\n",
              "      filter: drop-shadow(0px 1px 2px rgba(0, 0, 0, 0.3));\n",
              "      fill: #FFFFFF;\n",
              "    }\n",
              "  </style>\n",
              "\n",
              "      <script>\n",
              "        const buttonEl =\n",
              "          document.querySelector('#df-e589e261-4ff6-43b8-b1f9-5bac472ab16e button.colab-df-convert');\n",
              "        buttonEl.style.display =\n",
              "          google.colab.kernel.accessAllowed ? 'block' : 'none';\n",
              "\n",
              "        async function convertToInteractive(key) {\n",
              "          const element = document.querySelector('#df-e589e261-4ff6-43b8-b1f9-5bac472ab16e');\n",
              "          const dataTable =\n",
              "            await google.colab.kernel.invokeFunction('convertToInteractive',\n",
              "                                                     [key], {});\n",
              "          if (!dataTable) return;\n",
              "\n",
              "          const docLinkHtml = 'Like what you see? Visit the ' +\n",
              "            '<a target=\"_blank\" href=https://colab.research.google.com/notebooks/data_table.ipynb>data table notebook</a>'\n",
              "            + ' to learn more about interactive tables.';\n",
              "          element.innerHTML = '';\n",
              "          dataTable['output_type'] = 'display_data';\n",
              "          await google.colab.output.renderOutput(dataTable, element);\n",
              "          const docLink = document.createElement('div');\n",
              "          docLink.innerHTML = docLinkHtml;\n",
              "          element.appendChild(docLink);\n",
              "        }\n",
              "      </script>\n",
              "    </div>\n",
              "  </div>\n",
              "  "
            ],
            "text/plain": [
              "     audio_names audio_label       file_audio\n",
              "0     New_AS_001          AS   New_AS_001.wav\n",
              "1     New_AS_002          AS   New_AS_002.wav\n",
              "2     New_AS_003          AS   New_AS_003.wav\n",
              "3     New_AS_004          AS   New_AS_004.wav\n",
              "4     New_AS_005          AS   New_AS_005.wav\n",
              "..           ...         ...              ...\n",
              "995   New_AS_198          AS   New_AS_198.wav\n",
              "996   New_AS_199          AS   New_AS_199.wav\n",
              "997   New_AS_200          AS   New_AS_200.wav\n",
              "998  New_MVP_199         MVP  New_MVP_199.wav\n",
              "999  New_MVP_200         MVP  New_MVP_200.wav\n",
              "\n",
              "[1000 rows x 3 columns]"
            ]
          },
          "metadata": {},
          "execution_count": 6
        }
      ]
    },
    {
      "cell_type": "code",
      "metadata": {
        "colab": {
          "base_uri": "https://localhost:8080/"
        },
        "id": "-W9qC0of6U3x",
        "outputId": "4f0353ee-ac9b-4fa8-efdd-f751a7f42e3f"
      },
      "source": [
        "def signal(path, audio_df):\n",
        "  signal_ori = []\n",
        "  for idx, rows in audio_df.iterrows():\n",
        "    path2 = os.path.join(path, rows.file_audio)\n",
        "    signal, sr = librosa.load(path2, mono = True, duration=3, res_type='kaiser_fast')    # Read audio\n",
        "    signal = np.interp(signal, (signal.min(), signal.max()), (-1, 1))    # norm audio to (1, -1)\n",
        "    signal_ori.append(signal)\n",
        "\n",
        "  signal_ori = np.array(signal_ori)\n",
        "  print(signal_ori.shape)\n",
        "  return signal_ori\n",
        "\n",
        "path = '/content/gdrive/MyDrive/dataset/'\n",
        "signal_ori = signal(path, audio_df)"
      ],
      "execution_count": null,
      "outputs": [
        {
          "output_type": "stream",
          "name": "stdout",
          "text": [
            "(1000,)\n"
          ]
        },
        {
          "output_type": "stream",
          "name": "stderr",
          "text": [
            "/usr/local/lib/python3.7/dist-packages/ipykernel_launcher.py:9: VisibleDeprecationWarning: Creating an ndarray from ragged nested sequences (which is a list-or-tuple of lists-or-tuples-or ndarrays with different lengths or shapes) is deprecated. If you meant to do this, you must specify 'dtype=object' when creating the ndarray\n",
            "  if __name__ == '__main__':\n"
          ]
        }
      ]
    },
    {
      "cell_type": "code",
      "metadata": {
        "id": "NvJBtSVGdN-Y"
      },
      "source": [
        "!mkdir audio_denoising_file"
      ],
      "execution_count": null,
      "outputs": []
    },
    {
      "cell_type": "code",
      "metadata": {
        "id": "8oFW7C1uqX6b"
      },
      "source": [
        "#hasil denoise dalam bentuk wav\n",
        "def denoise(path, audio_df):\n",
        "  #denoising = []\n",
        "  signal_noise = []\n",
        "  for idx, rows in audio_df.iterrows():\n",
        "    path2 = os.path.join(path, rows.file_audio)\n",
        "    signal, sr = librosa.load(path2, mono = True, duration=3, res_type='kaiser_fast')    # Read audio\n",
        "    signal = np.interp(signal, (signal.min(), signal.max()), (-1, 1))    # norm audio to (1, -1)\n",
        "\n",
        "    # Make a noise\n",
        "    noise = get_white_noise(signal,SNR=10)\n",
        "    temp1 = signal+noise\n",
        "    signal_noise.append(temp1)\n",
        "    \n",
        "    # Denoising using wavelet\n",
        "    x_denoise = denoise_wavelet(temp1, method='VisuShrink',mode='hard',wavelet_levels=3,wavelet='db8',rescale_sigma='True')\n",
        "    #temp = np.expand_dims(x_denoise, axis=0)\n",
        "    #denoising.append(x_denoise)\n",
        "\n",
        "    temp = '/content/audio_denoising_file/'\n",
        "    saving_path = os.path.join(temp, rows.file_audio)\n",
        "    sf.write(saving_path, x_denoise, sr, 'PCM_16')\n",
        "  \n",
        "  return signal_noise, noise\n",
        "  #denoising = np.array(denoising)\n",
        "  #print(denoising.shape)\n",
        "  #return denoising\n",
        "\n",
        "path = '/content/gdrive/MyDrive/dataset/'\n",
        "signal_noise, noise = denoise(path, audio_df)"
      ],
      "execution_count": null,
      "outputs": []
    },
    {
      "cell_type": "code",
      "metadata": {
        "colab": {
          "base_uri": "https://localhost:8080/"
        },
        "id": "lygEuoirCm9J",
        "outputId": "1616a7f0-18b7-4b6e-f1ba-e0f4fa259ac8"
      },
      "source": [
        "#hasil denoise dalam bentuk list/array\n",
        "def list_denoise(path, audio_df):\n",
        "  signal_denoise_list = []\n",
        "  for idx, rows in audio_df.iterrows():\n",
        "    path2 = os.path.join(path, rows.file_audio)\n",
        "    signal, sr = librosa.load(path2, mono = True, duration=3, res_type='kaiser_fast')    # Read audio\n",
        "    signal = np.interp(signal, (signal.min(), signal.max()), (-1, 1))    # norm audio to (1, -1)\n",
        "    signal_denoise_list.append(signal)\n",
        "\n",
        "  signal_denoise_list = np.array(signal_denoise_list)\n",
        "  print(signal_denoise_list.shape)\n",
        "  return signal_denoise_list\n",
        "\n",
        "path = '/content/audio_denoising_file/'\n",
        "signal_denoise_list = signal(path, audio_df)"
      ],
      "execution_count": null,
      "outputs": [
        {
          "output_type": "stream",
          "name": "stdout",
          "text": [
            "(1000,)\n"
          ]
        },
        {
          "output_type": "stream",
          "name": "stderr",
          "text": [
            "/usr/local/lib/python3.7/dist-packages/ipykernel_launcher.py:9: VisibleDeprecationWarning: Creating an ndarray from ragged nested sequences (which is a list-or-tuple of lists-or-tuples-or ndarrays with different lengths or shapes) is deprecated. If you meant to do this, you must specify 'dtype=object' when creating the ndarray\n",
            "  if __name__ == '__main__':\n"
          ]
        }
      ]
    },
    {
      "cell_type": "code",
      "metadata": {
        "id": "Iw3onFuniNT2"
      },
      "source": [
        "!rar a \"/content/audio_denoising_file\" \"/content/audio_denoising_file\""
      ],
      "execution_count": null,
      "outputs": []
    },
    {
      "cell_type": "code",
      "metadata": {
        "colab": {
          "base_uri": "https://localhost:8080/"
        },
        "id": "DDH_UX0GFCiP",
        "outputId": "28f19536-b2e1-434f-86f0-4dd8229cd410"
      },
      "source": [
        "snr_list = []\n",
        "mse_list = []\n",
        "rmse_list = []\n",
        "pnsr_list = []\n",
        "\n",
        "for i in range(0,1000):\n",
        "  snr = 10*np.log(np.max(signal_denoise_list[i])/np.max(noise))\n",
        "  mse = mean_squared_error(signal_ori[i], signal_denoise_list[i])\n",
        "  rmse = np.sqrt(mean_squared_error(signal_ori[i], signal_denoise_list[i]))\n",
        "  pnsr = 20*np.log10(np.max(signal_ori[i])/np.sqrt(mse))\n",
        "\n",
        "  snr_list.append(snr)\n",
        "  mse_list.append(mse) \n",
        "  rmse_list.append(rmse)\n",
        "  pnsr_list.append(pnsr)\n",
        "\n",
        "print('SNR: {:.4f}'.format(np.max(snr_list)))\n",
        "print('MSE: {:.4f}'.format(np.mean(mse_list)))\n",
        "print('RMSE: {:.4f}'.format(np.mean(rmse_list)))\n",
        "print('PNSR: {:.4f}'.format(np.mean(pnsr_list)))"
      ],
      "execution_count": null,
      "outputs": [
        {
          "output_type": "stream",
          "name": "stdout",
          "text": [
            "SNR: 15.0236\n",
            "MSE: 0.0004\n",
            "RMSE: 0.0193\n",
            "PNSR: 34.4487\n"
          ]
        }
      ]
    },
    {
      "cell_type": "markdown",
      "metadata": {
        "id": "5coKeLhmvpYB"
      },
      "source": [
        "# **Ekstraksi**"
      ]
    },
    {
      "cell_type": "markdown",
      "source": [
        "run ke-5 untuk proses Ekstraksi"
      ],
      "metadata": {
        "id": "xDrnf6DdyHvU"
      }
    },
    {
      "cell_type": "code",
      "metadata": {
        "id": "Hb01raDivtmX",
        "colab": {
          "base_uri": "https://localhost:8080/"
        },
        "outputId": "35cb99fc-5fd5-4657-f466-46551e0f3bac"
      },
      "source": [
        "!ls \"/content/gdrive/My Drive/sinyal\""
      ],
      "execution_count": null,
      "outputs": [
        {
          "output_type": "stream",
          "name": "stdout",
          "text": [
            "AS  MR\tMS  MVP  N\n"
          ]
        }
      ]
    },
    {
      "cell_type": "code",
      "metadata": {
        "colab": {
          "base_uri": "https://localhost:8080/"
        },
        "id": "OojSYkYXE_Ko",
        "outputId": "85f4bc2d-7870-4ff5-ed0c-949e8100ec2d"
      },
      "source": [
        "from glob import glob\n",
        "\n",
        "#directories audio abnormal\n",
        "data_AS = '/content/gdrive/My Drive/sinyal/AS/'\n",
        "audio_files_AS = glob(data_AS  + '*.wav')\n",
        "\n",
        "data_MR = '/content/gdrive/My Drive/sinyal/MR/'\n",
        "audio_files_MR = glob(data_MR  + '*.wav')\n",
        "\n",
        "data_MS = '/content/gdrive/My Drive/sinyal/MS/'\n",
        "audio_files_MS = glob(data_MS  + '*.wav')\n",
        "\n",
        "data_MVP = '/content/gdrive/My Drive/sinyal/MVP/'\n",
        "audio_files_MVP = glob(data_MVP  + '*.wav')\n",
        "\n",
        "#directories of normal audios\n",
        "data_N = '/content/gdrive/My Drive/sinyal/AS/'\n",
        "audio_files_N = glob(data_N  + '*.wav')\n",
        "\n",
        "print(f'Number of AS audios : {len(audio_files_AS)}')\n",
        "print(f'Number of MR audios : {len(audio_files_MR)}')\n",
        "print(f'Number of MS audios : {len(audio_files_MS)}')\n",
        "print(f'Number of MVP audios : {len(audio_files_MVP)}')\n",
        "print(f'Number of N audios : {len(audio_files_N)}')"
      ],
      "execution_count": null,
      "outputs": [
        {
          "output_type": "stream",
          "name": "stdout",
          "text": [
            "Number of AS audios : 200\n",
            "Number of MR audios : 200\n",
            "Number of MS audios : 200\n",
            "Number of MVP audios : 200\n",
            "Number of N audios : 200\n"
          ]
        }
      ]
    },
    {
      "cell_type": "markdown",
      "metadata": {
        "id": "wjBcUWfx68p6"
      },
      "source": [
        "#**Load random audio file from Dataset**"
      ]
    },
    {
      "cell_type": "code",
      "metadata": {
        "colab": {
          "base_uri": "https://localhost:8080/"
        },
        "id": "JTPo0nXjHMb4",
        "outputId": "b08c5721-edaa-4055-c1b7-9ef984d70181"
      },
      "source": [
        "pathAS=\"/content/gdrive/My Drive/sinyal/AS/New_AS_001.wav\"\n",
        "pathMR=\"/content/gdrive/My Drive/sinyal/MR/New_MR_001.wav\"\n",
        "pathMS=\"/content/gdrive/My Drive/sinyal/MS/New_MS_001.wav\"\n",
        "pathMVP=\"/content/gdrive/My Drive/sinyal/MVP/New_MVP_021.wav\"\n",
        "pathN=\"/content/gdrive/My Drive/sinyal/N/New_N_035.wav\"\n",
        "sinyalAS, srAS=librosa.load(pathAS)\n",
        "sinyalMR, srMR=librosa.load(pathMR)\n",
        "sinyalMS, srMS=librosa.load(pathMS)\n",
        "sinyalMVP, srMVP=librosa.load(pathMVP)\n",
        "sinyalN, srN=librosa.load(pathN)\n",
        "print(type(sinyalAS), type(srAS))\n",
        "print(type(sinyalMR), type(srMR))\n",
        "print(type(sinyalMS), type(srMS))\n",
        "print(type(sinyalMVP), type(srMVP))\n",
        "print(type(sinyalN), type(srN))"
      ],
      "execution_count": null,
      "outputs": [
        {
          "output_type": "stream",
          "name": "stdout",
          "text": [
            "<class 'numpy.ndarray'> <class 'int'>\n",
            "<class 'numpy.ndarray'> <class 'int'>\n",
            "<class 'numpy.ndarray'> <class 'int'>\n",
            "<class 'numpy.ndarray'> <class 'int'>\n",
            "<class 'numpy.ndarray'> <class 'int'>\n"
          ]
        }
      ]
    },
    {
      "cell_type": "markdown",
      "metadata": {
        "id": "sJJR-SjlHn83"
      },
      "source": [
        "# playing an audio file"
      ]
    },
    {
      "cell_type": "code",
      "metadata": {
        "colab": {
          "base_uri": "https://localhost:8080/",
          "height": 93
        },
        "id": "uIWTaWV_H13c",
        "outputId": "7956ec07-5a6d-4af0-b104-c0c8a18f2dd5"
      },
      "source": [
        "print(\"Signal Aortic valve Stenosis (AS)\")\n",
        "ipd.Audio(pathAS)"
      ],
      "execution_count": null,
      "outputs": [
        {
          "output_type": "stream",
          "name": "stdout",
          "text": [
            "Signal Aortic valve Stenosis (AS)\n"
          ]
        },
        {
          "output_type": "execute_result",
          "data": {
            "text/html": [
              "\n",
              "                <audio controls=\"controls\" >\n",
              "                    <source src=\"data:audio/x-wav;base64,UklGRhjBAQBXQVZFZm10IBAAAAABAAEAIlYAAESsAAACABAAZGF0YfTAAQAHBlYFawRQAyYCLQGLAEwAZgCgAMsA7gD1ALwANgBT/x7+4PzM++z6X/pF+q76rvs6/Qv/6QC3AkAERAWbBSkF9wNRAncAfP6X/BX7J/rx+XH6VPte/Jn96/4tAE0BIQKjAhQDkQP/A08EYwQhBKYD/QITAvIAsf9x/nn9+/zv/Ez98f25/qD/iQA1AX4BWAHIAAkASf9//rr9Gf2o/ID8oPzU/P38I/1A/VT9Y/1Z/TT9Ef0A/f/8EP0q/UT9bP2h/db9Bf4r/kP+T/5S/kf+Lv4O/un9x/2t/aL9qf3H/fz9RP6a/gD/cP/p/2UA3gBTAcEBKAJ8ArQCxAKiAlAC0QErAWkAlP+6/vf9Wv3t/K78lPyV/Lb89fxJ/ar9Ef53/ub+W//F/xEAJwD0/37/yv7j/dv8wfux+tf5Vfkz+XH59/mv+p/7wPz8/UP/gwCyAeICEQQhBfQFZQZWBs8F2QR9A9YB+/8W/m/8O/uH+lP6ffrm+p77m/y7/e7+GwA5AWcCrAPdBNYFYwZdBs4FxAREA2wBV/82/WP7Hvpv+VD5jfn2+ZX6V/sD/IH8uvyy/K/83fwo/ZH9GP6y/nT/WAAoAccBLAJJAh4CsAHwAOP/rP5o/TP8NfuU+m76z/qx++n8Tv7L/zYBTQLoAvICcQKjAboAs/+q/sz9Lv3t/AX9Nv1Z/Xf9iP2F/XD9Nf3V/IT8Xvxn/Kr8J/3b/dL+BgBQAZMCtwOdBCUFOwXUBPgD0wKRAUkALP93/lb+1/7w/18B5wJ8BO8F+gZ0Bz0HXQYhBcIDPQKtADr/+P0M/Xv8BPyG+xP7rPpc+jH6EPr5+RD6Yfrk+pD7R/zw/Jb9Of7T/mX/4/9LAKgAAAFPAZQBxAHdAecB7QH3AQ0CKwJMAmoCewJ4AlMC9gFUAXAAV/8i/vH80fvd+jz6CPpN+gT7C/xA/Zr+/f9AAUUC9wJRA3UDeQNMA/ECbAK+AfcAHQAZ/+f9n/xX+zf6X/nJ+HL4Wvh0+Lz4JfmE+cL54Pnn+fr5OPqc+jP7FfxL/dP+nABrAgoEXwU+BnAG1AVeBCECZv96/Ij54vb19Ar0QfSK9YD3xPlB/Kr+iwCdAbIB1QCL/zb+zvx/+4/6GfpU+jn7Svw4/Qz+rv4N/yn/1P4O/jL9cvzX+3r7ZPuV+y/8Mf1j/p7/1gDqAcUCVwOJA1sD+wKGAgUCjQE3AREBLAGEAegBOQJzAoQCVwLkAR0BDADh/sT9wvz4+4X7e/vr+8z86/0d/04AVgEEAjcC3QH9ANX/mv5Z/Tn8c/sp+3T7TPxp/ZX+zP/uANIBYAJ8AiwCtwFOAfEAuQDAAA8BwQHPAvsDGQUhBvgGhge/B4wH8wYsBl8FmgT9A6sDuQM8BC4FWQaSB88I8AnMCk0LWAvwCkkKiAmrCMQH6gYpBpoFPQXpBIgEJAS8A1cD/wKkAkkCCQLzAQYCRAKjAhcDpgNMBPcEmQUgBngGkAZaBtEF+QTmA6sCWQEPAPX+KP60/Zf9sv3t/Un+uP4c/2b/hv97/2f/W/9K/yz/+/6u/lL+7v10/eT8TfzA+177P/tZ+6H7Avxf/Kz8zfyR/Nn7pfoA+R/3M/VO85jxUfCh757vQfBN8Y/yAPR/9db25veN+Mb4yPi0+Hf4D/h/98D28fUa9R/0//La8dDwHPDp7yzw2vDk8SvzofQh9mH3MPiH+G34GPi490X31faT9pf29/aw94b4VPkk+vL6t/t1/BD9gv3q/VH+qv7r/vv+xf5b/sn9E/1L/IL70Ppn+mf60vqk+8D8CP53//YAWAKAA2AE9gRnBc4FHQZYBooGtAbmBiQHTQdXB04HPwc+B14HlwfqB2IIAAnHCbgKwAvUDPINFA81EE4RRhIEE3ITeRMaE1wSTREHEJsOLA3vCwkLhgpiCnoKsAoHC24LxAv0C/ALuwuBC2ALTAtEC0sLWwuBC70L6wv5C+cLrwtWC+IKSAqFCaoIvQfKBtsF+QQsBH8D+QKZAmMCXAKKAvECkgNkBFoFZwZyB14IBQkyCcAIqgf3BckDRwGH/rP7F/nm9jj1EvRE863yY/Ji8pby9/Js8+rzmPR99W/2SvfT99r3b/ec9mv1+vNe8sPwf+/K7qbuBO+h7zzw1PBE8UTxsfB376btoOuw6ePnZuZ45Tnly+Uk5+Xoweqn7F/up+9W8Ejwg+9o7kHtGewj653qrOp46/ns0e6+8L7yr/Rr9t332fhe+bP5AvpA+nP6mvqu+s76//oX+wX71fqM+kn6IfoG+vb5/vke+ln6rvoG+1P7mfvX+xH8S/x3/Ir8gvxX/Az8pfsj+4768fle+e74tfiz+Ob4Pvmp+Sf6rPoe+3H7nvuq+7D7xfvo+yL8gfwM/c39wf7N/94A8wEBA/8D5gSpBUcGzgZJB7QHEwhlCKsI7wgxCWwJngnOCQMKSgqtCiYLswtODO4Miw0XDnoOpA6UDlAO6Q10DfUMfAwiDPoLCgxUDL8MOA3EDVsO7w58D/EPSxCYEN4QDxEgEQQRrBAlEHUPoA62DccM7AtPCw4LKgubC0cMDw3qDb8OXw+tD54POA+rDh0Ojg0TDc4MzwwoDdENlQ5OD/cPfRDGEMcQbhDDD/kONg6IDQsN3wwVDcAN1g4gEHIRuRLOE4IUthRVFGgTKhLQEGUPDg4ADVgMMgyGDBMNpQ07DroO/Q7xDn0Oog2jDKkLtArVCR8JlwhUCFEIWghJCBgIswcKBxQGwAQWA0IBaP+Z/fL7lPqT+QD51vjn+Av5NvlI+Rf5ifiM9yj2lfT/8m7x/u/Z7hPuwu3f7S/ugu7V7g3vCu+87gru/OzL66LqiOmW6OvnlOem5xrotehM6dHpJeok6rnp1OiC5wnmoORf43jiJuKQ4srjxuUy6MbqaO3b78vxBfNp8wLzM/JK8VfwkO9D75/vzvDH8iL1lPcf+p784/7YAE4CRQMSBOkEvAWXBn0HZAhtCZQKmAtYDM4M7Ay2DDIMTgsUCrAIRQftBdAEDgS/A/IDnwSXBawGwweqCBwJ7AgFCHIGdARIAvb/pv2a+/j55Phf+CX4Cvgh+Gf40vhi+fb5hfo4+xn8C/30/aL+7P7i/ov+5/0K/f372fre+TP52vjN+Ob4Avkq+VT5Xvk8+eT4XPja94P3Vvdh97T3UvhQ+av6PPzp/ar/awEbA64EEQY/B1AIVAlJCjYLJAwWDRMOFw8FEMsQaBHWEQ8SFRLjEYIRERGpEFsQQRB1EAcRBBJjEwYVyxahGGMa3xvyHIkdpB1nHfEcPRxYG18aYhl6GK8X4xYOFk4VvBR7FKYULxUMFjsXphgzGrgb6RySHa8dSB2FHJQbcxo8GS0YZRf6FucW8RbuFu8W7xbjFssWjBYhFq8VRhXUFEwUjxOHEkQRzw8mDlcMawp2CKMGEAXAA7MC1QEVAXsAAwCX/y//wP5K/uL9lP1R/RD9xPxi/O/7bvvS+hz6T/l0+J732vYl9nj1x/QG9DPzS/I68fzvj+777FnrwOk36NDmouW85Cbk4OPQ4+HjDOQ/5FzkVOQa5K3jKuOk4hjij+EY4bnge+Bd4EHgE+DZ34zfLd+93jTemN0B3YDcH9zr2+/bMdy33HndX95O3zbg+eBx4YbhLOFp4F7fKt7X3IDbT9pg2cjYh9h62IjYvtgZ2ZLZJdq92lHb9duo3E3dyN3u3Z3d5NzV24raLNna18rWV9a71vrXAdqC3DHf9OGM5Ivmsufg5yLn5eWC5P/ikuGO4CPgguCm4STjseRb5gjom+kJ6yjs+uzX7fPuRfDY8arzrvUD+Kb6YP0OAKYCEwVQB1wJHguYDOYNHg9NEIoR6hJ7FEsWWhiKGsccDR9OIXgjfiVSJ/QofCr6K2QtuS7zLw0xFDILM+YzpTRSNfg1sDaMN4Y4nTnLOgc8UD2ePto/+ED1QdNCo0NxRDlF/UXERpFHZ0hESRRKyUpkS91LMExcTFtMLkzkS4dLH0u2SllKDUrWSbFJiUlNSfRIa0iZR29G6EQJQ+5Asj5dPAU6yjfBNfgzcDINMbovfC5LLRgs3CqCKQQocCbFJO8i2CBjHnsbLRiHFJkQhAxlCG0E6AAJ/tX7QPoS+RH4Lfc09tD0zPIR8Krs6+gb5TjhZ93k2c7WS9RZ0qbQ/M5pzd/LUMq8yAHHG8VEw5fBC8Civkm987u6uqa5p7i/t/e2W7YMtiC2irY9tyS4IrkmuhO7tLvou6i7/roWuhu5Gbg2t6y2nrYctxq4VbmSusi7z7xrvX2977zRu3m6LLn9txu3yLYot164YLrUvHe/OMLpxErHN8mIykPLvss4zLPMT802znvPQNF909vVIthN2kHc5N0q3/XfSOBq4IrgsuAA4Y3haeKt41XlKucA6c3qcezL7cfuUO9r71DvKe/97uruEO+D71/wo/Eh87r0c/ZB+Bj69fu8/Wf/EgHCAmcE8QVGB08IGQmmCfQJCgr0CcYJqQm9CQEKdgoIC6ULVgwUDcsNcQ7/DnkP+g+VEEIR/RHEEpETbhRcFUwWORcjGAsZ+xn5Gv8bCB0VHiAfLCA3ITsiNCMgJPwkxyWBJiQnqycRKFUoeCiBKHgoZyhbKGIokyj7KKApgCqNK7cs+i1HL4UwoTGPMkcz0zM0NFk0NTS7M+UywjFlMN0uSy3aK8MqVSrIKh0sPS7qMNkz4za5Odo78zzoPMY7+jnkN4k1KDMqMcovOS9xL/QvajDmME8xfjFpMeEw6C/oLh4ugC0dLfEs7yw5LcwtYy7WLhAv9C51LostICw8KhEozCWJI3sh2B/HHmAenB5DHyMgMyFKIi4juiPPI2sjyiITIjMhLCAIH8QdexwuG7IZ9RcKFgMUARImEGYOwQxLCwUK+QgqCIUH/AaQBj4GBAbdBaoFTwWrBKcDPwJ9AHH+NPzZ+YT3b/XD843yx/FK8fTwzPDE8LvwofBg8PXviO8u78/uX+7O7QjtHuwX6+Xpjegd56zlZeRo47TiROII4u3h9uEb4jziSeI44gXiyuGT4U7h8+B54NXfD98s3h7d6duV2jHZ2tem1pPVodTJ0wLTU9K50SbRlNAB0G/P8M6OzkPOC87jzcTNsM2izYnNWc0JzY3M3sv4yt3JmshGxwHG5cQexN3DSMRlxSbHXsnZy3zOE9FL0+7U49Ux1h3W4NV61QvVzdTh1GnVZdaQ173YA9pl2+Tcit454OzhzePo5SzohurL7NjuvPB38gb0b/Wu9sX30/jq+Qn7L/xK/VD+UP9VAGMBggKsA98EIwZ2B9EIJQpdC2kMUA0bDt8Osw+gELoRJhP1FCoXuxl/HE0fFyK4JP4myigMKsgqMyt5K6Mr1StCLAgtPS7XL5cxSzPvNGg2jDdHOH84NziuNw43VjaYNek0UDTrM74znjN2M00zIDP2MtcytDKPMoQyozLsMmUzBDTCNKE1mTaON2s4Fzl1OWg53DjINzQ2OzT/MZcvLC34KiQpwCfHJgomXiXDJB4kQCMRIoEgmh6kHNEaJBmzF58W9BXJFRcWmxYnF60XDRglGOIXKBf+FZkUJxO0EWIQWw+2DogOxg4xD5QP4w/7D60P4A6ADZsLfglnB2oFswN/Au4BHQIDA08EvgU/B6EIowkdCu0JGQn4B8cGjAVuBJ0DNQNXA/sDzASPBUMGzQYOB/gGZgZUBQEEjwL4AEX/d/2O+6r52fcE9iz0Z/LL8ITvse5I7kLul+4y7wXw8PC28S3yS/IQ8prxA/E+8FHvV+5a7WvsiOuN6mjpLuju5rrlquS149ziNOLE4Y/hlOHB4QfiZ+Lf4mjj/OOA5Nvk9OS05B3kM+MG4q3gPd/Z3bbc+9ux29HbNNy03FPd+t2A3tDe2t6k3mfeSt5L3nbe4N6N34zg1eEv42/kiOVb5srmxeY55i/l2+Nr4vXgp9+43kveeN4631Tgk+Hw4kXkXOUV5lfmJubK5XXlI+Xq5OjkKeXM5c/m+eco6WHqn+vh7CzuZu+L8L3xCPNo9Nz1VffE+DT6oPv2/C3+Of8SALYAJQFcAWABQQEOAdwAwgDeAEgBBgIXA2ME1AViB/cIbgqtC6YMVg3ZDUEOgA6TDn8OQg7qDXwN4wwfDEMLYwqgCRYJvgiTCI0InAi5CNEIvQhhCLoHzwa9BaEEdgNIAiwBMABi/8T+Nv6q/Sf9sPxI/PP7pPtX+xj76frA+pX6Ufro+WH5xPgd+H738PaI9mr2rfZU91r4pPkY+7D8V/7r/1UBhAJ1A0EE+QSRBQcGXgaUBrcGyQa6BoQGOgbrBbQFrgXTBSIGmAYtB94HoQhXCe4JYwq6CgULVguiC+kLMQx8DM8MKQ12DawNzQ3cDd8N2w3HDaINbQ0pDdYMcQzzC1gLpwrpCSkJdgjaB2YHMAdEB6UHSQgYCfYJ0QqLC/UL8wt9C50KfwlPCBsHCwZYBSkFjwWDBssHNAm8CkYMpA29DnYP0g8MEE0QjhDaEEERxBF8EmcTVBQmFeIVfhb9FmUXoxe2F7kXvRfEF9gX+BcjGGMYuRgVGWwZuBnuGQUa+RnFGWwZAxmYGDUY6BfEF9QXIBijGEMZ7RmXGjIboxvbG88bfhsCG3AaxBkLGVQYphcOF4sWBRZtFckUFxRXE4wSrxHAENIP7g4VDkgNhAzFCxILbwrUCUAJsQgkCJsHFgePBgIGbQXMBBkEUANoAlwBKwDT/lf9uvv/+Sv4SPZe9HLyhvCZ7q3syerz6DDnhuXz43biEeG+33XeLd3R21bavNgK10vVkdPg0UfQ3s60zdDMMMy+y2vLOMscywvL+srdyqzKdco3yubJdMnSyPbH7cbIxZfEeMOKwvrBC8LowpPE+sbnyR3NfNDE05DWntjW2UTaQ9oi2ujZy9kj2iLb8NyF33jif+Wj6Mzrz+6g8RD0IPYj+En6hPzZ/kIBrwM9BuoIgAvgDQMQ3BFvE8IUxRV6FgEXcxfkF3IYOBlJGrIbbh1fH2chdyNxJSonhShxKfUpOSpgKmcqYCplKoMqzSo+K6gr7isULBMs5SuJK+4qEyoVKQUo4SavJWkkDSOoIT0gwR4xHY0b2BkYGFMWhRStEs4Q6A76DAML+wjdBq8EcwIwAPD9t/uN+YH3mvXd80jyz/Bq7xbuy+x86yHqteg658DlU+Ty4qXhduBq34ne0N0w3Z/cHtyo2zjbzdpl2gLatdmN2Y7ZxNk42vHa8Nst3ZDe/99r4bnix+OB5ODk8uTh5NXk5+RC5STmsuf26d/sI/B+89L25PlZ/Pr9q/54/sD90/y/+776JPoi+uH6Wfwe/uP/qQFJA48EYwWdBUoF0gSBBFoEgwQgBT8GCwh9CkINIRAPE+YVhhjZGrEcBh4GH8ofRCB1IFgg6B9AH2oeTx31G3ca+BixF88WShYZFi8WbBbDFhEXDBeFFngV8hMsEl4QhQ69DDwLHgp+CVwJegmwCQwKhwoXC7wLUwzPDEwNyw0yDmcOPw6ZDYIMCQs5CTAHBgXmAh0B3/81/xn/X//Y/4cAUgH9AWoChgJYAiICFAIjAloCzQJ/A4kE6AVmB+MIYQrWC0MNqQ7rD/wQ6xG2ElATrhO1E1YToBKjEXQQNA//DQQNhgy0DJENDg/zEAITIBUOF2YY6Rh8GCkXRxUfE7QQMg7mC/oJmAi+Bw8HTwaUBdME/gMYA/kBmwA+//39xPyJ+yf6gvi29s70wPKW8FzuJewm6oHoNOc75n/l6OR75C3k3uN84/7iY+LJ4UXhy+BY4PDfjN863/zevN513ize6N253azdvN3p3Tjeq95G3wzg9uAB4i3jd+Td5V3n6Ohz6uvrRO147oLvYfAV8Znx7fEV8hjy/vHR8ZjxY/FN8XbxBvIa87T0y/ZH+Qb88v7hAY0ExgZ5CKUJcwoEC0oLTgsvC/sKxwqXCkEKtAkOCWYI3AeRB3QHgQe/ByYIqAgtCXsJbgkLCV8IjwfCBvgFSAXgBNoEQgUSBhUHIwg7CUoKNAvoC1AMaAxYDDoMCAzIC4ILNAvvCrAKVgrQCR4JPAgrB/IFhgTvAkQBmf/4/XP8Fvvr+fz4S/jF9133Cve79ln21PUi9UH0Q/M28hPx3u+d7lXtE+zf6rHpjeiJ57zmRuZA5qLmXudi6Izpxerl66js4uyN7Ljrm+pt6UDoQOe65t3mwedd6WTrmO3572PyovSa9in4VPlp+pz75/xd/hMADAJkBBUH2wmJDBkPdRGNE1oVxBbLF6EYZRkkGvka+hs3HcMemCCKIngkWCYNKHkphiohK0wrMivzKowqDyqOKRQptih2KDAo0ydnJ+smZibcJT8liyTRIxYjUCJ3IXYgOx/NHTAcZRp0GF4WKxTvEbcPhg1dCy4J8gawBGoCHADI/Wr7A/mi9kz0AfK/74LtSOsW6e/m0eS94rXgut7T3ATbTtmx1y3WxNR300vSQNFY0JPP8M5uzgvOxM2WzXnNaM1gzVzNW81ZzVHNPM0VzdnMjMwzzNbLgctDyzDLYsvry8rM8c1Fz6XQ+tEi0+TTH9TN0wHT99Hs0PrPWM9YzyvQ5NFv1GzXhNqd3W/gk+LM4/fjI+PL4VLgzN6A3dHc/Nw13nHgM+Mc5i3pNuz37lDxCPMi9A31DPYS9zP4evnl+qP8t/7ZAOcC6gThBuQIBwsnDTwPWhF/E6MVuBeWGSMbaxx2HVUeIR/gH6ggqCH5IqEkmia/KO0qIS1DLysxwTL2M8s0azX1NWU2yDYzN7A3VTgnOQc66TrbO+Y8GD58PwJBn0JVRBhG0UdlSaJKZUuuS4RLAUtCSlFJSEhfR7ZGXkZWRnZGoEbhRjRHiEfWRwpIHkgxSE1IXEhJSPhHTEdSRg5FekOjQY8/UD0SO+844zbkNNAyhzAFLjcr9icvJNofARvYFYoQJAvEBZQAsPsx9x3zS++g6yHowuRu4R7ewdpa1xPUBtErzojLG8ngxuHEGcNjwaq/5b0FvAS63reHtQSza7DTrUyr8qjjpjel+aMqo7CidKJzopui0aICoyajQaN7o/Gjn6SRpdamcqh1qt6si69nsnS1qbgCvHy//8J9xvnJac240NLTltbv2OXagdza3RDfPuCP4UnjmeWE6Prrv++U82L37/re/ff/JQF5AVIBBAGdAFQAfwBPAeUCMQW9BysKbQxKDnQPwg8ID1INFwu0CDYG2QPkAX8A4v8NAJ0ATwEoAgwD2gOCBNQEyQSrBJoEgARUBP4DZgOrAtgB0gCb/0n+9/zn+0X7Cvsu+5/7QfwX/Q/+9f6u/zIAiQDhAF8B+wG+Ar4D/wSOBl8IPAr/C5oN9A7yD4QQlhArEG8PhA56DXIMlAv9CsUK7gpRC9ULfwxEDREO3A6RDysQyxB8ESoSwhItE1ITPRPwEmISmRGdEH8PaA52DawMDQyQCy0L+Qr+CjoLsQtZDCoNJg5BD10QVBHzERMStxHvEN0PrQ53DWoM1wvxC8IMOw4OEPQR3xOfFeEWdxdFF1MWAxWhEzIS4xDxD30Prg99EIoRkRKOE14U2BTpFGwUahM3EhER/Q8fD5cOdA7cDswPARFQErMTEhVWFnMXSBjQGDoZnBntGTIaZhqDGpwatBquGoMaOhrbGX4ZNBnxGLAYcBgpGNYXaxfKFuIVsRQ5E4sRtQ+zDYkLRwn0BpsERALj/3f9EPu8+Ir2ifS18gvxjO8t7ufsqOtT6tHoIOdA5UHjMuEP39zcrNqI2HnWg9SU0qXQxs4DzWjLBMrSyNDHBsdwxgnGycWXxWbFNMUGxebE4MTtxBHFV8XDxVbGD8fcx7HIkMl1yl/LT8w/zTHOMs9M0IPR4NJr1CbWENgi2kPcX95h4C3iouOp5EDld+V65XnljuXu5eDmkugV61nuGPIO9ib6J/64AaMEyQYzCD0JMAoOC/8LRQ0AD1QRNxRGFzoaFh28Hwci7CNBJQkmkiYQJ4En/ieUKEcpOSpnK5ossS2mLmUv5C8eMPoveC+7Ltgt0iyxK3kqLSneJ48mKyWqIxAiYSClHuccHxtOGYAXuxX/E0wSmRDhDiwNfwvhCVoI7QagBYIEmgPqAnICJwICAgECHQJLAoQCwgIEA1IDsgMfBJwEKgXIBXgGNgf0B6sIVgnzCX0K9ApaC7ULGAyUDDgNGg5TD/MQ/BJlFQ4Y1xqoHVsguCKXJOglqSYBJxEn1yZnJuYlaiUCJagkKCRdI1Ai+SBQH1UdABtbGJ8V9hJxEC0ORgzKCskJOwnwCLwIfwgJCBgHgwU3Az8A2/xL+Z/1DPLg7k3scupL6Yno8eeM50Ln7uZ+5tLl6eQQ5HDj++K44p/iqOLv4nbjE+S25GDlEubg5tfn5egC6jTrdezF7R/vbfCh8bvytvOR9E313vU89mb2WvYd9rX1LPWQ9PPzbvMk8yrzg/Ml9Pb01/W19m73y/en9/b2vPUn9GHyafBZ7l3sj+oH6cnnqeaO5YvkpuPi4krix+FV4Qrh6ODb4MzgkOAG4DnfM94C3cHbetpH2V/Y5dfi11DYCdns2f/aNtxx3aPetd+i4IrhfeJm4zjk5ORZ5aLlw+Wt5WLl6+RY5MzjYuMb4/ji9uIO40/jv+NV5BHl8uX75jrot+lk6zXtG+8C8evy0PSm9mf4CPp9+8P82v3F/o3/QAD0AMcB5AJ+BLwGngkWDfYQChU1GT4dyyCiI64l+ibTJ38oAimIKV0qqSuILe4vdjLSNAE33DgyOuk64DofOgs56jfINtE1MzUGNW81aDabN8k44Tm0OhA71DrXORc42zVRM3MwWS0ZKsAmcSMxIM8cMhlyFZoRxA0JClwGvgJQ/xz8I/lj9sDzKvGw7lrsN+pV6LHmUeVG5JjjQuM742LjnOPb4wfkAOSz4xfjMuIm4RbgFd9K3ujdEt7R3hjgqeFN4/DkY+Zf57rnYudl5hvlz+OQ4pbhK+F94bDivORE5//p6OzS74Hy1PSd9tv34Pjf+cv6sfuf/Jb9t/4CADsBQwImA+cDmgRUBf8FnQZJBxAI9wgFCikLWwyiDf8OaBDXEToTgBSYFXgWHBeLF9IXBhgzGHEY5RijGasa6hsxHVIeNB+tH30fgB6uHB4aIRcIFPgQOw47DDkLVQt/DE0OXRCXEq8UMRbVFmkW8RTlEp4QDw5eC8cIZgZ2BAIDqgE/AOv+wP3l/H/8Z/yW/DT9Qf6o/0kB0QIHBPQEngUVBnQGqwbBBuIGIQeDBwAIZwiWCJ0IfQgzCMgHLgdmBpQFzQQWBHoD/AKbAmgCZAKFAsACDwNiA64D6QMKBBUEFwQbBCEEMARRBIkE3QRJBbkFHgZ4BsMG+gYZBxYH7AaiBjgGqQXvBAME4AKQAR0AlP4J/ZD7QvpJ+b34ovju+IP5PfoJ+8H7JvwP/G37RPrE+Bj3PvVQ83nx1e967mvtc+x164LqnunK6A7oVeeY5vPlbeXz5HTkyePV4qbhRuDA3izdktsM2svY7td512TXidfE1xLYX9iD2GfYAdhV15jW8dVm1QvVA9Va1STWWdfE2Dras9sT3TbeC99+35bfit+E35Dfz99p4HXhBeMO5VLnnunh6/Xtp+/a8HjxivFZ8R7x6PDh8EDxKPKz89r1Uvje+nf99/8sAvkDPAX1BWgGwAb4Bh8HSAd7B9wHcwgZCcAJgQpuC6gMTQ5IEJMSMhUVGCwbVx5YIQEkTCY4KNYpOitULCUtxC09Lpwu5i4DL+ouvS6WLpou7C6GL2gwljEHM7c0kzZwOC46zDtIPbo+MkCaQelCH0Q1RStG/kaOR8xHukdaR7lG40XQRINDB0JlQKw+8jxCO6k5LDjINnQ1HzS9MjMxXS8jLXwqcScbJJYg4xwPGTkVcxHNDUsK0QZSA97/fvw5+Rv2F/Mm8FbtoOr450nlb+JR3/HbVtiP1LDQvMzGyPPEWcEFvve6F7hUtbyyUrARrvyrBqosqICmBqWuo2miHqG3nzuerZwRm3GZ0Zc9ltKUpJO5khGSnJFSkT2RY5HCkVySJ5MdlESVlpYBmG+Zv5rbm8ecj51JnhOf/Z8podCiFqUCqI2riK/Hs0O43rxhwa7Fq8lYzeTQc9T313Tb+t6M4kPmJuoX7gvyHfZg+vn+BQRxCS4PLxVVG4ghmydBLUMylzY9Ol09G0BxQnNEUUYoSAtK/kvOTV9PzFAfUmNTqFTXVedW7FfiWLFZOVo/WppZTlhlVvFTEFHFTSVKZUamQvo+ZjvKNxM0XjC4LCcpuiVmIiofHhxIGZkW/hNREXYOcwtQCBcF2gGZ/l/7Tfh49enyo/CR7qns/uqd6Y7o2ud151Pnc+fF5zDokui26Hno3efu5tHls+Sl49Pih+Lt4hTk7+U56LPqVO3x70fyLPSF9Vf28vaS9zP48fj1+U/7Hf1W/6kB3gPwBcMHOglJCs4KyQp4CgAKZwnCCCYIngdLBzcHQgdhB6IHDAiwCJoJuAoCDH8NJg/dEIgS7xPrFHgVmBVZFdIU/hPwEtIRvhDGD+8OJQ5dDboMVgxIDKkMbQ2IDv0PthGVE2wV7hbkF0YYGxiHF7AWlBVJFAkT8xEZEXcQ0w8GDyQOLw0iDAgLzQl0CC8HGAYtBXUE5QNzAy0DEwMNAwwD/wLPAm4CzgHqAMf/ff4l/dH7o/rG+Vb5W/nK+XX6MPvw+5H83vy2/Aj83vp2+QP4jPYz9SX0ffNN84jz4PMY9CD0y/Ph8kbx3u646yroeeS+4DDdGNqi1/LVBNWA1CLU49OW0/7S+tFm0EzOCcziydfHCMafxKvDVMOUwxzEtsRixQjGl8YHxzXHH8f6xufG48b7xjHHhccTyODI0MncygzMZs3+zuLQBtNl1QTY3drm3RHhPeRT51PqQO0l8BHzAfb++Bz8aP/nApYGXwozDhcSCxYKGhQeFSIBJtQpgC3sMPwzhDZqOLI5bDq3Or46njqLOtY6szssPTA/eEG9Q+hFvkfdSApJJUg5RqdDv0CAPRc6yTa5MxMx0y6ZLCQqgiehJGsh4R3hGXIV5RBuDBII5wP4/0b88/gB9kLzmfD/7V/rrujl5fLi29/H3NLZB9d/1FHSjNA3z0fOiM3PzAjMDMusycvHVcVTwv2+hbv7t4i0Z7G+rqusMKsXqjipnqg7qPinzKeep26ncqfDp1KoGakHqgqrOqyarRmvt7B8snW0ybaNubm8QMARxBHIPcyA0LTUwdik3GDgG+Tz5+/rIvCw9Kv5Hv8CBSYLYxGvF+0d9iOyKQQv6DN+ONw89kDMRGNIukvgTtRReVTDVr1YcFrwW1FdiV6WX4NgTmH5YX5iy2LRYpViGWJoYYlgdF8lXp9c4FrtWMhWbVTcUR5PPExFSUdGSkNYQH09xzpKOBo2TDTxMgwynTGcMfkxpTKJM3w0XzUgNrU2IzdrN3M3KzeKNoY1JzR1Mm4wJC67K2QpZSf0JRclyCTtJF4lGSb8JsUnSSh1KEooASi9J2Qn8CZmJrwlBSU+JDgj3SE3IFAeQhwmGvEXoxVPE/wQvQ6kDLAK6AhSB+4FuwSwA7wCyAG1AGv/5v0n/EH6Rfgy9hH0/PH97xfuQuxZ6kDo9OVp447gXt3R2e7V3dG/zaXJrsX6waW+yLtvuYe3B7b6tF+0MbRrtPi0xrXWthK4T7lZuum6ybrvuVq4GrZNs/qvSayFqOOke6FVnkubSpiAlQmT9ZBcjzKOdY1FjaKNa451j3GQI5GVkdOR/pE+kpSSG5MXlK6V7ZfJmv+dW6HppKCoaKw6sP2zrreDu5u/8cONyGzNidL317LdmuOa6ajvtfW5+60Bgwc3DdoSeBgRHq4jVykML9A0mzpQQNZFI0sgULhU2lh+XKhfdmIEZVxnmGnZazVutXBSc+N1Qnhmei98dH0efhx+eX1rfCF7o3kSeJl2U3VWdKNzA3NPcolxnXBwb/VtFGzOaVBntWT3YRxfJlwSWfVV0lKNTx5MjUjfRCdBdj3HOR42jTIcL9krzCj4JV4jAiHhHvQcMRuGGd4XHxY0FBcSzg9pDfwKjggwBgQEGwJ+ACT/6v2y/Hv7NvrL+C73UvU68w7x6e7O7Mzq9ehS5/Hl0uTU4+Hi9eEB4fbfzN533f3bfdoP2bvXj9ah1frUqdSu1O3UU9Xf1YbWPNf216DYL9mn2QPaLtoQ2o3ZkNgm12DVVdMs0QzPLc3ny3XL5sswzR3PcdEi1PzWqNnt26zd5t7q3+3g2uG34qDjmeTC5RvnYehz6WjqS+s97FrtjO7M7zLxwfJ39E/2JPjg+Yf7F/2T/gAARwFYAiwDuQP8A/MDlwPmAucBpgA3/6n9APw7+lT4SfYk9Ozxoe9I7eLqcugF5qHjQOHe3nDc7dla177UHdKAz+nMXcrpx5fFb8N2way/Fb6/vLm7EbvUugG7lruPvOK9h79twXrDmcXFx/rJRMyszijRuNNl1i/ZGtwi3zPiQ+VW6HLrnO7a8SX1ePjW+zz/pQIKBl0JkgyrD6kSlhV4GE8bHR7tIMEjmiZxKTQs1C5JMYQzczULN0Q4HDmjOeU55TmuOU450Dg/OJ433zb7Nfw05zO+MokxQjDsLpItOizfKnspAyhuJsEkBSNAIX4fwx0aHJYaRBkgGCQXNxZCFToUCxOVEccPmg0YC2IInQXYAjIA3P3w+3z6dfmn+OP3G/cq9tn0BfOe8Kvtceoo59jjp+DI3VrbfNkv2DPXXda11SjVodQZ1HfTv9Ir0t7R1tEd0rjSpdP/1MrW6NhO2wDeAOFa5BXoHexi8N/0f/ku/tACNQc9C+AOIRIQFcQXQhqhHA4fpSFwJG4ndypxLWUwTDMTNrM4GjtEPU0/QUELQ5xE20WzRi9HWEcqR7JG+0UYRTJEaEO4Qh1CgEHJQPg/AT/HPTo8UjoTOKM1HTN/MNUtLiuTKBYmvyN4ITkfDB32GgMZOxeQFfgTdRL6EHUPzw3gC48J4AbeA6gAYv0g+gn3X/RJ8tHw6+9Z7+TufO737Qztketv6a3ml+Ns4C3d/NkP14DUcdLg0ILPJ87UzHnLAsppyI3GbMQ5wg/A4r2zu3a5HbfEtHSyHbDErXarR6lfp9ultaTro3SjP6NLo4uj2qMkpGOkm6TmpFul8aWvpqGnz6hEqgSs+a0bsHayErX8tz+7zb6Zwp3GxsoBzzHTKtfM2hneG+H248/muunc7HXwrfSL+QH/ygSmCoMQLxZdG94fkyOBJvYoLysrLQwvBDEwM7U1lDiEO1s+KEHmQ5BGLEmcS95NIVB5UthUOFd7WYhbbV0kX5hgvmGJYuxi7WKQYsxhpWAhX0pdN1sBWcdWoFSUUptQpU6cTHdKIUh0RVhCyD7OOpY2RjLfLXgpMSUeIVQd2BmHFkwTMhA4DVsKnAfkBCgCcf+3/OH50vZf82fv8+oQ5tfga9vn1XvQd8sSx1vDT8C/vX27jrnaty62bLR/sm2wd67JrFKrF6odqWGo+6fwpxWoVqi+qFKpKKpRq7KsPa7pr6CxUrPjtCC26bZFt0a3Gbf0tvK2TLdWuEa6Lb3/wHDFN8pCz1TUD9k33aTgVeOg5cHnp+lk6x3t4O7W8APzIPUL9+X4wPrB/Ar/fQEPBNMGwAnDDL4PaBKTFEsWohfCGNwZ+xpCHPsdTSBCI8smlypfLhUyiDVuOJ46+juKPKk8njx2PGQ8rDx0PeI+70A8Q4ZFyEfcSZBLyUxgTVVN+0yFTO1LQ0uXSu1Jb0klSeFIlEhRSCZIMkiPSCFJ2EmySpRLZUz3TP5MRkzUSrdII0ZWQ2VAiD0hO2w5fjhJOHI4qzjtOAY5pTicN8c1MDNAMEQtOypIJ50kUiKVIGYfcR6BHaIcxBvfGvQZ3xibF1wWOhUqFCwTKRIPEfIP0w6dDUcM0wo/CaMHCwZsBMECBQEv/0H9OvsL+a32IvRt8ZzuvOvO6Nvl7+IT4FDdq9oh2LHVYtM40TfPYc2xyyLKschWxwLGocQaw1rBXr8svdK6ZrjxtYezULFkr86tjKyGq6aq9KlrqfyooKhJqPKntKeUp4KncqdNpwSnnKYbpn2lyaQFpEKjoKI4ohOiOqKtonGjnqRJpoGoUauvroiyyLZKu+K/TsQ3yF3Lss1Cz0HQ6tBQ0arRXdKm06HVRdg52zXeSeFc5Dzn2OkJ7NTtke918W7zg/Wt9+D5QPzT/msB9gN4BvMIfwssDuMQmBNMFu8YfBvjHQEgwSEpI0MkKyUAJtEmwScCKbYq7SyhL68y8jVqOf08gUDdQ/dGzEl/TCZPqFH/UyBWAFipWRxbO1z7XGhdjl2NXX5dXV0sXfNctFx/XGFcWFxnXJNc31xVXfddt16GX09g/mCRYQpia2K7YvFiDWMZYxZjAmPYYoRi9mE0YTtgDV+uXRpcU1pnWGFWS1QxUh9QHE4vTFVKg0itRshExEKGQP89KjsLOLs0TzHKLTsquyZYIxog/RziGa8WZRP2D1EMbQg6BLj//vod9g/x2et/5gLhddvh1UXQp8oexb6/qrr8tbix4a13qnGn0KSKooGgop7hnDSboJkhmJeW55T1kquQEY40iyWIBYX8gQCAAIAAgACAAIAAgACA4YCzgiaE/4QjhZ+E3IMvg5iCQoJ4glyDGIWjh5GKlY2xkMKTopY+mWibHZ2unkmg6aGdo22lV6eDqfWrga4XscKziLaBucC8MMDHw43Hd8t3z3bTRNe/2uzd0OCC4xzmougp697t3vA59PL37vsbAI0ESglSDqkTPBn9HvMkESs0MTQ30zzgQVhGOUqRTXZQ6FL9VOhWzVi6WrZcol5vYD9iKWRBZploIWvMbaFwjHNodv94/HokfHt8FnwtewF6qXhdd4p2cHYld514dnpefFZ+/3//f/9//3//f/9/2n+CfgV9c3vMeTV4qnbhdK1yFnARbahp52W2YRhdO1g7UydOF0kURCU/YjrMNVAx3yxxKPQjVR+IGocVVxAZC+cFxgDH+wD3fvJJ7lnqheat4sfevNpv1s/Rzsxux9jBK7xxtsSwRqsPpjihyZypmMyUQpESjkCL1YjFhg6FxYPsgnOCRoI/gkGCTIJcgm6ChYKVgpuCqILDgu6CLINyg8KDNITghOSFWYc8iYaLK44XkTuUfJenmpmdSqC+ohildafOqS2srK5asUi0ebfMujK+vcF3xXDJts030unW0dvh4AXmI+sH8I/0t/iB/P7/RANQBi8JBQzlDtgR2hTGF4IaGR2HH8Qh0iOiJTQnpigDKkkrdSx/LV4uHi+/LzswjTC1MLAwhjA7MNAvSi+yLhAucS3lLHosPiwzLFYsmSzvLE4tpS3YLdMtjy0LLVosiiuWKoYpZig/Jxom/STXI6IibyFKIEMfah63HSIdqxxEHOEbbBu9GrsZZRjBFusU/BL6EPoOIA2FCzQKLQlOCHwHvwYQBl8FpgTSA9wC2wHTALP/bP7o/BX7BfnE9l/08fGV73Ttz+vS6oHqzeqJ63/sne2y7m/vnu8r7x/uwuxS68/pWugs52XmJuZv5vbmjedD6BHp7+ng6sPrkux87ZLuw+8E8TXyPPMq9AP1uvVT9tD2OPer9z747vi4+Y/6aPtN/ED9N/4x/ykAHwEiAjcDVgR6BZcGpgesCKsJoQqUC4QMdg13Do4PuBDxESsTWRR3FXwWVxcAGHIYrRi/GLYYlBhgGCoY+hfdF9YX3hfzFyEYbhjkGIcZUBo1GzAcMx0nHu8eYR9gH+ce/R29HEUboRnuF2EWHRUsFIgTARNtEs4REBENELUO9QzWCpEIUAYUBPAB+/9A/tj8w/vY+v35M/ls+KL3z/bf9dD0u/Ou8qLxl/CG72ruTe0x7Arr1uma6F7nMuYl5S/kTON24qLhzeDs3+reud1Z3M/aLtmI1+HVRtTM0n/RatCOz9fOOM61zUjN6cyTzD7M5suay1/LLMv8ysXKgMo4yvXJv8mlybfJEMrUyh7M580h0KfSTtX914XaoNwh3v3eQd8w3wrf4d7t3oHfzuDw4tvlM+mt7EDwwPPi9oL5dvvE/Mr9x/64/7UA4gFMAx4FWwe6CRcMfg7sEGgT/hWNGA0bnB1BIOwijiX/JyAq/iudLf8uMzA6MSMyFTMoNF01sTYKOFI5kDq9O8g8qD1YPts+VD/YP2lAEEHXQcFC2EMaRWxGukf7SB9KFEvMSzdMTkwdTKlL60riSY1I7kYORfhCqEArPpY7BjmiNoc0szIeMbQvVy72LG0rfSkBJ/EjXCB4HHwYcBR4ENMMown8BtME3ALdAM3+ifze+bP27PKR7vHpSeWi4CTc/NdF1CHRis47zAHK18egxTnDk8CPvTS6w7Zrsy2wIK1cquyn8aVupDijOaJ6ofiguKDDoAWhe6E+olSjtaRbpi6oHaowrGWut7Aps7W1Xbgxuzi+bsHQxFHI5suUz1rTMtca2w7fDuMh50zrjO/j8034x/xRAeYFfQoMD4kT6RceHB0g4SNlJ64qwC2ZMD0zszUDOC86OzwiPuQ/i0EfQ61EPUbLR1ZJ2kpOTKlN207IT1xQlFBuUPZPNk8oTs9MN0tnSWdHOkXVQjRAZz18OoY3ljStMc8uBCxPKbMmMSS7IUwf5RyIGjwYBhbaE7IRhQ9NDQkLughbBu4DdgH4/oL8H/rP95P1aPNK8ULvWO2P6+zpbegU5+Xl4OT/4zzjieLd4TnhneAQ4JbfLt/Z3p/egt6E3qPe1d4U32Dfut8i4JfgFeGc4S7izuJ64zLk8eS15X7mTecd6O3ou+mE6kbrAOyx7Fjt9u2M7hvvpe8s8LPwP/HS8XLyJPPu89v08/U897P4UPoF/L39aP/rACMC9wJdA1YD+AJZAnwBdABh/1z+dP2v/Pj7Rfur+jf69fnv+Rn6aPrf+nD7/vtj/GD8y/uk+vb45faa9CLypu9u7arra+qt6TXp1eiY6G7oNOjc507njObS5UXl1+SL5F/kR+RY5I/kxOTh5N/ktORi5O3jSeN74pzhweD9327fLd9Q3+Tf5uBA4tvjr+Wl557pgutE7eXuhfA78v7z0fW998L56/sv/m0AiwKLBGQGFQihCfkKHQwjDRUO/A7lD9cQ2hH4EjEUeBXFFhMYWhmOGqgboBx4HT8e/x60H2AgBCGgIToi0CJVI8QjHSRgJJIktiTLJNMk1iTeJPEkGSVdJcIlTSb6JsEnlihzKUoqByucK/8rKywlLPArgSvSKuEprCg7J5UluiO3IaEfkx20Gx8a2BjWFwUXShaZFdQUyBNVEnEQJw6nCxsJhQb+A7EBtP8f/vL8/Pse+2H6v/ku+ar4GPhq97f2/fUk9RP0ovK18Fzuqeux6J7lj+K8337dENx626zbY9xX3Xfehd8c4P/fEd9j3VvbUdlI13DVGtRt05PThNTS1S7XnNj52Rvb8NtN3DPc/Nvh2+LbFtyN3E3ded4R4Nfhp+N95UnnBemw6i3seO237vjvO/GF8s/zFPVl9sX3Ivl4+sv7H/2E/gQAlwE6A+sEowZeCBMKrAsbDWIOgg+LEIkRfhJzE3wUoxXqFk0YtRkOG1YcfR1zHi0fox/bH+8f9R/2HwEgLSCJIB4h6SHNIrIjkyRdJfslXCZ0JkMm5iVwJd8kOySQI+MiQSKsIQ4hXCCeH9UeCR5CHXgcrBvsGj0anhkQGYoYAxh9F/EWWBanFc8UwBNsEsYQ0A6QDBkKgQfbBEcC8f/5/Wn8Qvtl+rn5Pfng+H74A/hd94z2svXh9Aj0IfMn8hDx7O/A7nrtGuyy6lbpKuhM57XmXuY65jXmS+Zr5mzmOObG5RvlVOSL47ji4uEa4Wbg1d9q3w3fs95m3i/eF94r3mDesd4k37ffYeAW4b3hReKx4gjjWOO04yHkrORy5YTm4+eH6UzrFu3Z7n7w4fHt8pLz0/PS86rzX/MC867ydPJr8pfy3/I487LzVvQu9UT2jPf9+KP6dfxf/kcA/gFiA3MEMwWxBQEGIwYlBi4GVQakBhsHmQcMCIMIBQmQCSoKwwpTC+kLggwIDWcNdQ0YDVsMTAsHCq8IWAcrBmoFQAW2BcQGMAjJCYMLOA2lDqQPFxABEKAPIQ95DrcN9gxBDLULVgvwCmoK2QlHCcgIcggwCPoH5QfsBwUIHwgPCLgHJAdbBnIFhASUA7QCDQK2AbcBCwKPAiQDzQN8BBcFkwXdBfIF8AXnBc4FpQVpBRkFwwRvBA8EqANJAwED7wIpA6UDWQQ0BRwGAQfCBysIGgiNB48GUgUHBLwCmQHiALwAPQFdAtsDgQVMBxsJuQoJDOsMXg2fDdYN9Q0EDg4OEw4wDmsOnA61DskO5g4tD7YPaxA+ESgSERPjE3oUkRQAFMsSCBHuDr4MjwqdCEUHwAYlB2IIIAoMDBcOBBB0ETESEhIcEbYPLg5+DMsKTQkcCGgHLwcWB+YGsQZtBhoGvwU3BXoEvgMVA3ECygH9AO7/tP5Z/df7OfqE+Mj2MPXY88Dy6fFD8b7wZfA08BzwFPAM8P3v7O/U75zvJu9S7gXtSOss6cjmQuS64WbfmN2I3ELcu9y43f7eg+AZ4m7jUOSj5Gjk7uNt49PiMOKi4TDh/eAJ4RHh8+DB4IHgReAk4Afg8d8F4FLg3+Cx4bji6ONJ5dXmeugn6sHrJu067uXuIe/47oXu6+1C7bXshOzZ7MXtQe8Y8R7zUfWW97j5m/sh/UX+O/8dANMAUwGVAY0BVgH+AHQAw/8M/3r+U/7K/tf/agFiA40F1wcOCtcL9gxdDRsNfgzLCwYLVgoECjcKDQt9DCkOzA9oEd4SBRTJFAUVtxQqFI8T3xItEoQR5hB3ED4QDxDYD6MPdQ9hD3UPng/UDyUQixD6EGIRmhGIETIRnhDdDwUPHQ42DXoMAgzTC+oLJAxkDKwM7wwTDQwNyQxKDK8LCwtWCpIJwAjeB/wGHwY6BUkEWQN1ArQBJwHIAJQAhwCYAMAA9AAVARQB8ACvAGgAMgAPAA4ASQDMAJwBrwLgAwwFKQYcB8QHCgjfB0IHWgZCBf4DpAJSARoAFv9N/qj9HP2+/Jv8v/w4/fj99/48ALoBVwPxBE8GRAfQB/gH0wd/B/8Gawb5BcoF6AVOBsoGOAekBwcITwh2CGsIKwjgB6AHYgcjB9oGfAYfBssFeQUwBfsE5wQUBZUFWwZXB2kIaglBCsEKpgrICSEIwwXuAub/y/ze+Yb3BfZ39db1x/YA+Hv5B/tS/C39bf0S/X787ftL+6D6//ll+fr4wfh0+PT3U/eb9u/1bPX29IX0LPTl867zfPMj84ryuvG88Kjvle6C7X7sqesT68TqvOrc6gzrT+ua69rrB+wQ7PHrvuuB6zDrx+pA6pXp1egG6CjnReZv5b7kWORa5MTkkOWv5gvom+lK6+vsYu6f75zwcPEp8rLyAfMV8+fyifID8k7xdvCc7+buku7N7pLv2PCC8mf0d/aJ+E/6l/tT/Ij8dPxK/AH8r/t++4T72vt+/DH9y/1Z/tr+TP+4/wgAPACBAO4AgwFJAjgDSQSKBfkGfwgOCpcLBg1PDmcPQhDhEFQRqBHkERgSWRK1EjMTzxNvFAEVhBXvFTMWSRYoFtYVbRUDFZoUOxTxE8ATtBPJE+cT/hMGFPMTtRNGE54SxBHVEOkPDA9WDuMNxQ0GDqAObw9WEEgRLRLfEkcTVBMFE34S2hEVETsQXg+JDs4NLg2LDNYLGwtiCrQJHQmTCBIIqAdWBxYH3gaTBiQGlgXuBDQEcwOsAuMBLQGUABsAwP9x/x//z/59/iH+u/1B/bT8IvyT+wT7ePru+WX54vhn+O33cff09nb2+/WG9RX1qPRG9O/zqPNz81DzQfNF81vzf/Or89rzBvQk9DD0K/QZ9Aj0BvQd9Fz02/Sn9cD2Hfih+S/7tvwY/iz/1P8FAML/M/95/pv9tPzt+1/7H/sr+1n7ivvI+wn8P/xl/Gv8U/xB/E78b/yn/Oz8Nv2S/f79Zf6+/gP/MP9I/1H/Qf8a/+T+pv5o/jn+Iv4r/lv+sv4n/7P/VAAEAbYBYgL/AosDCgR7BNMEBgUHBcwEWQSxA9UC0QGwAIT/bf6B/cf8QPzi+6H7hvuO+6z72/sV/Fz8xPxX/Qr+1f6x/48AcwFZAjID9QOcBB8FfwW9BdEFuAVwBfoEWwSdA8cC4wHzAPv/+/7y/eb83PvT+s/51Pjn9xT3ZPbZ9XT1N/Ug9TL1bPXH9T32xvZX9+b3aPjZ+Dj5ifnR+RL6Ufqc+vj6Zfvc+0v8ofzb/O78y/xs/Mz79Pr7+fn4+vcR91n25fXA9ev1T/bW9oD3O/jv+I/5Dfps+sb6Lvuf+xv8qfxJ/QH+zP6L/ygAoQDrAAEB4QCDAOz/Nv92/rz9If2//Kn86vx//U7+Pf9EAEkBKQLMAiUDOAMqAxcD+wLkAugCDwNqA/cDkQQiBbEFOQa6BjYHnQfrBzUIfwjFCAMJKwk1CSYJAgnECG8IAwiEBwAHfwYBBooFFgWkBDsE4AOSA1MDIwMCA/AC7gL2AgADAQPxAtICqAJ8AlgCQQJCAmwCygJbAxgE6gS7BYEGKQeWB7UHegfjBgcG9QStAzYCowD//l39yvs9+r74aPdU9qX1dfXC9Yb2uvdJ+R/7GP33/o4AzwGyAk4DtAPNA5MDFQNTAlwBNADA/v38D/sX+Un30vWw9Obzd/NZ85HzFfS89G/1Jvbg9rH3pPiX+W/6Evtp+3j7R/vP+hz6Q/lj+Lj3avd699z3a/gB+Z/5MPqF+oj6LvqC+cL4Hvia9073XPfT98v4P/r3+8n9rf+EAS0DlASdBUQGsgYBBywHPAc/BzkHPQdNB0kHIgflBpoGUQYaBuoFwAWqBacFtwXQBdwFygWjBW4FOQUVBQMFDQVHBb4FcAZYB1gIVglJChwLswv7C+kLfgvYCg8KKQk7CGIHsQY2Bu8FvQWHBVEFEwW8BEkErwPyAjgCmAEUAbYAhwCIAMMANAG7AUACuAIMAycD+wJ5AqUBmgBt/yn+4/y4+7z6//mC+Sr55/jB+LT4uvjQ+On4Afkr+Wr5r/nr+QP65PmV+R75gvjQ9xH3WvbS9ZT1ovX29Xb2B/ep90742Pg4+WD5Ufks+Qf52/is+IP4X/hU+Gb4hPir+Oj4Rvna+bL6wvv9/Fn+vv8ZAUsCHgNzA0gDqAK7AbAAlv+Y/vn95f1s/ob/9AB/AiMEvQUWBwwIggh2CCoIyAdBB58G8AU3BZcEHQSoAzYD4wLPAioDGQSGBVsHgwnPCxoOJhCJEfwRdREDEO4NgAvICAAGkwO/AasAVABYAHIAtgAQAVUBdwFMAc8AUQD8/7L/Z//+/lr+nv3V/Ob72Pq7+av46Pef98D3PPjv+K75b/oN+0T76vr4+X74xfYN9WfzAvIn8f/wn/H38qT0VPbv9zP5yPl6+Sn46PUr81Xwge366ibpQ+h/6M3preu47ePv7fF882H0ZvSV83DyVfFE8GvvAu8f7/jvhfFS8xX1y/ZR+In5avrA+oz6HPqg+Rf5lvgl+Mf3ove+9+/3JPhp+MH4QPn2+c/6xvvq/Db+oP8XAXMCmQOMBE4F6AVqBtAGIwd+B/EHgggtCd0JfwofC78LXAz7DJMNJw7KDogPXRBLEU0SWhN4FKIVyxboF+sYxRlnGsUa2RqlGjMakRnHGOYXBxc9FpEVBBWGFAsUnBM3E9YSeRIbEr8RehFZEVcRcRGiEeARLxKKEt8SIRNFEzkT9RJtEp8RixBBD9ENSQzECmIJPAhdB8UGYgYhBgcGCwYbBioGLQYhBh4GLAY7Bj4GJAbeBXIF4gQjBDgDJwL6AM3/s/6s/bT8w/vM+tj56Pjy9/X27PXd9Nfz5/II8jjxdvC97xXvgu4C7pbtQe0H7fHsBu1B7Z7tFu6f7jPvye9S8MTwGfFR8XfxkfGh8azxv/Hh8RXyXPKp8vLyPPOE88rzDPRG9Hv0tvT99E/1r/UZ9oz2Dveg90H48Piu+Xz6XftU/Fr9av58/4YAfQFWAv8CawOWA4IDOQPGAjAChAHWADYArv8//93+gP4w/vD9vv2c/YP9c/11/Y39r/3P/dv9wf2G/Sv9tPwp/Iv74/pG+sD5Uvn5+KX4Rvji93T38/Zc9qr14fQT9E/zlfLu8V7x7PCf8HvwdvCN8MHwEPF58f3xlPI88/fzwvSX9Wz2Nvfq94v4GfmY+RH6h/oH+6P7ZvxR/Vz+cv9/AHsBVgL1AkgDSgP/AoYC+wFlAdcAcgBIAGwA4gCRAWsCeAO2BCAGsQdXCQYLxgyNDj4QuhHTEmcTehMYE1MSTREdEO4OCw6mDcsNcQ5hD2kQiRGlEoITBBQVFL4TTRP2ErgSphLgEm4TaRTHFUIXpRjlGd8adBuSGx8bHhrMGFYXzhVaFCYTUhL3ERMSbhLfEmQT5BM+FGIUNRS8Ey4TrhI1Es0RfBFBES0ROhE4EQkRpBD6DwEPuA0SDBoK+wfaBdIDDQK4APT/0P9GACYBQgKGA8cExAVSBlYG1QULBSUEGwMDAv8AHwB//yD/x/5V/tv9Xv3q/I38MfzS+5D7cvty+4n7l/uH+2T7L/vo+pP6KPqk+RT5ffjb9yr3XPZl9Un0CPOf8RHwZO6h7OLqP+nO563m/+Xb5UTmMed76Pnpj+sJ7R7unO5v7p3tXuzm6jnpe+fr5bDk5eOK41zjLuMW4xHjFOMk4yXjFOMg413juuMq5IvkweTd5Obk0uSn5GbkF+Tb48jj3eMc5Hjk6eR/5ULmMudS6JXp8Opd7MrtHO8u8M/w3fBe8GbvIe7H7Hnrduoe6q3qMuyb7o7xtvT79xX7lf04/9f/gf+p/q/9l/yX+wP7CPva+3f9a/9rAYUDoQWmB4wJHAtLDGINfg6ED2QQ9hAZEfQQmhAEEEwPkg4FDgQOyw5REH8SGBXTF5MaFh3kHrYfdh88HnscmxqwGAMXCRYGFicXXRkbHPUe4yGmJOImaigCKbEo/ydIJ4om7yWqJcwliibcJ04pkyqnK2YstCyFLK4rNCpvKJkmvyQII5AhaCC4H4EfhR+cH8Mf4h/kH74fUh+hHtkdFx1RHI4bzBoFGkoZmxjUF+UWzxWQFDETvREtEIUO3wxMC90JqwjFBzkHCwc1B5sHHwiqCBUJKwnHCN0HcgawBMACqQCI/pL85fqW+Z/4yPfn9gX2FPX/877yQvGR7+ftbewp6y3qielD6W/pBerW6r3rqOx07f3tLO7n7S3tIuzi6nDp3+dM5snkbOM64hHh49/D3rzd3Nwy3LTbYNtN23zb5dt33BHdmN0Q3nfe0t4m32ffkd+s37zfwt+/36Xfct803/3e397w3i/fnt9A4BXhIeJm49rkcuYn6OzpuOt47QvvSPAA8RHxfPBU78Dt8+sT6mDoQOf25pLnCOkG60Dtp+8E8vPzPPW79Xr15vRR9LLzLfP48ivz8/NR9eX2dvgR+qr7PP3N/jEAXwGGArkD5gQDBuwGhwfoBxYICgjOB2oH7gaJBloGYQaaBvUGXQfbB2cI6ghXCacJ3QkWCmUKvwomC5kLEwygDEEN4w1/DhcPrQ9IEO4QkxEwEr0SMROEE6kTixMeE2USaBE8EPsOtA2EDJML/QrOCgYLiQs+DCMNJg4kDwkQxBBSEdMRWBLREjYThBOyE8wT1BO1E2sTAhOIEhwS1hGwEagRvRHkESMSeBLOEhoTWxOPE8cTCBRHFHsUmxSgFI8UaxQxFOcTlBNEEw8TBBMjE2gTxxMxFKcUIRWLFdsVCRYTFggW8RXGFYQVKRWyFCYUhxPNEvYRCxETEB8POw5oDaYM9wtYC88KXQr5CaIJVgkUCeEIvQihCIIIVwgXCMUHZQf7BpIGMAbjBcEF2QUpBqwGTAfyB5gIKwmQCbMJiwkZCXUItAfUBuEF7AT/AygDagKuAesAKwBw/8H+Jv6W/RD9ovxO/A782/uk+1r7Avud+i/6vPlB+cL4Sfje94H3M/fr9qT2ZfY09hL2BvYH9hP2JvY69kX2O/YH9p31AfU/9GzzpPL38YHxbfHW8b/yHfTE9Yb3Tvnz+jT85/z2/GL8Yfsg+pv47PZA9a7zV/JB8T3wNu9I7oHt9Oy37Lbs7ux47VHuae+l8M/xvvJz8+/zOvRg9FL0EPSy80HzxPJB8qLx4/Ah8HbvA+/l7hfvlO9c8F7xkvLi8x/1KPby9nv30/cG+Pr3ovf69vn1sPQr82rxf++R7dLriert6QDqt+rw63ztTu868evyLvTw9Df1SfVf9Wr1fvXE9Un2J/dU+IT5gfpS++b7Mfw2/Nv7JPtN+n35xPhB+Az4NPjP+Nj5IvuI/Pb9Sf9TAPgAIgHWAEgAof/j/ij+lv1C/UL9lP0D/m3+2P48/4//zv/l/9H/t/+s/6f/qf+n/5n/kf+W/6L/uP/j/zAAuQCSAbECDQSSBSUHuAgwClwLHwxyDFoM/Qt+C+YKUAruCdsJJwrMCpULWwwbDcINLA5IDgAOWA2CDJ8LqwqyCcAI2wceB5EGHQa8BX4FcQWuBUcGLgdVCLcJPwvVDFcOiA9AEHYQLhCED5cOaA0ODLkKiAmPCNMHMAeTBhcGywW5Be8FWwbzBsUHxgjZCdYKewuYCzELVAoeCbsHNAavBHUDswJ1ArMCKAOdAxcEewSaBF8EsAORAkgBBQDE/pj9lfzC+zz7Afve+rT6g/o8+tr5Wvmn+MP3zvbe9fb0H/Re87XyOfLu8cjxxPHr8UPy2/K789T0GPZ59974LPo9+9n72fs9+xD6f/i69tr0FfO+8Q7xFvHP8e7yNPSc9f32Efix+L/4Q/iY9/72cPYH9ub1HPbI9uX3IflG+lL7Kvy6/Pz80fxA/IX7zvop+rb5lfnV+Y76uPsX/X7+2/8GAdABHQLXAQQB5/+z/nP9Tfxz+wH7Ffus+4X8cv11/nb/WgASAX4BngGiAacBoQGPAWsBKwHkAJkALwCd/+z+JP5g/bX8HPyX+yr72Pqo+p76r/rW+hX7avvZ+2H89PyD/f/9WP6R/qn+pv6S/nH+Tv5B/lb+j/7l/j7/h/+6/83/qP9A/4/+m/2D/GL7Pvos+UX4mPcy9xH3F/cs90v3Y/da9yb3uvYe9nj15vRu9CT0IvR09CX1KfZT93v4kvl5+gf7JvvF+u351Pin93f2bPW89Ij05vTP9QT3Uvix+f76B/yv/Nv8jvwH/HX70/oy+qn5Qvkb+TX5X/l++Z75vvno+SX6Y/qe+vD6Yfvt+478Mf3D/U/+1v5U/8v/NQCQAOkAQwGbAe8BOAJuApYCsgLAAsMCvAKsAp0ClQKcArcC7gJFA7sDSgTiBHUF8QVABkYG7QUzBSAE0QJkAen/fv5U/Yn8K/w3/IX88/yB/Rr+nP72/hX///7l/uf+Av9A/7D/VAA3AU4CZQNTBAoFbQVeBc8EsQMSAiYAIf4g/Fj6Dflq+Ib4V/ma+g/8pv0p/0oA2AC2AOn/yv6a/Vb8Hfsi+nv5TvmZ+Qr6cPrU+i77dfut+7X7iftc+0j7RPtT+2L7Zftw+4j7nPuo+637rfu9++n7KPx3/NT8Nv2f/Qv+a/61/uX+8/7h/qz+R/6n/cH8kfsg+nz4uvb39FPz+PEg8fbwgvG58nP0gfbQ+DD7VP0I/y4AxQACAQwBzgBQAKj/4P4Y/lv9gvyH+5b62PmM+eT5zfoz/AT+FQBDAlEEywVpBiUGFAWNA+cBLgCg/qr9if1c/hAAJwI5BD4G/AcbCW4JxQgqBx4FAAPXANn+Sf1J/BD8nfyI/Yn+pP+6AK0BbgLOAskCqwKcAo0CggJtAj8CGAL8AcIBXgHYADcAnv8n/8P+cf44/hX+D/4p/lD+ev6r/uT+L/+T/wYAgQAAAXwB9AFoAs8CJANkA44DpAOoA5cDcwM7A/MCogJSAg0C3QHFAcYB4QEUAmACxgI+A8YDVwTwBI8FMgbJBkYHmAewB40HMAefBuUFCAUWBCoDVgKiAQ8BkAAcAL7/ef9M/zb/NP9F/3f/zv9AAMIAQwGzARMCZAKiAs4C5QLkAtYCwAKfAnACKwLKAVEByAAxAJT/8/5U/sL9Sv31/M/84fwz/cb9k/6M/54AtgG4An0D6gP3A6cDFANbAn8BmQDR/z7/7v7d/uT+4/7i/tj+tP5y/gX+cv3k/Hr8NPwe/EL8ofxI/TH+N/8/ADgBBwKRAsMCjQLxAQ4B///N/pH9b/x7+8r6XfoT+tf5tPmo+az5v/nT+eb5E/pi+sb6NPuT+9D79vsJ/Ab89/vg+8z72fsZ/Ij8HP27/Uv+x/4d/y7/6v5J/lH9J/zs+qj5c/hx97j2W/Zf9qb2GvfD95n4kfmh+rf7x/zh/QT/FAD3AIcBqAFhAb0AyP+b/k79CvwU+536qvox+wD85vzf/cr+af+Z/0r/iv6l/dn8Kvy4+7L7LfxB/eT+wQCZAlkE1gXZBkQH9wb5BZoEFwOAAQUA4/4+/jj+zP6t/58AowGZAlcDxwPIA1wDzAJDArwBQgHeAJEAeQCaAMQA4wD+ABQBNgFxAbEB8AE9ApkCAANrA8ID9AMKBAgE9wPjA84DxAPdAyQEmgQ3BeAFfQYFB2MHeAczB4wGjgVeBCED5gHMAAEAn/+2/z4ACAHnAdMCqwM+BHIEMQSAA5gCpQGnALX/8f5s/j/+a/69/hf/gf/1/2wA6ABPAZYB1QEOAi4CIwLMARABAwC2/jz9uftM+iT5j/i/+Lb5W/ts/Zv/yQGtA9YE/QQLBBMCh//N/Pz5X/du9W70j/TG9Yv3ePmM+4/9Mf9JAJsAJwBo/6v+3v0Y/Wj80PuD+4T7gvtT+wf7n/o2+uT5i/kn+dz4tfi1+N34EvlB+Xv5w/kZ+oL69vpw+/v7mfxF/f79uP5r/xgAuwBPAdIBPAKKArsCzAK7AoYCKAKjAfsAOABj/4z+wf0W/aX8gfyt/CT90/2j/of/YwANAWkBbgEhAaYAHQCG//b+kP5m/ov+/f6X/z8AAAHWAb4CtgOpBIoFaQZAB/gHdwiWCDYIYgcmBpcE1wL7AC7/uP3L/HH8qPxC/RP+H/9KAGABQwLcAioDZAOsA+wDIwRPBGgEgASaBIsERQTRAzcDkQL4AWEB0QBYAP3/1P/r/0UA5QDLAe4CQASoBQgHNwj+CDYJ2QjwB6IGGwVqA7sBUwBe/+3+9f4z/2v/nv+t/2T/qv5u/cD7/Plp+Bf3Nvb89Yf28vct+tb8nf9fAtYEqgajB5cHiwbgBOQCpABZ/lP8xvrk+bL52Pkd+p/6W/tL/HX9rP7f/0MB2wJ6BPIF7AYpB70GuQUvBE0CKQD4/Sz8C/ug+t/6ePsm/O/8tP0s/jb+sv2p/Hr7aPpo+Y348PeX96n3JvjL+HH5HPrA+l77+/t4/NH8Kf2O/f79fP7//nv//v+FAP0AXAGdAbgBsQGLAUAB1ABXANX/W//5/sL+wf78/m//CACzAGYBDQKGAsACswJnAvwBkAErAeIA1gAcAbwBrgLDA9ME1wWyBkAHawciB2kGcQViBEEDKgI/AZYARgBPAIcAzgArAZEB8gFJAn8ClQKpAs0C9AIZAzADKgMVA/ICsQJPAtEBOwGkABoAnf8t/8/+gv5T/k7+c/7I/kz/+f/OAMABwAK4A4oEHwVwBXwFTwX0BGgEsQPiAgkCLgFYAHv/lP65/f78efw+/Ef8jfwL/bL9b/4l/6H/wv+G//j+QP6E/c78Ovz/+zv8+Pwp/o3/6gA3Ak4D+AMYBJUDeQILAYb/9P1+/Fr7p/qG+vP6q/t7/GT9TP4P/53/1/+8/4j/Xv8z/w7/8f7W/tT+7/79/u/+yv6O/k3+Fv7Z/Zj9Yf05/Sj9Mv1R/X/9xP0f/o3+Cv+O/w0AgQDfACQBTQFeAVgBOQEDAboAYgD8/4f//P5X/p791Pz/+yb7TvqA+cv4P/jq9933KfjY+Oj5T/vz/LT+dAAIAjUDzwPLAy8DJwLgAGb/4v2W/K/7RftX+6r7FPyl/FX9Df7I/mj/6v97ADAB7QGhAikDZgNqAzsDzQIrAloBbwCZ//j+if5H/hz+7/3K/af9bv0W/Zn8//tq+/j6pfp7+oT6w/pC+/v7z/yl/XL+Hf+R/7//nf8y/6D+Bv51/Q39+fxU/ST+Wf+5AA4CQQMgBGgE8gOsAqoAQv7E+0v5GveO9eL0OfWI9mv4jvrk/DP/KAGQAj0DMwPaAnsCCwKkAWsBagHLAYUCOgOwA+oD1wNxA70CnQEYAHT+4Pxv+0b6ffkk+Vj5Fvor+3L81v0x/1MAHQF4AWgBIQHOAG4AGADx/wkAdQAxAQECvwJuAwMEcgS2BLcEbgT/A3kD0wIMAhUB5/+Y/jf9yPte+hD5/fda90n3yffS+EP69/vb/cX/bAGgAk8DeQNOA/cCawK4AQcBaQD2/7L/af8A/5L+K/7f/cT9xv3i/TD+sf5b/x0AzgBOAaMBzwHZAc4BoAFNAeQAawDn/1r/uP79/T39iPz3+537efuI+8j7L/y8/GH9A/6O/v7+UP+R/8r/7P/u/87/hv8g/6H+CP5c/bP8JfzZ++z7W/we/R7+Pv9xAJ0BiwIeA0kDFgOwAj8CwwFSARMBGQF0ARwC2gKFAxoEhASpBH0E7gMFA/oB9gAHAEz/5/7r/m3/YgCUAdMCDwQeBdAFBwasBcoEogNqAjABHQBo/zH/kf97AKEBxALbA7sELgUYBV0ECQNzAeD/Xf4b/VL8I/yu/Of9dP8PAaYCBgTwBD8FzQSiAxYCawCp/vr8kPuK+hH6JPp3+tn6U/vW+1T8yvwV/TL9Vv2Z/ev9R/6W/sH+3/7y/uf+u/5y/hT+wP2L/W39Yv1f/Vn9Vf1O/TL9+vyl/Db8w/tc+wD7tvqJ+nv6lfrU+if7gPvb+yz8aPyJ/If8Z/w9/Bn8AvwI/D78r/xh/U/+XP9yAIgBiQJbA+wDMAQmBOsDlAMfA5gCEgKWATMB6wClAFYABgC5/3P/O/8K/+P+2f72/jn/o/8sAMsAgwFLAhYD1AN0BN4E/gTEBCwEPwMSAr8AXP8N/gX9Z/xA/Ij8Gf3M/Z3+cf8aAHwAhgA9ANr/g/80//n+6/4O/3f/HgDOAGIB1wEbAh4C2wE/AU4AMf8G/tn8xPvh+kD69vkE+k76vPpQ+/37sfxl/Qb+lP4p/9D/fwAvAdcBaQLvAmYDvAPqA/ED0gOfA18DDQOlAiUChwHQAAIAF/8O/u/8w/ud+pH5qPj194v3effE92b4Tflh+pP7x/zW/aT+I/9U/1L/Mv/0/qP+W/4p/h3+Nf5R/l7+bP5//p/+1f4U/1f/rf8WAIcA8wA6AUgBJgHcAHkAEgCt/17/R/9+/wUA1ADEAbMCmANYBM0E3QR/BLsDxALFAcsA+v+B/3z//v/8ADkCgQPGBOMFowbmBpMGsgWIBEkD/QHFAM3/L/8L/2P/+P+kAG8BTAItAw0EyQRYBdkFVAatBtAGlgbgBcUEVwOiAcz/9P1Q/Dn77fpt+6r8Zf5YAHACcwT5BcQGuQbhBZ8EQQPEAVIAMP+B/m/++f6+/38ATAEVAswCbgPRA+wD+gMSBCEEHgTmA2ADqALIAbcAg/87/vj89vta+yD7PvuW+wP8gfzy/CD97PxO/Fb7QfpG+XH45/ff93b4vfmk+9b9DAAuAgIEPAWvBToF6QMXAhMA7/3o+1L6X/k4+df51/ru+x39PP4V/4r/dP/U/gr+Uv2i/Az8nftW+137s/sX/Gn8rPzZ/Pz8Hv0n/RX9Cf0R/TP9dv3T/UX+2P6I/0UAAgG1AU8CxgIQAyUDBAO2AkUCsgEEAUYAfv+3/vX9MP1o/Kr7//p1+hj65fne+Qf6W/rX+nD7EPyp/Df9vP09/sH+QP+2/ykAlwD/AF0BngG5Aa4BfAEjAagACQBM/4D+s/31/Fn88/vS+/n7ZfwA/bP9bv4T/3f/f/8j/27+iP2Z/Kz73/pl+lr6z/q8++r8K/58/8UA3QGxAicDPQMlAwEDyQKGAkMCAwLZAcgBqQFpARABnQAbAJT///5f/s/9Xf0T/f38HP1x/Qb+1/7W//UAJQJQA14EPAXfBUUGfAaQBoAGUgYXBtgFnQVjBRUFpwQhBIgD4QI1AoEBzAAsALD/YP9I/2v/yv9oAD0BMgIvAxsE0wQqBQIFVgQuA7MBDgBW/rf8efvH+rb6Pfsf/CX9T/5+/3wAKwFuAUYB9ACkAEUA4P98/xj/zv6h/mP+/f18/eP8SPy8+zP7qvo3+uD5rfmj+bb54Pko+pD6FPu1+2X8Gv3K/Wr+9v5o/77/+P8QAAQA1f+E/xf/j/7w/UP9l/wB/Jz7e/ug+wX8nvxW/SP+7v6Q//D/CADe/5b/Tv8I/9X+1f4X/6f/ewBlAT8CAwOcA+0D5wN5A6oCqAGXAIH/gv68/UH9J/1q/d/9Zf73/n//4v8RAPj/nP8q/8L+Zf4g/gX+G/51/hH/yv+IAE4BEALLAnsDDQR8BNkEKAVjBYQFfQVEBeUEYwTAAwQDOwJ1AdEAZgA2AEAAegDVAFMB6gGEAhIDjQPxA1AEswQMBVMFgAWMBXwFUwUIBZwEGQSNAxADtwJ+AmICWgJXAlsCXwJNAhoCxQFTAdoAbgAOAML/lv+P/7X/BgBqANIAOQGTAdQB9QHpAbEBXAHzAHgA8P9j/9T+T/7V/V395vx3/Bj81Pu0+7L7y/sA/Er8ofz2/DL9Q/0o/eT8gfwN/Ib79vpu+vn5n/lg+S75APnh+NX44PgI+UP5i/ni+UH6mvrb+ub6qPon+nH5oPjU9yD3qfam9jn3Z/gh+i38Uv55AG8C5gOtBKoE5gOqAjYBkP/i/W38V/vE+rT62voE+z/7gfu4++H73/u1+6L7yvsl/LT8a/06/jX/VQBxAXECQwPQAxAE+wOEA7ACmgFcAA7/1v3e/Ej8J/x4/B/9//0a/2AAsQH4AiAEIgUbBhQH8gecCPkI7QiKCNYH0QaMBSEEuQKZAfMAygATAagBXgI0AwwEqQTpBLgEHQRVA4wCtgHfABsAcv8C/9L+uP6m/q7+3v5P/xQAFQFCApUD9QRHBmIHAAjxBzgH5QUqBD4COgBT/uf8L/xD/Bn9Yf7W/3cBGgN4BGkFyQWYBSgFsgQiBIID3wI6ArgBYAH8AHYA5P9W//H+1f7s/i7/pP9FAAgB3AGNAvsCJAMNA8cCZwLgATQBeAC0//X+P/6B/bb89ftQ++L6wfrj+kP72vuX/Gz9Pv7c/iX/E/+t/g7+Vf1+/Jr7yfoe+qr5a/k9+Qn53fi6+KD4lfiP+I74sPgF+Yv5Q/on+yv8U/2W/tr/CQEMAsMCEQPhAi4CAQF5/7396Psq+sb47fev9wX4vfil+bv63fvS/Hj9uv2g/XL9ZP1v/aP9G/7e/gEAewEFA24EqwWiBjkHZgcSB0MGMgUOBO0C+QFiAUQBtQGrAuYDLgVvBnkHCwj/BzwH0AUNBDYCWgCl/lj9mPyH/B/9C/4M/yEAKAH3AXgCiAIoAqMBKQG2AFwAKQAiAGUA8QCOAR4CoQIOA2YDrAPIA7YDkgNlAy8D8AKcAiwCsAEsAZ0ACQB2//D+jf5e/mH+l/74/nz/IgDiAKYBYQILA50DHwSPBN4E/wTnBIsE8wMoAzACHQEGAA3/Y/4r/mj+Ev8HACIBWQKJA3cE/QQJBZ8E8QMkAy8CIAESABP/Pf6Z/QT9b/z4+7H7uvss/PX8Cf5o//0ArgJUBKoFewbEBocG5wUGBeADiwI4AQUAB/9A/oX9u/wA/F774vqa+nj6evq8+kT7BPzr/NL9l/5B/83/PACTAMIAwQCbAFQA7v9t/8n+B/4//Y38FPzx+yX8qvx1/XH+mf/YAAMC/gK8AzkEkATNBN0EtgRVBLMD4gLsAcoAiP9F/if9afw2/In8Vv18/tD/QAGeApoDAwTKA/sC3QGtAG3/Q/5t/Q79Qf0C/v7++//+AO8BrgIsA0YD+QKBAgICcQHVACsAb//B/iv+lf0B/YD8J/wf/IT8R/1Z/qj/EwGCAssDowTbBGwEZAP6AWgAu/4i/ez7SftP+/X76fzo/fP+5P+DALQAWAB1/2T+ZP10/LL7QPss+5f7fPyP/Z7+n/93AAgBRwEXAX8AwP8G/2L+9f3h/Tv+Fv9jANoBQAN9BF4FpQUuBeID0AFQ/6z8AvqQ96/1lPRo9Cf1dfYK+OX52vuq/TD/PQDMAC8BlAHfAQ4CGwL2AcABgQEFAT8ARf8v/jL9ffz/+7j7q/vQ+zH8yPxz/R3+w/5i/wsAxQBzAf4BUQJXAhgCnQHqABIAK/9X/tD9vf0f/uj+7P/+ABICBwOeA7IDNAMxAu0Aof9V/iv9Wfz7+y/88vz+/SP/YACdAbsCpwNDBIkErgTPBOAE4gTSBKkEfAROBAEEiQPyAkMCmAEFAYEACgCn/1X/F//t/sP+kP5Z/iT+Af7+/Rr+Wf7E/l//KAAXARQCBgPfA4kE5wTnBIUEyAPRAsIBsQDE/zH/G/+M/3gAqAHlAh8EKwXDBcAFDwW8AxgCZwC0/iz9EvyL+7b7jvy9/QH/VgCZAZgCPANfAwYDgAICAooBMQEPAS4BqAF4AlcDFQSqBPwE9gSNBKsDVgLKADX/qP1J/D77oPqJ+vb6s/uX/Jn9m/50/w0ASQAoANr/fP8F/3n+4P07/aX8Jvyj+xr7pPpZ+mP64vrF+/38ev4ZAMIBSQNdBMwEkQS5A4ACIgGs/0r+UP3s/Db9Jv5n/7UAEQJYA1ME5ATnBFwEkQO5AsgBzADS/93+FP5//fP8Yvzh+3/7YPud+yT85/zr/Rv/aACxAbcCUQN8A0ADvgIaAlYBiADm/43/jf/k/18A3ABnAfkBgwIBA10DlQPOAxoEawS8BPwEGgUlBR4F+ASyBEwEygNAA7sCOAK3ATUBrwAuALf/SP/l/ov+Ov74/cP9l/1r/TT96vyN/CD8q/sz+7z6S/ru+a35jvmR+a/55fk3+qr6QPv5+838tP2o/qD/iABMAc4B+AHIAUUBgwCa/5b+k/29/DL8/vsg/Hf85/x2/Rf+sf42/5T/yf/2/ykAUgBpAF8AKADO/1T/q/7R/c78rfuM+oH5jvi59wn3gfY29jr2lfZQ92f4zvl5+1D9M//0AFUCKgNqAx4DawJ+AWMAQf9f/un97/1n/gv/o/8yAJ4AvAB3ALn/i/48/Qb87PoL+oD5Wvm3+ZL6rfvc/BP+NP8eAMAA/ADQAG8A9/9p/9f+Vf7s/bf9uf3Q/e39H/5t/uf+mv9xAGIBbwKJA5gEegX3BecFTwU+BNgCSwGq/yP+BP19/J38Vv1j/oL/rAC1AVcCagLVAaQAMv/G/Wb8PPuA+k/6zfrz+2r98v6GAAQCQwMuBJ4ElARXBBUEygOKA2gDaAOnAyIEoAQABUAFVQU4BewEXASMA6UCwAHlACcAkP8m//v+Ef9Q/6f/EgCFAPQAVwGhAdMB/wExAmUCnQLaAhkDXwOpA+ED/AP1A8kDdAP7AloCmgHSABcAff8e/xf/ff9SAIoBAQOPBBcGawdGCH4IBQjlBl4FqwPdASMAy/4E/ur9df5V/0sAWQFhAjIDtAPCA10D0AJJArwBMQGuAC8A0f+Y/1D/5f5c/rb9Bf1Z/KH73/oo+oj5B/mu+Hb4Xvht+KP4+Phj+dj5Sfqn+uX6AvsD+/b67fry+hX7cfsW/Ab9Nv6D/8sAAgILA74DAwTOAyUDMwIhAff/1P7j/UD9AP0i/Xr95P1n/vL+bv/R/wUACgAIABQAIgAyADkAMAAlABwA///L/4X/Nv/0/tD+wv7J/t/+//4q/1z/hf+b/57/jf92/2H/Sf8u/xL/9f7d/sr+tP6a/n7+Y/5Q/kn+TP5Y/m/+kP67/u7+Jf9c/5T/zf8LAFAAmwDsAEQBpAELAnUC2wI2A4MDuQPTA8wDogNXA/YCiQIVAqgBUgEeARIBMAFtAcABKwKoAi4DtQMxBJsE9AQ2BU4FJwWpBMIDewLiAA//Iv08+4z5WfjU9wf45vg6+s77j/1O/7cAmQHcAYoB+ABpANv/dP9t/+H/7gCFAkYE6gVrB6EIYQmXCR8JAAiQBgwFhQMkAhkBfwB6AAoB5wHeAusD7QTBBVEGfAZBBt4FdgX/BIIEAwR/AxIDvQJbAtsBSAGsABwArv9S/wP/yf6h/ob+cv5H/vX9g/37/HP8A/yy+5D7v/tP/ED9hf7z/10BsALDA14EXgS1A20CwgDq/vv8Jvuz+dP4nvgP+d75zfrd++r8v/0//kv+5/1j/fP8j/xI/DL8Tvy6/G/9LP7F/jf/b/9i/w//Yv5k/Uv8QPtb+sP5ofkN+hr7wPzG/vsARwN5BVEHoQhMCVIJ7ghNCGkHVgY3BSEEMgNvAqIBsgC5/8f+8/1V/dz8hvxw/Jz8A/2W/Sv+o/4H/1r/qP/+/1EAoQAAAXIB+AGJAgcDWwOGA4EDRQPQAhsCKQESAOn+u/2d/Kb76Ppz+kz6aPrA+lb7J/wp/VH+kP/ZACgCcQOOBFoFogVEBUgEwALTALn+nvzK+rH5nPmX+or8Ev/LAZcEIgfiCIUJ5AgSB6IECgJU/8r83PrH+cj52fpj/P79s/9VAaoCnAPqA5EDBgOLAhECpQFEAeMAsQC0AKYAaQAFAHv/6f5m/tr9RP29/E/8A/zf+9P71/v1+y78f/zn/Fn9yv0y/ov+z/4B/yT/Pv9R/2X/h/+9/woAawDSADYBlwHzAUICggKrArsCugKqAoUCSALqAWgByAARAEn/ff64/Qv9kfxd/HD8yvxb/RP+7P7W/7YAdwERAoEC3AIwA3MDpQPNA+gDAAQUBBAE6gOsA1wDCAO6Am4CIQLYAZEBTQEJAbgAVADf/17/2v5g/uz9g/0s/ez8xPy0/LL8s/y3/Lf8rPyT/Gj8Lvzz+8D7nfuV+7X7B/yK/Dr9/v3D/nz/FgBzAIIAPQCq/+n+GP5C/YL8/vvP+wD8jfxN/Rv+8v68/1IAogCaAD0Auf8x/6P+H/65/X79gf3E/SL+h/76/nn/BACeADUBvwFKAtMCTAOjA7oDfAPzAikCLQEZAP/+/v1N/Q79Rf3p/c7+xv/GAKsBNwJHAswB0ACX/1j+HP0G/Ez7DPti+0j8d/27/hMAYwGHAm0D8gMUBAgE7gO7A3UDGwOpAjoC0wFVAbkADABe/83+dP5H/kT+cf7H/kT/3/95AP4AbAHDARMCZAKpAt4CBQMaAyIDHAP6ArcCWwLuAYABHAHCAHEALQD0/87/vv/A/9T/+f8vAHoA2QBDAa0BCgJOAnYCgAJrAjgC4gFnAcwAFQBH/2j+f/2V/L77E/uy+rH6Dfu9+6n8sv3C/rP/SQBeAOn/+P7C/Xv8MvsR+lz5PPnG+e76aPz0/Yz/CQExAuUCAwONAtABAQEbADb/b/7U/Yb9i/2q/cX96f0X/lf+tP4V/3T/7P9/ACIBxwFIAo0CngJ/AjQCywFDAagAGgCv/2r/Tv9H/0v/Z/+f//L/YQDkAHUBHwLgAqgDZQT8BFgFegVnBSkFzgRdBOMDgQNMA0kDdQO3A/wDSASYBNsECwUeBRMFAAXwBNsEvQSQBEwE+gOeAy4DqgIYAn0B6QBpAPj/lf89/+n+mv5O/vr9mf0u/b38WPwP/Ob76Psm/Kf8bP1t/pH/vQDhAeMCngP7A/ADgAPNAvUBAwESAE7/0f6u/uD+Qf+v/zIAvQA4AZ0B2AHuAQcCPAKGAugCYAPpA40ESAX7BZEGAQc9Bz4HAAd5BqoFqQSHA1ECHwEJACH/dv4H/sP9mP2K/ZD9mP2b/Y/9d/1r/Xz9of3Z/SH+cv7T/kD/pP/w/yEALwAaAOL/gv/9/mD+uP0U/Yj8KfwI/Cr8jvwh/dH9lv5d/wkAhwDKANQAvQCWAFYAAgCg/zX/0P52/hv+v/11/U/9bP3h/ab+r//wAFECwAMbBSsGygbzBqwGHAZoBZQEugMNA6cCmQLhAkgDqAMJBFwEiwSQBFYE4ANiA/gCowJtAlwCcQK8AjwDzwNcBN4EQwWCBZEFYwX4BGUEuwP/Aj4ChgHfAFYA7v+U/z//9v64/oj+af5X/lP+b/61/iP/vP95AFMBSwJXA2UEYQU5BtMGFgfwBlwGYAUVBJgC/wBu/xz+Lv21/LD8+fxw/Rn+4v6o/1YA2gA0AY8BBQKDAgMDfAPiA0EElgTABLMEbQTvA0kDigKoAacAkf9x/lj9WvyE++b6ifpy+qD6EfvC+6v8vP3o/iEAYAGgAtcD6AS0BRkG/QVhBVEE3gIrAVP/iv0e/EX7Cftg+xP86vzg/c7+bP+S/y3/R/42/T38Wfuo+lb6dfol+138yf0v/4gAsgGMAgUD/QJ3ArcB6wAgAHX/D////mH/KwAfAQsC5gKOA9wDvgMcAwECsABf/xv+Cf1W/Bv8cfxT/X3+u/8BASwCDAOKA4gDDwNiArQBCwGIAFAAdwAWASMCVgN5BIMFUQa/BrcGIAYEBagDQwLkALL/3P5+/rL+cP90AIcBnQKNAycETgTmA/gCzgGfAHT/b/68/XH9q/1j/k7/OAAZAdMBQgJVAvABHAEeACr/S/6k/Vj9fP0p/ln/yQBGAsIDGAUfBrsG0AZfBqQFyQTRA9IC6wErAa4AdgBRACEA8v+//4j/U/8O/7r+ef5d/mP+iv7G/gv/Y//L/zIAjADOAOsA3gCkADcAnf/m/iL+Y/3E/GX8Xfyv/FP9J/4K/+3/rgAdARoBmQCk/3D+Kv3c+6T6tfks+SD5kPlG+hj7DPwR/Q7+9v6v/zIApgAgAYsB4AEOAgQC1QGHAQ0BbAC2//7+cv4z/jz+hv7//o//NADbAFsBnAGZAVYB/gCwAGsAPAA8AHYA9wC6AZICXwMdBLgEHAU+BQ0FjgTnAzQDfgLbAWYBLQFBAZ4BHwKoAjQDsgMHBCcEAwSdAxwDmQIXAqEBSQETARABPAF0AaIBxAHNAbMBcgEAAWIAuf8f/57+S/48/n7+G/8LACoBVgKAA4kESQWmBZAFCwVCBFgDUwJPAXIA0/+F/4f/qv/N//X/FgAfAAsAx/9Y/+f+kP5R/jL+Nv5Z/qv+Kv+3/z4AuAAXAVABYAE6AeEAawDq/2j/9/6s/pT+uv4Y/5f/IACwADYBngHaAeEBuAF9AUkBHgEKAR0BYAHdAZACVwMZBNAEawXWBQcG8QWaBSIFpAQqBMgDmgOsAwoEqwRjBQ4Gnwb2BuwGaQZgBdwDFQI8AGL+sfxg+5L6Xvq++nP7Svw8/ST+0v4o/wv/ff7C/Qf9Sfya+xX7xPrC+hH7evve+0X8qfwO/Xr91/0h/nf+5P5m//r/kgAgAa0BNAKnAvsCJQMaA9UCVgKdAbUAtf+3/tX9Nf0F/Wb9Xf7d/7wByQPsBfMHkAmPCtoKdgqhCZAIQAfPBXQESgNyAu4BfAH1AHIA9f+C/yb/yf5n/ir+H/47/nD+mv6e/or+ZP4s/ur9nP1I/Qr98vz9/Cj9W/2F/az9y/3Y/dH9sf19/VD9P/1Q/ZX9Hv70/hcAewH7AnIEwwXEBj0HDAcmBpcEnAJtACX+APxR+k/5FPmY+Yn6pPvi/Bf+/P5o/zv/e/6F/Zz8uPvz+m/6N/pw+hj73/uX/EL90P07/oT+jv5X/hL+3f29/cH97f1C/tD+kv9jACcBzwFDAmwCPQKqAbsAmf9q/j79OfyH+0X7g/s6/Dn9Vf6E/6UAhwEQAikC1gFRAcUAMQCp/0v/J/9U/9H/awABAZoBLAKzAjEDjwPLAwgEVgSvBBgFhQXuBV0GzgYsB2wHgwdnBxMHhga7BbkElANfAiwBFwA+/7n+k/7K/kf/8//KALcBmQJbA+0DTQSVBNcEAwUWBQ4F5gSoBFcE3AMyA2UChAGnAOf/Pv+s/jX+1P2Q/Wr9Vf1I/UL9Q/1T/XP9lf2q/aP9cf0Z/Z78B/xe+636BvqH+Uf5SPmI+fP5d/oW+8n7fPwm/bz9O/65/kD/xP9BALEACwFXAZkBxgHgAe0B9gERAkkCmAL0Ak4DkgO0A6EDOANmAi4Bov/v/UX8vfqH+eX4APnl+YP7k/3P/xkCMASyBWMGJAYABVcDeAFv/3L91vvO+oP68/q2+4T8av1S/hn/tf/3/9v/rv+W/3//ZP8r/73+Pf6z/QX9MvxI+1r6nfk1+Rn5RPmp+Tb67/rJ+578Wf3z/W3+4P5g/9z/UgDEACsBkQH0AUACaQJ2AmgCTwI0AhIC6AG8AZEBbAFUAUcBRQFSAXEBpAHtAUgCsAIfA44D+QNeBLcE/wQsBTQFCwWsBBYETQNbAkwBLgAX/yX+cf0A/dH81Pz3/Dv9lv3w/Tz+cv6V/r/+BP9c/8j/TQDmAJsBZgItA9wDbwTbBBkFJwX6BJQEBgRdA6QC6gFDAbwAXQAlAAIA5P/J/6P/Yf/3/mH+pP3e/CT8evvs+ov6YPp1+sr6QvvM+2X8AP2R/Q/+a/6j/sb+3v7l/tr+vP6K/k3+Bf6s/UH9zvxd/AD8x/uy+8P7/Ptb/OX8l/1n/k3/QwA/AT0CMwMHBKEE4QSxBBEEDQO6ATkAof4c/e77Qvsm+5T7X/xc/Yr+zf/xANcBaAKlAsYC8AISAysDRANVA3QDoAOtA4YDMgO1Ah8ChAHXABoAZv/F/kn+Af7y/SH+kv4//xUA/QDeAZYC9gLfAksCQgHt/3P+5fxp+z36h/lb+bT5Wfoc+wL89PzO/Xr+4P79/gf/Hf8x/0H/TP9I/0v/Wv9X/zn/C//W/rj+xP7v/jP/jf/z/2EAzgAZATIBGQHSAHQAEQCr/0r/BP/j/u/+Jv9u/7X/+f8xAFEAUwAsAN7/f/8f/77+Zv4d/un91f3i/QD+KP5d/pz+6P5A/53/+/9hAM0AOQGeAe0BHgIzAi0CDwLiAagBaQE5ASIBJgFCAWoBkgG7Ad8B8QHqAcYBhgE4AegAkwA7AOX/kv9J/w//2/6u/oz+e/6E/q3+8/5S/8j/TgDfAHAB8AFSApMCsgK3AqoCiAJVAhoC3QGjAWoBKAHWAHoAFwCx/0z/5/6E/iz+5P2u/Y39fv1//ZD9sf3c/Qv+NP5N/kr+I/7X/Wn95/xe/Nf7ZPsg+xn7VfvM+2j8Dv26/Vj+y/4A/+/+n/4y/sb9YP0U/f/8MP20/Yf+gv+HAJIBjgJlAwYEXARkBDkE6QNsA78C4wHVAKn/a/4X/bj7a/pP+ZT4Xviq+G/5lfr5+4n9Gv9mAD0BkgFtAQIBggDr/1X/9P7i/jH/3P+bAD0ByAEqAk4CLgKuAdMA1v/Z/uH9Af1E/LD7Yftc+4T7y/sz/Lf8W/0d/un+tf+HAFQBCQKMArYCbQK1AZkALP+O/dP7JPrF+OP3ive09zX44fi5+aT6bvv8+zn8KvwK/AH8Bfwc/FP8q/w3/ff9uf5h//H/YgC3APQABAHiAKAARADN/z7/jv66/dP85fv6+ib6fPkV+Rj5nfmf+hH8zf2o/4IBJAM8BJcEKAQCA28BuP/4/W/8h/t8+238Rv6aAAoDiwXfB6oJtwrWCg8K1gh/BwYGjwROA1oC6AH9ATwCcwK0AvgCRQOoA/kDMQSCBPwEjwUvBrIG9QYKB/IGoQYaBlcFWgRAAxwC8ADG/53+fP2D/M/7fvum+0T8S/2l/jIA0AFMA1kEwQR6BJEDQgLHAC3/o/14/N777fuc/JT9kv6Z/4sANwGFAVMBowDH//T+I/5n/c/8Xvw3/Fz8l/zN/AL9MP1c/Y/9sP28/cz95/0K/jT+Uv5Z/lT+Rf4m/vv9xP2G/VL9Mv0j/SP9Kf0t/TD9LP0W/en8pPxO/Pf7r/t9+2z7j/vs+4f8Wf1H/jb/GgDXAEsBXwEOAV8AfP+L/p792Pxv/IT8JP1F/qv/IgGeAvYD7wRmBUMFigSAA1oCGgHd/8z+/v2U/Y39rf3O/fz9Lf5b/of+mP6P/pX+v/4G/2n/2f9GAL0APAGpAfgBHgIPAs0BVgGnAMP/vP6k/Y/8m/vo+o/6mPoA+677ivyK/Zb+hv9AALUA5gD2AP0A8QDWALgAmQCIAIcAdwBMABMA0/+f/4j/hf+W/8j/HQCaAD4B+gHFApsDcwRCBfsFgQa4BoAGwQWBBM8C0QCz/pr8xfqJ+SP5nvns+sT82/4cAUcD9gToBfwFOgUIBLYCPgHH/5H+vf14/cH9Ov6n/h3/lf8LAIcA4AAOAUgBnwECAmQCnAKKAkUC1wE6AXwApf/G/hL+qf2J/bD9Bv5z/v7+n/86AMQAMAF+AcgBHgJ1AsUCCwM8A14DbgNVAwUDewKzAa8Adv8L/nz84/pf+RD4IffE9hj3IPjL+eT7Lv6BAJEC9ANkBM4DRAIoANf9aPsn+Y735fZR98L4sfqy/L7+mQDnAXgCGQLTADP/nf0R/MD64vmO+fr5HvuD/Nb9Dv///4AAfwDQ/3z+6fxe++/5zPgn+Bv4z/g5+vz71f2u/1UBkAI7Ay0DbAJPARMAvv50/WL8ofta+4v77ftS/MT8Ov2r/Rn+Yv6C/qb+3/4f/1z/ev9f/yH/xf5B/p/95Pwf/Hr7Dvvb+uD6EPtd+9D7Z/wS/cj9gP4y/+r/pwBTAdoBIgIUArcBDwEmAA3/0/2T/Hz7r/o1+gn6Efoy+nP6yfoX+1D7aPtg+1/7evun++b7NPyN/P38iv0c/q/+R//p/6UAhwF/AoUDjgSKBWwGJAePB5sHSAedBrgFtwSoA6oC7AGNAZsBEgLMAqgDowSoBZAGRAewB9AHzAe6B4sHOwfIBi0GfQW/BOED4wLcAeMAIwC8/6j/3v9PAOQAkwFEAsAC6QK3AjIChQHUAB0Ac//6/sL+3P5D/8X/PgCxAA0BQAFDAQIBfADZ/zD/g/7c/UX9v/xg/Cj8BPzn+9f71Pvj+wr8P/yD/OH8Xv33/aj+Zv8mAOcAowFPAuECTAOBA3YDIwOHAqwBoAB6/1D+Q/1//CP8OPy3/H/9bf52/30ASwHBAc0BcQHeADcAdP+g/tT9Gf2I/Cj81vuC+0P7KftM+8H7dfxb/XL+p//jAAECwQL5AqoC3wG/AHn/F/6//Lj7LPsu+7j7i/x2/X7+jP93AC0BkAGjAaEBrwHCAd0BBAIvAnYC1gIlA0oDRwMVA7oCQAKbAdIAAgBA/6H+QP4x/oP+Pv9WAKkBEQN0BKQFZAaOBhMG/wSMA/EBQACm/m39wPy5/E79Mv4m/ygAGAHAAQcCzQEXATYAYf+W/ur9d/1F/XP9//2p/kf/2f9LAJEAqAB6AAgAg/8L/6n+df6A/tL+f/+CALEB7gIuBFcFTgb/BlcHVQcbB8IGSAa4BSMFkQQTBKwDQAPBAjsCswEzAccAZAALAMz/qv+j/7L/w//K/8r/xv+8/7D/mv92/0n/E//W/pT+S/7//bz9jf2D/a39Cv6W/kn/FgD5AOcBxwKMAy0EqAQJBVgFiwWfBZMFZwUiBckEVgTMAzsDtAJRAiYCLwJjArQCCgNaA4oDbwPuAgUCvQBC/7r9MvzJ+rH5Cfnj+D355vm4+rT7x/zQ/b7+ef/9/3MA9ABvAeQBTgKiAu8CNgNXA0gDDQOqAjMCuAEzAagAIwCt/1T/J/8q/2T/1v96AEgBLQIVA+MDcASeBGcE0AP1Au8BxwCS/3v+nf0I/cD8ovya/Ln8Av1z/RH+yv6a/5UAuwH4AjYETwUjBrIG/Ab9BrsGMAZdBVsEOAP8Aa0ASP/R/Wj8LPtB+sP5sPkC+qr6j/ua/KX9av68/pX+Af40/WD8ifvO+m36g/ok+0T8mP3m/ioASQEYAoMCbQLZAQkBLQBH/2/+wv1M/S39aP3M/T3+wP5M/97/cgDxAFMBsAENAlcCfwJmAvcBPQFFABT/wf1e/Av7Avpq+Uf5lvkz+vz68fv6/On9ov4Y/1D/ff/D/x0AlQA/AR8CQgOdBPcFJgccCMAI9gixCOEHjQbsBCwDZQHI/4z+2P3D/Uv+Nv9UAJ0B6gIDBMYEFwX4BKoEWAT3A5EDOAPwAtMC4ALiAr0CewIeArQBTwHYAE8AzP9W//D+nf5O/vr9rv1u/T79JP0e/S79Xv2x/SX+tv5W//r/mgAoAZIBzAHRAaMBUAHoAHEA/P+f/2v/Zf+K/8D/8v8eADYAJQDh/2L/sf7y/UL9p/w3/Av8Mvy3/Jb9q/7Z/xQBRwJQAxwElgS6BKQEaQT/A2sDtgLlAQkBKgA5/zf+Ov1c/L/7f/uV+/z7q/yM/ZD+mv9xAO4ACgHHAEYAp//g/v39HP1N/KP7IPuj+hv6n/k9+Qj5E/lQ+bj5VPoe+wf8+fzH/VH+mP6l/or+Yf4p/u791v3z/U7+5P6U/0MA+wC2AWsCFwOoAxcEdgTKBAQFGAXxBH0EyQPdAsABhgA+/wH+/vxT/AX8EPxb/Mr8W/37/YP+2/73/tf+ov5w/jf++/3I/Zz9h/2H/Xz9Vf0Y/cX8ZvwE/JX7Gfui+jf63/mj+YD5dvmO+cX5Fvp6+un6WPu7+wf8PPxb/HP8kPy3/PT8Wf3u/bb+pv+gAIoBWALxAjYDFAODAo4BWwAT/8b9mPy7+0/7Zfv2+838vv2+/qz/VACYAGMAuv/d/v39Gf1L/Lb7a/uG+wf8tvxw/T7+FP/s/8UAhAEiAr0CXQP1A3sE1gTzBOAEogQ2BKcD/QJLArcBXQE9AVQBjwHcATwCpwIBAzsDTgM5AxcD+gLYAq8CgQJLAhYC5gGpAVoBAAGfAEcAAwDO/6b/jf+B/4P/kv+j/7L/vP/C/8j/0v/X/9X/yP+t/4j/XP8t/wL/4v7b/v7+Vv/i/5kAaQE7AgUDrgMVBCME0QMmAz8CPAEjAA3/If52/R/9HP1O/Zz9Ef6m/lD/CQC+AGcBGALTAoEDDARTBDwEzwMVAxcC6QCd/1L+Qv2W/FT8dfzY/Fv9//20/lL/wv/y/+L/vP+b/2z/Lv/d/nP+A/6U/RP9fvzo+2P7Ffsa+2j79vu4/Jb9h/51/y8AmACpAGkA+f96/+n+Vv7i/Zz9lf3K/RX+W/6j/uf+H/9K/1v/UP9J/1X/dP+o/+//RACyADcBxAFNAs4CPgOdA+YDEgQdBA4E5wOoA1UD7QJzAu0BXAHBAB0Aef/c/lT+6P2b/W39X/1t/Zf91/0f/mn+sf72/j//j//e/ykAbgCnANUA8wD3ANkAmQA0AK7/B/9D/mT9d/yH+6L63flL+f74/vhL+d35q/qw++D8JP5t/7AA6gEoA24ErAXXBucHzgiJCRIKUAo4CsUJ8wjJB0wGfwRqAiQAwf1h+yv5Svfg9fz0ofS99Dv1EvYo90z4W/lG+gn7xvuP/Ez98P15/tv+I/9Q/0r/Cf+j/jD+3f3O/f39Yv71/qP/cQBVASoC3QJlA8ADBQRCBGAEUAQHBHgDsAK5AZMATf/9/cL80/tT+0b7pPtS/DP9QP5i/2YALwGsAd8B9AEIAg8CDQISAh4CQwJ+AqkCrgKVAmACGQLNAW4B/QCNACcA0/+X/23/Vv9Z/3j/r//8/1gAugAbAXQBwgEEAkACeQKvAuICGANRA40DyQP1AwgE/wPVA4IDBgNfApUBuADc/w3/YP7v/cr99/1w/h//6P/AAIwBJAJuAl8C+gFjAboAAABI/6/+Sf4k/j/+cP6c/sn+7/4F/wr/7v6z/nr+Vf5D/kn+aP6b/u3+W//O/zgAkQDKANoAuwBkANX/H/9P/mz9hfyr++r6UPrg+ZD5WflH+Vz5nPkL+qD6V/s1/DX9Rv5V/0QA+gB3AbsBzgG7AYUBNAHlAKcAgQBxAGIARQAnAAsA7v/X/7v/mv+C/3j/c/9p/0r/CP+q/jj+uv09/cf8Zvwz/ED8jfwW/cb9iP5Y/ycA3gBsAcgB8AH9Af4B8QHbAckBvQHBAdMB2gHIAZ4BWQH3AHkA2f8d/1j+nP3v/F/89/u9+7n76Ps4/Jj8/fxU/YX9gf1A/cr8Ovyr+yX7v/qZ+sf6Uvsy/ED9WP50/3sATAHSAf0B0QF4ARQBpwBEAAcA/P8zAKkAMAGoAQ4CUAJYAh8ClQHCANb/8/4m/oj9N/1E/cH9qf7R/xYBawK2A9IEqAUiBkIGLwYHBscFfAU6BQkF+QQHBQkF5QSgBDMEmwPcAuoBywCj/4r+iv23/B78x/vB+wn8h/wm/dr9jP4h/4b/rv+b/2n/L//t/rL+lf6f/t7+S//H/zgAoQD7AD0BZQFkAToBAAHDAIEAPwD7/7T/df9E/xb/6/7H/q3+qP6//u7+Mf+I/+3/XADNAC4BdgGgAa0BoQGDAU8BBwGzAFcA9/+Y/zL/yP5i/g3+0/2//dH9Bv5c/sv+Tv/Z/1cAuAD5ABkBIQEaAf4AzQCLAD0A5/+L/x//ov4e/p79Mf3j/LP8oPyp/Mv8BP1M/ZT90P0A/iT+R/5x/p3+yv77/i//aP+l/9j/+v8KAAcA8v/O/5X/Sv/1/pv+Qv70/bb9jv2A/Yz9qv3S/QL+MP5Q/ln+SP4d/uX9qP1l/SD94Pyq/Ib8dvxy/Hv8l/zO/Cn9sP1b/ib/CAD1AOEBtwJaA7UDwwOJAxkDhwLYAR0BdQD2/6n/j/+N/5H/o//A/97/+/8LAAsAEgAmAD0ATwBLACQA4v+M/yD/pv4j/qb9Sf0f/Sf9Xv20/Rv+k/4T/4j/6P8qAE8AawCLAKgAxgDmAAgBNgFwAaoB3gESAkkCjALhAj8DoAP/A1EEjQSjBHsEBgRIA0oCJAHz/8b+u/3//K38zPxT/RX+6P68/2wAvwCQAND/if75/Fb7qfkX+Nj2DPbP9R/2ufZv90T4Jvn3+ar6I/tj+6H7/ftv/Pv8ov1c/jn/NwAqAfkBnQIIAzkDLgPcAkQCggGsANP/EP98/ir+J/5v/un+ff8iAMIAPwGCAYEBPgHfAH0AFwC4/3H/SP9M/3b/oP+v/6P/cP8M/3X+of2X/H37cfqD+c74cfh++AH58Pkk+3b80v0Q//3/dwBvAO3/K/9d/o/95/yf/Nf8pf37/o0AHAKfA+wEzgUlBtMF3gSSAykCqAAw/+r97Pxb/DX8Ofw//Ez8Tvw5/Aj8ovsN+336FfrT+cX57flK+u361fvc/On99P7r/8EAcAHjARkCIwIOAtwBlQFCAecAkwBIAPn/ov9Q/wn/3f7U/uf+Dv9G/4L/sf+7/3f/zf7D/Wz88Pp++TH4OPfe9k/3kviS+v38gv//ASwEnAUNBmQFtwOAASr/1fzX+rD5qvns+lz9VgBSAzAGjwjlCeYJWQhZBaUB1/0Q+rr2YvRY8+fz/PXO+MX7yv57AVkDIAR9A4IB7/5U/Lj5avfF9fj0UvXN9r74tfqy/IH+9f/5AEcB4ABAALT/Of/p/tD+6v5r/1IASgElAt4CYgOxA9ADnQMbA3wC3gFLAdgAjQBsAIoA4wBPAbUBBwIrAgoClQHAAJP/OP7V/Hf7PvpT+c34wPgm+dL5nvqE+2v8MP29/f398f3I/aH9eP1X/U39Xv2f/Q/+iv78/mv/1/9HAMQAPAGtASgCsAJBA9cDYwTWBDUFfQWoBbIFkwVCBcAEDAQnAxgC6ACl/2D+Mv03/If7KPsZ+0r7p/st/Mr8Xf3T/SD+R/5j/of+q/7R/gD/Ov+H/+T/NABnAIAAfQBjADgA8f+N/xb/kv4F/nH91vwy/JP7AvuG+i36AvoR+m/6Jvs0/I39G//AAGUC4wMEBaMFtAU9BWQEUAMMArkAlP/A/lP+Sv5w/p7+4P4s/23/nP+j/4L/a/94/5z/1P8RAEQAfwDCAPYAEAEQAfIAxgCUAFUACACy/1b///66/ov+ef6K/r3+Df94//n/hwAVAZsBFgKHAvsCegMCBJUEOgXwBbQGfgczCL4IEQkXCbsI7QetBgcFIAMgASP/V/36+zj7H/un+538zv0p/4IAkQEqAjQCuQECAUoAjf/o/oj+gP7u/sr/wwClAXECEgN0A5ADSAOfAtABAQE5AI//Ev/J/s3+HP+L//7/bQDDAOwA3wCJAO7/M/90/rX9Bf13/BT87vsG/ED8ifzl/FD9x/1J/sX+Mv+b//z/RwBrAE0A2v8d/yP+//zP+6v6u/k++V75Hfpt+xj95P6+AG8CpQMrBOsD8QKOAQgAZv7W/J/76frW+l/7Kfzx/Lv9af7V/u7+k/7J/eb8IvyC+x77D/tc+yL8Xf3G/i8AiQGwAocD+QPqA10DiQKXAY8Akv/A/jH+//0p/n7+3v5P/8X/MACNAMQA0QDYAOoA9wD5AN4AlgAvAK7/Bv86/lL9Wfxt+6X6AfqB+SL53Pi8+MX48fg9+af5Lvrc+rH7ovyg/Zn+ff9JAPcAgwHoAR0CHwLvAZABBwFbAJL/u/7w/VD9A/0m/bj9r/7s/0gBrQLuA8IE/QSSBJEDOgLLAFD/9v0F/aj89vzl/R3/WACRAZ8CSQNxA/YC3wGGAC3/2v2x/N77ePui+1n8T/1O/lL/PgD0AGYBcgEeAakAPwDh/6f/o//c/2gAQQEuAgYDvwM+BGsEOQSVA4QCPAHj/4v+VP1l/Nb7vvsY/LL8Zf0p/uH+af+r/5D/HP+E/uz9Uv3H/F/8Ivwm/Gj8u/wD/UP9cv2M/ZP9dP0w/eX8pPxu/Ez8PvxE/Gv8t/wY/Yn9Cv6W/jH/2/+KADcB4gGGAhgDiwPNA9ADlQMgA30CuwHjAAoAT//L/oT+e/6c/tf+Mv+j/xoAjQDvAD0BigHbASECTwJTAiECwAE1AYIAr//M/u79PP3U/Ln86PxQ/d79mP50/1kAOgEGArkCYAMCBIME0QTUBHYEwgO9Am0B5P81/oP8B/vp+S/52PjG+Nz4IPmC+dz5Gvov+h36Evor+ln6nfr6+mn7+Pul/E/94f1b/rr+Av86/1L/Rv8f/+D+jf4r/rf9NP2r/CP8n/sq+8z6j/qE+rX6IvvI+578lf2h/q//ngBXAdEBCgIRAvMBqQE3Aa0AEQBw/83+G/5Z/Zv89fuB+1T7a/vD+1r8I/0X/iH/GADfAHABxwHzAf4B2AF4AeEAEwAc/wv+3fyk+4b6rflZ+bb5vvpg/HD+tQAPAz0F1gaVB2QHUAasBMQCnABj/nH89voc+uH56Pnz+Rf6TPp++q/6u/qh+q76CPui+3r8e/2L/sD/FAFbAnoDXQTrBBwF7QRNBEQD6wFeALz+Mf3x+yP72foR+6X7cvx2/Zb+pf+EAB0BbQGiAdUB7AHdAZ8BJQGGAMz/5f7a/cb8z/s1+yP7kvtz/Kb9AP9wAM0BxwItA/UCKAIPAeb/sP6R/cn8d/y3/H/9fv50/2EAJQGXAaMBKgE0AAz/6v3U/On7S/sJ+0P79/vk/OD95f7Z/6AALgFkAUIB+ACjAEEA2/96/yD/4v7B/pv+YP4V/rz9X/0I/az8Svz2+7X7ivt3+3P7d/uJ+6v72vsV/FX8lfzT/A79Qf1u/ZT9tP3R/e39Dv43/mj+m/7L/vD+Bv8L//X+wf5y/gz+nv06/ef8t/y9/Ab9lP1e/kr/PQAlAeUBUgJSAt8BBAHv/87+sv3F/EP8UPz9/D3+zP9uARQDkQSiBSIG8wUdBe8DpQJDAe7/1/4a/tj9D/52/tn+P/+W/8n/0v+U/w//gP4I/qT9X/05/S79V/22/Sz+p/4q/6//PgDbAHcBCwKhAjUDwwNGBKsE6QQDBf0E2gSkBGAEGQTlA9MD5QMaBGMEtAQLBWIFpwXRBdkFwgWeBXoFUwUsBQoF7QTeBNsE1wTKBLQElwRzBEwEHQTmA7ADfwNVAzYDIQMXAxoDJgM1A0ADQAMsA/sCpQIsApMB6gBBAKL/Hv/P/sL+/f54/xoAxwB2AQ8CbQJ6AiwChQGpALb/rf6k/bj8/PuE+1P7TPte+5f7+fuI/Ej9I/4P/xEAGwESAtMCJwPrAiQC4wBK/4j9ufsU+vH4jPj0+B36v/uW/Z3/owFaA5AEIQUKBZkEAgQuAyIC7wCX/0L+Af2p+zP6yfiV99n2zPZZ9274/fnb++v99/+RAXMCkwL/Af4A1f+F/jP9M/yw+8j7dPxX/S3+Bf/M/2QAxQDHAGgA7P94///+g/73/U79qfwS/HT7z/oy+qz5Z/mB+e35o/qW+6784v0Z/x8A1AAxATYBBQG6AE4A0f9f/wj/3v7j/vf+B/8l/1j/qv8mALYATwH1AZgCHwNqA0ADfQIqAVv/Ov39+sD4vvZS9bf0/vQZ9rn3lfme+539Nf8wAG0A8v8k/03+aP2a/Bj8/Ptt/GT9gf6F/3YAPgHJARYCAAKLAQABjAA3ABkAPgCqAHcBngLnAyoFUgY6B8AHzQdKBz4G2wROA6MB/v+N/m79vPx4/HD8gvy3/AP9VP2l/d79/v0v/oT+8P5q/+L/RAChAPkAOgFhAW8BawFsAYQBqQHXAQMCIgI4AkECLgL5AaEBKgGjAB0AmP8Z/63+V/4e/gT++v35/f79Av79/er9xf2P/Vb9Jf3//Or87vwQ/VL9sP0Y/nr+0P4O/yX/DP/B/kj+uv0u/bH8WPxD/IP8IP0S/jf/bQCpAcsCqgMqBD8E7ANfA70CDAJlAesAtgDXAEsB3QFqAvMCZQOrA7oDfwP5AlYCsgELAWsA3P9f/wX/0P6g/mP+Gf67/Ub9vfwX/Fv7pfoK+pb5Xflx+dz5pfrD+xT9eP7b/xkBBQKBAoACCAJGAWMAbP+E/uH9ov3b/YT+X/88ABgB2QFUAnUCIgJeAWcAZf9W/kr9U/x5+9r6e/o3+v352/nU+ff5UvrR+nD7Ofwq/TX+Sv9DAAUBkgHrARYCIQIGAs4BkQFdATUBFwHrAKAAQQDN/0P/pv7y/S39cfzQ+0/7+/rb+vL6Sfvc+5v8c/1W/i//4v9dAJIAgwBBANz/Vf+2/hb+gP0A/ZT8KPys+y37sfo9+tn5gPky+QL59/gP+Uf5kvno+U36xfpO++z7l/xN/RD+3/61/40AWwEWArkCPgOdA9ED2QO1A28DEQOjAjUC2QGfAYkBmQG/Ae8BJwJbAngCdAJIAvoBoQFPAQQByACmAKQAzQAfAYgB+gF3AvsCgwMPBJQEEQWQBRMGmQYeB50HEAh3CM4ICwklCRcJ2AhlCL0H3wbTBagEbwM4AhsBNwCg/13/af+u/xIAiwD/AEQBQQHpAEEAbf+M/pv9qvzS+yL7rvp7+mv6bfqW+uz6f/tZ/Gr9o/4HAIYBBgNmBG4F9AX6BYUFsgSkA2ICDgHj/wf/jP5x/oj+rf7v/kj/o//5/zQAUQB1ALIA8QAjASwB9QCNAPz/Pf9b/mH9ZPyT+w770frV+v/6L/to+5b7lvtS+8L66Pnu+PP39fYC9i71hfQe9P/zFPRS9Mv0h/WW9gP4ufmm+7795v/4AcUDBQWDBTsFNASYApgARf7S+5X5yPeG9s/1ZPUX9f30DvUs9U/1XPVW9Xr16vWN9lb3J/jj+J/5XfoB+4T75fsl/GH8rvwD/V/9v/0g/pf+Nf8DAAsBRgKoAyQFpAYNCDoJ9AkWCpsJjwgbB2sFjgOsAQgAy/4S/uD9BP5c/vr+2v/pACECaQO3BDIG4genCWUL7AwVDukOZw+GD1APxg75DRkNSAyLC+cKSwqwCTYJ8wj3CFAJ9QncCgYMYA3HDgwQ5hAgEbsQxw9zDvYMYAvgCc0IWgiYCHsJqwrgCxgNKg7VDvgOdA5TDfYLowphCVcItQeUBxYINQmZCgIMZQ2aDnQP3Q+uD+sO3g26DIULXQphCaIIQgg/CFwIcwiGCIkIcAg4CMcHGAdUBo0FugTYA9oCtAF3AC3/zP1X/Nr6ZfkZ+A33PPaf9Sb1vPRb9O/zUPNq8jnxx+887r7sVesc6kDp2ejy6ITpWOpD6zjsFu2u7eXtpe327BLsKetC6n3pBun16GDpQepX63Psj+2R7lPvxO/K72fv1e477pvtB+2V7E3sTeyX7APtfu0O7rPucO9M8DPxHvIe8zX0VPVu9mL3G/id+Ov4CPn/+NL4jPhN+Cf4HPgq+Dv4Pfg4+Cf4/ve791j33fZm9gn2y/W29db1L/bL9qb3pfi0+cb6xPuW/Cj9cf1z/Un9Cv29/Hj8V/xu/Mz8cP06/hX/BwALARYCIwMfBAMF3QWuBmIH5AcWCOIHUwd2BlwFIwThAsEBBgHdAE8BUwK8A10FLQcKCbIKAQziDFoNrA0KDm0O5w6bD5MQ4xF/ExwVgxasF3gYyxiWGMIXWBaaFL4S2xAiD8gN8Ay5DB0N3w3LDtgP3BCiEQcS7xFfEZ0Q2g8RD1QOvA1VDTsNbA2uDdwNAA4WDiAOKA4VDuQNtg2XDYcNiA2MDYoNjg2bDacNsA2yDaoNoA2YDY0NgA10DWgNYQ1kDXANiA2pDdIN+g0cDjAOLQ4GDrQNNA2KDMML7QoNCjEJbwjUB2oHNAcmBzkHdAfVB1oI/gi3CX0KUAsnDOwMhw3VDb0NQA1iDDMLywk3CJUGGQXmAwMDbgIBApoBPQHcAFQAlf+O/kH92Ptu+vf4c/fk9UL0ovIJ8WDvou3a6xLqYejb5nvlQuQ141PipOEo4dPgouCV4K7g9OBs4Q3i0uK1463ks+W+5rnnlOg+6aLprelR6Y7obOcE5nbk3eJm4U7gwd/M32zgeuHM4l/kEeaq5wXpDerA6lbr8uuA7P/sd+3h7VTuzu4j70HvNe8H79Tus+6Z7ofuju617gnvle9R8DzxX/K580/1HfcX+Sv7SP1b/18BTwMpBe8GlAgUCm8LpAy2DaYOcg8fEL8QahE8Ek8TpBQ2FvcX1hnMG8YdoR9CIZ4isyOXJFgl5SU1JkkmGia0JRklPCQcI80hYCD7HrcdlByNG5watBnWGPgX+xbPFXEU5BJCEZ8P8Q07DIMKywgfB4UF8ANfAt4Aev9J/lr9p/ws/OT7w/vD+9P72fu++3z7EvuM+vX5Qvlz+I/3mfaZ9ZH0dvNH8hPx6u/g7gruae0C7dvs9uxY7QTu7e4N8F/x3PKC9EX2Dfi7+S/7TPwN/XT9iv1g/f/8fvwJ/L37pvvC+/f7MPx//Of8YP3w/ZD+R/84AHgBBQPdBPoGUAnoC78OwRHgFAwYLxs8HiMh1SNLJoUogypFLM0tJy9ZMGkxWjIlM8szXTTvNJU1YDZPN1s4gTmxOts75zyoPf895T1dPX08XTvzOUc4bzZ2NGwyWDAmLtArcSkdJ/EkBSNPIcUfYR4NHbcbOxpeGPcVCBOdD+cLFgg3BHEACf0o+uH3LfbK9H/zT/Ia8bPvAe7t637p/+am5Hbii+AF3/Tdct143cPdIt6L3t7e/N7S3kfeXt1S3FDbYdql2T7ZQdnG2cbaCNxh3creKeBb4U/i6eIn4zjjOuMm4wTj3OKw4pbilOKK4m3iS+Is4ibiSOKF4tbiPuOx4yXkh+Sv5IPkCeRK42Lic+GF4LPfLd8Q32bfKeAs4UrifeOv5Lblfebr5gDn5ea15mbm/eWD5fnkdOT342XjteL24TPhhOD+35jfTt8p3yTfPd9q35DfnN+V34Dfct+A36ff89954ELhUuKf4wnldObU5xXpGurR6i7rMuv/6q/qTeru6bbpuOkE6pvqWOsi7Pzs2u2r7mbv/e9y8OnwePEZ8tDynvOB9IT1rPbh9xv5W/qg+/D8Uf66/yoBpwI0BNIFgwdDCRIL8wzrDvsQKRN3FewXjxpmHXAgqCMFJ30qCS6aMR01hDjIO+Y+5kHORJtHT0rwTINPCVJ/VNNW+lj2WsRcZF7VXxBhEmLgYnxj4WMNZPVjl2P4YiBiGmHxX7JebF03XCRbMlpdWY5YrlevVnhV4VPTUUtPWUwsSfNFw0LIP0A9VDsVOn45TjlQOXo5pTmUOSU5PTjmNmk1ATSwMpQx2TCQMM0wfTFCMtIyFjPZMt0xATArLXApNyXeII4cnRh4FWITgRLBEqETrhTDFYEWXxYJFUsSOQ50CXsEXv9r+hf2ofJQ8B3vau7K7UjtvOzz69rqK+nk5nvkNOL639bduduR2ZHXw9Xt0/3RAtAJzkPM1cqmya7I8cdex/XGp8ZCxqrF3sThw8zCtsGUwGy/U75SvXa8xLsmu5S6H7rSuby57rlauvy60bvQvOi9Br8AwLnALcFZwU3BFsGtwBbAZL+kvuG9Ib1XvIG7uLoUuq+5pLnvuY26gbu9vDq+4r+KwRTDfcTGxQTHTMiRydTKI8yCzfrOi9AY0pXTENWP1iTY29mo24XddN9q4WHjTeUP55Xo3+nz6uLrvOyE7UTuEe/47/3wHPI38zj0GvXP9UH2ZvY19rP1//Qz9FjzgfLI8Tzx7vDg8PbwIPFg8a3x+/FF8n7ypPLP8gnzSvOO88/zBfQ69HX0sPTv9D71q/VR9kT3gfgF+sT7rP29/+cBEAQoBisIIQomDFQOrhBCEysWdBkgHSQhViWNKbktuDFhNZk4UjuXPZs/kEGIQ7BFRkhwS0NPt1OIWHxdimKJZzxsfXAmdC13ynkdfAt+j3//f/9//3//f/9//391f3l+xX2Rfdl9k36rf/9//3//f/9//3//f/9//3//f/9//3+Vf+h9OnyNeqx4gHYjdKVxKW/NbIJqRmgsZjVkY2K0YAhfTF2GW7pZ8lc5Vn9UulLqUAZPEE0ES9RId0buQztBZD5xO2E4NTX2MaouYCsrKBolPiKXHyUd3BqvGJQWdhQ1ErwPCQ0iCiQHLAQ+AWz+1fuJ+Y731vUy9HbylfBu7tjrvOgO5d3ga9zy15DTfM//y0nJccdpxuHFj8VbxQnFQcTLwojAhL0nuse2bLNKsKutuqujqmOqkKrjqmOr86twrMqs0Kx5rAmsoasqq52q4KncqLOnbab0pEyjiqHMn1CeRZ2fnFacUpxwnKqc5JzdnHCclptbmviYoZdWljGVX5T4kxCUn5RklSyW9Jaglw6YLZjmlz6XcpaxlQSVipRolK+Ue5XFllaYBJrIm4adIJ+CoJWhXqISo9ajrqStpemmcKhcqrCsSK8RshO1ULjNu4+/gcObx+bLX9Dv1IHZ690L4uHlaemm7KHvVfLJ9Bn3V/mK+7n91P/ZAeMDBgZXCOoKug3AEPoTWBfFGiEeMyHUIwEmwSc2KYQqqiu/LPEtWC8AMeAyvzRzNv43TTlFOt06BDvCOlM64jl9OUI5VTnHOa06ADyJPRo/oUD1QeJCSkMWQ05CMUHyP5w+VT1PPKo7gTvNO0s8yTxIPa893z3JPVQ9gTyQO6s60TkTOX44GDj5NyE4YDibOM847DjtOM04ezj5N2k33zZiNgE2yDW+Ne81WDbeNms3+jd8OOA4HDkkOfo4tjhrOBs40TeZN3k3ezeaN7k3xTe5N4g3IjeCNp81fjQ+M/cxszCHL40u0i1iLTgtMy03LTgtIC3MLCksJyvJKTUoiSbFJPwiRyG1H1oeOR0xHDMbSBp0GboYIBiWFxkXuBZ0FkAWDRa+FT0VjBSsE6ASbhETEJcODg2GCwMKhQgBB28F3gNYAuQAiv9I/hv9DPwX+zf6Yfl9+H73ZvY69Qf03PK58afwu+//7nruKu7/7evt8u0S7kXuiu7V7iLvd+/W7zLwgvC38MbwtfCO8FrwLfAV8CvwmPB08b/ybfRZ9lz4YvpF/Mj9xf4s/wX/hv7i/R39W/zR+5/73PuA/Ej9AP6q/i7/Z/9I/7b+t/2M/GL7PPov+U/4pvdM9z73SvdL9zz3B/eY9uX12vR78/HxXPDC7jnt1uun6r7pG+mZ6CHosec+57rmIOZh5YHkouPZ4inineE84QrhDuFB4YLhteHO4bPhT+GR4HLf/N1Z3K7aE9mx17zWVtaP1lvXf9jH2R/bWtwz3YDdJ90y3Ozaj9kh2MXWstUF1eDUQNXa1X/WNdfs15PYJdmC2arZ1tkk2o3aF9u622vcRN1I3lzfd+Cc4cviFuSH5Q3nnegy6r3rMe197oDvJfBw8GvwNfDu76rvjO/N75Dw5PHC8/z1avgE+6n9JABTAhoEcgWGBm8HFghyCIMIQgjLBy0HXAZoBXwEywOmA0gEpQWrBysK5wy+D2kSbBR4FXgVeBTaEvIQww6ADIcKDQlBCCIISAhuCLIICQllCcsJEwo8CpYKSQtGDIoN9w5wEAsSwxNrFeoWKRgOGZUZuRltGboYuheMFlQVRhSdE4gTFxREFeIWxxjnGh8dLR/oIDUiEyO8I1QkwSQCJRslBSXcJKkkRySvI/8iViLrIeghQiLuIuQjCCVTJqonzSiUKfYp9im+KW0p9ChZKLInBydsJuYlUyWnJPcjVSPbIqEiliKsIuEiICNXI2QjDCMqIr8g2x6tHGYaFhjnFSQU9xJxEocS7xJqE+4TURRPFMQTkxLIELcOpgyZCrkIPAc9BuIFJAa0BlgHDwi+CEYJlgmNCSsJsghJCO0HrQeQB5gH3QdbCOEIUQmoCdcJ2QmtCUAJkgi/B9wG7AX+BBkEQwOMAvcBdQH+AJcAPQD0/73/j/9n/03/Pv8x/xv/6P6K/gT+Wf2Q/LX7zfro+R/5hPgV+Mf3f/ce95z24fXK9ETzSPHk7kjsoOn+5ozkf+L74Bbgz9/0313gBOHP4ZLiMuOV473j2+MS5FLkoOQA5W7l++Wg5i7niue156nnbOcJ53LmreXX5AbkUePQ4pniveJE4yfkR+WG5svn7ei26QHqwOn86OjnsuZi5RvkFONu4kHih+IF44zjJOS85Dzlm+W/5arlk+Wa5brl+uVZ5tXmgedf6FDpQuo16yTsE+0J7vXu1O+v8IrxZPI88wr0yvR+9Sj2w/ZQ9833PPij+Af5a/nU+Ur60/p7+0/8Wv2i/iEAyQGBAygFoQbAB0wIIAg5B6kFqwOAAUr/T/30+3z7//tt/Wn/nAH2AzUG9AfzCAoJQAgGB7IFOwTGAokBoQBAAGkAvwAMAWcB0AFSAv0CpwNIBA0FAQYSByoIFwmwCQoKMQosChMK7QnSCf4JkwqTC/UMjA4wEOERhxP1FBQW0BYqF1IXaBdmF1cXSxdIF2IXnBfPF+kX8RfnF9EXuBePF1UXHxf2FtsWzxbIFr4Wuha9FsIWxxbHFr4WrRaTFmoWLhbYFWQVzBQNFB8T/xGtEC4PjA3RCwoKSAijBisF5QPOAtgB8AATADD/LP74/I379PlN+LL2KPW/85Hyq/EX8c3wpfCA8FXwDPCI77jujO0I7FTqj+jA5v/ka+MZ4h/hg+Al4PbfAuBI4MnghuFw4oHjyeRH5ujnlukr64nss+2r7nXvHPCj8Bbxm/FJ8ijzPPR09cj2TfgT+iP8iP44ASkEXQfGCkoOwxH7FMUXGxr7G3Udnx5wH/IfRyCEILUg3iDgIK4gZSAaIOMf1x/uHyQghiAOIbAhVSLRIgEj6CKMIgQiZSGoINUfBB9DHpwdER2GHO0bVhvKGlUaAhrGGZsZhhmEGYkZhhlbGfUYVhiFF5YWnhWjFLUT9xJ8EkwSYRKZEtkSHhNXE2kTQhPWEiMSSxFkEGsPaA5mDWsMiAvBCgMKRAmSCPMHdQckB/UG4wbwBhEHOwdbB08H/wZrBpYFkgRyAzkC9ADD/7n+3/00/Z78C/yE+wX7ivoO+oX55/hC+Jb31Pbq9b70PvN08W3vOe3z6rDok+bW5KDj+OLX4hXjiuMu5OPkb+Wx5Y/lCOVK5HTjdeJM4QXgn9403c3bTdqx2BfXnNVw1LzTdtOa0yTUAdUo1oLX19gB2vrax9uJ3F/dN94W3w7gJOFl4tHjQuWm5groden16pjsT+4S8Ojxy/O29Zz3Y/n3+l78nf3F/ur/DwFAApgDKAXzBvUIEgsxDU0PVREvE8wUIBYwFxkY9RjGGZsaihudHOAdTh/FICsifCOpJKAlVCa3JsYmmyZHJsUlGyVOJF8jXyJTITEg+R65HX8cYBttGqAZ9RhmGOUXZxfWFg0W8BR5E6cRjA84DaQK1AfbBMQBn/53+0L4B/Xk8fjubOxf6s3oruf05obmTuYk5sPl/eTG4ybiSuBb3lfcUdp62OrWt9Xi1DPUitP60oXSL9IC0unR49ET0ojSONMf1CXVN9Zj16/YFtqf20fdEN8M4UPjseVP6Avr1+2u8IjzU/YG+ZX7/P1BAGgCagRGBvoHhgnyCkQMfQ2lDssPBBFpEg8U+BUiGIEaBx2sH1wi9iRhJ40pdisoLagu4S/FMEsxaTEoMYswji85LqQs8CpPKegnwCbXJSAliCQXJMIjaCP1Il8ioCHRIP0fBR/UHVAcYxoXGHUVexI7D8oLSwj9BAwCf/9V/XT7wflI+AD3yfWV9FfzD/Lk8OvvEO9I7oXttezr6y7rceq86RzppeiB6MzogemW6vPrfe0u7/HwnPIW9FP1VPY+9yr4FPkF+hL7Qvyi/S//wgBBAq0D/gQpBiwH8wd3CMoI7wjeCJEI+gcQB9wFZwS0As4Aw/6n/J36wPgS95b1PvT98tPxtvCM70ju4+xg69zpaOj95p7lUeQX4/nh++AK4B3fPN5s3bncLNy922fbKtv/2uPazdqr2nDaHtq32UTZ0thi2PrXqtd+14DXt9ci2MTYrdnr2o3coN4d4fvjLueg6jnu1/FG9V74GPt3/Zb/kwFzA0sFTQeSCScMBg/8EeIUwBeLGiwdnh/QIcUjrSWpJ7cp5Cs2LqwwUzMiNu44lDsAPhBAokGgQv5CxUIlQk1BVUBuP9k+vz41Py1AZEGbQsVDs0QdRdlEx0PuQZ0/ET1GOlY3bDSbMQovvSxyKgcojSUHI34g/x1uG8IYGhZ8E9YQFQ4MC5wH1AO9/2f76vZQ8rXtUOlF5aHhZd5027fYPtYH1P/RIdBdzq7MK8vbyaXIdscsxq3EBcM8wVi/bL2Ku8+5drijt1i3jLcVuMu4qbmUulq73rsRvPy72rvYu/i7UbwFvSe+zb/zwWPE9saqyWzMJs/N0U3Up9YK2ZTbSt474XfkA+jr6yPwe/TJ+Pz88QCFBKEHNApEDAQOoA8rEc0SvBQbF/8ZYR0EIbckcSgSLGYvUDKyNIw2GjiCObc6wzuwPIA9Sj4QP6I/6j/xP7w/Wj/cPjI+Xj10PH47gTqDOXk4XTc4Ngw11zOaMkwx5C9dLrMs4iruKNgmpyRdIgEgnR05G9kYgBYqFNURig9PDSoLIgk6B3QF2gNxAjwBOwBs/8v+Vv4G/tH9qv1//Tv9xPwJ/Ar70Ply+A73uPWX9ODzt/Md9P70H/Y/90X49/j++Cf4XPav83vwEu2K6SHmN+MF4bbfQ99I33Xfzt8q4E3gFeBU3wfeh9wK23fZ09ca1kDUctK60O3OA80ay0/J4ccAx5jGoMYOx8PHtsjHya3KOstoyzzL6MqXyj/K8MnUyfzJe8pOyzzMIM0EzuDOrc9w0BbRptFN0irTR9S21YbXutlh3HTfzeJL5tnpUe2M8Gzz3PXf95n5KvuV/PT9a/8SAfoCIgVcB4oJtQvaDe4P8RHSE44VSBcPGdganxxTHuMfXyHJIhkkUiVzJoMnlCi0KeAqGCxXLZYu3C8tMYEy2TMxNYU21zcnOWk6lDuaPG09CT5pPog+Yj7vPSs9EzyrOvg4BTfgNJ0yWTA4LmYsBCsWKpEpVCk0KRop1igbKLkmnyTXIaMeOxukFwMUmRCJDfMK1AjiBu0EAwMYARv/DP3Q+mz4IPYT9EPyvPB/74Tu4O2P7WXtRu0f7dbsVeyS637qIumq5zrm7uTx43njruOj5FLmh+gV6/btB/EV9P72p/kP/G3+4gBgA+YFfQggC+QNxxCdE00W5BhmG+YdeSAMI5wlNyjcKpAtUTANM7k1WTjuOno9/j9xQshE/0YOSfBKoEwUTkRPKlC+UP5Q5lB2ULBPm05DTbVLBEpKSJdG7ERBQ31Bhj9MPbI6ije4MzcvFSqDJLEerhijEskMSAc4Apj9Nfnm9K/wfuwx6Ljj/d4A2vnUCNAky1DGjsHbvEy457OMrzGr36aeooWeqJr+lomTVZBljcKKcohthq+EPoMagkSBvYB7gHOAmoDmgFaB7YGwgqSDzoQ2huuH94lYjAiP85EHlT+Yjpvini+iaaWNqKqryK7jsfy0F7g0u1q+i8G8xObHEctCzoLR2tRF2MPbWN8E48Xmlups7jvy/fWp+TT9kgCtA20GuQiACsULlwwSDVwNlg33DcgOPxBlEjAVZBjEGz4fnSKJJconQin5KUAqVyo2KvUpxSm7Kf4pkComK5gr/CtYLLcsLC2WLestTS69Liovfy+KLyUvXS4+LdMrNSppKIUmuyQsI+Ih4SALIEwftR5JHv4d1h3BHb4d4x04HqkeJx+TH9Uf8h/pH7UfWh/VHioecB22HPkbOBtjGnEZbhhgF0kWMBULFNQSixEoEJsO0QyqChEIDQWsAQz+UfqP9uzyoe/T7I3qxehI5+Llh+QM4zLh0N7P2zXYQtQt0PTLsseUw7O/N7wsuWW20LORsbyvcK7FraKt8626rtmvJrFjsiqzM7N6sguxGK/erGeq6KfGpUCkcqNao6KjDqS3pJSlhaaEp3GoS6leqtKrkK2Rr7ix6bM7tq+4IbuCvcm/7MH+wwrGAsjkybjLgc1Tz0XRZtPJ1XLYYNuJ3uHhYuX+6JvsJvCY8/D2P/qS/dsAFAQ8B0wKSA0vEOsSdRXQF/0ZCRz+HdcflSE/I9kkbSYFKKUpUysRLeEuvzClMo00aDYlOLY5GTtPPGM9Yj5JPx9A70C/QZBCWkMDRHZErkScRC9EX0MoQpJAvj7KPMc61zgfN7o1tDQDNH4z+jJoMqAxajCiLjosPSntJYMiDB+vG6kYHBYgFKgSYhEOEKAO7gy+CvQHcgRHAM/7U/fl8rvuFesa6O7liOSL47Di6eEE4cHf/N2S25DYWNU30jfPicxmyvDITsh5yBPJ1sm/yqbLX8zVzN7MfcwDzKTLX8tOy4fLE8wTzYXOK9De0Z/TX9UV18PYTdq22ybdtd5l4EDiSeR75uXogOsr7s7wW/O+9eP3vvlC+2/8Yf0s/tn+fP8vAAIBAQIpA1sEfwWTBooHUQjdCCEJIAn4CMAIdAgbCLsHVwf+BrcGcQYoBuUFsAWXBacF3AU5BscGiAeBCK8JDAuODDQO9g/LEakTfBUvF6sY3hnIGm8b6BtKHKocKh3/HUwfGyFmIwQm0SjIK84utDFcNK02ojhgOv47Yz2EPls/2z8XQBZAxj8oP1c+cT2sPDI8+zsCPDM8cjy6PPE83zxhPG47BzpYOII2eDQ+Mucvdi37Km8opSWCIgkfNBsCF3wSlw1aCOoCZv3h93ryTe1v6Prj9t9W3BLZLtaj02LRZc+izRfM2srzyVDJ5sijyHXIXMhRyEHIJMjzx6/HYscUx7vGUsbOxSrFbMSbw7jCy8HYwOm/D79bvtm9mr2vvSG+974vwLvBjMOPxajHr8mHyyLNf86yz8zQxNGi0njTUNQ01SHW+taw11LY69iI2Tra+trM28Hc490137ngZuI05CXmOehr6rPsAe8/8VnzPvXt9m740Pkn+4P8Af7K//wBnQSnB/QKYg7uEYEV9BgxHCgf2yF4JCAnzSmNLHIvgzLONU451zxKQKRD00bLSYRM6k7+UNtSlFQrVqtXHFmDWvJba13gXktgtGEfY5RkG2aqZz1p1GppbO1tTm9scDFxm3GscXFx+nBIcGlveW6KbaBstmuuanFpAWhWZmBkF2JyX3dcRFnvVX1S+U5xS+hHbET6QHc9zzn7NeoxiS3NKK4jMB5xGIoShAx0BnYAnPr39IzvQ+oP5fjf/doZ1k7RmcwAyKLDlb/cu4C4h7XxssqwEq+3ra2s7atqqxyr+6oDqzerrKt1rJ2tOK9fsSO0iLeGu/u/x8TfySXPddSx2cPeouNl6BftqfEV9lz6ef58AmgGLgrRDWkRDxXvGCYdqiFtJlcrQjAXNac5qD3iQERDzUSoRflFsUXfRKRDFEJLQFQ+CjxkOYo2nTPNMEAu6ivEKdMnAiY9JF0iEiApHaYZmRU9Ec0MTgjoA+X/b/yd+Wn3hvW78wzyZPCd7qXsXerF5x3lkOIV4Lrdhdt42bLXOtbu1MLTxdL90YXRbtGj0RjSytKj05DUcNUJ1jXW9NVR1W7UdtN10pHRC9EM0Z/RtdIK1GDVrtbK13TYidjz17/WRdXN02TSO9GR0IvQTdHP0rvU0dYH2TPbIt2z3sDfSOCX4N/gGOFT4aXhFOLA4qvjm+Rz5T/mAefG55/odelG6i3rMuxU7Y7uyu/38BryMvM19CD14vVv9sL21fao9j72oPXZ9PzzH/Nk8uPxo/Gi8c7xF/J78u7yVvOl89jz9vMm9Ib0F/Xo9Q33j/h8+tD8af8rAhIFDQgIC/cNyBB1ExUWtBhMG+IdeSATI7sldSgyK/AtvDChM7M2ADqCPS9BAkXpSNZMsVBRVJdXdlrqXP5evGATYv5ihWOnY25j22LhYX9gyl7aXNFayljGVsNUwFKzUJtObUwISllHXUQaQak9HjpvNpkypC6QKmUmKSLIHT0ZkRTODwYLSQaVAez8WPjd84bvWutb54vj7d+B3EnZQtZk06DQ6c0xy3XIucUCw1nAv705u9W4nbaTtLey/LBXr9CtaawjqwCq/agbqGKn2aZ9pk6mRqZfppqm9aZpp++nf6gPqZWpC6pyqtKqNquxq1KsL61prhSwNbLDtKC3q7rXvQXBB8TAxiTJPss+zVHPf9Hq08HWHtoR3oriQ+cC7LXwMvU/+bn8hf+sAXkDKQXHBn8IjAoPDSoQ2RPRF9wb+h8OJPQnlivNLpExFjR0NpI4ZjraO9s8hD3hPeQ9mT0ePZo8VjyGPCk9Oj6ePzVB/ELZRIxG7kfvSJBJAUpkSp9KsEqcSl9KCEqYSedI4UeVRg5FZ0O3QfI/FD4kPB46CjjmNaAzLTGTLtMr+ygTJhQj+B++HGYZ+hWGEhIPrAtoCF4FrgJyAKr+Tv1I/Hv72fpF+o/5mPhY99n1S/Tb8pHxkfAO8CXw4fAx8svzbvUG92P4Qvl8+ff4wPcr9oL02PJl8XTwMfC28O3xaPPI9O71kfZP9uz0OfJB7njpO+SW3sLYFNO+zf7I4MQGwTq9nrk0tv6yC7A0rXOqCagKplek0qI6oVufTZ0gm9mYlZZflFeSzpD0j8qPQpAhkTKSd5PalCOWOJf9l26YxJghmXWZxZkUmmCawZo8m66bCJxanKucFJ2rnV+eJ58GoO+g2KGvokmjjqOCoy+js6Iwoq2hRaEmoWyhJqJVo9Skh6Z0qI6qwawBr0WxkrMWtvG4Jby/v8/DWchqzfrS39j33jblfuu18cb3m/0uA5oI8w02E3EYtB0KI3soAy6AM9k4Ej4jQwVItkwmUVBVSVkXXbJgFGQuZ/VpcmyobpdwQXKsc9907XXkdsN3iXgseaN573kKeud5gHnVeOt32HaudXR0N3MIcvNwBXBBb5puCG6QbTFt5mytbHtsSmwcbO1rq2tGa6NqsWluaNtm/2TkYpJgGl6eWzNZ3FaXVElS309cTbdK3EfCRF9BtD3eOew12DGjLUwpziQ2IIUbrBamEXYMHQekARP8Zvaf8MTq2eTk3uvY79LzzP/GGMFFu42196+HqkelPaBwm+eWppKzjhOLyofchEyCGoAAgACAAIAAgACAAIAAgACAAIAAgACAAIDMgHeDxIasihuP5pPfmOedzaJNpzireq4WsT2zHbXBtk64BroPvIC+UcE6xATHtck0zF3OHdBV0QTSaNKm0q3Sf9IU0mLRhtCHz0vOzMwYyz3JXseZxerDWMLuwLC/sL73vYK9Ub1tvd69sb7wv5bBncMBxrvIycsqz9TSwdbm2jnfsuNI6PfsvPGX9o77pwDvBXkLUBFxF80dSyTNKkYxnDeoPVBDiUhWTdhRLlZaWnBekmLPZixrmW/ac713Knv3fet//3//f/B/bn6sfNV6O3lHeD14PXkxe6Z9/3//f/9//3//f/9//385fTR5AXX4cJdtJGvfabppCGpOaohqeGrLaVto4GVdYmdeXVo5ViJSN06ESkhHhUTXQQY/GjwEOcw1fjLqLgorEicSIwEf2hp6FsoR4AzBB2QCzvwD9w/xF+sz5WHfotnp0yzOc8i/wgC9NrdksZmr+qWloKmbHZcek7yPBY32im2JT4iLhwOHjIYMhnCFvYQahKeDaINzg+yD6YR/hq6IT4tJjqyRfJW6mWyeeqPXqI+ul7TTuiHBSMcfzabS4tfg3LzheeYw6xjwUvXj+r8AsgaODFUS8Bc6HRoidSZCKqYtsjBPM3I1CTcJOIo4oDhOOK034zYjNr417TWwNv03pjl2O1c9Ez9FQK9APkD+PkY9YDtLOS03TzXSM9gyVTLiMTYxVDAeL3AtPSthKOQkICFUHYwZ8RWlEr8PZQ2aCx4KyQiVB2cGJAW6AwYC/f/H/XL76fgd9vvybu+N62Ln5uIn3kTZZ9Taz9HLTshLxa3CTsAvvjK8Gbq+txW1J7Iwr2CsqakYp8akvaIdofOfGp+Jnl2erZ6fn0+hqaOZphaq/a0wsn62kbovvlDB/cNlxr/ID8t+zVnQztPz173c3uEZ53bs3/Es90v8HAGdBRQKpw5KEwAYxRyQIXsmiSuVMI41dzpQPypEEknzTcRShlcvXLhgFGUladdsKnAfc791F3gmevZ7m30if/9//3//f/9//3//f/9//3//f/9/Nn7Lewp5+nWjcgpvPmtHZx9jyF5QWsRVN1G5TElI60OkP3A7Tzc6Mx8v8iqyJmAiBx6uGU8V6RB/DBQIrwNT//36sfZ+8nXurOo35xTkPuGq3kvcF9oA2OTVsdNf0fPOhcwqyt/Hr8Wrw+DBWMAVvwG+Dr1GvKu7Q7sVuxm7UrvSu6K8wb0zv/DA8sI3xbbHXsobzdfPeNLg1PjWtdgX2inb/NuX3A/dhN0O3rPebt8e4KjgEeFN4Ujh/OBe4Hjfcd5p3WHcaduN2tTZTdn42LfYdNgo2MHXLNdg1lDVA9SX0iXRuM9lzkfNcMzvy8HLycvuyzPMjMzozEHNjM3MzSbOsM5uz2vQs9FL0z/Vi9cS2r7ciN9h4jflAuix6kLtyu9V8uL0d/ce+tn8tf+0AsYF5QgcDG4P5hKMFlQaNh4rIiUmESrXLU0xWDT5Njk5NTsOPdI+o0C3Qi9FFkhfS9NOPVKUVbJYXFtwXdVejF/VX9xfn18zX7leQ17sXbhdcV36XGFcpVvLWttZv1h2Vx1Wv1RSU85RGlAgTupLdkm8RrtDa0DHPNk4qTQ7MJcrxibYIeccFRiGE1gPkAsrCBQFMgJ3/8T85fm39i7zUO9G6zXnF+P53v3aLtec00TQ8cyEyQHGYsKfvru6pbZesgyuxqmRpXyhj53PmVCWGZMekFyN1oqNiIWGwoQ+g/iB+YBFgACAAIAAgACABICCgDyBQoKgg2iFuoesij6OZ5INlxKcbKEDp66sUrLbt0K9nML3x0HNdtKY16Lcn+GP5lzrAvCQ9Bf5s/17AmUHZwx3EX8WdBs8IKcklygLLA8vyzFnNOs2czkuPDc/oUJoRltKVE5UUkVWC1qTXcVgnmNFZtBoNGtvbX5vXHEZc7h0IHZMd0Z4GnniebF6e3s3fN58XX2sfbd9V31xfAR7Enm1dgd0B3HCbVZq0WZBY6Zf4lvhV6xTPk+SSqpFf0AXO5I1CDB9KgAlmR9OGiwVNRBZC4oGxQH9/Cn4Q/NL7kzpZ+S531fbXtf30zrRMs/Wzf7Mg8xUzE/MP8wAzH7LuMrdyQ/JS8igxy7HAccsx63HT8jyyJ/JUMoEy77LaMz/zKDNVs4Zz+fPrdBd0QfSrtJT0/vTqtRp1U7WaNe12DTa19uT3WjfS+Er4/3kt+ZW6OXpaevX7CvuYu938HHxVvIk8+HznPRo9WD2mPcO+bj6gfxR/hgAuwEMA+wDVARJBPQDeAPaAjECpwFVAU0BjwHwAVECugIjA34DxgPlA9MDrgN/AzQDvwIJAvwApv8L/ij8B/qy9z310PKJ8G3ufOyr6u3oUefX5XPkIuPa4ZXgYN863gzdvtsw2kvYHNa30zvR0c6ezNfK08nLycfKtMxLz0LSgNXE2KLb291L3/vfUOCY4NTgLuHx4ULjSuUE6AXrBu4R8RL07/aj+QP8DP4MACsCYAS0BhsJiAsZDs0QehMLFnsYvRrYHNIemSAuIqYjCyVqJtEnSSnaKo8sZi5TMEsyTDRMNkE4JDrwO6Y9WT8UQdhCqUSLRoBIhkqXTJZObVAOUmVTWlTeVOlUgVTBU8ZSoFFtUFdPfE7mTZFNUk0GTaVMFEwnS8hJ7EegRSVDsEBPPiY8ZjoqOYk4eTi1OAY5XDmOOWQ5vzh9N6A1ajMJMX8u5itjKQgn8iQgI1MhZR9eHTYb5RhyFsgT7xAcDnML+gjGBt8ERgMLAiUBaACu/93+yv1H/Df6iPdG9Kbw2+z96D7l6eEt3yDdvNu22tLZDNlA2DPXxNXW02/R385ezOjJj8dtxYvDCcLnwOa/4L7avcm8rLuHukO537eDtkO1JbQys2qyzrFxsVqxfrHYsXCyR7NqtN+1mbeNubS7+b1IwIbCh8QsxnHHV8j0yGPJq8nmyUTK5MrWyxvNkc4i0N3Rw9PK1fLXKdps3NLeYeEB5J3mDek16xrtwe4s8GjxefJw83X0pPUA94b4Hvqz+1L9/P6oAFUC/gOnBW8HaQmTC/ANgBA6EyIWMBlHHE0fKyLAJO4mnCjAKV0qkSp7Ki0qzimUKaYpEyraKs4rySzRLdQusC9RMKEwnTBvMC4wwy8iLzsu/iyDK9gp9yfyJeUj9yFrIHAf/B7+HkUfmx/kH+ofSx/PHWkbLxiBFLkQ7wxqCZYGtATsAzEEDQUhBmUHnwh5CcEJQgn/B2gGywQZA2wB4/+H/ov98fxk/Lr7BvtJ+pr5EPmH+Pr3ivdB9xT3+vbH9lz2x/UI9SL0HPPu8ZbwKu+17Trsveo16aHnFOag5FbjSOJ54evgpeCm4PHggOFF4jPjRORz5b3mHeh66b3qy+uP7AbtNO0e7dTsY+zn64vrcOud6w7sqOxQ7Q/u3e6h71Hw4fBR8cTxS/LY8mfz7fNe9Mf0L/WH9dH1EvZV9rD2Nvfj97P4oPmg+rf74fwO/jj/WABrAXoCiQONBH0FUgYDB5gHFAh6CNIIKQmPCSAK7Qr3CzUNkw75D10RqRK3E3EUzhTTFKQUXhQGFK4TdhNxE7MTPBTtFLEVkxaQF6UY0hkFGzYcdB2+HgEgJyEQIqAi3SLMInMi5CEoIVMgkx8EH6oegh5tHk8eLh7+HaUdGR1PHE4bQBpCGVQYgxfaFmAWJBYmFkcWchalFtAW6xbsFsAWXxbSFRsVLRQBE4kRvg+rDV8L5AhSBsgDbQF+/yX+a/1L/ab9Wf5a/4UAmwFwAu0CDQP7AtMCdwLfAQ8B/v/E/mn90/sG+iT4WPbk9PvzlvOo8x30zvSw9Zz2Q/dy9x33TfY+9SP07/Kz8Zfwqu8B75juK+6P7cns0OuZ6irpbudv5WbjeuG/31feXN3f3O3cet1L3ijf799i4DXgNt9V3aTae9cv1ODQ3c2Vy03KKcoay6fMbM5c0DPSjdMv1OrTx9JN0d7Pec5NzZnMecwgzYjONtDZ0W/T09Tk1ZbWutZX1szVV9UD1ffUT9UY1nbXYdmL27vd3t/J4VHjXeTN5KrkPeTA40Lj7eLz4nTjjuQ+5jnoS+pw7IrudPAX8k/zF/Sl9Bf1XPV09Vf1/PSE9P7zV/OZ8ubxYvFP8d3x/vKi9Kj23vgp+1D97/7H/8//G/8D/tr8s/vJ+of6JfvD/FH/VwJxBZUIhgvuDZ4PaBBaEPMPkw9GD0QP1g8dEUcTQhaKGb4cxR9cIjUkJiUAJdYjKyJqIK8eSx2eHOIcTR7UIPMjRie8KhEu7jAhM2402jThNNc0tDSaNLE0BzXQNQg3SDhUOTQ62jpIO4g7czsIO4o6GTq7OYE5ZDleOYk54zlKOqo69DoSO/c6mDrkOdo4kTcYNnM0rjLYMPcuFi0vKyUp5CZrJLAhqh5VG6wXtxOaD28LRgc2A1r/xPuG+KD1+/KC8DLu+uvA6XXnCuV+4uvfYd3V2kbYtdUh05jQIs61y1bJG8ccxYHDZsLGwZXBwcErwsXCbcPoww/E18NHw4jCwcHwwCnAlb9Kv12/zb9qwBfB4MHEwr/D1sT0xRjHYMjYyXfLNs3/zsHQhtJP1BbW29ea2VbbHd333uDg0uLB5KHmdOg36uDra+3Z7jDwgfHe8k/05/W499D5N/zs/twB9gQzCIMLyw74Ef4U2BeVGj0dxR8lIl4kaCZJKAAqfSu5LL8tly5XLw8wwTBwMSUy5DK6M7I0zjURN3w4DTrBO449Yj8kQbNC80PfRHZFxEXWRatFS0XOREJErUMKQz9COEEBQJw+CT1QO245bDdpNX4ztjEkMNUu0i0lLcwsryy5LNYs6CzILFksiStYKtooJScxJQgjwCBlHgQcnxkaF2gUnRHJDv8LVQnFBlMEEgIIADn+ofwu+9T5lvh293n2oPXb9B30XPOM8qnxrfCP70ru2+xF64/pwefd5enj6eHo3/zdP9zN2r3ZEdnE2MfYBdlt2eLZMto62vXZatnB2CDYidcP19zWBNeT14HYlNmh2qbbitwy3Y7did0m3ZTc99tU28HaVNob2i/al9oy2+/b19zo3SPfi+AQ4qzjcOVd52Lpb+tk7SvvyvBK8rXzH/WT9iv4Fvpx/D//dQLuBYEJKw3PEEIUZhcpGokcsR6/IKoieiQ/Jv4nyimjK2Ut/i53MNQxHjNfNIw1oza1N8g42znrOuk7yDyNPTU+uz4dP08/Rj/8Pm0+lz17PB07hDm7N9E12jPnMfsvFS4mLCIqCSjUJXAj2CALHhQbFBglFVMSsg9bDV8LxgmICIIHkAakBZwETgOeAXr/5vwK+gn36PPA8Lnt6upp6DfmKOQi4jHgU96E3MbaCNlL167VQNT40s7RsNCMz2/OXc1QzEzLUcpkyZvIAsiVx1HHKscUxxHHH8cxx0LHUMdYx2rHjsfDxw3IbsjqyInJTcozyzrMaM3Bzk7QE9IO1DzWmtgi287dk+Bf4yTm3OiF6yDurvAo84v12PcO+jD8Pv4xAAgCzwOPBVcHNAknCy8NTA95EbYTARZKGIoavhzjHgAhFiMaJQEnwihSKrMr5yzrLcMudi8OMJ4wNjHYMYUyNzPpM6I0ZjUyNgY32jenOG45Jjq7Ohg7HTu0OuA5rDgsN4A1uDP4MXYwVy+kLlMuNC4cLgIuxS0vLSEsiSpvKBQmqyM2IdIepxzLGlcZSBhhF3cWihWGFFUT7REzECQO7QuoCVEH7AR7Avz/hv0e+7H4OvbG82LxJ+8p7WHrzelw6ELnQOZf5YPkmOOd4pPhh+CF34Pegd2H3Jfbttrl2RPZO9hk15TW2NU51bLUQNTl057TatNC0xrT6dKy0nrSTdI40j3SY9K60kfTDdQH1SPWTteD2LHZxNqv22nc8txf3b7dEt5o3tDeV98H4OPg2OHc4vnjL+WA5u7nbun16ojsHe6h7/3wDvK78gfz/PKv8j7yufFC8RDxRvHt8fvyQPSN9dv2Cvjj+Ef5JPmC+KL3t/bE9eX0RPT18xP0m/RQ9Qb2v/Zm9+b3NPg6+Pj3pfdh9y/3H/c/95P3Mvgb+Sn6Q/tp/I39qv67/68AhwFbAjoDIgQbBSUGQAdzCLoJ/goxDEwNQw4QD6wPEhBHEGIQdRCMELwQHRG+EaMSxRMDFTwWYBdQGN8Y8hiAGJQXYhYaFc4TphLdEZkR9BHrEkYU2hWqF54ZkhtxHRofhCDZISkjWCRVJQUmUCZIJvIlPyU3JO4igyE1IDEfdx4FHscdpR2pHcod5B3kHcIdgh1NHT0dQB1RHWwdhR2pHdUd7R3iHbIdWB3fHEockRuxGrAZkhhiFysW9hTKE60SnxGdEKAPpw6tDagMkQtqCjcJCwj1BvcFGgVpBOkDngOBA3wDegNxA0wD9AJaAnUBSwD3/pP9KvzV+rn56/h3+FT4Xfhu+ID4ffg++LD3wvZ59QX0iPIE8YzvOu4c7Ufsv+te6w3r0+qs6pXqj+qG6nbqcup86onqjOps6hjqlenn6A7oEuf55dDktuPB4vnhY+H54LrguOAC4Z3hkOLS41blFOf16Njqkezi7Zzuue4/7lHtFeyY6gDpk+d/5tzlruXE5f3lc+Yr5xzoSemV6vXrg+0+7/vwjPKs8yH09vM58/3xbvCc7rfsGusE6oXpmukI6p/qcut57I7to+6b73DwWPFp8oHziPRX9cz1/fX39bL1Q/W99ET0I/SJ9G31vPY/+Lf5F/sw/Kz8Xvw5+1T5FPfT9Kry4fDd79fv9fAm8/D17vgG/On+KwGKAtICDQLAAE3/uv1B/DD7tPoC+xb8cP28/gMAJwEJAqECugJTAssBVgHsAJsAXAAoACgAZwC7ABoBiwEYAt8C9gNFBbsGVAj3CY8L/QwBDnQOWQ68DckMsguKCoIJ6QjzCLAJGAvjDNEO3hDgEpYU1xWGFqcWihZpFjsWFRYUFkAWuRZ5FzgYxxgoGUoZJBm2GOcXvhZvFR8U3RLFEewQXxA1EGcQzBBBEbYRDBIcEs4RDRHeD20O3ww1C4YJ8AeGBl4FfgS/AwwDdAL9AasBiQGDAY8BvQEIAlsCngKkAksClwGOADz/uP0G/Dz6hvgD98H1wfTr8y7zn/JG8iTyPfKG8vjypvON9Jf1qvab90f4r/jT+Lj4a/jo9zX3c/ay9fv0UPSe89vyIPJ/8QjxzvDO8Abxf/E58ijzP/Ra9WD2Ufcu+AD51fmd+lT7Afyj/Dz9yf0z/nD+h/59/lz+MP70/an9WP0H/b78iPxl/Fv8bvyf/O38Vv3S/Vb+0/48/4//zP/5/x4ANgBCAEgATABSAF0AYwBkAGsAggC1ABEBjgEmAs4CeAMXBJcE1gS/BFIEmgO3AsoB4QAcAKr/qf8kABEBQAKBA8sE+QXYBkcHNQepBuIFFQVIBJwDPwNKA9IDzATuBf4G8AefCNwIjgieBxkGUgSKAtgAb/+P/lz+8v4+AOEBiwMeBVUG2QZzBgQFoQLB/8v83PlE93H1ovQE9YX2lPjA+vH81/4EADoAQP8j/Xn6tPfc9DTyEPCe7iHul+5873vwn/HI8tfzwfRL9Wv1e/Wk9c719fX39bn1YPXz9E/0cfNl8j/xOfB67/jur+6Y7qDu0+4r74fv1u8T8D3wbPCu8PHwKPFL8UzxM/ED8a/wN/Cj7/vuWu7S7WTtE+3d7MLs0OwR7YjtOO4a7yfwV/GY8tLz4vSZ9dX1lfXi9NzzqvJb8RfwHu+d7qPuLO8E8P/wI/Jb84L0hPVK9tX2XvcG+MD4j/ly+mH7cfyj/dH+6f/uAN8ByAK1A5MEXgUaBsYGYgfqB1AIjQilCJ8IgwhdCDMIDggDCB0IZgjiCIoJXQpfC5EM7w12DxkRzhKNFEcW4Bc6GSoakxp2Gt8Z6Bi5F2sWMBVSFAUUVhQ6FXQWzBc5GZUamRseHA0cbBuQGrUZ2RgUGI8XWxeYF0QYFRndGZ0aRRvHGx4cKhzoG4UbGhuiGiMamhkAGWwY5RdXF78WJxaWFSQV4RTBFLwUyxTcFOIUxhReFJATXRLOEAUPJw1AC3AJ7gfZBkEGIQZJBpIG+gZqB7oH0wecBxMHYwanBc4E2APEAo0BSwAG/6z9P/zX+o75lPgL+O33M/jS+LL5yvoC/CH9BP6b/uP+9v7l/pf+Bf4x/Rb8yPpR+af31fUA9FTyEvFs8F3w2vDE8fDyTPSn9az2Ivf79kD2OPUf9O/yxvHa8EjwK/B/8PbwWvG38f/xI/Ii8tvxTfGu8Bnwi+8K747uEe6t7WztPe0g7R/tQ+2n7VvuUe988MrxIfNq9IT1NfZa9vD1CPXR84LyNPEa8InvtO+q8FnyavSN9q/4kfrT+0D8uPtK+mj4cPZw9KbyaPHp8Fnxr/J59GH2Zfha+gf8Tv39/RT+9/3k/dH90v31/Tr+y/6n/4cARQHoAWYCywIhA0oDQwMtAxID8wLTAqICVgIDArYBcwFIAUIBcgH6Ae8CTAQIBgUIIwpNDFwOFhBSEQQSMxINEr4RThHgEK4Q2RB1EXgSoBO2FL0VmxYnF1EXAhdEFmEVjhTUE1ATJxNmEygUYxXSFj4YlRmqGkobWBu3Gm4ZwxfsFfgTERJvEDcPiA5jDoQOvQ4XD38P3Q8lEDkQExDoD84Psg+LD0IPww4kDm8NkwyXC4kKgAmvCDcIEwg6CJgIEQmiCToKqgraCr0KVwrLCTQJiQjOBxMHWgazBR4FewS4A94C7gHuAOr/1/65/aX8p/vH+g76fvkY+eX45PgL+VP5sfkY+nj6w/rz+gH79vrV+pf6PPrH+Tf5kvjY9wH3DfYH9fzz/fIa8lTxq/Ah8LPvYu8r7wHv3O687qXupO7E7v/uVO/G70/w8PCg8Uny2vJH837zb/MP81/ybPFV8D/vSO6f7YLtGe5r72XxyfNT9uT4N/vn/LP9hP1n/MD65Pjj9vv0jvPS8vLy4vMs9XX2wPff+JT5wvk5+QH4i/Yh9cPzkfKq8RzxFvGd8WPyPfMx9DD1OfZO90z4KvkQ+gj7CPwG/ef9lP4e/4j/yP/l/+T/0//Z/w0AbwD6AKIBVQIaA+wDtQRrBQcGiQYFB4gHBQh3CNgIIgldCZAJswnKCeAJAApCCrYKXAsuDCMNLQ5JD24QhBF9Ek0T8RNyFNIUBRX+FLcUKBRVE0MS8RBmD7MN6wszCqYITAcsBkMFjwQfBPYDEARpBPkEuAWoBr4H2QjUCX8KswptCrUJnAhCB7IFEAScAoEBzAB5AFgARQBOAGkAfwCFAGoAMQAKABMAPwCKAOoAUAHLAVgC2gI/A4ADkANyAyYDogLmAf4A9v/d/sf9yfz0+1T76vqr+o76lfq9+vj6QvuT++/7aPwJ/cr9pf6U/4wAiwGKAnIDLwSzBO4E0gRYBHwDSQLXAEX/sP1E/Dr7uvrT+oD7mvz7/Zj/UAHmAjYEKwXKBU4G4wZ9BycI9wjzCTALpQwWDlwPeRBhEQ8ShxK1Ep4SbhJDEi4STBK1EncTnhQfFssXdxkHG0ocAh0IHUwc2xr8GOwWxBS4EhsRHhDdD1AQHRH9EewSvRMxFCMUchMkEpgQEQ+PDTAMGQtZChQKQwqQCsIK0wqmCh4KMAm+B80FoANpATX/J/1g+/b5BPmI+Er4IfgE+Nr3g/fs9gD2xPRx8y/yAfH87znvwO6l7t7uMu9376Hvku8r713uFe1b62jpbed75b7jZ+KV4WDhw+GB4mfjbORr5TDmneaa5jHmquU65ejk0eQd5eHlNOcJ6RLrFe0C77Tw/vHI8vPyiPLN8frwH/Bl7wDvDe+t793wWfLv85/1S/fP+Bj6CPuh+x78pvwx/cb9bP4h////CgEbAiEDJwQwBVEGlwfyCFkK0QtTDdYOTRCWEZsSXRPgEzAUXhRoFFoUTBRMFGUUlhTNFP8UNxV2FbwVDRZlFsYWQxflF6oYkhmVGq4b3hwjHnEfwSAHIjYjRCQnJdUlSiaFJoUmSSbSJSglUCRPIyoi4CB5HwQekxw8Gw8aEBk9GJIXAxeIFhAWfBW0FLcThhI6EeUPgw4bDb4LcwpCCSkIDQfaBZgEQwPcAWYA3f5G/bn7SvoE+fj3NffF9q325/Zc9/D3k/gm+YH5ivk1+Yr4rvfD9tP1+/Rp9Dj0dPQU9eL1rfZz9xX4bfhl+OX38vbD9YH0LfPc8afwm+/T7lPu8e2V7UntCO3R7KvshOxa7EzsY+yb7PLsWe3D7T7uze5s7xzw4fDB8c3yEvSH9SX32/iU+kr86/1c/4sAcQEOAnYCuwLfAu8CAgMkA2ADswMEBEAEagR7BGgELQTAAycDeQLIARUBZQC8/x3/k/4j/sD9Zv0Y/db8pPyH/Hf8b/xy/Hn8gPx8/F78G/yx+yD7a/qW+aP4lvd+9mL1S/Q88zTyNfFN8Ivv/O6r7pjuwO4g767vX/Af8c7xVfKv8tny4vLV8qvyZvIU8rzxZvEa8cnwc/Au8A3wLPCf8GPxcvLF80v1+fa1+FT6tfvT/K79Y/4H/5T/EACTACcB2wGvAogDWQQzBR4GKwdnCMYJQgvjDKIOdBBIEvsTdRW3FsUXsBiKGVIaERvlG9kc9x07H4sg1CEcI18kliW9JscnryiDKUYq7SpwK70rySucK0AruSoXKmkpwihIKBUoKyiHKBIptSlrKiIrtysVLC0s/yuoKz0rsioKKkopdSiaJ78m0SXOJMkj0yIIIoAhMCEPIRIhJiE5ITMh3iAdIOseUh16G4sZiheWFeAThhKYEQ0RrxBTEPUPfg/HDsANVQyNCqYIzAYHBXIDLQJIAdkA1wAGATgBYQFdAQcBRQAB/z/9OPsX+ef2xfTZ8jnx/+8m73TuwO0J7TrsOOv46WXohuaW5L7iA+F830LeX93p3NzcCd1O3aHd6t0Q3gLeq90G3TrcW9tp2m7ZddiE167W99VG1ZHU59NP093SndKB0oLSoNLO0vvSD9Pc0kXSUNEK0JfOIM23y4HKwMmbyR/KRMvQzI3Oc9Be0hLUbNVQ1sLWA9dD13vXv9ct2NDYxNkI22PcsN363jvgdOGq4sfjx+TM5eTmCug/6XPqm+vG7PntLO9i8J3x4PI79Ln1WPcW+e/63vzl/gIBLANbBYsHswnRC98Nzw+QERMTSxQ6FecVYRa8FgsXahcGGPwYUhoCHOkd5R/vIegjoiX9Jusnbyi4KOooASkLKSIpUSmuKTkqyipIK8ArMCyeLBQtgC3iLVAu1C5qLxEwtjBPMeIxbTLqMlQzpDPSM+AzzDOUMzgzuTIbMmUxpDDjLy4viC7vLVwtyyw6LKUrAitMKoApoSi8J9wm/SUiJU0kfyO8IgQiSyGMIMUf8x4VHiodLxwgGwMa2xioF2sWJhXbE48SRxEGENEOsg2xDN0LPAvNCogKXgo8ChQKzAlBCVoIFAd2BZ0DqwGr/7r9CPyy+sH5LvnG+F347PdU92r2FPVD8wLxle4x7OPp0ecq5gvli+Sf5ADlceXj5SvmDeZs5SvkWeJI4DveRdyY2nfZBtlh2Xna6dti3c3e7t954EDgH98k3b7aQ9jJ1Y7T5dH/0ArRAtJ40x/V89bI2GTaqNth3JDcjdyS3Izch9yH3IfcstwP3Wndrd3y3Une3d7Q3wrhfuIr5P3l5ufG6VzrfOwq7XHte+127Wjtbu3F7Y/u2++f8ZrzlvWP92j58voU/LL8zfyh/Fn88ft6+wr7qvp3+nT6dvpo+lP6O/oo+ib6Kvo1+mf6z/pw+1H8aP2r/h8AugFiAwEFeQapB28IsghsCKkHjQZEBesDugL8AeYBigLcA5wFjAejCbULdw28DmMPaw8hD7cOGw5VDXkMiwuyCvoJMwlSCHkHxAZqBpMGKQcdCGcJ6QqJDBgOPg+/D5cP0w6uDWMM+AqSCX8I6gfsB34ITQkdCvYKwQtZDK0MnwwvDKULLwvECnMKQgovClYKtgoiC38Lywv6Cw0MBwzUC3QL/wqFCgkKlgkuCdQIlAhxCF0IUghRCFoIbAiKCKoIyAjkCPkI/gjmCJ0IFQhVB2QGUgU2BB8DKQJ+ATwBZgH3AcwCwwPSBN0FswY5B10HIwe5BkMGvQU3Bc0EjASFBLcE8wQaBTIFMgUTBdkEcgTiA00DywJiAh4CBwIfAnEC+AKWAzIEvQQcBTUF9gRTBFUDIALTAH//Q/5L/bT8jfzP/E794f2E/h3/h/+r/3b/6/49/pD94fw+/Lv7Xvs9+1j7g/un+8f73fvl++T7w/t9+yb7wvpJ+rX59vgB+OP2qfVb9A7z1PHI8Bjw4u8m8Nrw3fEJ8070hfVv9ub22fZP9n31kvSP85HyyfFR8UTxofEt8sXydPM29AD10vWS9jr37/e8+JD5XvoJ+3n7t/vE+5T7Kft/+pv5lviB92X2TPVB9FDzn/JP8obyYPPb9O72fPlh/Hj/iwJABVsHxgiDCcMJtQlOCagI+AdcB+4GrgZbBtEFLgWBBNgDSwPGAkwCCAIKAlAC0gJwAxEEwQSBBUsGIAfoB5IIGwl5CasJswmUCVgJEQnbCNsILAnOCbUKwAvPDNUNtw5FD2EP/Q4hDv0MuQtVCugIlgdzBpcFAwWQBCMExgN4AzID+AK2AmUCHwLqAbgBeQESAW4Amf+X/m/9Lvzg+pj5gfi490H3Gfco91f3q/ca+Iz48fg5+V35b/l0+Vb5Aflg+GL3FvaK9M3y+fAy76Xtn+xS7MPs5O2F72zxh/Ok9Wv3o/gz+R/5svgn+HX3sfYK9pb1dvWt9fb1KfZe9pz28fZu9/X3fPgd+dj5mfpI+637o/s6+4H6kvmV+Jn3wfZW9oL2T/ev+Gj6Qvwz/hUAqQHGAlEDSwP2AoEC5QEyAYgA9P+X/3j/aP9T/0//bP/C/2oATQFjArkDRQX1BqwILgpSCxgMhgywDLEMgww1DO8LxwvHC+sLDQwQDAMM5QuzC3ALEAuSChQKpglDCe0ImAg8COUHlwdLBwAHtAZmBh0G2wWeBWMFJwXoBKUEXgQPBLcDVwPxAosCKwLXAZcBdwF8AaoB/QFtAvACgQMVBJ4EDgVfBYwFnAWTBWgFGAWfBP0DOANXAl4BVgBR/2j+vP1k/WT9uf1T/h//FAAfARgC5AJ4A9MDDAQ2BEMELwQBBLcDXQP2Am4CwQEAATwAlP8g/93+zf7x/kf/0v+OAGgBUgJFAzoEMwUrBgYHqQf2B9QHRgdSBgUFeAPAAQAAd/5O/ZL8RPxA/Gn8yvxZ/fb9kv4a/4n/AwCXACkBpQHvAe0BrwE+AZgAyv/q/hj+kf1//eD9qP6v/8oA9QEPA98DQQQlBI4DtQLGAbsApP+g/rr9Dv2e/Dv8yvtZ++b6ePoY+rD5P/nc+I34S/gO+L33SPe99ib2jfUG9Zv0Y/SF9Bj1GfZ59w/5rfo+/Jn9fP7B/ln+Uv3s+2P6zPhb9132A/Zp9of3CPmr+mn8HP6D/3wA4gC5AFYA8P9+/xT/xv6b/rT+DP9e/4D/df8w/67+9/31/LH7X/om+Rr4W/cD9yL3zff6+H/6Mvz9/bP/IAEeApcCkAI/AtIBSgHIAHkAdQDTAIoBVQIDA5UD9gMLBMoDGgP/AbYAaP8a/uH80fv0+mn6N/o/+nD60vpj+yf8IP04/mb/sAAOAmYDnQSEBfsFBQapBfoEFAQHA/kBKgHEANIATAECAsYCmwNrBAYFVQVFBdwEVgTfA28DEwPdAs4C/QJlA9MDJgRXBFYEFQSRA7oClAFLAP7+v/2s/OX7f/uL+wX8xfyo/aL+mP9iAOcAEwHrAJsARQDn/5D/WP9I/3P/1v9DAJ8A7AAkAT8BQAEVAb4AWAD1/5f/RP/7/r3+lv6J/oj+jf6Y/qX+tv7N/uP+9f4K/yP/PP9S/2D/YP9Y/07/SP9S/3b/wf9LACEBPQKOA/UESwZ4B1EImgguCAUHMQXuAnwA+v2m+9352/i8+Hb5s/on/Mn9Z/+tAGwBfgHpABEAP/9p/qj9I/3n/Bj9sf1U/sn+D/8S/8X+Kf4i/bn7OPrR+J33yPZ29r32ufdf+W/7sf0JAEECEwRPBdQFogX4BAgEzQJhAez/h/5X/WT8e/uE+qb59/id+Lf4Lvn3+SH7nPxL/gMAbwFUArECjwIRAmEBeQBw/4P+0f1w/V79Yv1Y/Vr9bv2V/dn9If5h/rb+If+J/9T/zv9U/3n+Uv3/+7D6gPmh+Gz4GPml+vz8xf+nAoAFAgiyCUcKoQnSB1YFmgK1//f83fqu+Z/5p/o2/OH9qv9ZAaACVwNEA2sCVAFUAGH/mP4Q/s/9Cv7B/pf/VwAFAZEBAgJiAo0CgAJwAnoCowL8AoEDKwQLBRkGKwclCO8IZwlxCfgI8wdvBpwEqgK3APf+rf0I/R795f0c/4kAIQK1A/8E1wUcBtMFSgW6BBsEgAMLA8gC1wI1A5sD3gMHBA4E9APAA1cDtQIFAlgBsAATAHb/0v46/rT9M/22/D38x/th+xH71Pqs+p36qvrY+if7lvsi/Mb8ev0y/t7+b//P/+X/of8A/w3+4PyX+0f6Ffk3+ND37PeA+F35WPpk+138CP1D/fn8M/w0+y/6Jvk0+IT3Kfc897b3T/jX+Ef5h/l4+Q75MPjn9nb1DvS+8qvx+/DH8CrxJPJ78wj1wvaN+Ef61/sd/RP+4P6X/yUAhACpAIgANwC+/wr/IP4b/Rr8Vfv3+vv6WPv7+8n8uP2v/nH/2f/h/5H/IP+6/lr+Ev4J/kz+8P7x/xYBOAJYA2YEUgUVBpMGyAbYBtMGtQaCBjYGzwVhBfAEcQTlA1kD2gKFAm0CjALfAmEDAwS9BH8FIgaPBr8GsQZ3BiEGowUABUQEdAOfAswB8gAWAFD/vP59/rH+UP9OAJoBFAOnBCoGWQcFCCQIvAf6BgsG7AS5A6QCygFCAQwB7gDFAKEAfwBaADYA/v+w/3j/af95/6f/3v8OAEEAdgCaAKIAggAsAKL/4/7t/cf8g/s1+vf47Pc99wn3VPcV+Cn5Zvq7+wD98/1s/ln+wP3Z/NP7rvqC+X34t/dN90D3WPd296r39vdb+OL4cPkB+rL6ift1/GX9Mv6//hT/NP8f/97+b/7b/UH9tfw5/M/7Zvv0+or6MPrq+cH5r/my+db5G/p4+uD6Ovt2+5X7mfuK+2/7R/sU++X6wvqx+rH6ufrB+tb6AftJ+7f7RPzn/Jv9Vv4H/5v/8f/y/6D/Bf88/mX9jvzW+2z7b/vo+8788v0l/18AfgFNAq8CkAL2AR4BNQBB/1z+r/1O/VP9uv1I/tP+Xv/V/yUARAAdALL/N//N/nf+Q/4+/mz+3/6S/10AIQHWAWUCvQLSApYCDwJjAbIACQCE/0T/Xf/e/78A0wH2AhwEKAXxBWAGYgb8BWEFtgQABFUD1gKTAqQCBgOMAxUEpQQyBbAFGQZXBmQGXgZPBisG6gV9BdcECgQkAyoCMAFOAKX/a//H/7IAHALZA7UFkwc+CV0KugpECgsJYgeTBbAD9QG+AEIAngDEAUQDxQQ8BnMHGQgECA4HRAUgAwAB8f4r/fX7cvvT+w79rf5dAA8CjQOXBAoFtQScAyUClgDy/l/9B/wB+3v6ePqp+uL6L/uH++37ZPzL/Br9fv0D/pr+Nf+u/+j/9f/e/57/Q//U/mP+H/4l/nD++P6b/zkAzQBDAXIBRAGwAL7/of6C/Wn8cfvE+nX6mPon++/7w/ye/WD+4/4S/9n+QP6C/c78K/y5+6H79fvK/BH+iP/1AEkCWQPyA/cDTwMIAmwAu/4K/Yv7gfoU+mP6ZPvD/D/+y/85AUsC3ALLAh8CMQFCAFP/hf4E/uL9Q/4g/ygAIgEMAssCRwN1AzQDhgKtAc8A9P8y/5v+OP4n/mn+1f5T/+X/gQAjAcoBXwLbAlIDxgMpBG4EewQ8BL8DDQMtAjMBMgBH/6j+ev6//m3/ZAB8Aa4C3APQBGkFlgVbBe0EcQTiA1AD1gKAAmYChgKzAtEC6wL+Ag8DIgMlAxMDAwP9AvcC7QLIAnkCDQKIAe4ASQCf//z+e/4t/hT+MP5w/sX+Mv+w/ysAmwD0ADMBZQGOAaIBmAFoAQkBgwDd/xf/PP5a/Yj86vuY+5P71ftM/N/8iP0z/rn+Af8A/7f+Rf7D/Sj9efzE+xD7bfri+Vr5z/hV+Pv32fcG+Hj4Kvkc+kL7kvz4/Uv/bwBcAQ8ClgL8AjEDMAMCA6gCLAKUAdYA9f8L/zT+l/1S/WH9u/1O/gD/wP9uAM0AuQAqAC3/9P2w/GX7MPpG+cP4vvgz+eb5rfqL+3D8Qf3z/Wz+qv7Z/hX/VP+Z/+D/IgBwAMwAGgFMAWcBagFkAV8BUgE5AR0B/QDdAL8AmQBmACwA7f+w/3n/SP8e/wL/9f73/gX/Gf8q/zT/L/8P/8/+bv7x/Wj94fxn/Ar85PsE/G38Gv3v/dT+v/+ZAD4BmwGnAWoBDAGwAGAAOABeAOoA5gFFA84EUAa4B+EIlAmyCSMJ7wdUBogEkwKbANX+Yv1j/N37mft0+377sfsD/HP86fxi/Qb+5f7q/wcBGgIGA9YDiAQPBWoFkwWQBXoFYwVEBRoF2ARxBPUDaQPPAi4ChgHcAEMAx/9s/zn/Lf9I/43/9/94AAEBgAHaAfABrQENARcA5f6V/Tf86/rl+Uf5HPle+eD5e/ou++L7bvy+/L/8dfwX/Mr7iftk+2z7p/sr/Pb83f3F/q//kQBlASoCygI9A5UD2AP7A/kDwgNMA6MC0QHZAMz/u/6//QP9ovyf/PH8fv0m/t/+if/w//P/h/+1/q/9nvyH+4P6vvlO+Un5qvk8+tf6f/sj/LH8Hv1T/U/9PP0y/Sz9Lv03/UP9Z/2l/er9Lv56/tL+SP/o/6UAdQFRAigD7QOKBNcEuwQ4BFQDLgLkAIP/K/4M/Uj87Pv2+z/8o/wl/bT9L/6F/qb+lP5+/oL+mv7N/iH/lv86AAsB4AGjAk4D1wM4BHAEbwQ3BNwDbQPyAnkCDgK6AYkBfgGJAaIBygH+ATcCdQKuAuICHANhA6kD7AMeBDYENgQfBOwDngM2A7kCNAKxATABswA4AL3/Tf/w/qn+f/5v/nf+lv7F/vv+K/89/yT/2/5l/s39Hf1W/H77p/rc+Sn5l/gi+M/3s/fj93j4gfn2+sX81/4JATcDKwWYBkcHMAdiBhgFkQPkAUoAJv+0/g3/JQCeASoDyARNBnAHDQj6Bz0HOAYtBRAE9wL7ASIBmABiAD8ADQDc/6z/kv+e/7H/wv/m/xkATwB0AFkA4f8V/wH+t/xT++D5efhW95n2T/Z19un2i/dl+Gr5fvqS+5H8dP1Y/kb/JgDlAGsBoQGWAVMB1QAuAHT/x/5l/nf++/7l/w4BSgKNA7cEhAXPBYYFsQSOA1AC9ACS/1L+Sf2V/DX88vuq+2j7Jfvg+pv6QfrR+XX5Pvkp+Tf5XfmQ+d/5TfrM+lf77fuL/D39CP7g/r3/lgBfARECoQL6AhAD5wKFAv8BbwHkAHoAWgCfAFIBbALKA0oF4QZxCMkJyQpeC4gLbwsyC8UKMAqFCcoIFghtB7MG3AUBBTIEjwMyAxADJANyA/IDmQRVBfcFYgaTBo0GZQYvBuAFegURBawEVgQTBM0DewMvA/kC6wIYA3ID7gOFBCUFuQUlBjUGygXjBI8D9QFCAIb+5/yn++z6yvo3+/j72PzU/cz+if/w/+X/a//E/h7+cv3R/FH8+/vq+x38XfyN/LH8xPzJ/MT8oPxc/Bf83/uz+5f7hPtz+3L7hvuo+9f7FPxj/M38WP34/aL+R//R/y8ARwDx/xj/v/33++v5zvfA9fvz0/J+8gzzcPRg9pb4+vpR/Tf/bwDWAHMAov+t/oz9YPxh+6n6ZPqR+tj6BPsr+0z7bPuZ+637o/uq+9H7C/xL/Gf8Q/z0+4f7/vpu+t35Yfkp+VL52/m1+rr7wvzB/Zv+Gv8i/6f+tv2K/Fn7M/pB+cD40/iN+eP6iPw6/uj/YAFfAr0CXwJRAfH/iv4s/Q38dPuK+2/8GP4cACoCNAQBBk0H7ge6B7cGTAXBAx0CiQA6/03+7v0c/oD+4v5K/6L/2v/t/7j/Pv/B/mj+L/4i/j7+fP7x/p3/UgD3AIIB3gEGAvcBoAEFAUcAfP+2/hH+qf2S/dj9c/4//xkA9wC6ATkCXAITAmIBeQB9/3D+af2I/N37gft1+5D7ufv6+0/8tvww/ar9Hv6k/kH/5/+JAAwBWgF6AWsBKgG6ABkAT/90/pb9u/zp+xz7V/qw+Tr5Bfkg+Yn5N/oj+zr8Zv2F/mP/2//p/5L/+f5B/m/9nfz8+6r7tPsX/J78If2n/ST+f/6y/qf+YP4N/sr9k/1w/WX9cf2m/Qn+gP7//oj/GAC3AGYBGQLGAnEDEwSiBBEFRwU2BeAESwSCA5cClQGQAK7/Bf+e/nf+eP6N/rf+6v4O/xj//v7I/pf+iP6X/s/+Pf/k/8oA6QEYAzgEPAUIBoEGlwY4BmoFTQQBA5IBHgDN/rr9/PyV/Gf8XfyC/NT8SP3b/Xv+IP/g/70AmwFgAuQCBQPMAkECbgFpAEH/F/4n/Zv8ePy3/C39s/1M/uj+W/+S/33/If+0/lv+EP7f/db99/1U/uv+jv8gAJsA8AASAf4AogAEAEf/hf7K/TH90fy7/Pv8if1A/v3+sv9BAIQAYwDR/9j+r/2C/F/7afrT+bj5Lvov+3787P1x/+0ANAItA7oD2AO+A4wDOgPRAlsC3QFwARoBuQBCAMn/W/8Y/xf/Sf+n/zMA3gCbAVECzgLwArkCMQJ6AbQA5f8h/5f+Yf6I/gj/rf9PAO4AdQHFAc8BgQHgACEAaP+8/jT+6v3r/Uz+Cf/z/+gA4wHLAogDCgQ6BBcExQNaA9ICNQKMAdoANQCk/xb/iP4N/rb9oP3g/Wz+O/9EAHMBtQLpA9gEWwVvBRoFgQTKA/kCKgKPAUcBYAHTAWgC9AJ7A+kDIQQWBLID+AIcAkABYgCP/9T+Mv7B/YH9Tv0X/dn8jvwz/Mv7SPuw+hz6oPlB+Q35DflH+cL5fPpc+1D8Tv1E/hz/yP87AHQAhwCCAGYAOQAMAOT/zP/G/7z/pP+H/2f/SP8y/x3/Cv8E/xD/K/9Q/3L/if+a/6b/sv/B/9T/6/8QAEcAkgDtAFIBugElApIC/gJnA8YDGARdBJMEswS4BJgETgTdA0gDmALXAQ4BTQCq/zX/8/7k/vr+Kv9y/8n/GwBcAIQAkACOAIcAbQA8AOz/ef/r/kb+iP23/OP7HvuJ+jv6Nvp4+vX6n/t1/Gz9av5c/zcA9gCnAUwC0wIrA0QDEgOeAu4BBgH1/9L+vv3w/Iv8k/z9/Kn9c/5Q/yMAsQDZAI4A3P/+/in+X/25/Gf8e/wN/RT+S/+AAKwBsAJnA78DnQMDAy8CTAFiAIz/6/6R/pr+Av+Y/zcA4QCEARACewKtAqMChAJiAjUC+wGuAUQB0QBYAMz/LP+E/uH9Yf0Y/QH9Fv1P/Z/9AP5l/q/+yf6y/mz+Ev65/WD9Ef3h/Nr8Bf1f/cv9NP6a/vX+Of9h/2P/Qf8S/+f+w/6v/rT+1/4f/4v/BAB8AOwASQGFAZkBfgE4Ad0AgQAqAOj/z//o/zwAxQBlAQQCmQIPA0oDOwPZAiwCWwGIAL7/Gv/C/s3+R/8pAEIBaAKPA5YEUgWmBXwF2QTwA+gCxAGaAIn/pv4L/r/9mP2E/ZL9yf0y/tj+pP+MAJ4B0AIKBCwFAQZgBlAG2QUSBR0EBQPsARIBogCmABoBygGLAmUDRwQKBZ4F5wXjBb0FjwVCBc4EJQQ7AycC+QCp/0b+7fzB+wP74PpP+0L8kf0M/5wADwIOA2ED+wLpAXkA8/5g/fH79PqX+vj6Cvxq/cv+KQBaASQCagIDAvgApv9R/vv8x/vb+kr6Pfq0+mb7J/z3/Mb9hP4t/6D/1/8DADgAbACfAMEAxgDBALYAkQBRAPv/mv9M/yP/Fv8f/zH/Pv9A/yn/1/47/lX9Mfz0+sH5pfi99zX3KPej96D48flw+xD9s/4oAFEBFgJ2Ap0CqwKWAmkCNgIDAuUB3AG/AXoBGwGpADMAyP9g//r+sf6O/pf+z/4r/6L/NwDmAKABWAL1AlsDbQMWA1ICKAGz/w/+Uvyj+jv5RPjO99b3NvjM+J75nfqn+6r8jP1E/vP+pv86AJcAnAAtAF7/QP7Z/Ej7svlN+HX3avcq+KX5mfu//QQAKwLIA5kEgwSQAyMCjADI/gD9eftX+sv51fkc+mb6zfpL+977kPw4/c79if56/4sAqgGoAl8D3wMpBDAE+QN7A7sC3QH1AAgAHP8w/kj9hfwI/O77Tvwk/WD+7v+rAXADCAUaBmsG8gW+BA8DJgES/wX9XPtO+vj5U/oE+8b7o/x//Sz+lf6W/jX+yf2I/Wv9gf3S/V3+Pv9yALoB7gIFBOcEigXoBecFhwXsBC8EWgODAr0BFQGgAF8AOQAdABEADwAUACEAJwAoADgAYQCZANgADwEwAT8BPAEcAd0AegDz/1D/mv7O/e/8AfwH+xH6L/lz+Ov3nPeJ96/3CfiY+FL5KPoO+/z77vzq/fH+7//VAJUBHwJ2ApsCjwJaAgoCsgF2AW0BmAHuAVUCtAIFAzcDJQO/Av4B7gC+/5n+iP2m/Bz8//te/DH9Q/5l/4kAiQEzAmkCFgJAASYA9/7A/aL80ftp+4P7G/zu/Mv9sf6J/zEAmAChAE0A0v9T/8n+PP6x/Sj9u/xx/Cv84fue+237Zvuc+wL8kvxO/S7+Kf8uABkBzwFOApUCrwKpAnoCIgKwASoBmgAFAF3/o/7r/Uf90fyc/Kb85/xc/fP9of5Q/9X/EwAJALz/TP/X/l7+8v22/br9Cv6f/k3/8P+HAAIBSAFQAQsBfADS/yz/lP4h/uz9BP54/kH/MQAjAQoCxgIxAzYDxALnAdQAvP+u/tD9VP1a/fL9FP96AOoBVgOSBGQFqgVJBU0EBAOtAVMAIv9T/gb+Wv5G/3cArQHiAu4DoQTjBJQEvQOyArEBwgALALf/2v+QAMwBOAOQBMAFlgbaBmoGKwUsA8kAUP7d+6/5GfhM93T3ivgz+iX8XP6qAM8CpAT0BbgGNweZB7sHkwcPBxwG4wR0A7QBsf+b/av7SPq++f/5+/qD/Fr+ZwBsAusDmQRkBF8D9wGKABj/1P0a/Rn99/2l/6IBjgNkBfYGBQh1CBEI3gZIBZkD1wErALz+oP0F/ev8AP0Q/R79Ef3a/HT8wvvL+tf5EvmF+Ef4afjv+PD5YvsL/b7+ZQDXAe4CjwOiAywDYQJvAWUAav+x/lv+gP4Y/+b/twCMAUgCxgL0ArgCGQJYAaMA+P9p/wv/5P4O/4f/HQCxAD8BtwEOAkECPAIDAroBewFOAUUBbgHRAXUCUQM3BAMFoQXtBb8F/wSkA74BjP9I/RT7Kvnb91r3vvf3+LH6nvyk/oQA2wFvAh0C8gBc/7X9BPx++nP5Dfl5+a76OPzF/VX/xQDmAaUC0gJtAtYBRAG3AEIA9v/T/wAAfAAIAX0B2wESAiECCgK1ASIBfADZ/0H/w/5j/iX+GP47/nL+qv7c/vf+7/68/lL+tP37/Dr8dfu8+h76pvlh+VL5ZfmO+dP5M/qs+j/73/uG/Dv9+/24/mH/3f8ZABgA3v9z/+f+Qv6Y/Qv9tPya/Lv8Av1a/cr9TP7O/kn/sf8GAF4AxwA0AZ8B/QFCAnUClQKTAmoCGAKeAQcBWwCc/9D+Av4+/Zj8KfwI/Ef86vzq/TT/sgBQAu4DWgVvBhwHXwdPBwAHZQZ+BV4ECwOdASEAj/7w/HH7Qfqg+cD5mPoW/Br+bgDuAlUFLQcoCDYIYwcEBmcEjwKsABz/Ev60/fn9dv7d/kD/if+Z/2f/zP7I/bj8zvsH+2/6B/rH+dT5Nfq8+lT7/fuu/HH9TP4n//3/1wC3AZcCbwMrBL0EJwVpBX0FZgUiBbUELgSaA/wCWQK0AREBgQAVANv/3/8hAJ0ASwEeAgQD5QOYBAAFGQXlBH0E+gNcA7ECGwKrAW0BXwFfAVcBUQFLAUIBOgEmAQcB+QAKATcBgQHhAVAC1AJrAwYEnAQgBYcFyAXbBbgFXQXOBBIELAMjAgIB1P+j/nT9Sfwm+xz6Pfmb+Ef4QPiF+BL53PnW+uv79fzZ/ZH+HP+L/+3/OQByAKgA3gAcAVwBgQF6AU4BAAGUABQAeP/F/g3+Xv3C/EL85fuu+6X7y/sX/H789vxu/dL9Ev4m/g3+0/2B/RP9jPz2+1b7uPoj+pH5B/mb+GP4f/gE+er5IvuX/Cb+tP8UAf8BRgLhAeAAe//v/Uz8xvqt+Tb5eflv+sX7Ov3O/l4AsgGrAiIDGAPYApMCNwLMAVcB1wBwAC8A6v+a/1n/Pf93/ygAOQGWAiwE0wVuB8gIgwlkCWoIpwZmBPIBZP/+/C77OPo7+in7mfwy/u7/mgHfApADfwO1AqcBpACn/9L+Tf4p/pD+fP+IAHIBNwK5AuMCsAL9AdEAfP83/hX9Qvzj+w784PxP/hIA8AHPA3wFuAZcB0UHegZEBdsDRgKnADL/Bf5J/Qb9//wX/Wn9/P3e/h8AmgE9AxcFFgcOCcgK5gsnDJQLQQpcCCcGvgNmAZv/q/6q/oj/2wBIAssDLgURBkAGkQUQBDkCZgCR/uD8hPuT+kH6j/oZ+6X7OfzE/Dv9oP3L/bn9qP24/eX9Ov6q/ir/z/+WAFUB9QFpAqAClQJFAqQBuQCh/3n+VP1U/Jz7Rvtf++L7qvyW/Zn+lf9bAM4A3ACJAAYAdv/W/jX+rv1N/Sj9Qv1w/Z391P0Z/nT+7/51/wAAngBNAQACpQIZA0QDKgPRAkICjwG6ANP//f5O/s79gf1R/TL9MP1P/Yz95/1X/tX+b/8jAN8AkAEXAl0CZgI7AugBgAEOAaoAgACoACMB3gGrAlkD2AMCBJoDgwKzAD/+evuu+P/1sfMk8pLxHPK18/z1mfh4+1P+xACKAnUDhQMiA5gC1gH3ACcAd/8W/wf/8P6j/j3+yP1i/Sr9/vzb/Or8N/26/Wj+E/+X/wQAXQCmAOoAGQErATIBMQEoARoB9wC5AHEAKgD4/+j/+P8mAHEA0gBJAdABVQLNAjQDhwPPAw8EPARKBDQE8gOJAwADWgKhAeMANgC6/4f/nP/z/3UACwGsAUICpAK7AoEC/wFdAcIANADJ/6r/6f+SAJwBzwL+AxwFCAaXBrAGPgZIBQsEtgJWAQ8AEf96/mT+y/52/zgAEgHrAaQCKwNlA08DHAPpAqkCXgIGApkBLwHMAFYAxv8r/4/+E/7O/bj9zv0Q/nj+Bf+x/2AAAAGOAQYCcQLSAhkDOAMnA9wCXQKuAc0Aw/+g/nr9dvyu+yb73vrH+tH6AftO+6D77Pst/Gb8tfww/c79kv6A/5MAzQEiA2wEjAVuBvYGBweQBo0FDgRDAmAAj/4Q/Tb8O/wv/f7+VgHiA4MG6AibClEL5QplCUcH7wRhAtj/s/0m/Gf7dfvY+0H8xPxP/cn9L/5M/hr+7/3v/QX+KP42/g/+2P2d/Uj94Pxz/Bb8CPxu/Dn9Vv6h/+oAIwIlA6MDdQORAgoBKv85/Ur7mPl5+CH4rPgN+uX74v31/+YBXwMvBC8EZQM7Av8AsP94/o39Cv0d/cL9mv5r/zsA+ACRAQYCLwILAtwBxgHEAd8BDwJJAqYCIwObA/gDMgQ6BBEEuQMlA1wCewGZAMv/K//X/uL+Vv8oADQBVQJ5A3kEIgVRBfgEIAT+AsMBdwA+/0z+wP2x/Rr+uv5j/xYAuwAzAW8BVgHvAHYAFgDR/7j/3v9KAA8BKQJhA5EErgWdBkQHlAdzB+IGBQb3BLsDYgIAAaL/Yf5G/Tv8O/tZ+qX5NPkY+UP5r/lb+jn7L/wb/cL9+P2+/Rv9L/wg+/X5y/je91H3NveJ9xX4s/hv+UD6Efva+4H8Af2A/Q3+lf4J/0//Uv8i/8f+Of6F/bb84fs1+9P6vPrw+l/79/vD/Lz9zv7r/wYBFQIlAzUEJwXfBToGHAaOBZsEUgPRATMAo/5u/cX8sfwm/fH93f7m/+YAmQHaAZUB0wDk/wT/Mf6H/TD9Pv3L/c/++v8RAQsCyAIjAwwDaAJBAeL/hP49/T38ufvR+578E/7d/7gBiwMaBRwGYQbKBWQEkAKbAJb+ufxP+4b6hvpG+2D8iP27/tD/kwDoAKcA1f/S/t79+vxA/M77rfsA/MP8qP17/jb/vf/8/+r/bP+N/o39nvzU+1b7TPvM++z8oP6hALMCuwSEBskHYAgqCC8HvgUWBEICcQDj/sD9L/0x/Xr92f1c/vf+mf8+AMEAHAGCAQYCjgIHA0kDMgPaAkoCfQGFAHD/XP6M/Sr9Nv2n/Vv+K/8bABYB7AGEAs4CzAKwApsCgwJuAmcCcQKdAuwCNwNpA4gDjwOHA3UDTQMOA8sCjgJbAjoCJwIhAi8CUAJ5AqQCyALaAtACpAJSAtwBTgG1ABYAff/5/pX+Vf44/iz+If4W/gL+1/2P/Sf9pvwp/Mj7i/uI+9b7g/yT/f3+mABBAuIDVwVuBggHFAeaBssF0wS+A7MC6gGEAZYBGALLAnkDIQSoBOEEuAQZBA0D4QHNANj/Jf/Y/gb/yf8ZAbECXAQLBpcH0gigCeAJjgniCAMI7ga0BXAELwMOAhQBGQAM/wb+E/1O/M77hvt3+7X7Q/wZ/Sv+Uf9uAIEBhAJ4A1oEEAWHBbYFkQUZBVIEOAPZAUsAsf49/Rb8RvvN+pz6ofro+mz7FPzT/Jv9aP5P/1UAWQE/AuACHQP9AokCxwHNAK//j/6y/UP9Sf27/W3+N/8bAAgBzgFXApACegJLAiYC/gHWAbQBlAGLAZkBmgF7AUEB7ACGABsAn/8S/4b+Av6O/TT98vzL/MX85Pwj/X/99P17/g3/pP86AMkAUQHOATcCgQKiApMCVgLwAWkBzwAxAKf/U/9O/5n/LQDvAMABmAJcA90DAAS9AxoDRgJqAYgAu/8q/+v+EP+W/0sACwHWAZkCPgO4A/AD4gO0A3sDLgPOAlkCywEzAZgA5f8X/zn+Vf2E/Nr7Uvvs+qz6j/qY+sT6AvtI+5T74fs3/JT86vwr/Ur9Pf0J/bX8SfzV+237LPs7+7b7nvzo/W7/CgGuAjYEaAUgBksG7AUyBUUEHwPUAYcASv86/mD9lfzM+x77nfpe+nj62vp8+2j8lP3p/kcAbwE2ApoCowJnAgYCewHaAFIA/P/l/wkAOQBXAHEAhgCQAJAAdwBDABgABQAFABYAKwA4AE0AbgCVAMUA/gBDAaMBJwLGAnkDMATbBG8F3QUKBuYFbQWkBKMDggJNAR0AFf9Q/tn9sP21/dH9Bf5C/nH+hf5w/jb++/3Y/cf9zP3v/S7+l/4u/9n/jABMARkC+gLzA/IE6gXUBp4HNgiDCF8IsgeBBtoE4QLAAJP+jfz6+g361/lS+kf7gPz3/YH/2gDWAVYCWwIpAuwBkAEYAZQABACE/xv/lv7k/R79Vvy2+2H7RPtY+6T7G/y6/G79Bv5l/or+ff5X/jT+Cf7d/cb9zv3//Vn+v/4c/3z/3v9FALYAHwF5AccBBAIjAhICtQH6AOv/lv4Y/ZL7H/rn+Cn4EPii+NH5Zvsl/fn+qwDnAXgCSAJkASEAyv5n/Sn8X/sz+8P7BP2P/hMAjAHNAp4D4QNvA1EC6AB9/xb+3Pz8+4v7svtr/GP9YP5a/y8AvQDyAK0A8P8F/xz+OP12/O37rPvO+1P8Af2y/Wb+Cv+Q//L/GQAEAN//w/+x/7P/0P8HAGgA7AByAeEBMgJSAjYC1wEqATYAHv///ej89vtK+/v6Gvuj+3X8dP2b/tL/+wD9AcECPgOMA7UDoAM+A4ACVwHb/x7+K/wh+jD4lfau9bz1v/aj+Cv7C/4iASQEjQYLCHwI6we9BkwFjgOuAf//rP7l/az9lv1i/TL9B/3m/OD8zPyk/Kr89fxz/Rb+q/4L/07/e/+K/4f/af82/xX/F/85/3L/p//A/8T/r/9v/wH/YP6R/bP84Psf+4X6JfoM+kX6yfp7+z/8Bf2z/SH+OP7v/U39gfyx++v6T/oN+kH6+/ox/Kf9Kv+yABoCNAPhAwcEqAP9AjACQAE/AEr/cP7Q/XL9L/34/OL8+fxT/QL+7v4MAF4B0gJJBJsFgAbGBm0GgQUmBIsCugDd/kH9Gfx6+2T7nvv8+5H8Vv00/iH/AQDNALIBwALXA+AErwUhBkUGIgawBf4EFQQNAyECeQETAe0A6ADnAPcAFAEhARUB5ACNADQA7f+o/1//CP+W/hv+nv0Y/ZH8FPyy+437vfs9/AT9//0W/0IAbAFvAi8DogPGA7UDggMnA6gCFQJ1AdoASgC1/xr/j/4r/gr+RP7R/qn/xAAMAnADzgTsBaEG5wbBBlAGtAXoBP4DGwNWAr4BVAHuAHMA9P93/wD/mf43/tv9p/2p/eL9Uv7r/qP/fgB2AXgCdANSBPgETwVEBdQEBQTxArYBbAA+/2b+Df48/uf+2v/iAPMB5AJ2A4ED8wLZAYAAKf/a/bj8+vu++yL8IP1p/sL/KAF7ApQDXQSxBIwEKwSwAxMDXAKTAbYA5v8u/27+pP3m/Ez8/vsd/Jj8Y/10/rD//wA7AhkDaQMlA1cCLwHd/2b+6/yr+8v6Zfp2+sD6GfuR+x/8sfxC/bf9B/5e/sv+OP+U/8D/o/9P/9L+LP5u/av8Avyw+9z7hfyf/QL/gQAVApsD1QSdBeEFowUeBXwEuAPlAiUCiAEoAQYB8QDMAKQAeQBQADEACgDZ/7v/vP/X/wUAMwBPAGQAcwB3AHAAWAAuAPz/yv+V/2L/Mf8E/+n+7f4g/4r/JwDtAMgBoQJkA/IDHATGA+4CoQEOAGT+uvw/+zn61vkp+ij7j/wj/tr/iAHsAtsDNwQEBI0DCgNyAtkBYAEUARQBYAG2AfEBHAIzAjoCPQIgAuIBpwF/AWcBYQFbAUgBOwE3ATgBQQFRAWwBogH8AXEC+gKJAwsEdwS9BMAEbwTJA9ICpgFfAAr/w/2z/Pf7nfum+/b7dPwm/QD+7f7h/8cAmgFxAlIDJgTZBFIFeQVXBfIERwRhA1ACLgEvAHb/Bv/c/uD++v4x/33/wP/t//n/5f/W/+D/9f8SADMATQBtAJYAswC+ALsArACjAKoAvADYAP0AKwFpAbkBGAKEAvsCeAP3A3ME3AQmBTsFDwWiBP0DMANRAm0BnAADALz/zP8uAMAAYwEPAq0CFAMtA+kCTgKEAa8Azf/u/i3+l/0//Sf9Kv0x/UX9ZP2N/cX9+/0u/nX+2P5S/97/bgD1AHgB9wFmAsECAQMiAyUDDgPWAn4CBgJuAb0A/f82/3L+uP0P/X78DfzH+7r78Ptw/Db9Ov5t/7cA/gEfA+cDMgT3Az0DJQLSAFD/v/1a/Ej7nfpc+lr6ePrL+lP7Bvzi/ND9xf7b/xEBRQJUAwUELQTVAwYDzwFOAJP+wvwo+/b5OPnr+OH49fg1+Zn5A/pn+rH64Pop+6X7Qfzz/Kr9Uv73/pr/HABxAJQAgQBEAOj/Zv/A/gD+L/1k/Lb7PfsN+yz7mPtD/B/9IP4x/y8AAQGdAQYCWAKnAuoCJgNnA7ADCgRwBMME7wT3BNgElgQ1BKwDAANFAosB3QBJANv/mv+N/7P/+/9VALUABgEtARkBxAAyAIL/zP4X/nf9C/3l/A39ff0M/pj+HP+C/67/jv8T/0T+S/1K/Ej7Xfqk+TD5FPlP+bz5P/rZ+n37Gvyn/BP9W/2e/ev9Ov6L/tf+GP9a/57/0v/z/wQACgAWADUAYQCZANwAKQGBAeUBSwKrAgUDVQOcA9kDAQQKBOcDkAMJA1gChgGiALr/4v46/tj9wf3y/Vb+1/5z/xgAqQAUAU4BWwFXAVkBWgFiAXsBqQH2AWICzgIpA3YDsQPZA/ID7gPOA58DagMwA/QCtAJvAi0C7gGtAWgBHQHMAHUAGwC8/1n/+/6l/lz+Iv78/ez99P0R/j3+cf6n/tn+/P4J//z+1v6f/l7+FP7H/YL9Sv0l/RX9Ef0X/Sz9U/2P/eP9R/64/jP/sf8kAH4ApwCOADUApP/v/iz+aP29/FP8RfyZ/Ev9OP5A/14AewFwAiYDigObA30DSAPyAn0C9AFWAbcAGwBr/6H+zv0C/Vj86Pur+5/7xvsZ/Jf8Mf3L/U3+uP4K/1P/n//i/xcARABoAIgApgCzAKoAlgCBAH0AmADLAA8BXwGuAfcBLAIzAv4BiwHiABoATP98/rz9J/3O/Ln86Pw8/Z79Cv5y/r/+5f7Z/p7+Vf4Z/uv92v34/U7+5P6z/5QAagEpAroCAwP0AoACrwGrAJX/fv6F/dP8gfyh/DL9BP71/v//CQHwAZ4C/AILA/YC2AKpAm0CKgLgAaEBbAEfAaoAFQBi/5/+3P0T/Uz8ofsk++f6APt7+1/8rP1S/y0BEwPZBEUGCwf1BvkFJgTBARD/Nfx3+Uf37fWL9Rf2LPd4+P75jvvb/Lv9Av62/UP98fys/Ib8j/zE/E/9K/4E/6v/IgBaAFgAJgCk/9D+1/3R/Mn71fr7+UL5wfh++Gj4efiw+An5hfki+tL6kvtp/FL9P/4c/83/PgByAG4AOgDn/4L/If/x/g7/fP80ABUBAAL1AuEDoQQiBVMFNAXoBIcEBARiA6UCzQHwABsARv94/s39YP1h/e39/P58AFMCVARhBkcIrglbCkAKZAkDCFcGZQRTAm4A4P7N/TX90/x8/Er8PvxS/I38z/wS/YL9LP70/r7/VQCMAHcAIACN/9b+BP4z/aP8fPy+/F/9K/70/rz/awDRANcAbwCg/6z+xv3y/E/8Avwe/Lv8z/0b/20AtwHSApMD3wOcA9ICwQGcAG3/Wv6R/S79S/3j/bX+kP9zAEIB3AExAiQCuAEoAZoACgCH/x7/0v6+/uL+Fv9G/3b/ov/R/wkANgBVAHYAnADCAOIA6ADHAIoANQDP/2P/+P6d/m/+f/7P/ln/CADGAI8BUQLtAlIDdgNbAx8D2QKGAjQC9wHWAd8BDwJGAnECkAKcAosCXAIBAn0B5gBLAKz/Ef98/u/9dv0X/cj8iPxb/Eb8UvyD/NT8Pv28/UX+y/49/4H/g/9F/83+Mf6L/eb8Xfwa/Dj8vvyl/cT+9f8yAV8CUAPrAx8E7wOKAxUDjgIFApYBTAE7AV4BhwGWAY4BYgEIAXwAsf+u/p/9ofzA+xT7r/qg+vf6sfur/Mr9Av87AFcBPwLeAjEDUQNOAx8DxAJDApwB4gAZADX/N/44/VH8rPtm+3n73vuI/F39T/4+/+3/NwAWAJT/4f4q/nD9zvx2/ID8/vzo/f/+EwAiARUCyQIwAy0DwgIjAnMBrwDp/y//if4Q/sn9k/1d/TH9Ef0H/Rv9QP10/cX9N/7C/lv/6/9dALcA9gAbASoBHAHxALQAbAAbAML/W//m/nD+Bf60/Yv9if2w/QH+ev4Z/9n/qwCBAVkCKwP6A8MEcwX6BUgGTQYKBoEFtASwA38CNgH4/+D+9f08/ar8NPzr+9P75/sn/Ir8Cv2w/Xf+RP/9/3cAkwBUAMX/+P4L/gv9G/x2+0P7iPs7/Cj9IP4e/wgAqwDsALgAEgA7/1/+f/2u/Ar8ovuP+9T7Pfys/Cf9ov0Y/oj+2/4O/z//ev+6//r/LQBHAFMATgAqAOH/cP/Y/iL+Wf19/Jf7tvrp+Uf56fjp+Fz5QvqR+y/9+/7aAKACDgT2BEkFCgVlBIQDZQIlAfb/9v4+/s/9d/0Y/cn8kvx2/IL8oPzK/B/9o/1B/uT+Xv+L/3f/Kf+s/hb+av25/DL88Pv3+0b8ufw0/cD9Wf7r/nH/3P8oAHQAzgArAYgB2wEbAlICggKeAqMClAJzAk8CMwIYAv0B3AGvAXkBNQHaAGMA1v87/6X+KP7P/a392f1h/kb/fADdAUcDngS4BVwGYwbDBYkE8AIwAWL/vP2Q/BH8V/xU/bb+MwDDATQDPgS3BHsElANgAicB5//B/uL9Xv1c/dv9h/4s/83/VgC5APMA3wB6APz/gf8E/4z+E/6S/SH9x/xr/Ab8n/s7+/H6z/rN+uv6LfuS+xn8wPx0/Sr+4f6X/08ACgG+AWEC8QJlA70D9gMHBO0DqQM+A7QCEgJbAZUAx//8/kP+rv1R/Tr9av3c/YP+Sf8fAOcAdgGtAYgBDQFhAKj/5/46/s/9wP0b/tf+wf+vAJ4BegIiA4UDjgNBA9ECYQLyAZYBXwFYAZUBGAK5AmIDFATFBHAFEgaWBvUGQQd9B5wHlAdPB74G7QXhBKADNwK2ADX/4P3V/B38uvue+7z7Hfy9/Ij9dP5v/24AeQGHAnUDHgRUBPMDAwOVAcL/tf2T+5j5J/iC97b3tvg6+vv78P3n/4UBlAL2ArACJgKeAQwBiQA+ADoAoQBvAUkC+AKAA9AD4AOwAyIDNQImARkAF/84/oX9Bf3S/O/8Of2c/RL+i/77/lr/k/+k/6L/lf90/zv/4f5e/sL9FP1V/JD72/pS+iL6a/om+0j8rv0x/7wAIgIcA3wDNgNVAhcBtv88/tH8u/sh+yH7ufuh/KT9y/4EADABQQIRA5oDDAR+BNUEAQXlBGcEnwOYAkYBuf8F/k381PrJ+S75/Pgb+Wv58fma+jb7qvvp+/b7APwl/FT8jPzT/CP9jf0S/o/+9/5P/53/8v9bAMwAPgG1ASwCogIUA24DpgO+A7QDkgNeAxMDsQI+ArwBMgGlABIAff/w/nT+GP7m/d39+v03/or+7P5Q/5z/w/+//5X/Vf8O/8L+ef5H/jf+UP6U/u/+Uv/G/0oA2wB7ARkCrQI4A7ADAgQXBM8DFQPxAXYAxv4L/Wf7D/pT+Wj5V/oP/En+vABOA7wFmweqCMoICAjKBmYF4ANuAmMB7QA3AToChQPKBBAGPAclCL8I1ghpCMgHIwdoBp4FugSuA6QCqAGbAHz/X/5a/aL8Wvx1/On8qP2W/qn/wQCbARACGQK9AScBgQDI/xT/kf5Y/nr+9P6M/x0ArAAvAZQB1gHfAa8BcAE8AQ4B7QDXAMgA0QD0ABoBNgFIAUkBPwErAQQBxwB+ACsA0P9u/wD/hf4C/nz98/xr/On7dfsb++P60Prm+iL7hPsO/L/8kv2B/oT/kgChAaMCggMlBG0ERQSsA64CYgHq/1/+7PzR+zz7OPu7+5T8kP2o/rj/fgDXAK0ABwAs/1L+dP2o/BH8v/vP+z/8z/xZ/eP9Yv7P/iz/Xv9h/1z/YP9o/3n/h/+K/5D/mf+T/3T/O//j/nT+9P1g/bz8GvyE+wr7v/qz+vP6gftZ/GX9kP7K//YA7AGTAt4C0wKRAjQCwQFKAfQA0QDtAEABnAHaAfsB7gGYAfEA7v+e/jn98PvW+hP60vku+jb73/zl/gwBNgMnBZEGQAcYByQGtwQWA1ABm/9J/of9eP0R/uz+vP+BABQBPgHmAOf/S/53/LP6BfmQ93r21vXQ9Wr2Wvd1+Ln5Evtv/Mf99P7u/94A0gG6AowDMASSBMAEvQRyBN8DDAMHAvUA8//+/hv+Sf2D/Nv7XPsB+8v6vPrW+iT7qftX/Bz94f2P/ib/qf8YAHsAzQAQAVIBmwHqATkCdAKMAoUCYQIeAr8BQQGlAP3/VP+x/h/+pP1I/RD9//wM/S39X/2U/b790/3O/bT9lf1//XX9gP2v/Qn+kP49//P/mwAtAZUBvQGYAR8BWgBq/3D+ev2p/CT8Bvxd/CP9Lv5Y/5oA1QHeApgD7wPjA58DRQPMAjwCpgEPAZAALADG/1H/4f6F/lb+av6x/iD/tf9eAAkBlwHQAY8B2AC5/17+9vyR+1f6kPlm+er5EfuY/EX+EADUAVQDawT4BPkErAQ8BJoDzgLoAesA+v8i/z/+Tf1s/Lv7b/ux+2/8nf0x/wkBDwMTBb4G1QdNCC8Irgf6Bg4GAwUUBF8D/ALqAuQCvwKRAlgCDwK/AU0BuQAxAMn/ev9A/wX/uv5w/jH+9v3E/Z79iP2a/eT9XP7+/rj/dQAzAeABZQKvAroCiAItAsABRAHIAGUAKgAhAEcAgAC2AOkADwEWAfYApAAlAJX/Cf+B/gb+ov1Y/TX9Nv1G/VT9YP1f/Uz9Iv3a/Hb8Cvyl+0z7C/vt+vr6OPuj+yb8sPw7/bn9Fv5J/kr+HP7W/Y79R/0R/QH9If15/QX+pP4+/8z/PAB0AGYABQBR/2f+Xf0z/PT6svl4+Fv3ZvaQ9dz0YfQz9HD0LPVf9vz3+vk8/Kf+DwEvA9QE7wWABqUGfAb+BTsFXgR/A7QCAgJBAWEAhv/I/kT+F/4z/o/+N/8eAC0BPwIPA2wDWAPdAiMCUwFrAIX/2P6E/pf+Cv+i/zEAvwBBAZ4BzwG8AWUB+QCTADAA1v+G/z3/D////vT+4/7P/rT+nf6Q/oL+cv5p/mn+cv6E/pP+mv6d/p7+nf6f/qH+qP65/tv+Cf9B/3r/qv/N/9z/yv+R/zD/qf4N/mn9xvww/L77fft0+6L79/tk/On8fP0L/o3+9/5F/4b/v//m//T/4v+o/0//2v5H/p395/w6/LP7Z/tV+3j7vvsT/HH8xfzr/M/8bPzK+w37Vvqp+Rn5x/jE+B35zvmq+pH7fvxb/Q3+hf6v/o3+Rf7z/Zb9Pf35/NL82fwJ/T/9ZP13/W79P/3q/Gf8v/sZ+5T6QPo3+pb6avu7/Hr+dQB5AmYEBwYVB2AH2AaIBbcDqQF2/1n9rvuu+nz6FPse/Fb9wv5EAKQBxwKCA9AD/gM0BFQEVQQlBK0DEANcAnEBVAAg//j9JP3Y/Ab9oP2J/pf/vwDcAZ0C1QJ3Ao8BYQAo/+L9r/zF+0L7Qfu++3H8Kf3q/aL+Of+m/83/rf+A/2j/Y/97/7f/EgCjAGcBNQL2AqEDKgSJBLkEqQRXBNcDNgN1Ap0BsgC4/77+yf3S/Nv77voY+mj57/ir+J74z/g8+eL5vPq3+8T83f36/hkAMwExAgADjAPEA6kDQAOQAqsBpwCj/9H+Vf40/mj+0P5J/9L/UgCcAJkAOgCI/7b+7f0p/Xj88vug+5f71vsx/I386vxA/Yj9wf3a/dH9xP3D/dD98/0t/n7+8f6C/x4AtABBAbkBFQJPAl0CPgL9AaIBLQGiAAUAWf+l/u79Lv1l/J373Pov+qD5Nfny+OL4DPl3+Sn6I/ti/OH9kf9hATUD7gRkBmQHyweQB7wGdAXgAxkCUADS/tT9bP2Y/Rz+yv6r/6sAnwFyAgUDVgOfA/0DVASUBKgEdwQZBJUD1QLdAb4Aj/+K/tf9cf1U/XH9sf0e/rD+R//S/0kAqQASAZMBGgKdAhEDagOvA+AD7QPPA4oDIwOuAjkCvwFCAcEAOgC6/0n/6f6e/mv+Tv5L/mH+iP62/tr+5v7d/sH+nP55/lf+Pv47/lf+kv7n/kP/k//V////BADd/4T///5l/sr9OP3B/Hz8d/y8/Eb9+v2//o//UgDtAEwBZAE3AegAjwAvANb/mv+I/63/BQBuAM8AKgF0AaEBrQGJATQBxwBRAM7/Qv+t/g/+dP3k/Fb8zPtO++n6rPqo+tr6QPvb+6T8mP2v/tX/+gAVAh0DDwTmBIwF7AX0BZUF1AS6A1gCyAAn/6H9d/zW+8r7Sfwt/Un+lv/yABsC6QJHAzYD8QKiAjcCtQEwAagAOwDt/5X/Iv+t/kf+Ff4y/ov+FP/K/5oAcgE0AqMClwIRAh0B5/+b/kH9+vsD+4D6gfr/+r37iPxg/Sn+uv78/tf+Uv6r/RL9hvwd/PH7DfyI/Fz9T/44/w8AvAAoAUUB/QBTAHX/hv6O/aP84PtS+w77FPs8+2n7nPvF+9T7w/uF+yH7wvqH+nf6pPoi+/j7Lv24/mQABQKDA7MEYwV0BdUEkgPnAQwAHP5Q/PP6Ofo9+vT6EPxO/ab+7f/eAFMBKwFyAIT/pf7U/S793fzx/Iz9p/7t/yMBRQI1A9gDIwT0A04DcwKPAasA5v9Z/xP/Lf+k/zwAzgBQAaUBrgFbAZkAbv8X/sH8d/ta+o75K/lJ+eT5xvrH++H8+v3z/rn/MQBbAGYAbQBsAGoAcAB/AKoA8wA0AV4BdgF+AYABiQGMAYgBkAGpAdYBGgJsAsUCKQOWAwUEcATKBAYFGAX4BKQEIgR+A8oCEgJqAfIAvQDPACABkgEIAngCyQLUAoQC0QHHAJr/eP5u/aP8Sfx9/E/9sP5cABgCzQNLBU4GqgZDBiEFjwPNAeP//P1V/BL7Wvou+kT6bvq7+h77ifv5+078hfzX/Fr9/f23/m3/BQCUAB0BjAHiAR8CSgKEAuECVQPWA1EEsQT0BBAF6QRyBKsDoAJ2AVAAPv9f/tv9zf0//ib/UQCQAc4C3AN6BH8E2QOVAvwAS/+V/Qr88/p9+sT6v/sX/Yj+DwCDAa4CcAOkA0sDtgIZAm0BxAAxALv/g/+M/5z/lf+A/1z/Nf8Y/+7+sv6B/mP+VP5U/kn+Jv71/bv9dv0s/dr8g/w3/P772vvK+8n70vvr+xf8Vvyq/Av9dv3p/V3+x/4a/0P/Nf/w/nv+5f1B/Zn8Avyf+4X7u/s8/O38s/2M/mX/HwCnAPAA+gDlAMkAngBqADgACgDv/+n/4P/J/63/kf+C/4r/oP/D//n/QgCcAAABXAGkAdcB9gEDAgEC6AGzAWYBAAGIAAQAef/w/nz+Mf4u/oX+M/8uAFoBmQLUA+YElQW9BVYFbAQ3A+wBnAB0/7v+m/4n/1EAyAFHA8EEBgbQBvgGXgYMBWADnwHU/yn+2PwC/M77Ofzt/K/9gv5I/+L/QgBEAOv/ff8o/+f+yv7a/hb/mf9dAC4B7AGOAgQDRgNRAxMDlAL6AWcB6wCkAK4AHAH5ATkDqgQfBn8HnQg+CTwJgggdB0sFRwMfAf/+K/3K+/z6wPrO+vX6OvuK+8T72/uz+1L7/Prd+u36OfvF+4r8nf30/lYAnAGzAn8D6APiA1sDWwISAa3/R/4S/Un8E/yG/Jf9B/+dAEsC3wMVBcAFxAUnBTgEMAMKAuIA3/8V/6f+mP6m/qv+t/7L/uv+JP9Y/4L/wv8hAJIACAFeAXsBawE2AeAAdgD8/4H/K/8R/zT/jf8CAHkA9ABnAbgB2QHBAXEBCQGfADEAyP9x/zD/E/8c/zL/S/9o/4f/qP/N/+r///8VADAATABkAG4AYgBHACEA8v/C/5f/e/+D/7r/HwCpAEcB5QF5Au8CKQMUA60C+gEfAToAWP+T/hf++v1K/gD/7f/sAPIB5AKWA+8D2gNaA6IC1AHwAAgANf+F/hD+2f24/Zj9hf2C/ZT9xP0A/kL+nv4U/5n/HgCEALUAuQCWAFgADwDB/4D/cf+q/ysA7ADJAaICcAMdBIMEjAQtBGsDcgJlAUwAPf9c/r39cv18/a/97v06/oT+uP7O/rb+dP4x/gr+AP4d/m3+8v63/7YAxQHGAqwDXwTFBNAEcgSuA6kCgwFKABz/Iv50/Sf9O/2L/fz9kP46/+T/gQD+AFgBrgEQAmoCtALbAtECoAJQAtIBLQFrAJ7/7P5w/iv+Gv4y/mb+vf40/7j/PwDFAEkB4QGYAmIDOAQRBeIFrAZpBwcIdgivCKUIVwjBB+UGygWFBC4D4AHCAAEAvv/+/7MAsgHNAukD0gQ4BegE1wMUAvL/vf2H+4j5G/hz96/3wPg9+tH7cv3q/u3/UwDw/8z+VP3W+1f6//gE+ID3ofdm+Hb5l/rO+wb9LP48/woAkAAHAYgBAgJyAsAC2QLYAsMCjAI2AtEBcQFIAXYB8AGoAoUDYQQwBdAFAwajBa4EMgNwAaX/4v1Y/FD79vph+4T8DP6y/2cB9wIYBJ4EZwR9Az4C8gCg/3L+o/1T/ab9kf62/80A1AGlAhYDFAN6Ak0B4/91/gv9xvvH+h/69/lR+vX6vvuy/MT97f4qAFoBcQKKA6kEtAWVBiIHPAftBj0GLgXSAzoChQDz/q79vvwh/Lj7Zvs3+yP7Cvvg+pv6Q/oJ+g76SvrA+nT7X/yM/fL+ZQDDAfoC7AOBBKgEUQSBA1kC/QCB/w/+2/wM/LX71ftC/Nf8mf10/kT/9v9zALkA9gBAAYIBsgG/AZsBWAH8AHYAyP8D/zz+pP1c/V79pP0b/q/+Xv8aALwALgFnAWoBVgFFASwBDQHyANwA2QDrAPoA+QDxAOgA6QD/ACABSgGBAcUBEwJlAqoC2ALvAvAC4gLJAqMCcAI2AvkBvAF/ATwB7wCeAEwA//+8/4L/Uf8v/xz/Gf8m/0H/Zf+R/8L/9f8lAEkAVgBBAAMAmv8L/1/+of3c/CD8hfsd+/H6BftL+737Yvw5/Tv+ZP+lAPQBUAOsBOoF6waDB5IHFwccBrYEBQMdASj/av0T/DT7zPqv+rr6+Ppf+8v7Lvxz/Jz82vxH/c39Yf7z/m3/3/9LAJYAuAC0AI4AYgBBACMABgDk/7n/kP9x/1f/Rf89/0D/WP+K/9L/LACPAPQAXAHIATUCpAINA2oDuQPzAxcEIQQMBNUDfAMBA2gCtgHuABUANf9Y/o396Px9/F78jfwH/b/9o/6m/7MAowFcAtMCBwMOA/cCuQJYAuEBWAHNAEQAq/8A/1j+yf1y/Wn9qv0s/uv+1f/cAOcBxgJWA5IDfwM7A+ECawLkAWoBCgHUAMkAxgC6ALIAtgDLAPwAOQF6AcsBKQKGAs8C4wKqAisCcAGNAJv/pf7F/Sr97/wa/aX9Zf40/wwA0gBaAYkBTwGtANP/5v7i/dn85fsT+336Kvr4+dn54PkU+of6Rfs5/Fj9oP4CAGEBlgJkA58DSwN4AlABBgCx/oT92vzo/L39Sv87AUQDWwVJB7kIeQlmCYYIOAfDBSQEegL4ALT/3v55/jv++f3K/a39rP3W/Qz+Sv66/mj/SABMAUoCIQPbA3UE4QQeBRoFzARABH0DhAJfARYAuf5t/V38u/uv+zn8TP3E/nQAPwLxAzIFyAWhBccEgAMLAmgAu/5F/Sv8jvtt+337ivuo+9P7APw0/E78R/xT/IL8xfwN/Tn9Lf3+/Lb8Uvzf+2b7+vrN+v76h/tf/Gb9ev6W/6QAdwH0AQ0CwgE6AZMAxv/f/vH9CP07/JT7+vpq+vn5u/nL+T36BfsW/Gr96/5/AP0BJAPEA9wDdwPBAuoB/gAkAKX/q/9HAGwBzgIwBI0FwwabB/gHvQftBtgFtQSEA18CZgGpAEoATQB3AKcA5AAkAWUBqQHUAeIB9AEVAjoCWwJgAjgC8AGMAQUBZACr/+r+P/7B/XH9Tv1O/Wb9of39/XD+9f6F/xsAwwB9ATkC6QJ3A9MDAQQHBOoDuAN6A0MDNgNnA9YDdQQiBbgFLQZiBioGawUdBFACPgAe/gT8Hvqv+N/3x/dg+Gf5ovoI/HD9m/5k/63/eP8Q/6f+Nv7T/Zn9lP3c/Wv++P5V/4H/a/8G/1T+QP3V+1D64Pie97T2RvZw9kX3vvie+rL83f7pAI8CnwP7A6cD5ALoAbIAYv8o/iL9dfwl/PX7xfuz+8r7Hfy//JP9j/7J/z0BzQJTBIYFNAZhBhkGcgWSBHwDSwJCAYkALAAlAD4ATABcAGYAUQAZAKv/DP94/hH+1/3W/RX+kP5X/2AAfAGGAmgD+wMeBLkDwAJBAXT/jv2w+xj6Ffnc+IL5+vrz/CP/eQG4A4gFrgYFB48GqgWYBE8D5wGMAFL/Zf7O/UP9ovwM/I77R/tY+6L7H/zu/A/+cv//AHsCuAO8BIYFHwaXBtkG4gbHBpAGQgbdBUgFewSMA5ACnwHTACgAnf84//f+2f7b/uH+3v7U/sX+w/7a/v/+Lf9i/5r/2/8oAHYAxAAZAXwBAAKuAn0DYQRHBRkGygZCB10HBgc8BgoFlwMNAn8AFv8P/o/9p/1O/k3/cgCxAeICxgM4BB8EgAOgArMBtQC+//P+Y/4s/kr+ff6b/qv+o/57/jX+vP0P/WD8yvtS+wb76fr9+lb79fvB/Kz9sf7E/98A+wEIA/4D5QS7BXYGCgdoB4UHZgcNB30GvwXhBPcDJgOGAhkC2wG4AZsBggFdAQoBeACk/5f+e/10/Ij7yvpZ+kT6mfpT+0P8Rv1S/kv/DwCLAKkAagD2/2r/yf4m/pn9Mf0C/Qv9Kf1F/Wj9kf2+/fT9JP5L/oL+0v40/6D/BgBXAJsA1QD/ABsBJwEmASUBLAE6AU4BYQFuAXwBjQGhAbkB0gHnAfkBAwL/AeIBngEpAYoAyP/2/in+cf3l/Kv82Pxv/WX+lv/aACACQQMFBEgE+AMeA+wBkQAT/5P9RfxI+7j6mvq7+vr6avsJ/NP8yf3R/uD/EAFiArgD8gTcBUwGSgbdBQ8F+gOmAjIB3v/V/iH+vf2E/VT9Pv09/Tr9MP0Q/d78yvzx/Ef9zf16/kT/NABFAVUCTwMiBLgEBQX/BJwE4APlAsQBkwB3/53+J/4i/on+Nv8HAPgA7wG/Ak4DiANwAzQD8gKeAjoCzwFbAfEAkQAZAHn/uf7f/f/8KPxT+4T6zfk6+db4rvjC+BP5pflz+m/7ivyu/b3+lP8XAD8ADQCX//P+J/5H/Xj81Ptq+z37Mvs4+2T7vftI/A79/f0L/0EAlAHnAhcE6wQ7BQ0FbgR8A2QCNgEeAGv/Sv/J/9kAMgKWA/wEPAYPB1AH4QbMBWQE6gJeAeD/n/6x/Tz9P/10/az97/0u/lz+d/5j/h/+4P3C/cH95f0m/nz++/6g/0wA7wCCAfoBWQKdArkCqAJ3AikCwQFGAbkAHAB7/9v+Pf6n/ST9w/yU/KT88Pxw/Rj+1f6U/zkAmACUACoAZP9o/lv9S/xb+8T6qfoW+wT8Of2D/t//LQE9AvQCNwMGA5oCGgJ9AdAAJACA/wH/r/5n/h/+6v3Z/Qj+jP5S/0kAbQGjAtEDywRKBRwFQwTRAvkA9v7d/OX6avmm+K/4fPm6+iL8tP1G/5QAeAHMAZMBJAG6AEYA2P+E/07/Wf+m//P/HQAwACcAEQD9/9P/j/9U/yz/Hf8q/0X/Zf+W/9f/HgBnAKYAzwDfANEAnwBKANf/Tv+z/hD+cP3d/GD8+vup+2z7TftU+4n78vuI/Eb9Jv4a/xMA9wChAfgB+wGvASsBigDW/yf/rP5+/qb+Gv+s/zMAqgD6APgAkgC6/33+GP2/+4H6gPnt+OP4ePmm+i782/2g/1UBxgLTA14EZgQpBNEDWgPZAmkCFwL+AR4CPgI/AiwCAwLGAYABHQGdACYAyv+J/2j/Xv9h/37/tP/y/y8AXQBtAFcAEwCa//L+Kv5S/Xf8rfsQ+7P6nfrK+h77gvvz+1/8q/zG/Kj8Vvzy+5j7S/sZ+xb7TPvG+4D8U/0h/uX+iv/6/yoACwCj/xb/g/7y/Xz9Pv1H/an9Xf49/ysAIAEGAsECPgNsA0oD+gKUAhMCfAHaADAAkP8C/3D+1f1C/cT8dPxk/Iz86Px3/S7+BP/m/68AQwGhAcsB1QHTAcABowGVAZ8BxgEDAjQCPwImAt0BVwGTAIj/Qf7h/Ir7TfpG+Zb4UviL+D/5SvqO+//8f/7l/xQB9wGNAvoCWAObA8gD7QMLBDQEZQR7BGUEMATkA5MDTgMIA8EChQJVAjICGQL1AbsBcQEZAbsAYQABAJz/Nf/N/mn+Df63/Wj9Kf0G/Qv9RP2t/UP+/f7O/7EAlwFrAh0DqAMMBFgEmATMBPkELQVuBcMFJQaBBsQG8Ab/BucGpwY5BqAF8gRABI8D7AJkAgACyQG/AdIB9wEpAl4CiAKeApYCcAI7AgACugFqARABrgBMAO7/kP8z/+T+sP6u/uz+ZP8NANcArQF/AjIDmQOZAywDWgJIARgA1P6Z/Zf87fut+9b7PPy9/GL9Hv7Z/oj/FAB2AM0AJQFoAYcBaAH4AEUAWf8w/tr8afv9+c34A/ik97H3Ffi9+LL57PpO/Mb9Qv+0AC4CqwMEBRMGqQahBv8FzQQUA/MAg/7y+5X5p/c49kn1sPRJ9Cr0TPSO9OL0M/V+9fL1pfZy90D45fg/+V75TfkD+ZH4Bfh+9z33bvcP+Bf5XPq5+zP9uP4dAEwBMALIAj8DrgMDBDsEUQQ+BBUE2gN4A+0CRAKOAesAcwAiAPf/8/8OAE4ArgAZAYMB6gFQAsICSQPZA2sE+QR6BfEFWganBtEG1ga1BnUGGwaoBSQFmgQXBLMDhQOpAzQEKAV8BhcI3Am1C3wN9Q75D3cQcRANEG0Pig53DVgMQAtKCnsJsQjfByIHkAZFBlsGwQZtB2QIlgnpCjYMNQ2zDa8NLw1XDEwLDQqyCHIHbwa9BV8FJAXvBNsE8AQ0Ba8FSQb1BscHtQiiCWgKxwqRCs0JhwjbBvAE0wKsAMj+WP1v/Az8+vsQ/GH84vx2/RL+nP4P/5v/UwAbAeIBhwLtAiMDLAP1AoAC0gH4ABkAU/+g/v79Xf2u/AD8V/un+vP5OfmB+Ob3ffdE90L3effl94v4ZPlY+lH7Ofzz/F/9Zv3+/Cr8Bfuq+Sf4nvY99Sj0bvMR8+zy5fIH807zp/MN9G30xPQw9b31Vvbm9lL3gPd/91j3DPet9kn2/PX89Wv2Qvdw+Mf5E/tF/DP9l/1L/UL8ifpu+DX28fPZ8TzwSe8g77nvvPDj8SbzV/Qy9ZX1W/WO9JDzpvLS8TfxA/FI8SryofNR9fv2mPgD+hz70Pv6+5z7/PpH+oX50vhJ+Pr3Bvh0+BP5yvmi+pj7rPzk/SX/agDHAT8DvQQrBmAHPwjQCB4JMQkiCfwI3Qj+CIIJbQq1Cy0Nqw4sEJURtRJxE7UThRMYE5QS9BFJEakQIBDGD58Pgg9ZDzAPBw/kDs8OtQ6ODmwOTQ4jDuANZA2ZDI4LTwr0CJsHWwZXBcwE4gSdBe4GoQh/CnUMUw7MD7EQ5xB1EJ4Pmw5sDS8MGAtFCtQJxgnTCc0Jxgm1CZQJaAkVCZ0INQj3B90H6wcRCEIIkwgHCYwJHQq2ClIL/gu9DIINRQ7+DqEPJhCEEKcQgxAZEG4Pkg6YDY8MjQu2CiEK1wnRCfMJIgpXCnsKZgoECkgJPAgLB9kFqgSRA60CDQLDAcoB8wEdAkQCVwJAAvQBXAF3AGj/Rf4J/b77avoP+cD3g/ZF9QL0x/Kd8Znwyu8o767uX+4x7hvuDO7k7YvtAO1H7HLrkuql6bfo3ecl55fmLubQ5Wnl/uSM5AvkeePP4g7iTeGa4Pffat/33qDecN5p3oLet94J33Xf/t+k4F7hKuIH4/Hj4OTK5aHmWefx52zozugf6WTpqOkA6nvqJOsG7CPtgO418FTy8PQX+Lv7y/8rBLAILg1lEfsUsBd7GWkauxq4GnoaSBqUGqcbnx1uIKgj8yZTKpYtbDCoMho0vjT/NBw1/DSkNBk0UzN+MqAxeDDtLhIt9SrCKJ8meiRWIk0gaR65HEgbAxrgGOYXDhdSFqcV6xT6E60S5RCiDvAL7QjBBYUCav++/LP6Wfmn+GD4Tfhv+KX4tPh7+OD35fbS9dX04vMC80byrPFO8SzxC/HK8G3w6+9K75Dure2k7Jnro+rR6Tnp5+jm6EPp/en46iDsZ+2x7uHv4fCj8Sryl/IC823z5/OI9F71efbZ91759Pqm/HP+XQBoAoMEpgbfCCsLew2+D9YRqRM9FZMWshelGG8ZHBrMGpAbbxxnHWceXh9YIFQhTSJBIyQk8CSxJWMm9CZTJ2InDSdZJk4l+iNyIsQgCh90HSAcFRtPGqwZDRl0GMwX9RbaFW8UuRLlEBQPQg18C9QJUQgFB+8F6wTjA9kCxQGkAHb/Lv7O/HD7Jvry+OH3+vY/9rr1avU79R/1D/X/9OP0svRl9P7zkPMs89fynPKK8qry//KC8xT0m/QM9VH1TfXx9Db0J/Pu8bPwiu+Y7hHuFO6q7sTvIfGD8s/zzPQq9bn0ZPNA8azu/+tW6fbmR+WG5NjkL+YX6C3qZex87hfwAPEC8Sbw4e6L7R7sv+qh6djol+jb6Dzpe+mi6Z/paukI6U7oO+cQ5u3k0OPC4rbhouCk38Xe790f3Vrco9sV273aktqM2qva4tor23nbrtu124/bQNva2nLaCtqy2YbZl9ns2X7aMNvo26XcV93q3VDee95r3jve/t2u3VLd7tyH3C3c6tu0243biNu12y/cCN023rDfZeE74xvl3+ZN6Dzpp+mX6Tnpuugm6KXneOfJ56/oKer96wDuP/Cr8in1rvcf+nn87P6PAU4EHgfqCZ0MTA8AEqoUURcDGtUc+R+KI3ontSsSMGA0hzhaPIs/60FtQx9ERkQkRM1Dd0N3QwFENUULRy1JVkuDTY5POlFjUuRSvVJCUqtR5lD/TwBP6U3eTOdLzUp7SQNIcEblRHxDJkLfQLw/vj7pPTo9ljzrOz87kzruOVc5vzgdOHI3uDbzNSQ1SDRjM38yqzH+MIgwSDA5ME4weDCzMPUwJjE1MRgxxzBOMK8v2i7ELWAspSqYKEAmmiOvIJEdVRojFxYUMRFxDsgLIQl9BtAD+QDp/Zr6FPd68+nvX+zm6I7lXuJm36rcD9qH1xjVwdKF0GjOWsxSylbIX8ZgxEzCB8CAvb26xbertIOxYK5eq6yobaarpGmjjqICos6h5aEuopmiFaOYozqk/6TJpYKmCadFp0CnAaeMpvSlUaXHpJqk9qTbpTun56isqoGsQa6or4yw2bCWsAawX6+brtKtKK2zrJWs2axNrdytna6cr+uwnLKVtMe2O7nhu5q+O8F8wyfFQ8bcxhnHK8cixy/HqsfJyJnKC83Nz5XSX9X/1yvavtuc3NDcwty/3M/cIN3s3VHfeeFe5KPnB+uD7u/xHvX29036HPyp/R7/bgCkAcgC2APxBBgGHAfpB44IFAmVCSoKyApwCzsMMw1hDs0PaBEqExgVLxdoGbcbBh44IDEi2iMsJSwm5iZtJ8wnGih/KBcp5inoKvQr7SzVLZ0uKy90L2wvGi+rLkEu3y2ULXQthi3eLX0uQS8WMPcw2DGqMmgzBTSCNP00jDUxNvk28TcfOZA6PzwTPvc/6EHcQ8dFoUdfSf5KkUwkTrRPRlHdUndUGFa6V0ZZqlreW9Rcf13YXdpdjl0NXXFcy1s2W9Vavlr2WnJbBVyEXNhc1Fw6XONawljpVaFSLE+kS0JIWkUgQ7VBEUHeQNVA8kAKQdtAQ0AdP3E9nzvpOU045zbbNTU1FzV6NQg2hTbsNh83BDeQNp41LzR8Mq0wxy7jLBMrZCnwJ7cmjiVbJB4jzCFfINEeDh0TG/kYyhZ8FAcSWQ9lDDoJ4QVbArf+BPtc9+nzzPAL7qjrk+m/5zHm4uS646rioeGZ4Jvfp96e3WXc2drf2H7Wu9Og0EPNu8kvxuXCDMCuvca7LrrCuIm3crZStRS0qLIRsYivL674rOSr9Kofqnap9ahwqM6nCqcVpvGkn6MVoleghJ61nAObj5l8mOeX4JdnmGKZuZplnFKeWqBmol+kQ6YsqCiqH6wCrsWvWrHLsh+0RrVGtjS3LrhouQa7/rxBv6/BHMR5xqHITcpTy6nLXsu1yurJCMk3yLnHs8dByF3Ju8ogzIvN287gz4XQr9Bn0P7Pss+Iz6TPLdA30efSQNUE2AzbXN7j4ZPlZOk27f/w4vTp+AH9HAEeBe4ImgwhEHQTlRaLGWUcSB9OInElqijlKwwvIDIXNdQ3RzpsPEk+AkCxQVdD/0S7RpNIlUrCTPxOMlFiU39VfVdWWfpaZ1ytXdVe2l+8YHhhC2KAYtxiGGM4Y0hjWGOAY9JjS2TlZJVlS2b/Zp1nAmgZaNtnTGeGZqBlmWR8Y2BiUWFYYHBfdV5OXflbbVqYWHdW/lM0UTtOL0saSBFFK0J2PwQ91TrPOOA2AzUsM0gxSi8kLdEqaCjyJWIjtSDjHeMawBd+FBMRgg3ZCSgGjwIn//L79Pgs9pbzPfEj7z/tjesK6rPolOes5urlPOWK5MDj3eLf4cbglt9P3vfcpNti2jbZI9gc1yDWPtWF1APUwtO80+fTQNS11DPVm9W+1XvV09TR05jSUdEG0NzOC864ze7Nos6Xz5bQl9F30v7SDdON0oXRPNDozo7NT8xVy7fKlcrsynvLF8zBzGbN7s1SznXOV84tzhTOCM4RzjPOac7LzlnP9s+T0DPR1dGD0kXTCtTM1I/VTtYB157XDdg/2DzYDdjF13zXQNcu12/XIdhK2ePazNzi3hzhXuN55U7nyejn6c7ql+s17KvsBO1D7YDtwe3x7Q/uNe6C7h7vK/Cf8Wvzg/XG9x/6ZPxL/qL/YwCZAHsAPADj/5D/h//o/8cAFgKCA8wE7QXBBhUH0AbYBTkESwJRAFz+nvxO+436f/oe+xf8LP1P/lT/AgA2AM7/zf6E/Sv8wvpk+Tb4SffC9qL2qfaz9s329PYs9373yvcK+Fr4v/gq+Yj5svmL+R75c/iO94H2UvUV9PbyFPJ28Rzx7vDa8O3wJvF28djxQPKp8iTztvNJ9Mv0HvUs9fz0lfT880LzcvKm8Qvxv/DE8BPxivEJ8o/yCPNO80/z/fJd8pzx3fAg8HLv6u6S7n7ure767k/vre8M8GTwtPDr8AXxGvE08U7xaPF68X/xgvGG8Yfxh/GM8aLx3vFM8ujyrPOL9HT1X/Y79+b3T/hw+E34//ee9yz3uvZl9j/2Vfar9ij3vvd4+Fb5V/p8+7j8A/5r/+wAdQLxA0EFTgYcB7IHHwh2CMMIIQm/CbkKEgzBDZsPeRFTEw4VehZ8FwYYHRj4F8IXgBdKF0UXhhcnGCgZWxqiGwIdch7nH1whtiLvIx8lTCZhJ00o8ig5KTAp4yhZKKkn6CY6JuAlBSarJssnOynSKogsPy64L88wcDGeMZIxdTE8MfIwrzB6MGwwgzCNMG4wMjDXL2Yv6y5VLqQt9CxTLMMrSyviKoEqMiryKbYpcykcKaEo9icQJ+sliyQAI1shph/3HWocExv7GSIZchjaF1sX8BaGFhcWlxUHFX0UCBSeEzwT3RJ6Eh0SyBFvERIRtRBeEB8QAxACEBQQMBBFEE4QOxD0D2gPlg6ADT8M5gp9CRQIyAaqBcYEHASWAyIDwwJzAiUC0gFtAfEAcQDy/2b/wv72/fb8yvt7+gv5ifcD9pP0YvOO8hby9PEM8kLyjvLZ8vbyyfJD8mXxUPAg78jtTey/6iHpi+cG5oDk++KQ4Vzghd8r30PfxN+h4L3hBONN5FPl5uX55ZPl2uT249/iqeGA4Hrfqt4N3mzdpdzI29Xaytmx2HjXJtbj1MrT3tIo0qTRTdE00VnRqdEY0prSG9OP0+rTI9Q71EDUQdRC1FLUhNTk1HnVQNYh1wnY/Njy2eHaxtuW3FHdC97Q3p7fdeBV4T3iOONQ5IDl0OZL6Pzp+etQ7vjw6PMN90z6kf2+AJ8DFAYYCLAJBAs8DGQNng4nEB8SlRR+F5oash3AIKAjHSYbKIMpYCr9KpYrMiz1LA8uly+nMTY09TaoOUA8kj5rQKxBNEIFQmZBjEB7P1E+OD1FPJ07RTsGO8I6izphOkk6TDpNOkU6TjpoOns6azoGOiQ5zjcONu4ziTHmLiEsdCkHJ+UkDiNfIb0fOh7YHIUbPxrxGJYXRBYCFbETNxJqECsOiAuQCFYF/QGd/mP7n/iG9h31WfT/89bz1PPR84HzuvJk8Ynve+1764bpvudS5lnl8eQQ5WHlp+Xd5eLlk+Xi5LHjC+I/4Ife+Ny+2wjb9Nqg2wjd5N794ETjkOWs53fpzOqq607s4uxa7cLtKu6Y7ifv3e+K8BrxofEt8tvyw/PS9P71Ufe++Dn6qvve/LH9Kf5P/kL+Iv7z/cv92f03/vT+EABhAcsCVgT6BacHVQnxCnMM+Q2KDxcRlBLrEwsV/BXEFlkXwhcHGDUYbxjNGFAZ+Bm6Gosbdhx7HY4eqx/KIOUhByMvJEglPyb6JmInfidXJ/kmfCbvJW8lLiVOJdMltybSJ/8oOypsK2UsCi1KLSMtxCxLLK4r9SotKlopkSjWJwonHiYjJSEkLCNXIpMh2CArIIIf0x4MHgQdpBvqGd4XkhUdE38Qxw0TC3kIBAa5A4MBVv9C/VD7g/nk92b2AfW784ryW/ES8ITulexM6rnn/uRG4qnfVt2Y26DaetoY2zrcoN0+3+PgQuIs44TjUOPg4nXiCuK94b3hHuL64kXkoeXK5rnnSehT6MXnguaT5E3i8N+S3Wfbptly2O/XGtin2F7ZM9r62n3bmtsy203aO9k42ELXd9b61dzVOdYM1wjY+9jh2aPaLNt322bb/tp82gratNmX2c7ZaNp+2w3d597o4AjjLuU95yTpzuo/7KHtFu+c8EHyGPQn9oL4KPv1/dIAxQPHBtkJ/AwZECgTMRYvGRIcyR4yITkj4yQ7Jk4nNCj+KMwp0SowLO8tBjBKMpM02Tb8OMU6FDzWPA899jy0PEQ8tzsqO6o6UzonOvo5tTlmORM5wziEOEA48DenN2Q3GDeyNg42ETXEMy8yYDBsLl0sRipSKJ0mKiXyI9AioSFkIAMfWx1YG+0YHxYcEwUQ3gy6CbIG1QM5Ad/+pPxw+kr4KvYL9Ozxv++D7VTrP+lB51rlhOO44QLgZt7c3GTbA9q+2KbXxNYP1n3VANWC1PfTSdNW0gnRZc97zXXLgcm6x1PGksWixYnGMMhEynLMkc5Q0DnRAtGNz/DMpskdxnTCAb9KvKC6N7oCu2+8Cr7Rv4bBzMJywzzDMsLqwMW/vL71vZW9q71yvuq/psFlwy7F7MaeyEnKwMv/zEPOq8820e/SytS81uLYQNu53Ubg5uKY5Wzoa+uI7r/xFfWF+A38pf87A8AGNQqXDeYQJhROF10aWB0+IA4jxiVcKMoqEi01LzUxEjPJNFg2wTcAORU6/TqwOy08dzyTPI08bzxCPBI87jvlO/k7KzxuPLg8BT1JPXI9dT1LPfU8hTwHPHo74zpLOrY5KjmmOBY4bTeuNtY14jTVM6gyXTEDMKQuRS3sK6EqZSk8KCEnAybUJIgjDSJMIDceyxsPGR0WEBP1D+YMCgp5B0QFaQPMAVUAB//W/az8ffs0+sr4VPfY9T/0dvJk8PftOus66P7kneEy3ufaAdiw1fvT2dIk0rPRgNFs0TjRv9Dtz8fOis1gzD3LKco8yXnI+se/x5XHYscyxwXH6sbwxgPHJcdux+jHmciFyaHK5sthzRTP/dAc02zV6NeQ2mHdUeBY42nmd+l07Ezv6/FB9Er2CviR+fP6PvyO/Qz/1ADvAlUF5geBCiMNtA8MEhMUuRUDFxoYHRkGGtwarhuCHGodah5iH0IgFSHfIa0iiiNnJEIlIyYIJ+wnxSh7KfwpTipyKnQqXyozKvkpxymnKZkplymJKVkpAil2KJ0nbiblJAsjBCHwHuEc9BpQGRAYQRfcFrcWqxasFpcWPRZ9FUEUiBJ/EEcO1ws8CYsGzQMeAYb+5vs3+ZX2GPTi8RLwm+527aLsDeyl60nruerM6YLo7OY35ZPjCuK/4PPfyd9O4HXh8OJ/5Bfmjeek6DrpK+l86HPnReb15J3jZeJi4bbgY+Ar4Ovfrt9w3y3f696M3gzejt0a3aHcE9xO2zja5Nhd16vV5NMY0mLQ/c4OzpvNn836zY3OW89R0EfRKdLo0onTOdQZ1SHWWtfS2Izaltzr3mLh4ONg5tjoPuuQ7bzvwvG787b1uffS+Qn8Z/76AMIDsQa/Ce4MPBCoEzAXyBpqHhciyiVwKfYsPjAyM801Dzj6OZY75DzsPck+jT9AQOlAgEEHQpVCP0MYRDJFgUb5R4pJFkt7TIVN6E1uTRRM6UkmRwhEpUA0PRc6iTemNWc0eDOXMsox8zDbL2UuaCzgKRgnOiQqIeMdVhpxFlUSDw57CZoEg/9V+k71n/BD7DvohuQY4f7dN9ug2CrWz9OP0YDPr83/y1nKqcjWxuTE18KkwFC+5LtwuRq3/bQes4CxGLDgru+tU60SrTatua2Urs6vXLEmsw614bZ7uNm5/7oAvPW8273Fvtq/McHUwr/EzMbfyAbLQc2Jz+HRN9SJ1u3Ybdv93ZHgE+Ny5brn8uke7EvugfDO8lT1Jvg++5H+/AFbBaEIrAtLDmIQ5hHkEpATHRSdFDwVOxbBF+MZlxyXH6UityWjKCcrHy1sLhMvYS+PL5ovnC+7LwkwqjCgMa0yrjOxNLQ1vTbUN9s4yjm+Ork7qjx/PQ0+Nz4JPo490DznO906zjnxOGg4NjhTOJM40TgHOR455DhBOCM3jjW4M8cxuC+eLZQrpCnhJ0kmpyTZIt4gpB4aHD0Z/BVhEp0O1gocB48DTgBv/Qb7EPlh99j1afT28ljxd+8+7a3q8ecq5VPie9+13A3am9do1VjTY9GizybOD810zEfMfMwRzfLNBs8r0B7RstHn0cnRgtFA0Q3RC9F/0Y7SQ9SM1hnZpNsi3mTgJuJG46rjY+PT4kvi4uHX4Xvi++N45uHpxO3B8br1Y/lW/FX+Mv/6/iv+KP3/+/P6Xfpx+mb7M/1Z/38BqQOvBWAHpghOCV4JRAlFCV4JpwkxCvwKLgzCDWMP2xAcEgQTfBN7E+USxhFkEPgOoA2SDAgMJwwKDaAOmBCrErsUiRa+FyMYlBceFiEU7RGLDy0NHwuHCZAIMQgACLIHSAejBpkFGwQFAmP/nvz7+Yv3dvXk8+ryrPIi8/bz6vTm9bb2IvcH90D21PQS8zfxTu+D7QzsCeud6sLqJuuR6wTsZ+yc7JbsNex566rq7+lH6cDoXugi6Cvoeujq6Gfp9emP6kHrD+zk7LXtie5W7w/wovDq8NLwZPCu78ju1+3z7EbsFeyM7LPtf++38SP0s/Y3+V77+fzx/U3+X/5m/mX+ff7r/sn/OAEuA1QFbAd1CVUL6wwoDugOLA86DzwPNA8zD0cPdA/UD2AQ4xA5EVcRJxGYEKAPMQ5WDEUKKAgXBjsEvwLCAVoBgQEDArQChQNRBOQEHQXgBDAERwNPAj8BKwAr/0r+ov01/c38UfzO+0f7xvpb+vL5i/lD+Sb5M/lq+br5FvqJ+hL7rPtW/AT9rv1T/vD+gP8FAIAA8wBmAeIBdAIlA/UD4ATaBdUG0AfACJcJTgrmCmgL8QudDHgNnQ4qEDUSxxTXF0Qb6R65IpEmQyqsLbUwVDOpNcY3mjkmO3E8fD1UPvg+Sz8/P+k+WT6uPQA9STyDO7Q61DnhOM83ezbSNNUyizANLnErsCjPJd4i4h/fHNIZnBYnE28PaAsFB0QCJf239ybynuw/5zziz90k2k/XT9X20xnTq9KC0lzSDNJv0XrQWM8gzqzM7MrVyFfGicN0wAC9N7lEtV6x3K0Eq9CoNacVpj+lrqQ3pH+jUqKloIaeTpxCmlyYt5aGleKU7pSrlcuWHJirmWqbUp1ln4OhqqMMpsKozKsvr+ay57ZAu+u/xMSyyafOjdNW2PbcWuF85WzpMu3P8Ez0s/cN+2f+yAEoBYkI/guYD2sTiBfqG4kgXSVQKk4vMzTGOOE8fECaQ1tG3kgjSz1NWU+QUfJTflYHWXBbyl0UYE1id2R4ZkJo42lUa3ZsKW01bXVs8mq9aPRlwWJAX6JbQFhTVelS+lBET4xNzUvgSXxHfUTLQHY83zdQM84ugSqfJkQjkyCEHroc9BonGSwX1RQMEq8OxwqpBpcCoP70+sf3OPVr81vyuvFQ8RXx5vCa8BbwOe8B7rTsfetT6kXpX+ij5y7nAOfn5srmseaZ5pDmo+a+5uPmK+ej503oMOlC6nvr4Oxs7g3wtPFN88H09/Xc9mP3hPdG9672uvVt9Nby+/Df7n/sx+mo5izjVN8j26XW4NHpzOfH/8JRvgO6PrYes62w4q6QrYesoqueqiKp76b0oz+gIJzll6CTj48bjH+J34cuh/2G94Yih1aHV4cJh0OGDIXTg+GCNoLugSiC7oJshKeGUolBjHSP2ZJnlh2a152MoWSlbqmirfqxZrbUula/68OByBXNrNFN1hLbDuA25YLq5+9T9cP6JwBiBWAKGA+FE7UXsRtsH+EiECb4KKUrHS5gMHcyeDR8Nqo4HDvQPblAwUPERrFJX0yOThdQ9VA5USJR71C0UKFQBlERUtVTP1bxWJZbGl4+YKphKGKPYehfll3pWuZXvVSyUepOlUyySuNI60bZRJ1CJkByPVg61jYwM4cvyiv1J+8joR8sG6AW7hEiDU0IiQMN/wT7dPdm9Nrxy+9S7nntOu2S7Xru5e/Y8UP0/vbc+aH8H/9SAUQDEQXhBsUI7gquDTgRkhWmGh4gqyVCK60wmzXYOTc9rz+MQf1C6UNXRFRE30MdQxdCmkCYPi48dzmnNukzMTGCLu0rcSkRJ8MkWyK+H/Ac+RnxFu0T2xCzDXoKLgfeA5EAP/3u+bf2t/Mc8QfveO1p7M3rjeup6w7slOwk7bTtRO727t/v9fA28qzzVPU290r5bPuD/Yz/fQFRAwkFmQYCCFsJtwoiDLANdQ98EccTSBbZGFEblh15H78gQCHxIOAfTB5xHGcaZhjBFqsVQxWAFRIWtxZtFw0YVxgoGFsX8BU5FGcSaxBODhsMzwmQB2IFEQOJAN39Gvtk+Nf1XvPu8JDuN+za6Wfnq+SK4QveQNpP1mPSis7myrLHE8UYw73BzcAbwKS/S7/evke+cL1mvGq7srpEuj+6zroDvPW9lcCZw8XGBsozzRbQkdKG1PrVNNds2K/ZJdsE3WvfceIL5ubpvu2H8RP1Kviq+nH8gv0v/q/+B/9U/77/VwBCAXoCtwPKBLMFXAayBq4GNgZRBT4EJgMTAh0BWADO/5T/pf/N/+X/3/+Z//L+2f0//DX6/PfN9cfzHvIa8efwp/FY87v1nfj8+7X/lgN+B0cL6A6XEnAWURosHuwhfCXvKEssby9YMh814DfdOkE+/UEDRjVKaU6VUplWK1ohXXBfHWFlYnhjUWQDZbdlf2ZzZ5Fon2l1ahlrgGuda21r2mrhaatoUGfMZSVkV2JfYE5eJlzUWVFXnVS5Ua9Ohks4SMZEO0GaPeo5LjZmMpMuuyrkJg8jQB97G8IXGxSKEBENtAl1BlQDVQB4/bz6IPie9S7zw/BQ7sbrDukS5sLiH9842ynXGdMiz3PLTMjZxSHEFMN1wgPCpsEiwRzAXL7Su5O4C7WZsVaui6umqeOobqk1q7itkLCts8i2grmhu+u8Yr2BvZ+9sr3evVK+JL+KwInCv8T5xk7JvstazjfRKtQl11Tau91E4dfkM+gs69PtM/BY8mD0T/Y++Gz6//z8/10D9AaaClUOFxK9FTcZcxxyH2QiaCV1KJIrxi4MMm816ThKPHQ/V0LbROxGfkiBSftJEErgSX5JD0m8SKNI1UhOSeNJb0rsSj5LPEvPSudJj0gCR3BF3ENfQhlBG0B4PyY/5z6MPgc+Nz34OzM60jfaNIUxAS5bKrkmRiMeIF8dCBvjGMsWxRS+EqAQYA7pCzsJiQbwA2gB9v6X/Eb6FvgK9gb0/vH27+/t+OsZ6kXocead5L7izOC93nXc59ka1xvUB9H/zRrLeshYxtbE/8PKwwvElcRYxSvGzcYTx+PGPsZaxWDERMMSwujA0b/svj6+nb36vHK8HLwdvJK8aL2SvhTA18HDw7PFWseEyC7JXMkzydvIS8iZx/jGhMZTxmrGnsbWxjDHvMeJyKnJCsuhzIPOp9D30lPVftdQ2dTaGdxF3Ybe69+e4ezjAufo6o3vofTd+S//ZAQpCU8NshBWE48VnxeFGWUbdR3RH58i3SU8KYcsyy/6Mgk2+DiiOwQ+VECnQu9EJ0c0Sf5KmkwKTjlPJVDLUC1RZFGAUXZRQlHbUDZQWE9ATuJMOEtESQVHjETkQQ0/DTzsOK41YTIOL7grZigoJQkiGh9qHPcZwBe8Fd8THRJjEJAOjQxSCt0HPgWBAqH/o/yX+YX2ePNx8F7tOuoV5//jCeFH3rTbUtkp1zfVfNPw0X3QE8+xzVjMD8vbya3IfMdExv3EpcM7wrPACL89vVe7Y7lst3W1hrOpsemvXK4YrTasyKvQq0usLK1ers+vYLHgsi20PLURts62kLdTuCm5MrqBuye9Jr9WwaHDG8bIyLDL3s4/0srVjdmC3ZfhtuWz6XDt9vBQ9Jf36fpU/vgBDQa3CvgPwxXeGxIiTyhqLiI0TjnVPbxBRkWoSOZLHU+BUidWK1qDXuJiD2cGa6xu3HGFdId25XfdeJp5HXp3er1683o0e357nntze/t6JXrjeDJ3/XRIcjtv8GtsaMJk/2AqXVRZe1V9UUZNzkgHROA+VDleMw4tliYgIMcZtRMeDiMJ0gQfAdH9rvqc92P0t/Bn7F/nsuG929LVCtCnygrGbcLyv4y+x71Gvf68srwNvOK6/7hwtqmzA7GArkysn6qVqVup66nYqtmr6azmra2uMK9Cr+iuda4erumt8a1Krv2uKbDGsZKzXLUYt6e47LnZule7brteu1a7a7vDu4y84L3Zv23CXcVyyJ/Lu86Q0QHU8tVs17nYEdp72xzdIt+n4cbkeeh07H7wk/SS+Fj80P/aAnQF3Qc7CowM4g5LEcwTfRZYGSoc0R5LIYYjeSUiJ28oYiklKtIqdCsgLOcs1S3/Lmow/jGuM3w1YjdZOVs7Vj0/PxxB5UKCRNdFwUYjRwVHc0aBRVJEAkO/QdhAgUDHQKNB4EJNROlFj0cBSRhKu0rsSvBK9ErmSsxKtkqjSqpKy0rNSpJKIUp6SalIvEeeRkxF30NgQtVARj+oPfo7RzqRONQ2ETVBM2Exbi9lLUQrCCm0JkYkvCESH0QcUBk6FgYTuA9aDPUImQVbAkn/Zfyp+QX3ZvTE8Q3vIezv6HXlv+Hx3TLajtYk0yPQpc26y1vKWcmMyOvHWMenxr7Fi8QVw5XBOsAJvxu+mL2UvSS+Rb+7wFzCJ8QExtvHnckxy5TM9c1vz/7Qq9J91HTWn9j62l3dsd/w4Q7kA+bM51XpnOqx657sYO367Wruru7V7uTu2+6/7p3uhe6P7sruMu++713w+PB78cjxq/EE8dDvGu4P7Nvpj+dS5WTj7eEC4Z3gguCD4J/gvuC04Gzgy9/T3sDdvNy828ra8Nkx2anYYdg32CHYMNhy2ATZ/NlM2+vc3N4Q4X3jDOaO6OPqBe3z7rzwcfIF9Hn14PZD+K35Jvue/BX+pv9pAYEDBwbqCBkMew/kEjEWKRlxG80cNB24HJ8bMBqCGNEWhxXkFAYV5RUbF1gYnxnFGoYbvxtJGywa1BiMF04WNhViFN0T1RNNFPwUthWFFl0XQxg9GSkaABvmG+cc+R0YHykgFyHvIawiQSOnI9oj1yOsI2UjACOEIvchZCHgIIIgYiCTIB4hBiJGI9UksSbLKAgrVS2nL/kxVDS6NhQ5UDtcPSc/tEAAQgRDxENORLVEIUWuRVdGE0fFR1JIt0jfSKRI8Ee8Rg1FDkPiQIk+EjyXOSU3zTSSMlAw7y1zK9IoASb9IrAfFRw+GC0U1Q8sCx4GoADB+pD0G+5859PgSNoe1IfOlMlNxaLBg778uwi6irhut5+2DLbCtba1srWAtdq0jLOcsRuvJKztqKKlkKI9oACf5p7cn32haaOZpcynjKmXqr6qB6rvqM2ni6ZApROkEKNqoiWi36FjocigDKBFn42ewp3mnDGcvJuQm7qbKZzUnNGdI5+9oJeio6TRphmpcqvLrRywZLKatLW2q7hyugW8a72tvte/AMFHwtPD4MWXyP3LC9Ce1I3Zyd4q5GbpUO7Y8gP3E/s5/3ADzAd3DIAR+hbXHMQihCgQLkYzBTg6PMg/s0I9RZZHzkkNTHtONVFaVOxXtFuOX3hjX2cla7puAHLxdLN3V3rEfOx+/3//f/9//3//f/9//3//f/9//3//f/9/3H/Gf8x/8H//f/9//3//f/9//3//f/9//3//f/9//3//f/9/bX/bfdd7X3lpdvZyDG+zagFmEGECXO9W21G/TIJHCEJGPCM2bi8SKBAgfxenDsoFAv2G9KTsieVW3wPaSdXn0NLM2MixxDHAN7vItTmwzKp7pWaguZuLlwKUIZGejlKMT4qWiDKHMIZyhe6EyYQLhaWFh4aFh4CIgYmLipyLu4zijRSPbJD5kbyTtpXXlxeahpwvnxiiSqW9qGqsUbBntJu417z1wNrEiMgEzGbPyNIw1rXZf92k4Sfm+erm77z0bPnS/bkBAAWSB3QJ3woDDOgMrw2IDpEP6hCUElwUIhbyF8UZkRtUHe8eXCC2IQQjKCQGJXElRCWQJGEjwyHVH64deRuGGQoYDReHFkYWGhYEFukVjxXWFKsTFRJdELUOFw2TC0IKLQlrCPcHjgcIB10GdwVEBLwCzAB6/vv7e/kM99T0/PKc8cnwfPB88JnwxPDS8Izw0O+K7sbsyurR6OnmOOX340bjQ+Pj49vk7uUY5zfoHum26d3pleki6bHoQOji56vno+fs54roUuks6ijrSOyd7TTv+vDp8hL1dfcF+rP8Wf/bATkEcgaFCHkKQAzZDVEPrxD6ETkTaBSOFcgWMhjwGR4cuB6wIe8kUyjCKw4v8DE0NNE1zzZkN8U39jcZOGw4FDkpOqk7UD3sPoxAIUKYQ+hE9EW1RltH+0eCSOZIDknjSHNIvkesRjdFXEMcQY0+wDuyOGs18TFPLp4q+CZzIyMgDx04GpcXIRXKEnwQEg5xC5EIdQU2Auj+gfsE+ID0+/CG7SbqzeZ440HgQt2e2nDYsNZT1UzUftPZ0jfSW9Ea0G/OZMwqyu7HtsWhw+vBtMAVwA/AasACweLBBcNZxNrFascByb/Krcyvzq/QhtIQ1FXVU9b71lHXUtcG14/WBdZq1cLUBdQv017Sp9Ea0cvQudDh0EjR5dGm0nPTG9SA1KLUjNRc1DXUGNQZ1GPUD9Up1rHXftlx25Td499S4t/kducQ6sjspu+d8qP1pfiS+3H+RAECBK0GSAnYC3QOKxH6E+AW0hnHHMUfyyLQJdAoyCu5LrAxszS+N8063D3mQOpD6EbSSaNMUU/VUSlURlYmWMZZJltHXCpd0l1GXolen16NXlBe611oXc5cKFx/W9NaJFpxWbVY6lcFV/RVqlQnU25RjU+STX5LWUk0RxRF/ELiQKo+OjyJOYQ2EDMhL7IqziWfIEob5xWfEKcLIwcmA6z/hvyK+bD21/PK8Gntoul95TzhD9342A3Vc9E7znvLLskTx//E78LOwIm+F7xguWe2YbNwsJ2tAauwqLemLKUNpDGjfKLmoV6hzqAsoGqfj57JnTud7Zz4nHaddJ7/nwqiXaTLpj6pi6t/rfmu5a9KsGOwY7BbsHaw8LDxsZCzx7VMuOe6lb00wJTCnMQrxkPHKMgHydbJosp4y1nMZc2fztvPBdEo0krTf9TX1UTXw9hr2kDcQ95z4LziE+WA5wrqtuyM74vytPUU+bD8ggCDBJ8IwAzcEOIUuhhSHKQfsCKJJUMo5CqBLTcwGDMuNnc52Tw9QKVDB0dRSnlNclA8U/FVn1g7W8RdNGCBYrdk1WbNaJpqQGzAbSlvhHDJcfZyBnTzdLx1XnbLdv1283axdkB2q3XxdBp0L3M2cjlxPHA+bz9uSW1kbJhr62pZatppamn6aHxo2WfyZq5lA2TvYXhfqlx8WfVVIlIOTsJJQEV8QHQ7PTbqMJErSyYYIf4bCBc5EpMNFAmoBEMA5PuL9z3z+e6t6kTmruHb3M7XjNIezZTHAMJ/vEO3a7L9rfKpKKaBovqegJvqlySUKJADjPGHI4SjgACAAIAAgACAAIAAgACAAIAAgACAAIAAgACAAIAVgLWAV4ECgrSCfINWhBaFpYUKhkaGZoZ4hnaGaYZyhqmGJocCiFCJH4t8jWOQv5N2l3Gbip+Po1in2KoQriSxNLQ7t0y6ir0Gwc3E1MjkzNTQqtRY2NLbFt8T4s/kfudB6ibtR/C684z30vuHAIcFsgr4DzoVUhomH58jvSejK20vEjOeNiI6pT03QdlEZkjLSxVPS1J4ValYzFvbXt9hz2SiZ0VqlGx4bvZvFXHqcY1yBHNjc9Jza3Q6dUJ2bHemePx5bHvvfH5+/3//f/9//3//f/9//3//f/9//3//f5F9hnpid310DXIhcK9uem1KbB5r1GkraABmOmPfX0FcmVjdVB1Rc03mSZZGgUNnQCI9tzkaNkoyTi4SKp0lICG7HIEYjhT4EMwNFgvLCLcGrwSTAjAAR/2w+Vn1U/Dm6lXlu99X2oPVeNFYzhrMZcruyLXHjsY2xYvDZcHIvhe8kLkrt/q0FrOCsWOwtK8lr4iu2q0JrRCs8aqNqeanLqaDpPOilqF6oKqfOp8qn1Wfo58MoHig1KAPoRuh+6DToLqgs6DKoA6hh6FFokWjaKSapd6mLqiEqeGqN6yDrdiuP7C0sTezw7RStu23mblPuxO96b7WwOrCLsWexzbK7sy6z5XSc9U/2Ovac93b3zLiieTh5kTpxuty7lLxZfSZ9+T6Sv7LAWEFCwm9DG8QJhTcF4EbAx9GIjcl2CcvKkcsMy7/L8IxpzPJNS840zqXPV5AKEPkRXJIwEq/THJO/U96UeFSNlSBVcBW/1c6WU9aJ1vAWw9cEFzDWx5bKloCWcBXdVY8VTJUalPwUr5StlK5UrlSmFIqUlJRAFA2Th5M2EliR8tEL0KdPyc9zDpkONc1LzNsMJEtpSqZJ2okMyH9HcQahBcvFLoQNA2mCRUGkQIh/9X7yfgP9qbzhPGQ767t0eve6ajnF+Ui4tLeUdvH10LU5NDizVvLY8n1x93G8MUuxX/EwMPcwr3BZMAIv8y9qryqu9m6N7rbuce51rn1uSu6dbrfunG7G7zYvLi9u77fvx/Ba8K1wwHFT8aax+TIJ8pey5DMvM3hzgDQFNEc0hzTG9Qc1SjWQddt2LHZFduh3F3eUeCC4urkg+c96gPtwO9V8pr0cfbV9834efn5+V36xvps+3T87P3P/+sBFgRTBo4IoAp2DPsNLw9HEGMReRKOE6YUvxXuFjcYehmqGs4b6xwUHlUfoiD3IVsjyyRFJsMnMCmAKrcr1SzlLfAu9S/3MAQyIDNLNHs1mTaRN1k43zgLOdI4NDhCNyY2CjUONGIzRzPmM0s1Zjf2Obc8iz8wQkVEikXfRUxFKUTAQhFBST+yPXQ8tjt2O1E7CTutOjE6gjmgOGI3xTUONFsynzDVLuUstiplKPglVyODIHsdRhoFF80TmxBxDVMKQQdOBIUB6P5+/Ef6Qfhu9sf0QPPG8T7wlO7E7Mvqs+iE5jnk1eFm3/Tchdof2LfVStPt0LHOrMzyyn7JTchcx53GB8aExfDEMMRBwyfC+8DVv7C+l72ivN67VrsLu+K6y7rSuvm6Rbu8u1G8Ab3XvdO+7L8WwTvCSsNGxDXFHcYKx/7HBMkzypjLMs33zszQltJN1NzVJdcX2KvY7Nj/2AzZINle2fHZ99qF3JneDOG846nmv+nc7Ozv0/KK9S74yvpE/Yn/ggEdA2oEdAU5Bs0GTgfqB+oIhQq6DH0PoxL8FXwZ+RwjIMoi3SRmJrInAClMKrMrZi18LwsyBDUMON06az2MPxFB5UHqQTBBEUDaPqg9vjxoPNc8Lz5lQBlD+kXySMFLDk6gT0dQBVA7Ty1Oz0w7S5ZJ80eCRktFBkSRQhFBmz9YPm09uTwsPNg7qTuFO0A7fjoDOdU2AzS6MDEtbimYJQEi2x48HCEaQRhnFqMU6BIXEScP+gyQCisI7QXJA8IBzP/c/Qn8Vvqj+OP2GPU/82vxqe/v7T/spuor6d3nyeb15WjlIuUd5UbljOXZ5RLmEOa45QHl7uOZ4h3hf9/T3T/c29q32dfYG9hv1+XWf9Y91ibWKtZI1pfWG9fH14nYRNng2WHaydoV207bb9t724fbn9vF2/fbJtxL3HDcoNzf3DXdn90b3rHeX98i4PLgvuF54iXjw+NZ5O7kfOUD5onmEeec5yvot+g76b7pROrU6nXrIuza7J3tZu4z7wDwwPBu8QrymPIj87bzVPQG9dn11Pb590D5l/ro+yr9TP4y/87/GAATANn/gf8T/6H+S/4j/jf+if7+/oT/IADPAIQBPALpAogDLATcBIoFKwarBvwGJwc0ByYHCwfvBukGIQeyB5kIzAkpC44M7w0uDxgQkBCGEAAQLg83Dh0N+AvxCh4KlglbCT8JJwkdCRwJHQkgCRIJ8AjZCNsI6Aj4CPYIzwiPCDcIvgcnB3EGowXRBAsETAOTAtYBCwE4AF//ef6G/Yb8f/uD+qH53vhD+Nn3pveu9/D3XPji+Hj5DvqL+uL6B/v6+sv6h/ot+sf5Y/kM+c34p/iL+HL4afh4+Kv4C/mQ+Tb6/frf+838tf1z/vH+Lf8p//b+o/4y/qz9Lv3H/IL8ZPxY/Ff8cPyt/Bf9t/1//mX/agB+AYoCbgP5AwgEnwPOArgBjABe/1z+0/3x/cX+QQAfAh8ENgY2CNUJ6ApQCxULjAr1CU4JuAhiCGUI5gjpCSQLbAzRDUoP1BByEgMUexUBF5sYNRq8GwQd7x2LHt8e7B7EHm8eBx7AHb0dAB6CHiMfwh9jIPggXSF/IVQh3iBJILUfHR+HHgIekR1FHSEdBx3nHMUcnhx3HFMcJBzmG6YbZhsgG9EaaxrlGUMZhRiqF7QWoxV7FEgTEhLcEKgPdw5KDSsMIgs2Cm0JwggyCLMHOge2BhQGMwX+A3MCnACQ/mz8PPoc+Df2qvSC87nyKvKy8VTx/PCL8O/vEu/x7a7sXOvr6VfomOao5JjiceAn3sHbVNn71uHUKdPR0dTQI9Coz17PMs/zzofO5s0VzTnMccu0ygzKjslAyTLJYcmnye3JOMqGytXKKst6y8bLKMyxzGbNVc6Bz+3QndKI1JLWodif2mzc493p3njfm9953z7f/97o3jffFuCa4b/jT+Ya6SHsSO9h8lD19/dS+pX83f4SAS8DKQX0BqgISwrDCw4NRA59D+8QvxLiFE8X9hm5HJIfaCICJT4nEimDKr0r4izqLeEu4C/0MC0yijPgNBM2LDcmOP84vTlOOrA6/jpCO3w7rjvQO9074jvjO9070TvDO7Y7ujvXOws8WjzBPEA92D2JPkw/HEDwQMJBiUI7Q8RDEEQIRJpDx0KYQSBAfD7APBE7pTmhOA444TfuNwg4JjgjOMM35DZyNXYzMDHWLmYs+ym/J8YlKyTqIsYhkiBSH/cdbRyyGqwYXxb/E6wRaw9MDVsLnAkmCPkG9QUGBSkEVAN/AqUBtACk/4T+Vf0N/KL6Bvkq9xb1zPJK8JftverM5+TkGuJx3+fccdoB2JvVONPF0DnOl8voyFHG7sPGwey/dr5vvdy8srzFvOq8Cb33vIC8gLvoub+3PLWUstqvQa0Sq3qplahcqImo46htqQmqh6rQqsiqeqo3qjiqfKoYqySspK2yrz+y/rS0t0q6lbxnvqm/QMA6wOO/fL8ovym/0L9UwdTDRMdKy5fPGtSY2LrcSuAc4zHl6+aL6APqZuvV7FvuIfAp8iT06PWK9xD5kPoj/K79Lv/LAJMCiASpBtgIBAs6DX4PzREpFIQW1BgdG1sdgx+PIW4jEiV2JpAnVSjDKNoooigvKJkn9yZvJi4mVibyJvwnWCnlKposVS7hLxsx9TF1Ms4yKDN9M9wzYDQVNQk2MjdRODo56DlFOjw6wznJOFM3ljW7M9gxEDCMLmktvSyILJosziwdLWcthS1cLdMs6ivQKqMpVijrJmol0iM5IqUg+x4xHV8blhn+F7IWpxXUFDYUuRNTE+8SWBJwETcQtw4YDX4L7wmACF8HogZUBmkGpgbaBvkG4wZoBm8F4QPDAVD/ufwF+lj33PSu8uzwme+D7onttewA7F3ryOop6n3p5+h06BPotOc755HmxeXg5N/jz+K+4cPgEODH3+TfYOAb4fXh6+Ln477kVuWe5ZflZOUh5cDkRuS94ybjl+IY4pbhDuGV4ELgNuCK4DHhIeJK45Lk4uUU5+bnLOjh5xLn8OWs5FLjB+IR4Zngt+Bo4W7imePz5Gzm5OdN6YfqiuuF7IzthO5f7wDwT/Bj8Efw8+937+nube5G7qPugu/X8IHyV/RS9lP4G/qC+3f8/fxK/Yj9qP21/cX94P0h/ov+8/5G/5n/9f9wACEB9AHhAvIDIQVgBp0HrQhxCeoJGgoRCuAJggn9CGoI1wdSB98GcAYBBqgFeAWHBegFkQZ3B5MI0AkXC0IMFw1sDUENogy7C7oKrgm+CDAILQjECOkJUgu/DCoOaw9HEJsQThBpDz8OEw3qC+sKSQodCogKgwu+DP8NPQ9WECARhhFnEcoQ+A8kD1QOpw07DSINeQ06DiUPDRDsEKsRLhJpEjsSoRHHEMYPlQ47DbgLCwpQCJMGygT7AkIBvf+d/gf+9P1e/jb/XgDHAUsDpgSpBUcGgQaABmcGKQbRBX4FPQUfBR0FAwWxBDIEiQO7AtIBwACE/0P+Df3q++P69Pkc+W748Pef9333ife/9yH4r/hf+Sz6D/v8++P8s/1R/qv+vf6I/hf+ev25/Ov7NPus+l36Q/pG+lH6a/qN+qf6sfqj+n/6Zfpo+oD6rfrt+jj7lfv9+1n8lPyk/Hj8BfxE+zL63Phe99r1bfRB843yd/IK8zr02PWx97D5p/tJ/Wf+6f7W/nT++/1p/dv8hPx9/Of8xP3N/tv//wA3AoID5wRDBokH1wgrCmsLegwiDTkNzQznC5UK8wgPBwsFKwOdAXMArv8v/9z+zP4B/2z/CADDAJUBmgLVAyMFYgZeB+4HGQjmB14HlwaeBZIEtQMyAw4DQgOdA/YDVgSxBOQE3wSSBAEEYwPbAmICAQK9AZQBngHcAS8CiALoAkkDsAMfBIUE2AQcBUkFVgU1Bc0EDwQDA7ABJgB//s38L/vW+eX4Y/hM+H742PhU+df5MfpI+g76jfn9+Iz4Ovgf+F74B/kr+r77gf0//+wAZwKHAzQEVATlAx4DJQIBAc3/rP6z/QD9mPxU/B78B/wR/EL8oPwa/aj9YP5D/zkAKgHnAU0CYQInAqgB9wAWABf/Jv5f/cv8avwg/Nv7rvue+6z73Psj/H38/fyn/Wn+M//j/2AArgDTANEAuACFAEEACgDw//j/HwBUAIcAxQASAW0B2gFQAswCWwP/A64EXwX+BXsG2AYTBy0HJgf7BqgGNwasBQoFVgSNA7QC2wERAWoA9/+6/7D/1f8fAIgABAF5AdQBEQIwAkACTQJOAkACKgIJAuQBuwF9ASQBtwA9AMP/VP/t/oz+Nv7p/aj9df1F/Rb95/y5/JL8c/xY/Dn8E/zi+6b7YPsR+7z6YvoI+rr5fPlQ+TP5IfkS+Qn5A/n7+PD43/jN+MT4zvju+Cr5ivkQ+rr6fftB/O78cv2v/YP91/yq+w36Lfg89lr0vvK58XzxGvKF83P1oPf3+Tz8Ev5A/5//Nv9c/lX9Fvy9+nn5Yvii9zv33/Zj9uP1ZPX59Lj0g/RX9Fv0nPQO9ab1Nvaf9u/2Lfdc94j3qvfF9/P3Q/iz+EL52vlr+v76lvsx/ND8a/37/Yv+Gv+h/xkAcwCjAKwAkABSAPj/gv/2/mD+zP0//cL8VvwA/M770fsX/Kv8if2o/vr/aQHfAjgEQwXeBQEGtQUdBV4EhAOvAhsC6QEtAuEC0gPXBPcFIwc/CD0JBwqaCicLxwtrDBINsQ08DsUOTg+9DwsQORBMEFkQbRB8EIEQdxBWEB0QxQ89D3oOgQ1bDB4L4wmzCKMH0QZQBicGUwa2BjQHxAdLCKMItAhwCN0HHwdYBocFwgQmBMQDqAPOAwYELgREBDkE9gN1A6MChQFGAAT/xf2d/J/71vpW+h76DfoP+iD6M/o5+in68vmV+Sj5uvhE+Mb3P/eq9hP2fvXc9C30ePPI8i/yvPFo8S/xCvHs8NLwrPBh8OHvLO9M7lvtdOyh6/bql+qX6v7qxevE7Njt9u4C8NLwTfFj8RfxmPAJ8HDv4+6H7m3urO5A7/vvvvCN8VvyG/PG80j0oPTw9Ev1qfUK9mb2tfYF91r3pPff9w/4OPhr+LX4D/l3+er5ZPrl+mj74ftI/J/86/w6/Zr9Df6e/lz/TABxAcMCKgSPBeYGGAgGCZ8J3QnMCZIJVQkpCTQJrQmyCk4Mbg7PEDETehVvF7wYMRm2GF4XhxWGE3QRlA9JDswNRg6sD4sRihOhFZgXHhkHGiMadxl2GG8XWhZYFZIUFBQNFHsU/hRdFZwVqRV6FRUVVhRFEyUSIhFIELYPeQ+ZDyoQIRFDEl8TVxT5FA4VdBQVE/4Qdw7AC/QITgYjBKYC9gEIAoUCIgPYA3kEvgSABJsDFAJNAIv+yPwh+7f5mvj098f3yvfT9+33EfhE+I/40vgF+U/5u/k/+tT6XvvF+xX8UPxq/GP8N/zk+4D7Ffuf+h76jfno+Dn4ivfc9jb2mfUG9YX0F/S682zzJPPc8pryZfJG8knycfLG8lbzJvQ09Xn23/dP+bv6DPwl/fD9ZP6B/mH+Gv6z/UL96Py6/Mf8Dv1v/dX9R/6//jH/l//j/xIAPABpAIsAlwB4ACAAnf/7/kD+gP3P/Ej8H/xz/ED9df7j/1kBvQLfA28EPgQ8A3gBPP/Q/ET60vfP9XD02fME9Jz0XPVL9kj3IPi6+Oz4svha+A74tvdP99H2K/Z/9dT0BvQN8/3x7PAP8IvvVO9g76rvG/Cy8F7x7vFE8lnyMfLp8ZrxNfG78DnwsO8078zuZ+4D7rjtm+3P7W/ub+/H8GnyPPQu9h740fkh+wb8ivzX/BX9Sf2P/Rn+BP9hACoCIwQfBiEIFgrfC28NrQ6cD24QRhEeEgMT/RMNFUUWnxfyGCIaJhvtG2oclxxpHOkbPxuNGugZcRlQGZ0ZaRqsGzod6h6sIF0ixyPIJEYlQiXpJF0klSObIoQhWyA7Hy8eFx3vG9ca6hlVGTkZiBk2GjkbdhzSHR8fCyBdIBEgMR/zHY4cAxt4GTEYWBcCFycXexfCFwcYNBgoGNgXJhcWFu8U3hPhEgsSaBH6EN0QEBFiEbURAhI1EkMSIxK9EQ4RMRA2DxgO4AyOCyQKtAhFB88FVQTpAqABlgDj/3z/V/9h/33/k/99//j+2/0g/NL5JPdK9FHxY+7J67DpM+hP58jmbuZO5ljmcOaH5n7mT+Yr5ibmJuYY5uDlYOWs5MvjrOJZ4d3fUt7u3NbbBdt12graqNlQ2fXYbtin15nWS9Xt06PSbdFZ0H3P5s6nzsLOFc+KzybQ39Cw0ZfSgNNm1FrVXdZl12rYWdkl2tbabdvp21Lcr9wQ3ZTdTd4831ngkeHP4g/kQOVE5gvnkOfZ5wzoR+iP6PnooemX6unrkO1m70vxN/MT9cH2MfhV+TL69frB+6D8qv0B/7YA1QJTBfYHjQoIDUAPBBE2EsESsBJCEq4RBBFxEC4QYhAqEYUSLxT5FeMX1BmkG0Edix6BH14gRCEkIv8i0CONJEwlDSaoJgsnOic5Jxkn7yazJm4mOSYoJlQm2SbMJzspIytzLQIwnjIZNS03fTjKOAY4QzbQM/0w7C3pKnEo0CYtJnsmRycxKD0pOSrOKtQqGSqlKPUmXSXOI2AiMCFAIMAfrR+oH3ofIx+OHrkdqBw3G2YZbBdqFWsTiRHLDzsO8wz2CyYLcgraCVIJ1ghhCOEHUAe8BikGhwXGBNEDlQIYAWD/b/1R+xT5z/aq9MbyKPHR77Luue3z7F3s5euF6zHr5+q36qjqo+qW6mbq++lb6YnohOdV5gTloeNS4i/hPOB439DeMt6r3Tzd2dyE3DTc79vN293bGtyB3A3dtN183mLfWOBR4UPiIuPl44bk+uQ+5VLlOuX35JDkDOR249XiL+KE4dzgSODZ36PfuN8a4MngwuH84m7kBuak5y7pnert6yvtXe5172nwPPHm8WnywvLc8qzyPPKS8cHw3O/o7vPtFe1n7AjsHezJ7CPuLPDT8vH1UfnD/Pv/jwIxBMoEYQQ8A6ABk/9L/Sf7Y/kr+IL3FPeu9nz2ivbc9ob3Yfhl+cX6i/yM/p4AaAKmA2UErQSEBAgEMgMUAvIA9f8m/4X+5P0m/XD80/tZ+xX7+/oI+137A/zt/Aj+LP83AC4BEALdApcDKgSGBLEEpQRjBO0DPQNWAk8BRABc/7b+VP4z/kP+c/7C/iP/dP+h/6X/hv9o/2f/fP+r/wAAfAArAQ0CAgP2A+kE0wWyBoUHPAjVCFoJ0Ak3CpAK2AoMCzALQgs1CwMLqAohCmsJhwh3B0EG+ASsA20CTgFnAMv/hP+V//H/jQBmAXAClwPLBP8FMAdnCKsJ5woODBMN5g2MDgMPQg9NDywP8A66DqIOqQ7RDhIPZA/UD2YQExHZEbISnROlFMgV9RYWGBAZyxlFGoEagBpLGuEZSRmcGOoXNxeFFsgV+BQoFGQTuRI0Es4RhxFiEVoRZBFvEVsRERGUEOsPKw9rDq4NAw2MDFYMZwyzDA8NVw2BDXMNBw0qDNAKAwn4Bt4ExwLcAFX/VP7u/R3+pP5S/xsA2gBXAXEBCgElAAH/yf11/BT7vvl7+Gr3kPbA9eT0EPRR873ya/JD8jvyXPKZ8uHyF/MD84Dyk/FH8LzuGO1l68LpbeiJ5yTnOOeO5/rnfegB6V3pfOlK6cfoLuik5yXnveZ85mbmk+YC54vnFuim6DXpxulb6uHqUOu66yLsgezP7Pzs+uzV7JXsQuzs66DrdOuN6wPs2OwE7mzv8vCL8hv0c/V39hr3ZPeC95r3r/fa90H4+vgX+pD7Mv3U/nUAAgJgA4EETQW/Bf8FIwYiBgAGvAVWBecEegQIBJoDSAMxA4EDWgSxBXgHlAnaCy8OXRAREg8TTBPREt0RqxBCD88NngzdC6oL/wuLDBINow0rDowOug6UDhgOiA0HDYcMBgx1C8QKEQphCZkItgfABr8F1gQeBI0DIgPdArYCtALVAggDQQN8A7MD6QMbBDcEKQTfA0cDYgI3Acz/Mf5z/Kv6AfmT92j2gfXH9Cb0p/NC8+LyfvIL8onxE/G48GjwHvDL72Xv+O6K7hPumu0p7dDsr+zc7FTtDe737vnvEPEq8iXz7fN69Mz0APUu9VL1dfWr9fv1cPYI96T3MPiv+Bn5aPmb+aj5kflx+Vj5S/lU+Xv5xvlA+ur6s/uR/IL9ff57/3QAYAE/AhkD9gPRBKgFegZDBwcIxAhvCQIKfwrmCjwLhgvCC/ELGQw9DGQMlAzRDCANgw34DXwOCQ+YDyEQlxDuECYRQBFHEUYRPhE3ETwRVBGEEcURBRI1ElMSUxIpEs8RPxF8EJsPrw69DdUMCAxjC/EKswqXCpAKoQrCCugKDQsoCzULQgtWC2YLbQtgCzYL9AqaCiEKiwnZCBQITQeRBuAFPAWkBBYEnQM8A/cCzgLAAsoC7gIoA2oDpwPIA70DgwMbA44C5QEhAUkAb/+e/t79MP2G/Nr7Nvuj+if6yPmA+Ur5Kvkc+RP5APnI+Fn4uPfu9hL2PPV69OPzovPQ83L0ffXG9iP4h/nR+sz7Wfxo/Pz7TvuJ+rX57vhi+Cr4W/jv+Kj5WPr9+n77vfuq+zP7Xvpu+ZH40vdP9yj3bvc2+HX57Ppn/NL9Af/C//X/hf9+/ij9wvti+j35l/ia+GT55/rL/Mj+0ACvAiAE+QQYBYQEnQOqAq8B0wBLADAAqgCxAe4CIgRPBVUGGQeOB48HHgeDBuoFVQXXBIAEUwRsBMoEOAWYBeMFCQb+Bb8FOAVuBIcDnwK+AfkAXwD7/9z//f87AHwAtwDXAMMAbwDM/+L+1P3D/Lb7w/oH+pL5cvmh+fP5SPqY+sv6wvpt+rr5rvhz9yr22fSS83HyhfHj8JDwafBd8HPwqfD/8HXx+vGI8i7z7POw9Gr1+fVF9lX2L/ba9Wj14/Rg9A30BPRI9M30cPUN9p/2D/c09/f2UPZJ9Rz09/Ln8Q3xl/Ce8DjxXvLV82z1GPez+A/6DvuW+6z7jftm+zr7I/tE+677d/yX/cz+5//kAKkBHAIwAtEBBQEJAAr/Ff5N/dL8uvwe/f79J/9zANsBRAOOBKMFaQbdBigHYAd6B3cHWAcXB8sGdwYFBnEFzgQuBLcDhgOUA98DZQQaBf4FAwcGCO8ItwlcCuwKcQvVCwwMDwzUC2ELvQreCcwImgdfBkQFawTUA38DYgNtA6cDCgR8BPIEZAXSBVUG+wayB3EILQnYCXYKAwtsC6gLswuLCzoLxgorCmsJjAiTB5MGnQXFBBoEpANlA1YDcgO2AxcEgQTjBDUFcQWgBcEFwQWNBRQFRwQsA8kBIgBJ/lP8YPql+Ej3U/bD9YT1f/W79S72uvZN99f3Vfjh+Ib5Kvq3+hP7KPsC+6f6Fvpc+Y74zPdO90D3n/dk+Gv5kPrR+xj9Mf4A/3X/jv97/1v/H//L/mf+9P2L/TX92Pxy/Br85Pv1+2v8Nf1I/pX/AAFzAsgDuwQgBfEEOQQoA/IBnQBP/0r+tf2m/Rf+xv6A/0kADgGoAQkCFALKAWYBDwG6AG4ALgD2/97/6v/2//X/6//a/9P/4//4/wsAIQA0AD0AMgD3/33/yf7n/en86vv1+iL6nPl7+cX5c/pf+2b8ff2F/k//vf/A/1r/vP4L/kn9i/z0+5X7hfvC+x38efzc/EH9oP35/Tf+Wf57/q3+5P4c/0f/Vf9U/0T/Hv/f/ov+I/67/V/9DP3E/IP8R/wZ/Pz77/vy+wX8IvxN/IH8tfzb/OT8w/x4/Ab8d/vY+iz6gPnq+Hj4M/gc+Cb4SPiJ+Oz4bvkO+sL6gftP/CX97v2V/vv+CP+//in+Wf1n/Gb7dPrG+X/5p/k4+gb76vvi/NH9i/71/v3+pP4g/pb9/vxm/OD7dPs3+yz7KfsX+/763/q9+qP6gvpa+kT6S/py+rz6JPui+0H8/vzQ/bH+mP97AFUBHwLRAmkD6ANPBJwE0ATtBPUE6wTSBKcEbAQsBPEDyAO9A88D/QNCBJgE+ARXBaIFygXNBa0FeQU+BfkErwRtBDcEGAQQBBQEHgQ4BGgEtgQqBboFXAYLB7oHVwjNCPkIwggqCDoHDwbHBHMDNAI+AbMAoQABAaYBaAJDAx4EygQvBTcF4QRgBNUDNAOFAtQBIgGIAAsAi//9/nT++/2t/aL9y/0k/rH+Z/8/ACkB/gGiAhQDUgNrA2sDSQMCA6QCMwK2ATEBkwDZ/xP/Uf6o/Sr91Pyh/JD8lvyv/M38z/yk/Ev8zPs/+736Rfrk+bP5vvkL+pL6L/vE+0f8pvzE/JT8Cvwv+y76K/k4+HT3DPca96v3tPj/+Vj7r/zZ/Zv+0f5o/mj9G/y7+lb5Fvg499/2K/cY+Fr5u/o8/MD9Iv9OABwBhQG+AeQB3gGmASsBXwBf/zz+6Px1+wP6v/j199z3aviT+S37Bf0F//gAewJPA2UDyQLMAbgAjP9x/rH9cv3V/dT+DQA/AW8ChANdBO4EEAXBBE0E3gNvAw0DvAJ3AlsCaAJxAlwCJgLGAT4BkwC2/67+mv2R/KL74/pj+i/6VfrW+pn7jfyp/d3+EAAyATECCAPEA2sE7wREBWIFPwXjBFMEhwOGAmMBNQAo/1n+y/18/V79Xv2A/bX93f3l/cr9kv1h/VP9Yv2U/ff9jP5c/2EAdgGAAnUDRgTgBDoFRQUABYUE6AMxA3MCxgE5AdoApwCGAGUARgAfAOL/jP8U/4L+9/2L/UL9Kf1K/av9Vf5C/1QAcgGPApMDZATyBC4FGAXMBF8E2ANKA9ACegJXAmcCiwKvAtoCCAMxA1cDbgN7A50D5ANSBOkEqQWNBpoHzAgHCjkLUAw0DdINGA79DYUNxwzcC9EKwgnYCC4I0Ae6B8kH4gcDCB0IEwjYB18HsQb+BWsF+AS3BLsEDAW3BbEGyQfXCMkJfgrRCqsK+gnICEcHpQX4A2sCNwGBAGAAyQB6ATwCBQOuA/4D0wMXA9UBXwD1/p79f/zL+5v7Dvwd/Xn+6P9jAccC7AO7BA8F5wSCBAcEcAPQAjQCowE5AfoAuABfAPv/j/8p/9r+kv5Q/iz+L/5W/qH++v5T/7L/EwBwAMUAAgEYAQEBtgA2AIT/qf6z/bP8v/v8+oL6Vfpw+rv6HfuR+wX8Vfxs/EP84ftt+wn7t/qF+o/63vqA+278ev2C/n3/VQDtADkBJQG3ABcAaP+x/g7+m/1t/ZP9B/6c/iz/sv8TADAA+P9b/2b+T/1D/E/7k/o5+lb6/foi/Ij9+f5jAJoBaQKsAk4CVwEQALb+Vv0f/FD7C/tr+2X8o/3i/hUADwGWAYgByABh/7H9APxc+vT4A/ip9wz4J/mg+jf85f2B/9sA2QFRAkMC+QGhATMBwQBYAP//1f/f/+r/3//K/7P/rv/P////PACYABMBqAFKAtgCOwN6A5kDogOjA5oDiwONA6wD6ANABJoE5AQhBUkFUwU5BfgElAQmBMQDdgNMA1sDrANHBCQFJgYvBzIIEAmkCdUJmwn8CCQIOQdJBnYF7wTSBC0F9gXwBugH0wiMCd4JrgnkCIoH5QUtBGsCxABo/3L+Af4P/lr+sf4R/2H/f/9d/9/+Cf4c/UL8ffvh+oL6aPqp+kL7+/uw/Fr94f00/kf+B/58/dL8L/yf+z/7MPuD+0n8ef3h/lQAxQEPAwYEjQSPBBMEUAN0AoUBowD2/5b/mv8AAIwAEwGXAQQCQAJAAu4BTwGYAO7/Uv/W/oj+bf6Z/gj/jv8OAH4AyQDeALMANgBs/3r+fP19/JP72fpf+jb6X/q4+in7svtG/NX8Vv23/fX9Kf5e/or+p/6r/ov+Vf4K/qT9JP2W/An8mvth+1z7jvvw+3z8Nv0d/iL/OgBZAXQCigONBGAF4AXmBVMFLQSCAnAAH/6y+2H5hfda9vL1RPYU9yr4gfn0+jn8Jf2d/aX9jP2J/Yr9mP3I/Rj+pv5x/zUAzQBCAY8BvwHhAdoBpAFdAQ8BvgBxABwAuf9W//n+nP5C/ur9kf0+/fb8uvyO/Hn8gfys/AD9g/01/hP/FgAsAUICRgMgBLAE3wSpBBIENAMsAgYB4//x/k/+Cv4d/l7+qP78/kX/X/84/8D+//0p/WT8sfse+8H6ovrV+lr7Bvy+/IH9QP7z/pP/DABZAJUAyQDyABEBIwEkAR0BDgHpAKgATQDc/2H/5P5j/uH9Z/36/KP8Z/xJ/Er8bvy0/Bj9lv0k/rb+PP+q//z/NQBeAH8AmwC5AOgALwGOAf8BagK5AugC6gKrAiQCUAE5AAD/xf2X/Jf76fqo+uX6oPu3/A/+pP9dARkDvwQ0BmwHfwhvCSAKegplCswJwAhPB4EFcwNPAVD/1P0f/Tb9EP56/zsBSANxBVgHwwiTCckJswmGCSUJlQjoByEHYwa3BeUE3APAArEB5gCQAJoA+gCvAaMCzAMKBRQGuwb6BtUGdQb9BV4FngTcAyIDhAIGAnwB1QAmAHz/7P6M/k3+KP4r/lL+lf7m/iD/K/8I/7v+Uv7c/VP9uPwf/I/7FPuw+lj6B/rP+b756Plc+hD7/fsb/Vr+p//pAPEBoALwAuICkQITAmkBogDe/zP/r/5U/gX+rv1j/Sn9CP0H/Rr9Pv2D/er9ZP7h/j//ZP9U/xD/nP4F/kP9Xfxo+3H6gvmj+M/3Cvdu9hb2Hvad9o734/iN+m38aP5QAN4B5AJYA0YD4wJkAtMBWgFBAbEBugJNBBEGvQdHCYMKLgsoC1MKvwjPBtIE3AIjAe7/Zf+w/8cASwLxA64FTgeSCFMJZgnMCN8H2wa6BZQEhgOeAgICtQFyARMBqAAxALz/W//z/oP+L/4H/gn+Mv5q/p7+3f4l/3D/u//7/yYAQgBNAEMAIwDs/57/Q//j/ov+Rf4V/vv99f0B/iX+ZP66/ir/sP9LAP8AywGmAoQDVwQQBawFJwZ8BqoGqgZ2Bg8GeAW1BNAD0gLKAdIACQCX/5r/EQD0ACICeAPgBCwGGgd5Bz0HbgZFBfMDfgIEAb//z/5Q/kH+ZP6N/s3+Hf9y/8r/CQAoAE4AigDFAPEA7ACaAA8AWP92/n79gPyb+wr79PpY+y/8Uv2a/gAAagGfAoAD9QP9A8EDXwPFAvQB9QDJ/4v+SP3u+4D6JPn990b3Kfec95D47/mP+1b9EP9gAAkBAAFPAD3/CP6z/GT7Z/rl+fv5pfqM+3b8bv1l/j7/8v9fAIEAmgDPABIBaAHFARsCggL6AlwDmAOnA4MDMgO+AhoCTQFsAIn/tv4M/qD9g/29/Uj+Df/z/+kA0wGIAuwC8gKfAhoCgQHYADAAq/9a/0z/fv/C//j/JAA8ADEAAQCc/wX/Zf7W/V39B/3g/Ov8Nf25/Vf+9f6G//L/IQADAI7/yf7b/eb8+vs2+8X6wPo3+yL8Tv2R/uD/HAEWArIC2gKSAhACfwHcAD4Awf91/3D/sv8JAFUAnADVAPoACgHzALEAZgAjAOP/qf9q/yD/3P6i/mv+Of4S/v39EP5Y/sv+Y/8RAMMAbgH9AUsCRALkATMBTwBX/1f+av28/Gv8gPz1/J39UP4J/6//FwAsAN7/M/9j/pn92fw9/Ob75ftN/Bz9GP4b/x8ACwHEAToCVgIbArgBTgHgAIAAQgAyAGEAzABIAbgBGQJcAnICUwLwAUwBiQDB//f+Ov6W/RX9xfyr/Kz8vfzf/Az9Q/2B/b/9+/1H/q3+Kv+//2YAGgHdAaoCbwMgBLMEGwVOBUYFAAV+BNEDCgM4AnEB1gB5AGUAlQDyAGQB5wFoAscC8gLdAosCHwKxATwByQBlABYA6v/j/+X/4//k/+n/+f8cAEQAawCZAMwA+wAcARgB4gB+APH/SP+T/tj9KP2h/FX8Rvxv/LP8+vw8/WX9VP35/E/8Y/ti+nn5uPhC+En46Pgr+gT8M/55AMAC0QRiBkQHWQenBnYFAgRTAo8A9v6t/dn8ffxQ/Cf8FfwY/Cj8S/xh/Gf8kPzv/HD9A/6C/sz+8/79/uH+p/5Q/uX9j/1m/Wf9kf3Q/RX+bP7Y/lP/2v9lAOwAfAEVAqYCHwNnA2kDLAO2AhMCUwGAAK//Bf+c/nj+lf7X/iT/fP/Q/wMABgDP/2H/3/5j/uz9g/02/Qv9Ef1J/Zn98v1Y/sn+Rv/R/1wA4ABmAeoBZALHAgAD/wLLAmkC4gFIAaUADQCj/37/n//+/30A/QB1AcoB0wF3Aa4Ahf8w/t78m/uN+uX5w/k3+jj7hfzm/U7/kgB6AeIBsgHvAOT/yf6l/Z785/uc+9v7oPyg/aj+uP+3AIYBFwJJAhwCygF2ARkBuwBgAAYAx/+q/4//bv9R/0D/U/+d/w4AngBQARcC6QKzA04EoASoBGsE/wN5A9sCNAKmAUQBFQEZAS0BOwFHAUkBNAECAakAKwCn/zH/yf52/j3+H/4k/kv+ev6g/rb+rP50/gn+Yv2F/Iv7i/qR+bX4FfjE98/3MvjS+Jb5fPpx+1z8LP3R/Ur+sv4b/3n/zf8WAFAAhwC6ANUAzwCxAH8ATQAmAAQA5f/L/7P/nv+I/2T/Kf/c/oD+I/7Q/Yn9UP0y/TP9VP2T/eH9L/55/rH+y/68/oD+GP6X/Qv9fPz5+5X7Xftb+4373/tA/LL8LP2h/Qj+Wf6Q/sH+8/4f/0T/W/9g/1v/Tv8x/wb/0v6f/n3+ev6R/r/+/v5C/4n/yv/y//T/zv+C/yH/uf5J/tj9dP0i/ez80vzH/ML8yfzd/P38LP1h/Zj90/0Q/kP+Y/5a/h/+tP0k/X781/s++836q/ry+qf7wPwc/pX/IQGgAuADwgQyBTQF8QSMBAAEWwO5AigCuwFzASYBvgBFAL//Mf+l/hH+ef38/K38kPys/P78f/05/iX/MQBLAV8CUgMMBHgEjQRPBNQDNAN6AsMBNwHyAP0AUgHJAT8CswIUA0EDKgPDAhICSQGPAOX/YP8V/w//YP8CAMgAkAFOAusCSwNeAw0DWgJqAVYAIf/b/Zr8avtm+pf57Phh+BD4DPhv+E/5m/pE/D7+aQChArEERQYjB0QHsgahBUgEtgIbAdH/Dv/s/mP/IQDnAMEBmQJDA6wDswNYA+cCjQI4AuwBoQFKAQYB2gCfAEYA1f9R/9L+bv4U/sL9gf1M/Sv9H/0Y/Q/9Cv0L/R39SP2L/eb9Yv7//rn/igBeASICyAI9A2UDMgOgArUBjgBI//f9u/zH+zv7JvuD+yv8+/zw/fL+1v+FAOgA/gDyAN8AtABwABUAnf8f/6T+Fv52/dz8Yfwy/HD8EP0H/kX/qgAnApsDxQR7BbQFdAXoBDgEYANzAp0B8gCGAFcAMQDy/6b/SP/R/kX+lf3J/A78g/su+yH7Yvvz+938GP55/9wAJQIpA7gDtAMRA90BUgCp/gL9nPvM+sv6rPtd/YD/wQEKBBcGhQcZCK4HUgZ6BIYCfQCZ/ir9XPxh/DP9W/6I/74A1AGhAg4D6gI2Ak4BawCF/63+6v06/cn8nvyF/Gr8W/xd/I78Av2h/V7+RP9EAFEBUgIUA3IDcgMXA3wCvAHdAPP/Mf+z/oL+m/7S/gX/Of9h/2P/Nv/L/ir+g/37/JP8Xvxs/Mb8ev2C/rL/6AAVAhwD3QNFBD8E0AMdA0cCVQFiAJD/9f6k/pr+r/7E/t/+9P71/tz+mP4r/rv9X/0R/dX8qfyH/IH8m/zC/PL8L/16/eH9a/4Q/8n/lQBsAUcCHQPaA3AE3AQaBTEFJAXxBJgEIQSRA+wCNQJlAXwAhP+I/pP9s/zr+0D7vfpq+kz6afrA+k/7E/wD/RH+K/82ABEBkwGeAS4BTAAX/7P9NvzM+rn5K/kv+b75mvqQ+5z8nv1d/rv+nv4Q/lj9rfwJ/IP7Nvsv+4r7R/wp/Qr+7f7D/4MALAGgAdcB8QH5AeUBswFTAboA+v8d/yH+Ev0C/Av7WPoJ+h76k/pW+038c/2x/tr/zwCEAfUBQAJ7ApQCiQJfAhYCvAFXAdIAKgB2/83+U/4o/kP+nP4o/9P/kgBNAdIBAALVAVcBsAAFAFP/r/49/hH+OP6t/kH/zf9TAMEAAgEKAcYAMwB5/7D+1f30/BX8O/t9+uT5YPnv+KH4g/ir+Cr59Pn9+jr8lP30/jQAGQF7AVUBrwCu/33+JP3I+6n67/mu+eX5W/rq+pz7Z/wx/fH9jf4C/4H/HgDHAHMBCwJ8AtUCGQMxAxoD1wJtAvgBigEcAawAMQCk/w3/b/7B/QP9Ofxt+7b6KPrL+a754Plp+kz7f/zn/Wb/4wA7AjwDxQPJA0sDcwJkASkA5P7L/QH9mfyP/LD81PwE/Tb9UP1N/Rn9uPxh/DX8L/xX/K78Lv3o/dj+2f/RALUBbwLyAjcDLgPYAlACqwH1AEgAwP9v/2H/jv/V/xgAUABnAD8Ax//4/t/9sPya+6z6B/rY+Tb6Mfu4/Ij+ZQA0Ar4DuQT5BGUECwM9AUb/PP1d+//5V/mJ+Yr69ft7/Rb/lwC8AWACWgKxAc0A9v8o/4L+Jv4i/pr+iv+ZAIsBWwLrAiQD/QJUAi4Bzv9j/vn8s/uu+v35vfnu+Vr63/p3+wv8gvzP/Nr8pPxc/B786PvC+7P7vfvy+1H8ufwW/Wz9t/38/UD+c/6P/p7+of6S/mz+Hv6d/fb8MPxY+4P6vfkf+c344Phd+T36aPvA/Dz+wf8iAUECCwN7A6sDrQNwA/ACMwI4ARUA1/53/QL8n/p7+dj45fid+fL6wfzZ/h4BVQMZBSYGaQbrBfcEzgNrAu8Aof+l/h3+Cv4Z/hb+G/4m/jf+WP5m/lv+av6j/vX+Uv+O/4z/Xv8Q/6H+IP6T/Qn9svyp/Oz8c/0e/s3+gf8qAKQA3wDLAGsA4/9N/6T+9f1N/bX8P/zv+6/7c/tG+zD7Ofts+777Kvy1/Fz9Ev7H/l3/vv/r/+f/v/+A/y7/0v6K/mb+bP6c/uH+K/+E/+v/XgDaAFcB0QFUAuQCdQP8A2UEoQSzBJ4EYwQIBI4D/wJuAugBcQEMAbAAVgAKANL/r/+n/7P/0v8JAFQAqAD4AC4BOQEbAdoAgAAeALf/Wf8g/xz/UP+5/zwAxABRAdYBPwKCApUCegJMAiAC9QHVAcsB3gEUAmoCwwIJAzUDOQMEA4wCzgHRALv/qv6y/fH8kPym/EH9V/67/0QB4AJoBKUFcga3BnMG2QUMBQgE3AKlAXUAaP+F/qn9xfz3+1b7APsR+3j7Kvws/Wv+z/8wAUcC3wL4ApYC3gH2ANv/ov6D/Z38BPy8+5b7dvt3+6T7Bfyl/G/9WP5z/7sAFAJdA1oE3gTwBJgE6wMKA/sB2gDj/z3/9f4L/1H/pv8bAK0ASgHvAYcCCwOdA0kE9wSXBQcGKwYOBrIFDgUpBAQDqQE8ANT+eP0w/Pn61vnk+D349fcg+Lv4vvki+9P8tv6hAFQCnwN3BN0E8ATMBGsE2QM/A7ICQwLyAZMBDwF/APL/d/8j/+f+vv6//uv+Nv+R/9T/4//F/4P/K//R/nL+Fv7Y/cX95P0z/pb++v5n/9r/TQDAACYBewHNASECbwKzAuIC8QLoAsgCkQJHAu8BjwE6AfoA0AC9ALcAuQDEANUA4QDjANkAwAClAI4AdABWADIABQDR/5f/UP/7/pj+K/64/Ub91Pxm/AH8qPtj+z37Ovti+7T7LfzF/HH9KP7a/m//2f8RABkA///S/5D/Rv8E/9f+xf7O/t7+6f72/gP/D/8c/yL/Iv8q/0D/Yf+K/7L/0v/u/wcAFwAcABQA+//V/6L/Yv8U/7n+U/7n/Xz9GP3C/Hz8Sfwo/Bn8Hvw6/Gn8q/z//GT92v1h/vD+gf8JAH8A4wA1AXcBrAHVAfcBHQJMAoMCvwLyAhADFwMBA8MCVwK9AfkAHgA+/2L+mP31/Ib8VPxg/Jr88vxn/e39c/7u/lL/n//l/y0AbwCmANEA6wD6APsA4gCnAFAA4f9n/+z+a/7m/V791PxM/Mr7SvvN+lb66vmQ+U/5J/kZ+Sb5TvmT+fb5dPoJ+7P7bvwz/f/9yP6G/zIAwAAkAVEBNwHNABYAHP/w/a38a/tO+oj5Pflz+SX6Lfti/Lj9Cv8bAMQA8wCtACwAm//1/k7+x/1x/Wb9qP0A/lD+qP4J/3b/+/97AOwAYQHYAT0CegJkAt8B+QDF/13+6/yI+2L6x/nn+cn6WvxW/nYAowKeBAgGpAZYBjAFkAPNAfL/Nf7v/E/8fvxy/b3+CwBeAY4CZgPMA5QDxAK/AccA2/8X/5L+U/6D/h7/2f+DABgBfgGpAZEBGAFBAD//Nf4r/Tb8ZvvF+m36YvqC+rv6EvuA+wb8pfxK/fL9rv6C/18APAH/AZYCBANJA18DSAMEA5cCFwKQAQgBgQD7/3f/Cf/D/rP+6P5d/wsA5gDbAdMCrAMxBD8E0gP2AtEBkAA9//39Dv2V/KT8M/0F/un+3//PAI0BBQIbAs8BXQHpAGsA7f94/w3/xv6q/pP+c/5X/kX+Uv6O/ub+Uf/U/2MA8QBpAaIBgQEIAUIAR/81/hb9A/ws+6/6mPri+mT7/vuw/Gn9Cf5//rf+sf6U/nb+Tf4a/t79lv1U/R/95fyi/Gj8RPxX/LT8Tv0Y/v/+5v+5AFMBeAEEAfj/av6X/MD6A/mf9/P2OPeB+Lb6c/1ZAEcD7gXXB7cIZQjuBtAEcgLf/1n9QfvS+UX5mflQ+hf7APzz/M/9jf70/v/+B/84/3b/uf/c/7//iP9G/9r+Tf6t/RX9yPzz/Ij9dv6f/9gAGgJEAxMEXgQbBFQDRAIiAfD/y/7p/Wb9Wv3D/WD+Bf+0/1gA1wAlASgB4gCJAEEABQDj/+H///9SANgAaQHsAV0CsALhAu0CxQJmAuoBXgHHADAAnv8Z/6z+W/4b/uX9wf2u/bL90f0C/kL+kf7r/kP/i/+p/4z/Nf+r/vv9Nv1n/J/7A/uo+pT6xfod+4T7/Pt2/Nr8G/0u/Rj9/Pzy/Pv8IP1w/e79pf6N/4QAbAE9AuICRANYAxEDdAKjAbsAyP/m/jf+0f3E/Q3+h/4U/7P/TwDLABoBKgH/AMQAlQBuAFwAawCfAAUBmQE1Ar0CLgN5A5MDdQMSA2sCnAG6AM7/6P4Z/m/9+fy4/Jn8jvyb/Lr85PwX/Uj9dP2s/fT9Q/6Q/s7+8P77/vL+z/6W/kv+9/2t/Xv9Yv1h/W79gv2i/c79AP40/mn+nf7c/ir/gf/d/zgAiADSABQBSAFtAX8BfQFpAUcBFQHXAJAARQAAAMz/t//L/wkAbQDuAIABHAK0Ai8DgAOhA5UDbwM/AwcDzwKqAqACuALrAiEDQwNPAzsD+AKAAssB4QDh/+P+9P0o/Zn8WPxu/NT8aP0L/q/+N/97/2P/4/4B/u780vu3+rz5DvnH+Pv4o/mK+oX7kvyY/Xb+G/9x/33/dP9//53/4/9kACkBQQKjAxUFbQacB4EI+wj2CGAIQQfQBT4EnQIZAej/K//8/lX/+/+8AJMBXQLpAh0D4AI2AmQBmwDX/y7/uv6F/q3+Mv/c/4sARQECAsECgwMsBLIEKgWXBekFFAb4BYEFvASzA20CAgGC/wz+1fwC/Jz7oPv0+3r8Nf0T/u/+sf9IALIAEgF6AdYBHAJFAkMCJALrAYMB6QAqAFj/lv4A/o79Pv0H/dr8vPyn/ID8O/zY+1z75fqH+kH6Gfob+kv6sfpK+/v7svxn/Qz+lP70/iP/Iv8H/+P+vv6o/rT+8f5m/xAA1ACdAWgCJwPHAzwEegSBBGgEQAQEBLgDYQMBA6gCXAIVAtUBrQGrAekBdgJIA1IEggW7BuMH0whPCS4JbQgYB2MFhAOQAbj/Tf6C/W79Bv7//hoAVAGFAnAD8QPoA1kDmALcAR4BcQDt/5z/nv/x/1YApQDlAAsBGwEaAe8AmQA+APL/uP+Z/5H/nP/L/x8AiQAAAYIBCAKTAiMDqgMkBJEE7AQtBUkFLwXWBD8EbgNsAkYBCADE/pr9ovzj+2D7CvvW+sr64foN+0j7iPvP+y78rvxD/eL9f/4M/4z///9aAJkAvQDHAMgAxgC8AKYAeQAtAMP/PP+P/r39x/y0+5j6hfmE+Kb3/faX9n/2t/Yz9+v32vj3+S77c/y4/fb+MgBqAYsCggM+BK0E0ASlBCcEXANPAhEBxv+J/mL9WPxl+4r62/lo+Tf5Ufmy+Vf6Rvt3/NH9M/9tAFkB8gE6AkICHgLJAVAB2AB0ACwAAADK/3f/F/+y/k3+8/2Y/Tj96fyu/ID8VfwS/Kf7IfuM+vj5fPki+f/4N/nf+fX6bPwW/sX/ZAHIArID+wOTA4QCCgFe/5H91vt0+pz5avnd+a36o/vG/P/9I/8eAM0ALAF4AdIBHwJXAmgCOwLrAX4B1gDz/+L+uf2o/NT7NvvO+pb6gfqc+uT6Q/ut+xz8jvwT/bL9VP7m/lP/hv+H/17/DP+i/i7+yP2d/cv9Uv4m/yUAKQEtAhUDtQPyA74DIgNQAnQBjwC9/yH/0P7g/lD/7v+XAE0BAAKaAhMDUgNWA0MDLQMMA98CowJRAvcBmgEjAY4A4P8h/2P+t/0Z/Yv8Fvy9+4r7gvuj++37X/z3/LH9hP5h/zQA5ABfAaIBsQGZAWsBLgH0ANwA+gBSAdsBdAL/AncDywPeA6IDDgMrAicBKAA6/3n+Cv4B/m/+Tv9uAKgB7wIiBBcFswXhBaUFNAW1BCsEsANkA1kDngMpBLoEIQVUBTcFpASOA+IBsP9A/c76d/hw9vj0OfRP9DP1m/ZI+Cb6AvyQ/aL+Ff/s/nn++f1m/dn8fPxg/Kj8Tf0A/o7+Af9Q/3T/dv84/73+PP7W/ZH9ff2c/ev9f/5U/0cAPgEoAucCZAOMA1IDvALuAQoBHgBH/7D+cv6b/iP/2v+VAE0B6AE+AjgCxAHnANn/xf6v/a383/tU+yP7SvuU+9/7Kfxg/HD8UPzt+0j7j/rf+Tv5s/hW+Cv4Rviq+Dv56Pm0+pz7nvy7/d/+AgArAVMCaQNbBAgFWQVUBf4EZQSdA7UCywEPAaQAkADQAEEBwgFUAuQCTAN3A1YD7AJnAuUBXgHYAF8A8/+r/4j/cP9V/0P/Pv9Y/5z//f9yAAABnAE9AtQCQANtA1wDEQOhAh4CjgECAZwAbwCAAMgAIwFzAbMBzwGnASoBTgAb/8D9YvwM+9n57vhh+Ef4nPg3+ff52PrF+6P8YP3l/S/+YP6L/qP+qP6W/mb+Kf7i/X39+Pxf/ML7Qvv2+tz68/o9+7X7YPw7/TP+PP9QAGkBjAK2A9AEwwV1BtEG2AaNBvYFIQUcBP4C9AEeAYQAKQD3/97/7v8nAH4A8gB1AQICqQJtAzQE4wRUBWgFJAWNBKkDjAI8AdH/ef5W/XD8y/tL++H6nvqK+p/64fpE+8H7bfxI/Tz+Mf8BAIsA1wDrANEAngBYABQAAAA3ALsAgQFgAjED8wORBOgE5QR8BLQDwQLOAeAAFACM/1n/kf8wAAMB5gHPAqQDQgSUBIUEFgR2A8UCAwJAAZEA//+h/3b/Wf81/xD/6/7H/qv+h/5Y/jX+I/4d/iD+Gv7//dv9t/2X/Yf9kf3C/Tj+Av8eAH8BCQOdBCoGkgemCEUJYgn+CDwIOwf9BZcELwPcAbUAwf/h/gX+Rv2v/E38LvxD/Ib8Bf25/Yr+Wf/x/ykABwCX//T+Qf6H/ef8n/zT/Ir9t/4bAH4B2gIOBOUEQgULBUcEOgMXAuIAuf/C/hL+zP3x/U7+wP5T//7/ugCGAUcC8wKpA24EKwXNBTAGNQboBVIFcwReAx8CzwCm/8n+Of7z/df9xf3E/cf9qv1e/dv8KPx3++v6hfpS+mX6xPp8+4T8rP3P/tz/swA0AUkB4gAFAOL+oP1U/CT7RPrX+fH5jPpx+3D8h/2X/nX/CAA0APz/mf8x/7r+PP7E/VH9//zR/KL8Yfwd/Nz7tfu6+9z7Gfx6/P78of1b/g//qv8sAJIA4QAaATABGwHcAHEA4f8z/27+nf3b/EX8Bfw5/N/86v08/6wAJgJ/A3EE0QSRBLwDjwJCAd3/h/5//ev85/xt/Tj+Ef8CAPQAygF3AtkC7wLyAgIDEAMdAyADDAP6AuoCvwJuAvwBbgHcAFcA1v9X/+H+cf4Q/sD9dv0v/fH8wfyq/Lb85fw6/br9Zf43/ygAIgEQAt0CcQOpA3EDxAKsAUsAxv41/cP7svos+kP68voK/F396v6VACwCjgOeBFcF6AVrBsMG5AbABkcGkwWwBI0DNwLOAH//lP5D/of+UP9+AN8BZgPnBAoGmwaIBtkF1QS4A3gCLQEHACD/l/5y/nD+bf6B/rD+Bv+Q/zIA3wCzAaoCrwOnBFsFowWHBQwFPgQ1A/EBhgAm/+/97/wo/H/74/ps+iT6Dvo0+of6A/u5+6T8r/2//qT/OwCHAI0AWwAHAJH/C/+f/mb+Z/6e/uT+HP9S/3//l/+Y/3P/Lf/o/rn+oP6h/r3+8f5H/7//QQC9ACoBeAGcAY4BRAHBABkAXP+V/tX9M/3A/If8iPyt/Oj8O/2g/Qr+dP7Q/hv/Y/+v//D/GwAgAPH/lv8W/3H+tf3t/C/8n/tY+1r7n/sP/JL8I/2w/RT+Ov4Y/rL9Kv2d/Af8c/v0+pL6XvpY+mT6cPqE+p/6xPr4+i77ZPup+wH8Z/zW/D/9l/3l/Sv+bf6w/vb+R/+z/0UA+QDLAacCfgNIBPgEdwW2Ba8FZAXnBEsEkgPIAgECSQGsAC8Awv9b/wf/yP6i/pr+p/7I/gT/Wf+7/xwAYgB5AGUAKQDN/2D/4/5l/gD+xv27/d39Fv5W/qP++f5N/5v/2f8DACoAUgByAIIAdgBDAPP/jP8Q/4v+B/6W/VX9Wf2h/Sb+0f6L/0oA+ABwAZsBdAECAXAA4P9e/wP/+v5Y/ysAZwHXAksEtQX0BtYHPwgYCGYHYAY1BegDlwJpAXUA1f+I/1r/Jv/0/rf+ZP73/WD9o/z0+3P7IvsQ+0T7vfuM/Kv99P5JAJsBzgLJA3sEzwTGBHsEBQRoA7kCEwKGASQB7wDNAK0AnQChAL0A9gA9AY4B8wFrAuACPANWAxQDfAKdAY4AcP9V/mD90PzM/Ff9ZP62/xMBbAKUA0METgSiA0sCnQDd/hr9hftm+uf5KPoh+3b84f1b/7oAxQFcAloCxAHyAB8ASv+R/hH+2f0L/qb+YP8NAK0ALgGFAbEBlQE0AcIAXgAPAOb/6v8fAJoAVwExAg8D6AOoBD4FnwW6BYwFMQW5BCQEfAPKAhQCagHNACwAgP/U/i3+mf0i/cP8e/xU/E78ZvyU/MX87vwP/Sv9R/1s/ZP9vv31/Tn+jf7t/kz/oP/r/ywAYACIAKEAqAClAJ0AkQCFAHsAdABvAGoAXAA6AP3/m/8E/zL+J/3w+6b6ZflC+Fv33fbj9nX3ifj3+Zb7VP0H/3QAcgHtAegBmwEwAacAGQCw/4H/o/8NAH8AzAD5APUArgAiAD3/Cf7C/JX7j/rO+W35evkL+hf7a/zb/U//nACQAQgC7gFLAVsAU/8//kf9pfx8/OP80/0B/zUAbQGKAmMD4gPqA3sD2wI1AogB5ABbAPL/y//q/yUAZgC5AB8BpAFSAhMD2wO0BJQFaQYZB3YHYQffBvwFzgR2AwQCmgB3/8P+hv65/iT/mf8TAHEAfQAaADn/6f11/Bz76fkF+ab45vjh+Yn7i/2k/8EBrwMsBRMGQQa6Bc8EwQOXAnsBpgA2AEwA4ACaAT0CxgIWAwYDhwJ9AfL/QP6k/C/7CPpZ+Tf5wvnw+nP8Df6o/xEBDwJ8AjcCRgH3/4b+/fyG+1n6l/lm+cT5Z/oh+/377Pzd/c3+lf8uAMQAZwH9AXICoQJqAuUBIgEjAAT/3P3X/EL8UvwE/Ub+4v+ZAVwD9gQNBm0GAAbVBEYDogHw/2L+Rf3C/Pz86f0i/1oAigGJAh4DLgOTAlkB5v+E/kD9RvzJ++H7s/wz/v3/yQF/A+kEygX9BVkF5gMBAvD/wf2l+9r5hPjP9733/PdX+Nf4a/n8+YL62vr++i37gfvo+1n8uvz0/B/9P/0//R/95fyh/Hz8lPze/FP95P18/h7/v/9AAJIArgCYAG4ARAAYAPD/2P/W//L/KgBjAIkAmQCIAE0A4/9D/3T+k/23/O77Tvvz+u36SPv++/H8Bv4x/1oAXgEkApwCxQLAAqMCaAIXAsABaAEeAeIAlgAqAKr/Gv+G/vv9cP3p/Hn8KvwC/AT8K/xx/Nr8Y/0C/q3+Uv/d/zgAUgAnALz/Iv9s/qj97fxh/B38Jvx2/Of8V/3D/RP+Jf7l/Ur9X/xa+2r6mfkI+eH4O/ko+qH7av1R/0YBIwOzBNQFaAZtBhUGhwW6BMADrwKWAZIAqv+5/rL9svzO+yb72PrW+hv7r/uI/Jb9vf7B/3kA5wAQARIBCwH0ANwA6AArAa4BawIzA+MDggQJBWwFqgWwBX8FOQXzBK4EcwRFBCYEJARFBHcEtQQABVMFsQUZBoEG4AY0B3cHmQeIBysHcQZeBf4DZwK2AAH/b/04/IX7XPu3+2b8Pv0z/h//xf/+/7n//v4Q/ib9QPx8+wb79fpj+0v8af2L/rL/ywC8AXwC6QIAA+8CzwKYAk0C6gFqAecAaQDf/0v/v/5P/h7+Sf7E/ob/gACaAcIC2QOiBPkE1gQ+BFwDVAIqAfX/5f4W/p/9gv2U/bv9Cf6D/if/+//nAN0B8AIXBDUFKAa2BrYGMgY5BeUDYQLDADn/Gv6c/cf9j/6s/94AGwI3A+YD/ANeAxMCdQDJ/g39Yvv3+eb4V/hQ+Iz44Phf+QP6zfrF+8X8wf3X/ggAOgFQAhIDWwM3A7QC4QHgAMP/tP4C/uD9U/5N/5IA5QFAA3wEUAWTBS4FKgTXAnUBAQCc/nH9l/wx/D78dvyq/OD8B/0R/fv8qfwh/Jz7P/sO+xr7bPsH/Pv8Q/6v/xwBeQKnA4kECwUZBbQEBAQmAyUCHQEvAHT/Av/Y/tH+1f7u/hX/Qv9z/5f/rP/R/xEAXgCtAOoAAAH8AOIArwBpABUAwP+K/4X/sP8FAG8A3QBNAbcBAwImAhcC2QGEASoByQBoABAAx/+X/4T/fP91/3X/ff+O/63/0//9/zMAdwDFABcBYwGeAckB4wHoAdYBqAFcAfIAbADL/xL/Rf5p/Yz8u/sI+4L6LvoN+hz6U/q1+jv72PuC/DH94f2V/kz/9P9+ANYA7gDJAG4A5f8+/4z+6/2I/YP94P2W/oX/iwChAa8ChgMJBCsE8AOGAxEDjAIEApIBPQEbASoBQAFCATYBFwHjAJwAMgCj/wz/eP7n/V791/xP/NX7cPse++P6yPrW+iD7sfuA/IX9rP7c/wMBAgKqAtwCkwLWAccAi/8x/tn8v/sF+8P6+Pp5+yb8C/0h/lH/kgDKAewCEwREBVkGMgefB3kHzQapBRkEPQIwACP+b/xP+8364/pc+wT84vzZ/a7+P/90/03/D//l/rn+iv5d/ij+Cv4I/v392/23/Z/9vf0s/tj+tP+1AL8BxQKqAzEENwS6A8gCjwFBAOj+rP3M/G38ovxi/Wr+g/+lAKwBYgKmAl8CkwGLAH3/av5u/a78O/w1/Jn8J/22/Uf+y/4z/3v/iv9g/zD/F/8X/zv/iv8EALkApwGqAqoDngR1BSIGnAbPBrkGbAbzBUsFeAR/A2ICMgH4/7L+af0z/Cn7a/oW+in6pPp7+5/8BP6R/xgBdgKfA4wEUAX0BWMGkAZ7Bh0GgQWtBJMDOAK7AD7/+P0U/ZD8Z/yI/Nj8U/3i/U7+d/5X/vP9gP0i/dL8mPyN/LX8Iv3O/YX+J/+y/xgATgBRABAAjv/u/kz+tP09/f/8B/1j/RD+6/7X/8oAqwFZAr8CzQKHAhAChQHlAD4ApP8i/8v+oP6B/l/+RP4w/ir+Ov5S/m3+mv7c/ij/df+q/7f/ov9y/y3/5P6a/l3+S/50/tr+eP81APgAwAF9AhUDeQOgA4sDWgMhA+ICqgKLAo0CvQIXA4ED5ANCBJAEwwTXBMAEggQ1BOsDpwNwA1IDTgNsA6cD5wMYBDEEIATUA0MDZwJIAQgAxv6R/Yn81vuR+8b7cPxl/X7+r//aAM8BcQKrAoICJwLCAU4B4QCXAH4ArAAeAaIBGAKGAuMCKwNcA2QDQQMUA+0CywKwApYCdwJgAlUCRwIyAhYC8QHLAaoBhAFYASYB6QCgAEYA0f87/4r+xv39/EL8ofsw+wz7R/vi+9b8Av5G/5AAvgGbAgcD9gJyAqsB0ADr/yL/rf6t/jX/OwB7Ab0C+wMUBdcFKQbuBSoFIgQHA9gBrwCo/9L+T/4i/hn+GP4p/kr+ff7J/hX/Xf+7/zcAwgBQAcMBBgIgAhcC6gGkAUcB4ACQAGwAdQCoAPMARgGoARYChALsAkcDkgPfAzgEkwTqBDMFZQWFBZUFigVmBSYFzgRnBPkDggMAA3IC1AErAXsAxP8H/0n+i/3X/DX8qPs2++H6r/qk+sH6Bftu+/v7p/xt/Uf+Lv8bAAcB6AGxAlMDuwPbA7QDRgObAsMByQDF/9n+H/6e/Vj9Of0v/UD9Zf2L/ar9uf27/c79Av5P/rP+K/+v/0UA7QCPASACmwL3AjcDWANUAycD2wJzAvgBdgH3AIMAIQDR/4r/R/8I/8r+hP40/tf9cf0S/cX8ivxl/Fn8aPyV/N78NP2M/eH9KP5X/mf+U/4c/s/9dv0X/b/8ffxd/GT8kfzV/CT9f/3g/Tz+jv7M/vT+Ev8p/zH/I//2/qP+Mf6o/Qr9Y/zA+zT73frT+hj7qPty/GX9fP6n/8cAyAGeAkUD0ANLBKYE2gTlBMEEeQQSBIMD0AIMAk4BvABxAGsApAANAZABJgK5AiADPgMPA5gC/wFkAcMALAC3/3P/cP+t/wYAZADNADwBrwEmAo4C4wI2A4wD2wMcBDsEKwT3A6UDNgO4AjUCvgFzAWoBowEYArECVAP7A5IE8gQGBcYENgR8A7gC7AEqAZIAMgAaAEYAjgDTABYBRgFRAS4B0QA+AKH/F/+p/mr+cP7I/nv/gQCuAdsC+APiBHEFigUdBS0E6wJ/AfL/Z/4L/fv7UPsM+wH7D/tC+5L78PtZ/Lj8Cf1z/Qb+r/5l/w8AmQAPAXIBtgHbAeIB1AHLAdkB9gEbAjgCOQIjAuwBggHeAAAA8f7P/bn8uPvk+lv6L/ps+hH7//sb/V3+q//hAOYBpwIfA2cDkAOMA1gD+AJqAr0B9gAHAPD+yv2v/Mr7PPsB+xX7b/v7+7L8gP00/q/+7f7y/uT+4f7g/uv+Fv9q//H/pQBbAfYBdALMAvQC6gKgAhoCegHYAEEAy/+M/4//4P93AC8B5gGLAvwCDQOjArQBTwCr/v78XPvy+QH5sfgX+Sz6qPtP/Rb/1ABKAlMDywOxA0gDvQIEAigBPgBM/3f+yv0e/Wn8y/tj+2H76/vs/FL+FAANAiAEFQaNB0YIOgh3BzwGyQQlA38BLwBo/0b/wP9+ADwBBAK9Aj4DdgM9A5QCyAEEATwAdf+r/tb9Gf1//Of7S/u6+kT6D/o4+qz6YPtK/FD9Y/5m/x0AYgAyAJT/r/6u/ZT8gPun+iv6H/qB+h/70vul/I39dP5R/woAmAAeAakBIwJ8ApkCYwLqATcBSAAp/+39sPyn+/v6rPq5+gn7gfsn/O38rv1X/t7+Q/+t/zUAzgB2AS8C8wLKA68EgAUmBp0G2gbbBqIGIgZeBWcETgMgAvQA3v/w/jj+uv1t/Uj9T/2A/dH9PP62/jn/z/91ABUBlwHfAdUBfwHmABoANP9J/n79EP0n/cf94f5DALgBNAOQBIcF8QW7Be4E0AOcAlYBHgAo/47+b/7H/k7/0/9ZAMsADwEbAdMAOwCQ//f+cf4P/tv91/0Y/pr+Lf+y/x8AXgBeABYAeP+M/n/9dPyA+8X6a/qN+jr7Zvze/XD/CgGCAp4DOgQ8BKwDxwK/AZkAc/96/sn9fv2c/en9QP6y/jn/0/+CACcBuQFSAvYCiQPwA/wDhwOkAmIB0/8e/lr8tvqF+f34J/n1+Sv7jfwS/pD/uQBhAWwB4wAVAEH/Yv6Q/fb8p/zE/Ev98P2F/hP/i//m/yYALgD//8z/s/+1/97/LgCfAEIBEgLpAq0DTQSvBL4EbQSvA4wCKwGt/yf+vfyf++36uPr8+oz7P/wT/er9m/4M/yv/+v6x/nX+Qv4l/jH+a/7n/qP/bQAmAc8BXALHAhEDIgP5Aq8CUwLkAWgB3QBDAKf/Df9t/sT9Gv1z/Nz7X/v8+rT6jfqJ+qn67PpJ+7r7QPze/Jj9cf5l/3IAmAHUAh4EawWmBrwHnQgyCWMJIglqCEQHywUgBFkCoQAv/y3+qf2f/eb9Vv7q/ob/9P8WANr/Rv+Z/v/9cf39/Lv8svz5/Ir9Lf69/jv/mP/N/9j/pP8y/6j+IP6i/UD9C/0J/Uz9z/12/in/4P+IAA0BYAF0AUsBAwGwAFMA+P+r/3X/Yv90/5D/qP/B/9j/7f8DABAAEQAWACQAOABQAGIAZwBkAF0ATgA6ACIACQD6//r/BgAZACoALQAeAPT/oP8a/2L+gP2J/JX7sPrw+Xb5WPme+Ub6N/tY/KX9Cf9kAKIBrgKDAzMEygQzBWQFUwX3BF0EkAOLAl4BJQAG/z3+8/0m/sv+vf/SAPkBBQOnA7EDFwPoAXAA9P56/TD8Wvsg+537xfw6/rX/LAF1AlQDqwNVA1cCCwGw/0z+Bv0J/G77W/vQ+4L8QP0Q/tv+j/8lAHgAggB1AGYARwAQALH/GP9e/o39mvyO+3z6fvnJ+IH4ofgh+ev54Pr5+xr9Df6v/vT+3/6a/kf+3f1m/fv8p/x9/IH8i/yI/In8k/y1/Pv8Vv3A/UX+4v6M/zYAvQAIARkB8gCXABUAZP+G/oz9gvxz+2n6Yvlo+Jf3Dfft9lL3Ovia+WD7bP2n/+YB4QNnBWcG4Ab5BtIGYQawBeUEEQRNA6AC4wEJATUAhf8e/yH/f/8sACoBZAK/AxMFDQZ4BlMGpwWlBH4DMQLcAMD///6s/r/+8/4S/yb/Hv/f/mH+jf1p/Dr7LfpK+aj4Xvhz+P749fkg+1H8cv1a/t3+3/5L/iz9wvtD+sf4fves9nr2Avc7+Nb5lPtt/TX/sAC7ATECFAKzAUEBtgAkAKP/O/8R/yf/RP9M/1D/U/9p/6H/4/8mAH8A6wBdAcQB9QHTAWcBvADl//z+CP4h/Xf8J/w4/KT8Rv38/cb+kv8+ALgA7gDhALYAiABOAA8A0v+X/2//XP9C/xT/2v6X/lf+J/7//eP95P0L/l/+6f6o/5gAugECA10EswXqBt0HYwheCMcHqQYnBWgDggGk/xL+/Px1/Hz82vxl/SL+/P7K/3UA4wASATcBcQGoAdMB5AHJAZYBUAHaAC8AW/9s/ov91/xI/OD7m/t1+3r7rvsF/Hr8Cf2x/Xv+av9pAGUBRQL0AnUDyAP1AwQE/APpA+oDEARcBMYEMAWBBbcFxQWUBRoFTgQ7AwYC0ACl/5v+0v1a/UT9jP0M/qT+TP/n/1QAfABNAMv/Hv9n/qT96PxJ/NX7oPup+8z78fsj/F78pfz8/FL9p/0P/pT+L//b/4gAKAHAAUwCwgIbA00DTwMiA8QCNgJ7AZ4Aq/+2/tX9KP3E/K784fxK/dD9bP4F/3T/of+E/yX/q/46/tL9iP18/b39W/5T/3cAqAHkAh0EPwVABggHjwfwBzUIUQhACPUHaQeqBsAFpwRoAxkC0AC6//b+h/5t/pv+/v6Y/1kAHgHPAWEC0gI4A6ED9wMtBDwEFwTIA1IDqQLQAdgA1//4/lj++f3Z/e79K/6X/i7/2v+OAEEB7wGpAnQDOATiBFsFjAV5BSYFkAS+A7kCkwFxAGz/iv7L/SH9ffzx+4D7Jfvi+rT6nvq1+gf7ivs4/AX94P3L/sD/rgCJAT4CugLwAtUCZgKoAa4Ajv9h/k39hfwv/FP85vzB/bv+yf/IAHwBwgGNAeoAHgBj/77+Uv5S/tb+8/+aAXcDRgX0BlEIIAk/CY8IHQc/BT4DMAFP/+X9IP0l/en9D/9OAJwByQKTA9cDbwNjAhUBzf+L/nH9qPxD/Gr8G/0F/vL+5v/LAJMBOAKVAqUCmAKGAmYCOwL2AY4BGQGcAAQAUP+K/r39C/2K/DX8DPwM/C78dfza/Eb9q/0F/lL+nf7s/jD/X/9y/2H/Mf/p/of+Ff6h/UL9Gf0//bT9c/5o/30ArQHnAgcE9gSkBQsGPQZGBg8GjgW7BI4DGgJyAKD+v/z5+ob5tfi++KD5SfuD/QwAwwJfBWoHlgjGCAEIpAb9BAUD5gDt/kb9HPx0++76UfrB+UP54fit+IT4YPh8+Or4mfl3+k378vt5/Oj8PP1//an9u/3Z/RT+aP7P/ir/ZP+H/5H/fP9I/+/+dP7v/XL9BP2v/H38dPya/O/8YP3c/Vf+vf72/vH+qf4i/nr9y/wf/Iv7Mfsl+3L7EPzX/KX9dP4t/7D/6f/G/0r/mv7V/fj8Efwz+2f6xflS+ff4qfh6+HP4pvgg+dP5uPrQ+w79X/6n/7MAYgGvAZ8BRQG6AP3/If9N/pv9GP3H/Ij8Svwg/BT8Kvxs/M38Sf30/c3+xv/KALYBbALwAkUDdAOIA38DYANGAz8DTQNsA4EDegNdAygD1gJoAtkBMAGIAPf/hf9C/zz/ev8GANwA5gEQA0oEfQWKBlkH2QcHCPIHqAceB1YGWQUsBOIChwEbAKz+Xv1d/OD7Efzo/FP+KwA5AlcEPgZ+B80HHAd7BUUD0QAt/pr7iPk3+NL3UfhB+U76hfvG/Nv9r/4Q//z+1/7Y/uz+Ff9M/3//1f9SAL8ABgEsATQBPAFaAXcBiwGbAaEBnQGKAUwB1AAqAFj/dP6Z/cz8I/zA+7b7DPy8/Kb9q/7B/8wAogEpAlICIAK6AUEBtQApALv/fP9+/77/EgBfAKsA8AAnAU8BVwE8ARsBAQHnAM0ApQBoACIA2v+L/zr/7f6u/pT+rv72/mb/8P+AAA8BiwHTAdcBkQEJAV0Aq//8/mj+FP4X/nn+Mv8UAPkA1AGKAu4C5wJlAmwBMgDf/nv9Ivz5+hj6mPl5+Yv5sfnv+Tv6iPrS+gT7HvtE+4v76Ptc/Nr8WP3j/Xz+EP+Y/xUAhgD6AHgB9gFqAs4CFgM9AzoD+gJxAqIBlABZ/wf+q/xY+zD6SPmv+Gn4Z/ie+BP5xPmj+qn7yfz8/U3/ugAsAooDtgSTBSIGYAZMBu4FSAVsBHwDlAK7AfYAPQCM///+q/6e/ur+h/9sAJUB8QJgBLUFrgYXB+0GNgYXBbkDHgJmAM/+fv2K/PT7h/si+976wPrE+vL6M/uA+/v7qfx1/UT+6f4//1X/N//w/pz+Rv4J/iP+tf7C/zgB4AKEBBoGfAdtCMkIewiKBzgGvgQgA4IBFgD5/kj+A/7o/cv9sP2E/S39pfzW+8n6wPno+En4+fcO+I/4j/kF+7b8dP4pAKsBzgJ3A4sDDQMyAicB+P/K/s/9KP3v/CD9gv3r/WL+1/4z/2z/af8s/+j+uf6W/nz+ZP5D/i/+Lv4r/iP+HP4g/kn+qf41/+b/swCOAXECTgMFBIQExQTKBKYEagQTBKsDRAPoAp4CZAIhAsQBTwG+AAkAMP8x/hL98vvr+gf6W/n9+Pn4VvkM+vr6/fsD/eX9c/6Q/jH+ZP1d/FL7V/qe+Wz56vko+xD9Sv+GAaoDdgWPBr8G6QUgBNYBbv8A/dj6XPnK+E752/rv/CH/ZAFyA+8EqAVnBTkEpwIVAYj/N/5j/S39x/0n/8sAWQLFA90EbwViBYME3ALYAMb+tPzT+lX5V/gJ+G34LvkT+h/7M/w2/Rn+sv7//jz/hv/O/xIAQQBNAE8ATwAvAO3/mP9B/xX/NP+P/xwAzACCATgC1gImAwwDggKVAXMARv8W/v78LvzD+9D7VPwa/f39//4LAAQB2wF2AtECFANVA4UDowOoA4wDXwMiA78CLgJ6Aa0A4v8u/47+Av6R/Tr9B/39/BT9R/2Y/QL+i/4v/97/hQAOAWYBjQGCAUwB9gCBAPn/d/8K/7f+ff5I/gv+z/2U/Vj9Hf3c/Jj8ZPxL/Ev8Y/yP/Mn8Fv11/dz9Q/6l/vX+L/9O/0//N/8S/+3+0/7Y/hT/mP9kAHABnwLVAwMFDgbLBiEHAwd3BqQFrgSaA4ECigHMAF4AQwBWAIEAzwBAAdABfgI0A+gDqgR1BS0GtAbaBnsGoQVUBKkCwACs/pf8yfp1+aX4VvhX+A==\" type=\"audio/x-wav\" />\n",
              "                    Your browser does not support the audio element.\n",
              "                </audio>\n",
              "              "
            ],
            "text/plain": [
              "<IPython.lib.display.Audio object>"
            ]
          },
          "metadata": {},
          "execution_count": 15
        }
      ]
    },
    {
      "cell_type": "markdown",
      "metadata": {
        "id": "RhurxivsIGFX"
      },
      "source": [
        "# load use wave"
      ]
    },
    {
      "cell_type": "code",
      "metadata": {
        "colab": {
          "base_uri": "https://localhost:8080/"
        },
        "id": "7LPBfnaUIIQr",
        "outputId": "3c0c673f-36a3-45f6-b651-25217d69b2e7"
      },
      "source": [
        "# Load use wave \n",
        "import wave\n",
        "wav1 = wave.open(pathAS)\n",
        "print(\"Signal Aortic valve Stenosis (AS)\")\n",
        "print(\"Sampling (frame) rate = \", wav1.getframerate())\n",
        "print(\"Total samples (frames) = \", wav1.getnframes())\n",
        "print(\"Duration = \", wav1.getnframes()/wav1.getframerate())\n",
        "print(\"----------------------------------\")\n",
        "wav2 = wave.open(pathMR)\n",
        "print(\"Signal Mitral valve Regurgitation (MR)\")\n",
        "print(\"Sampling (frame) rate = \", wav2.getframerate())\n",
        "print(\"Total samples (frames) = \", wav2.getnframes())\n",
        "print(\"Duration = \", wav2.getnframes()/wav2.getframerate())\n",
        "print(\"----------------------------------\")\n",
        "wav3 = wave.open(pathMS)\n",
        "print(\"Signal  Mitral valve Stenosis (MS)\")\n",
        "print(\"Sampling (frame) rate = \", wav3.getframerate())\n",
        "print(\"Total samples (frames) = \", wav3.getnframes())\n",
        "print(\"Duration = \", wav3.getnframes()/wav3.getframerate())\n",
        "print(\"----------------------------------\")\n",
        "wav4 = wave.open(pathMVP)\n",
        "print(\"Signal Murmur in systole (MVP)\")\n",
        "print(\"Sampling (frame) rate = \", wav4.getframerate())\n",
        "print(\"Total samples (frames) = \", wav4.getnframes())\n",
        "print(\"Duration = \", wav4.getnframes()/wav4.getframerate())\n",
        "print(\"----------------------------------\")\n",
        "wav5 = wave.open(pathN)\n",
        "print(\"Signal Normal (N)\")\n",
        "print(\"Sampling (frame) rate = \", wav5.getframerate())\n",
        "print(\"Total samples (frames) = \", wav5.getnframes())\n",
        "print(\"Duration = \", wav5.getnframes()/wav5.getframerate())"
      ],
      "execution_count": null,
      "outputs": [
        {
          "output_type": "stream",
          "name": "stdout",
          "text": [
            "Signal Aortic valve Stenosis (AS)\n",
            "Sampling (frame) rate =  22050\n",
            "Total samples (frames) =  57466\n",
            "Duration =  2.6061678004535147\n",
            "----------------------------------\n",
            "Signal Mitral valve Regurgitation (MR)\n",
            "Sampling (frame) rate =  22050\n",
            "Total samples (frames) =  46292\n",
            "Duration =  2.0994104308390025\n",
            "----------------------------------\n",
            "Signal  Mitral valve Stenosis (MS)\n",
            "Sampling (frame) rate =  22050\n",
            "Total samples (frames) =  65120\n",
            "Duration =  2.95328798185941\n",
            "----------------------------------\n",
            "Signal Murmur in systole (MVP)\n",
            "Sampling (frame) rate =  22050\n",
            "Total samples (frames) =  56234\n",
            "Duration =  2.550294784580499\n",
            "----------------------------------\n",
            "Signal Normal (N)\n",
            "Sampling (frame) rate =  22050\n",
            "Total samples (frames) =  46124\n",
            "Duration =  2.0917913832199546\n"
          ]
        }
      ]
    },
    {
      "cell_type": "markdown",
      "metadata": {
        "id": "nzJiYUogmILJ"
      },
      "source": [
        "# Ekstraksi"
      ]
    },
    {
      "cell_type": "code",
      "metadata": {
        "colab": {
          "base_uri": "https://localhost:8080/"
        },
        "id": "zQZgK4f6hc3w",
        "outputId": "1fe4d89b-f66d-4204-d53b-2e78723932d9"
      },
      "source": [
        "pip install python_speech_features"
      ],
      "execution_count": null,
      "outputs": [
        {
          "output_type": "stream",
          "name": "stdout",
          "text": [
            "Collecting python_speech_features\n",
            "  Downloading python_speech_features-0.6.tar.gz (5.6 kB)\n",
            "Building wheels for collected packages: python-speech-features\n",
            "  Building wheel for python-speech-features (setup.py) ... \u001b[?25l\u001b[?25hdone\n",
            "  Created wheel for python-speech-features: filename=python_speech_features-0.6-py3-none-any.whl size=5888 sha256=4ac7904cab19e8122acac1205396ebd9885a4abf5f01f51b104c047094a58d9e\n",
            "  Stored in directory: /root/.cache/pip/wheels/b0/0e/94/28cd6afa3cd5998a63eef99fe31777acd7d758f59cf24839eb\n",
            "Successfully built python-speech-features\n",
            "Installing collected packages: python-speech-features\n",
            "Successfully installed python-speech-features-0.6\n"
          ]
        }
      ]
    },
    {
      "cell_type": "code",
      "metadata": {
        "id": "Y_paI6VBmNWT"
      },
      "source": [
        "#ekstrak MFCCs\n",
        "from python_speech_features import mfcc"
      ],
      "execution_count": null,
      "outputs": []
    },
    {
      "cell_type": "code",
      "metadata": {
        "id": "3Rqrqp94meyg",
        "colab": {
          "base_uri": "https://localhost:8080/"
        },
        "outputId": "09b6013b-9a0b-4094-c2ed-cfeecf3de728"
      },
      "source": [
        "mfccs = mfcc(sinyalAS, srAS)\n",
        "print('\\nMFCC:\\nNumber of windows =', mfccs.shape[0])\n",
        "print('Length of each feature =', mfccs.shape[1])"
      ],
      "execution_count": null,
      "outputs": [
        {
          "output_type": "stream",
          "name": "stderr",
          "text": [
            "WARNING:root:frame length (551) is greater than FFT size (512), frame will be truncated. Increase NFFT to avoid.\n"
          ]
        },
        {
          "output_type": "stream",
          "name": "stdout",
          "text": [
            "\n",
            "MFCC:\n",
            "Number of windows = 259\n",
            "Length of each feature = 13\n"
          ]
        }
      ]
    },
    {
      "cell_type": "code",
      "metadata": {
        "id": "WLgTutKPmmAL",
        "colab": {
          "base_uri": "https://localhost:8080/",
          "height": 317
        },
        "outputId": "67c35038-7e6e-4224-a500-6b4bd342cb1b"
      },
      "source": [
        "from python_speech_features import logfbank\n",
        "\n",
        "mfccs = mfccs.T\n",
        "plt.matshow(mfccs)\n",
        "plt.title('MFCCs')\n",
        "\n",
        "filterbank_features = logfbank(sinyalAS, srAS)\n",
        "\n",
        "print('\\nFilter bank:\\nNumber of windows =', filterbank_features.shape[0])\n",
        "print('Length of each feature =', filterbank_features.shape[1])\n",
        "\n",
        "filterbank_features = filterbank_features.T\n",
        "plt.matshow(filterbank_features)\n",
        "plt.title('Filter bank')\n",
        "plt.show()"
      ],
      "execution_count": null,
      "outputs": [
        {
          "output_type": "stream",
          "name": "stderr",
          "text": [
            "WARNING:root:frame length (551) is greater than FFT size (512), frame will be truncated. Increase NFFT to avoid.\n"
          ]
        },
        {
          "output_type": "stream",
          "name": "stdout",
          "text": [
            "\n",
            "Filter bank:\n",
            "Number of windows = 259\n",
            "Length of each feature = 26\n"
          ]
        },
        {
          "output_type": "display_data",
          "data": {
            "image/png": "[encoded data removed]",
            "text/plain": [
              "<Figure size 1152x144 with 1 Axes>"
            ]
          },
          "metadata": {
            "needs_background": "light"
          }
        },
        {
          "output_type": "display_data",
          "data": {
            "image/png": "[encoded data removed]",
            "text/plain": [
              "<Figure size 1152x144 with 1 Axes>"
            ]
          },
          "metadata": {
            "needs_background": "light"
          }
        }
      ]
    },
    {
      "cell_type": "code",
      "metadata": {
        "id": "G5-KF-vXmtbB",
        "colab": {
          "base_uri": "https://localhost:8080/"
        },
        "outputId": "61ca7eda-9c6d-4835-f9a6-347eb332186e"
      },
      "source": [
        "# Get more components\n",
        "mfccs1 = librosa.feature.mfcc(sinyalAS, sr=srAS, n_mfcc=39)\n",
        "mfccs2 = librosa.feature.mfcc(sinyalMR, sr=8000, n_mfcc=26, n_fft=2048, hop_length=512, n_mels=128)\n",
        "mfccs3 = librosa.feature.mfcc(sinyalMS, sr=8000, n_mfcc=26, n_fft=2048, hop_length=512, n_mels=128)\n",
        "mfccs4 = librosa.feature.mfcc(sinyalMVP, sr=8000, n_mfcc=26, n_fft=2048, hop_length=512, n_mels=128)\n",
        "mfccs5 = librosa.feature.mfcc(sinyalN, sr=8000, n_mfcc=26, n_fft=2048, hop_length=512, n_mels=128)\n",
        "print (mfccs1)"
      ],
      "execution_count": null,
      "outputs": [
        {
          "output_type": "stream",
          "name": "stdout",
          "text": [
            "[[-278.8842     -267.41437    -263.4761     ... -280.74762\n",
            "  -277.49704    -279.75333   ]\n",
            " [ 186.80283     205.97736     214.6626     ...  191.94772\n",
            "   194.10837     188.54303   ]\n",
            " [   8.20051      27.235846     38.61669    ...   17.647186\n",
            "    17.617294     11.864166  ]\n",
            " ...\n",
            " [   2.8171558     0.63465875   -6.4937167  ...    1.8337879\n",
            "     0.4850074     0.32445934]\n",
            " [   4.6721754    -1.0271147    -7.576641   ...    5.131071\n",
            "     2.9379675     6.0217385 ]\n",
            " [  -1.4039203    -5.2128477   -10.005192   ...    4.984794\n",
            "     1.1575643     3.5244777 ]]\n"
          ]
        }
      ]
    },
    {
      "cell_type": "code",
      "metadata": {
        "id": "COFtLzH8mwVS",
        "colab": {
          "base_uri": "https://localhost:8080/",
          "height": 574
        },
        "outputId": "785c72b0-95be-4691-f36f-8f19e2ce9b23"
      },
      "source": [
        "import librosa.display\n",
        "plt.figure(figsize=(25, 10))\n",
        "librosa.display.specshow(mfccs1,\n",
        "                         sr=srAS,\n",
        "                         x_axis='time',\n",
        "                         y_axis='hz')\n",
        "plt.colorbar(format=\"%+2f\")\n",
        "plt.title(\"Signal Aortic valve Stenosis (AS)\")\n",
        "plt.tight_layout()"
      ],
      "execution_count": null,
      "outputs": [
        {
          "output_type": "display_data",
          "data": {
            "image/png": "[encoded data removed]",
            "text/plain": [
              "<Figure size 1800x720 with 2 Axes>"
            ]
          },
          "metadata": {
            "needs_background": "light"
          }
        }
      ]
    },
    {
      "cell_type": "code",
      "metadata": {
        "id": "9RolySyfm6qh"
      },
      "source": [
        "delta_mfccs = librosa.feature.delta(mfccs1)\n",
        "delta2_mfccs = librosa.feature.delta(mfccs1, order=2)"
      ],
      "execution_count": null,
      "outputs": []
    },
    {
      "cell_type": "code",
      "metadata": {
        "id": "-o7yyLaym7Sa",
        "colab": {
          "base_uri": "https://localhost:8080/",
          "height": 579
        },
        "outputId": "9dcf3407-9586-486e-81b2-712b5d3b1577"
      },
      "source": [
        "plt.figure(figsize=(25, 10))\n",
        "librosa.display.specshow(delta_mfccs,\n",
        "                         sr=srAS,\n",
        "                         x_axis='time',\n",
        "                         y_axis='hz')\n",
        "plt.colorbar(format=\"%+2f\")\n",
        "plt.title(\"Signal Aortic valve Stenosis (AS)\")\n",
        "plt.tight_layout()"
      ],
      "execution_count": null,
      "outputs": [
        {
          "output_type": "display_data",
          "data": {
            "image/png": "[encoded data removed]",
            "text/plain": [
              "<Figure size 1800x720 with 2 Axes>"
            ]
          },
          "metadata": {
            "needs_background": "light"
          }
        }
      ]
    },
    {
      "cell_type": "code",
      "metadata": {
        "id": "FIrQy3Snm_v5",
        "colab": {
          "base_uri": "https://localhost:8080/",
          "height": 579
        },
        "outputId": "c847bb7b-afb7-4663-ce4c-3af29014d164"
      },
      "source": [
        "plt.figure(figsize=(25, 10))\n",
        "librosa.display.specshow(delta2_mfccs,\n",
        "                         sr=srAS,\n",
        "                         x_axis='time',\n",
        "                         y_axis='hz')\n",
        "plt.colorbar(format=\"%+2f\")\n",
        "plt.title(\"Signal Aortic valve Stenosis (AS)\")\n",
        "plt.tight_layout()"
      ],
      "execution_count": null,
      "outputs": [
        {
          "output_type": "display_data",
          "data": {
            "image/png": "[encoded data removed]",
            "text/plain": [
              "<Figure size 1800x720 with 2 Axes>"
            ]
          },
          "metadata": {
            "needs_background": "light"
          }
        }
      ]
    },
    {
      "cell_type": "code",
      "metadata": {
        "id": "uUdvW6PLnBVw"
      },
      "source": [
        "comprehensive_mfccs = np.concatenate((mfccs1, delta_mfccs, delta2_mfccs))"
      ],
      "execution_count": null,
      "outputs": []
    },
    {
      "cell_type": "code",
      "metadata": {
        "id": "wJsNZquqnDpy",
        "colab": {
          "base_uri": "https://localhost:8080/",
          "height": 441
        },
        "outputId": "e1b9b072-d9cc-4bb6-acb5-1f0b6ebbd707"
      },
      "source": [
        "plt.figure(figsize=(20, 6))\n",
        "librosa.display.specshow(mfccs1,\n",
        "                         sr=srAS,\n",
        "                         x_axis='time',\n",
        "                         y_axis='hz')\n",
        "plt.colorbar()\n",
        "plt.title(\"Signal Aortic valve Stenosis (AS)\")\n",
        "plt.tight_layout()\n",
        "plt.savefig('MFCCs_AS.png')"
      ],
      "execution_count": null,
      "outputs": [
        {
          "output_type": "display_data",
          "data": {
            "image/png": "[encoded data removed]",
            "text/plain": [
              "<Figure size 1440x432 with 2 Axes>"
            ]
          },
          "metadata": {
            "needs_background": "light"
          }
        }
      ]
    },
    {
      "cell_type": "markdown",
      "metadata": {
        "id": "HSzYGe8lnIPp"
      },
      "source": [
        "# Buat Dataset ekstraksi fitur"
      ]
    },
    {
      "cell_type": "code",
      "metadata": {
        "id": "lTmiJySVnODS"
      },
      "source": [
        "header = 'filename' \n",
        "for i in range(1, 40):\n",
        "    header += f' mfcc{i}'\n",
        "header += ' label'\n",
        "header = header.split()"
      ],
      "execution_count": null,
      "outputs": []
    },
    {
      "cell_type": "code",
      "metadata": {
        "id": "2o2B0zV9nQNp"
      },
      "source": [
        "file = open('MFCCs.csv', 'w', newline='')\n",
        "with file:\n",
        "    writer = csv.writer(file)\n",
        "    writer.writerow(header)\n",
        "genres = 'AS MR MS MVP N'.split()\n",
        "for g in genres:\n",
        "    for filename in os.listdir(f'/content/gdrive/My Drive/sinyal/{g}'):\n",
        "        signal = f'/content/gdrive/My Drive/sinyal/{g}/{filename}'\n",
        "        # use kaiser_fast technique for faster extraction\n",
        "        y, sr = librosa.load(signal, mono=True, duration=3, res_type='kaiser_fast')\n",
        "        mfcc = librosa.feature.mfcc(y=y, sr=sr, n_mfcc=39)\n",
        "        to_append = f'{filename}'  \n",
        "        for e in mfcc:\n",
        "            to_append += f' {np.mean(e.T,axis=0)}'\n",
        "        to_append += f' {g}'\n",
        "        file = open('MFCCs.csv', 'a', newline='')\n",
        "        with file:\n",
        "            writer = csv.writer(file)\n",
        "            writer.writerow(to_append.split())"
      ],
      "execution_count": null,
      "outputs": []
    },
    {
      "cell_type": "code",
      "metadata": {
        "id": "xyJMCnM2nbky",
        "colab": {
          "base_uri": "https://localhost:8080/",
          "height": 270
        },
        "outputId": "c433288b-ebaf-4da9-ef04-67fcd8bad9c7"
      },
      "source": [
        "data1_1 = pd.read_csv('MFCCs.csv')\n",
        "data1_1.head()"
      ],
      "execution_count": null,
      "outputs": [
        {
          "output_type": "execute_result",
          "data": {
            "text/html": [
              "\n",
              "  <div id=\"df-fd00e692-4b81-4a76-bbb0-2c9a01da821a\">\n",
              "    <div class=\"colab-df-container\">\n",
              "      <div>\n",
              "<style scoped>\n",
              "    .dataframe tbody tr th:only-of-type {\n",
              "        vertical-align: middle;\n",
              "    }\n",
              "\n",
              "    .dataframe tbody tr th {\n",
              "        vertical-align: top;\n",
              "    }\n",
              "\n",
              "    .dataframe thead th {\n",
              "        text-align: right;\n",
              "    }\n",
              "</style>\n",
              "<table border=\"1\" class=\"dataframe\">\n",
              "  <thead>\n",
              "    <tr style=\"text-align: right;\">\n",
              "      <th></th>\n",
              "      <th>filename</th>\n",
              "      <th>mfcc1</th>\n",
              "      <th>mfcc2</th>\n",
              "      <th>mfcc3</th>\n",
              "      <th>mfcc4</th>\n",
              "      <th>mfcc5</th>\n",
              "      <th>mfcc6</th>\n",
              "      <th>mfcc7</th>\n",
              "      <th>mfcc8</th>\n",
              "      <th>mfcc9</th>\n",
              "      <th>mfcc10</th>\n",
              "      <th>mfcc11</th>\n",
              "      <th>mfcc12</th>\n",
              "      <th>mfcc13</th>\n",
              "      <th>mfcc14</th>\n",
              "      <th>mfcc15</th>\n",
              "      <th>mfcc16</th>\n",
              "      <th>mfcc17</th>\n",
              "      <th>mfcc18</th>\n",
              "      <th>mfcc19</th>\n",
              "      <th>mfcc20</th>\n",
              "      <th>mfcc21</th>\n",
              "      <th>mfcc22</th>\n",
              "      <th>mfcc23</th>\n",
              "      <th>mfcc24</th>\n",
              "      <th>mfcc25</th>\n",
              "      <th>mfcc26</th>\n",
              "      <th>mfcc27</th>\n",
              "      <th>mfcc28</th>\n",
              "      <th>mfcc29</th>\n",
              "      <th>mfcc30</th>\n",
              "      <th>mfcc31</th>\n",
              "      <th>mfcc32</th>\n",
              "      <th>mfcc33</th>\n",
              "      <th>mfcc34</th>\n",
              "      <th>mfcc35</th>\n",
              "      <th>mfcc36</th>\n",
              "      <th>mfcc37</th>\n",
              "      <th>mfcc38</th>\n",
              "      <th>mfcc39</th>\n",
              "      <th>label</th>\n",
              "    </tr>\n",
              "  </thead>\n",
              "  <tbody>\n",
              "    <tr>\n",
              "      <th>0</th>\n",
              "      <td>New_AS_002.wav</td>\n",
              "      <td>-270.312012</td>\n",
              "      <td>207.169037</td>\n",
              "      <td>31.064449</td>\n",
              "      <td>-37.807789</td>\n",
              "      <td>-1.563168</td>\n",
              "      <td>38.832153</td>\n",
              "      <td>21.351631</td>\n",
              "      <td>-11.033909</td>\n",
              "      <td>0.345012</td>\n",
              "      <td>15.735482</td>\n",
              "      <td>2.733459</td>\n",
              "      <td>-4.456989</td>\n",
              "      <td>-0.844552</td>\n",
              "      <td>1.718250</td>\n",
              "      <td>2.496613</td>\n",
              "      <td>-4.724103</td>\n",
              "      <td>-4.517701</td>\n",
              "      <td>4.093516</td>\n",
              "      <td>-1.923479</td>\n",
              "      <td>-6.525569</td>\n",
              "      <td>0.530774</td>\n",
              "      <td>-0.787213</td>\n",
              "      <td>-3.420860</td>\n",
              "      <td>-1.595782</td>\n",
              "      <td>-3.613968</td>\n",
              "      <td>-2.175891</td>\n",
              "      <td>-1.716591</td>\n",
              "      <td>-5.561532</td>\n",
              "      <td>-1.829583</td>\n",
              "      <td>-0.145201</td>\n",
              "      <td>-4.996367</td>\n",
              "      <td>-2.937857</td>\n",
              "      <td>-0.507813</td>\n",
              "      <td>-2.291254</td>\n",
              "      <td>-1.462487</td>\n",
              "      <td>-2.310789</td>\n",
              "      <td>-3.109460</td>\n",
              "      <td>-0.778054</td>\n",
              "      <td>-1.592859</td>\n",
              "      <td>AS</td>\n",
              "    </tr>\n",
              "    <tr>\n",
              "      <th>1</th>\n",
              "      <td>New_AS_003.wav</td>\n",
              "      <td>-270.052887</td>\n",
              "      <td>206.556229</td>\n",
              "      <td>30.668941</td>\n",
              "      <td>-35.199940</td>\n",
              "      <td>-2.381892</td>\n",
              "      <td>38.473564</td>\n",
              "      <td>21.159286</td>\n",
              "      <td>-10.343503</td>\n",
              "      <td>0.922215</td>\n",
              "      <td>16.129637</td>\n",
              "      <td>3.671278</td>\n",
              "      <td>-3.794407</td>\n",
              "      <td>-0.277716</td>\n",
              "      <td>1.708798</td>\n",
              "      <td>2.473710</td>\n",
              "      <td>-4.803007</td>\n",
              "      <td>-4.566629</td>\n",
              "      <td>3.779957</td>\n",
              "      <td>-2.102420</td>\n",
              "      <td>-6.510000</td>\n",
              "      <td>0.075008</td>\n",
              "      <td>-1.511851</td>\n",
              "      <td>-4.351663</td>\n",
              "      <td>-2.211451</td>\n",
              "      <td>-3.479132</td>\n",
              "      <td>-1.592008</td>\n",
              "      <td>-1.310286</td>\n",
              "      <td>-5.439855</td>\n",
              "      <td>-2.417980</td>\n",
              "      <td>-0.899911</td>\n",
              "      <td>-4.763449</td>\n",
              "      <td>-2.278175</td>\n",
              "      <td>-0.365382</td>\n",
              "      <td>-2.815546</td>\n",
              "      <td>-1.993283</td>\n",
              "      <td>-1.950855</td>\n",
              "      <td>-2.142981</td>\n",
              "      <td>-0.708663</td>\n",
              "      <td>-2.475000</td>\n",
              "      <td>AS</td>\n",
              "    </tr>\n",
              "    <tr>\n",
              "      <th>2</th>\n",
              "      <td>New_AS_001.wav</td>\n",
              "      <td>-268.828735</td>\n",
              "      <td>206.775223</td>\n",
              "      <td>31.905193</td>\n",
              "      <td>-36.548046</td>\n",
              "      <td>-1.366938</td>\n",
              "      <td>37.607773</td>\n",
              "      <td>20.670069</td>\n",
              "      <td>-10.415323</td>\n",
              "      <td>0.835103</td>\n",
              "      <td>16.207823</td>\n",
              "      <td>3.512309</td>\n",
              "      <td>-4.190484</td>\n",
              "      <td>-0.638978</td>\n",
              "      <td>1.817045</td>\n",
              "      <td>1.854665</td>\n",
              "      <td>-4.814584</td>\n",
              "      <td>-3.994514</td>\n",
              "      <td>4.009584</td>\n",
              "      <td>-1.824206</td>\n",
              "      <td>-6.087352</td>\n",
              "      <td>0.448344</td>\n",
              "      <td>-1.103815</td>\n",
              "      <td>-4.087056</td>\n",
              "      <td>-2.321999</td>\n",
              "      <td>-3.573753</td>\n",
              "      <td>-2.191151</td>\n",
              "      <td>-1.921803</td>\n",
              "      <td>-5.161684</td>\n",
              "      <td>-1.459483</td>\n",
              "      <td>0.158224</td>\n",
              "      <td>-4.362236</td>\n",
              "      <td>-2.837088</td>\n",
              "      <td>-1.177077</td>\n",
              "      <td>-3.376316</td>\n",
              "      <td>-2.469278</td>\n",
              "      <td>-2.042288</td>\n",
              "      <td>-1.881862</td>\n",
              "      <td>-0.180524</td>\n",
              "      <td>-1.840743</td>\n",
              "      <td>AS</td>\n",
              "    </tr>\n",
              "    <tr>\n",
              "      <th>3</th>\n",
              "      <td>New_AS_028.wav</td>\n",
              "      <td>-300.040253</td>\n",
              "      <td>207.358673</td>\n",
              "      <td>33.348301</td>\n",
              "      <td>-37.320606</td>\n",
              "      <td>-1.073329</td>\n",
              "      <td>40.692799</td>\n",
              "      <td>22.880648</td>\n",
              "      <td>-9.917540</td>\n",
              "      <td>1.861121</td>\n",
              "      <td>17.844790</td>\n",
              "      <td>4.876935</td>\n",
              "      <td>-2.894202</td>\n",
              "      <td>1.038229</td>\n",
              "      <td>3.931462</td>\n",
              "      <td>3.580698</td>\n",
              "      <td>-4.206943</td>\n",
              "      <td>-3.419557</td>\n",
              "      <td>5.523180</td>\n",
              "      <td>-0.166236</td>\n",
              "      <td>-4.710668</td>\n",
              "      <td>1.758942</td>\n",
              "      <td>0.060099</td>\n",
              "      <td>-2.757664</td>\n",
              "      <td>-0.854891</td>\n",
              "      <td>-2.209420</td>\n",
              "      <td>-0.400690</td>\n",
              "      <td>-0.100001</td>\n",
              "      <td>-4.141811</td>\n",
              "      <td>-0.762151</td>\n",
              "      <td>0.866881</td>\n",
              "      <td>-3.303811</td>\n",
              "      <td>-0.918810</td>\n",
              "      <td>0.519580</td>\n",
              "      <td>-2.473238</td>\n",
              "      <td>-1.295881</td>\n",
              "      <td>-0.510779</td>\n",
              "      <td>-0.282916</td>\n",
              "      <td>1.494027</td>\n",
              "      <td>-0.633609</td>\n",
              "      <td>AS</td>\n",
              "    </tr>\n",
              "    <tr>\n",
              "      <th>4</th>\n",
              "      <td>New_AS_016.wav</td>\n",
              "      <td>-268.935150</td>\n",
              "      <td>210.036972</td>\n",
              "      <td>33.190594</td>\n",
              "      <td>-36.907394</td>\n",
              "      <td>-1.104752</td>\n",
              "      <td>39.547722</td>\n",
              "      <td>21.468018</td>\n",
              "      <td>-11.479704</td>\n",
              "      <td>0.714650</td>\n",
              "      <td>16.681379</td>\n",
              "      <td>3.297908</td>\n",
              "      <td>-3.922339</td>\n",
              "      <td>-0.003421</td>\n",
              "      <td>2.405660</td>\n",
              "      <td>2.630570</td>\n",
              "      <td>-4.751607</td>\n",
              "      <td>-4.152561</td>\n",
              "      <td>4.174129</td>\n",
              "      <td>-2.670602</td>\n",
              "      <td>-7.266825</td>\n",
              "      <td>-0.104726</td>\n",
              "      <td>-1.842319</td>\n",
              "      <td>-4.258864</td>\n",
              "      <td>-1.669032</td>\n",
              "      <td>-3.341166</td>\n",
              "      <td>-2.100526</td>\n",
              "      <td>-1.996987</td>\n",
              "      <td>-5.666803</td>\n",
              "      <td>-1.562413</td>\n",
              "      <td>-0.213201</td>\n",
              "      <td>-5.452361</td>\n",
              "      <td>-3.234993</td>\n",
              "      <td>-0.647784</td>\n",
              "      <td>-2.393459</td>\n",
              "      <td>-1.518288</td>\n",
              "      <td>-2.178982</td>\n",
              "      <td>-2.585380</td>\n",
              "      <td>-0.308377</td>\n",
              "      <td>-1.752495</td>\n",
              "      <td>AS</td>\n",
              "    </tr>\n",
              "  </tbody>\n",
              "</table>\n",
              "</div>\n",
              "      <button class=\"colab-df-convert\" onclick=\"convertToInteractive('df-fd00e692-4b81-4a76-bbb0-2c9a01da821a')\"\n",
              "              title=\"Convert this dataframe to an interactive table.\"\n",
              "              style=\"display:none;\">\n",
              "        \n",
              "  <svg xmlns=\"http://www.w3.org/2000/svg\" height=\"24px\"viewBox=\"0 0 24 24\"\n",
              "       width=\"24px\">\n",
              "    <path d=\"M0 0h24v24H0V0z\" fill=\"none\"/>\n",
              "    <path d=\"M18.56 5.44l.94 2.06.94-2.06 2.06-.94-2.06-.94-.94-2.06-.94 2.06-2.06.94zm-11 1L8.5 8.5l.94-2.06 2.06-.94-2.06-.94L8.5 2.5l-.94 2.06-2.06.94zm10 10l.94 2.06.94-2.06 2.06-.94-2.06-.94-.94-2.06-.94 2.06-2.06.94z\"/><path d=\"M17.41 7.96l-1.37-1.37c-.4-.4-.92-.59-1.43-.59-.52 0-1.04.2-1.43.59L10.3 9.45l-7.72 7.72c-.78.78-.78 2.05 0 2.83L4 21.41c.39.39.9.59 1.41.59.51 0 1.02-.2 1.41-.59l7.78-7.78 2.81-2.81c.8-.78.8-2.07 0-2.86zM5.41 20L4 18.59l7.72-7.72 1.47 1.35L5.41 20z\"/>\n",
              "  </svg>\n",
              "      </button>\n",
              "      \n",
              "  <style>\n",
              "    .colab-df-container {\n",
              "      display:flex;\n",
              "      flex-wrap:wrap;\n",
              "      gap: 12px;\n",
              "    }\n",
              "\n",
              "    .colab-df-convert {\n",
              "      background-color: #E8F0FE;\n",
              "      border: none;\n",
              "      border-radius: 50%;\n",
              "      cursor: pointer;\n",
              "      display: none;\n",
              "      fill: #1967D2;\n",
              "      height: 32px;\n",
              "      padding: 0 0 0 0;\n",
              "      width: 32px;\n",
              "    }\n",
              "\n",
              "    .colab-df-convert:hover {\n",
              "      background-color: #E2EBFA;\n",
              "      box-shadow: 0px 1px 2px rgba(60, 64, 67, 0.3), 0px 1px 3px 1px rgba(60, 64, 67, 0.15);\n",
              "      fill: #174EA6;\n",
              "    }\n",
              "\n",
              "    [theme=dark] .colab-df-convert {\n",
              "      background-color: #3B4455;\n",
              "      fill: #D2E3FC;\n",
              "    }\n",
              "\n",
              "    [theme=dark] .colab-df-convert:hover {\n",
              "      background-color: #434B5C;\n",
              "      box-shadow: 0px 1px 3px 1px rgba(0, 0, 0, 0.15);\n",
              "      filter: drop-shadow(0px 1px 2px rgba(0, 0, 0, 0.3));\n",
              "      fill: #FFFFFF;\n",
              "    }\n",
              "  </style>\n",
              "\n",
              "      <script>\n",
              "        const buttonEl =\n",
              "          document.querySelector('#df-fd00e692-4b81-4a76-bbb0-2c9a01da821a button.colab-df-convert');\n",
              "        buttonEl.style.display =\n",
              "          google.colab.kernel.accessAllowed ? 'block' : 'none';\n",
              "\n",
              "        async function convertToInteractive(key) {\n",
              "          const element = document.querySelector('#df-fd00e692-4b81-4a76-bbb0-2c9a01da821a');\n",
              "          const dataTable =\n",
              "            await google.colab.kernel.invokeFunction('convertToInteractive',\n",
              "                                                     [key], {});\n",
              "          if (!dataTable) return;\n",
              "\n",
              "          const docLinkHtml = 'Like what you see? Visit the ' +\n",
              "            '<a target=\"_blank\" href=https://colab.research.google.com/notebooks/data_table.ipynb>data table notebook</a>'\n",
              "            + ' to learn more about interactive tables.';\n",
              "          element.innerHTML = '';\n",
              "          dataTable['output_type'] = 'display_data';\n",
              "          await google.colab.output.renderOutput(dataTable, element);\n",
              "          const docLink = document.createElement('div');\n",
              "          docLink.innerHTML = docLinkHtml;\n",
              "          element.appendChild(docLink);\n",
              "        }\n",
              "      </script>\n",
              "    </div>\n",
              "  </div>\n",
              "  "
            ],
            "text/plain": [
              "         filename       mfcc1       mfcc2  ...    mfcc38    mfcc39  label\n",
              "0  New_AS_002.wav -270.312012  207.169037  ... -0.778054 -1.592859     AS\n",
              "1  New_AS_003.wav -270.052887  206.556229  ... -0.708663 -2.475000     AS\n",
              "2  New_AS_001.wav -268.828735  206.775223  ... -0.180524 -1.840743     AS\n",
              "3  New_AS_028.wav -300.040253  207.358673  ...  1.494027 -0.633609     AS\n",
              "4  New_AS_016.wav -268.935150  210.036972  ... -0.308377 -1.752495     AS\n",
              "\n",
              "[5 rows x 41 columns]"
            ]
          },
          "metadata": {},
          "execution_count": 31
        }
      ]
    },
    {
      "cell_type": "markdown",
      "metadata": {
        "id": "M85ANUVXpceJ"
      },
      "source": [
        "#prepare data untuk seleksi fitur"
      ]
    },
    {
      "cell_type": "code",
      "metadata": {
        "id": "hc7Bdh82pjcx",
        "colab": {
          "base_uri": "https://localhost:8080/"
        },
        "outputId": "c95468a8-f9d2-4ec5-ed6b-c2730ee03944"
      },
      "source": [
        "print('MFCCs :',data1_1.shape)"
      ],
      "execution_count": null,
      "outputs": [
        {
          "output_type": "stream",
          "name": "stdout",
          "text": [
            "MFCCs : (1000, 41)\n"
          ]
        }
      ]
    },
    {
      "cell_type": "code",
      "metadata": {
        "id": "dLHqTNL8qRh3",
        "colab": {
          "base_uri": "https://localhost:8080/",
          "height": 270
        },
        "outputId": "26a03ddf-bec9-4367-8718-026ecef5a996"
      },
      "source": [
        "data1_1 = data1_1.drop(['filename'], axis=1)\n",
        "data1_1.head()"
      ],
      "execution_count": null,
      "outputs": [
        {
          "output_type": "execute_result",
          "data": {
            "text/html": [
              "\n",
              "  <div id=\"df-1636fd51-9296-459e-a1e3-29951de76601\">\n",
              "    <div class=\"colab-df-container\">\n",
              "      <div>\n",
              "<style scoped>\n",
              "    .dataframe tbody tr th:only-of-type {\n",
              "        vertical-align: middle;\n",
              "    }\n",
              "\n",
              "    .dataframe tbody tr th {\n",
              "        vertical-align: top;\n",
              "    }\n",
              "\n",
              "    .dataframe thead th {\n",
              "        text-align: right;\n",
              "    }\n",
              "</style>\n",
              "<table border=\"1\" class=\"dataframe\">\n",
              "  <thead>\n",
              "    <tr style=\"text-align: right;\">\n",
              "      <th></th>\n",
              "      <th>mfcc1</th>\n",
              "      <th>mfcc2</th>\n",
              "      <th>mfcc3</th>\n",
              "      <th>mfcc4</th>\n",
              "      <th>mfcc5</th>\n",
              "      <th>mfcc6</th>\n",
              "      <th>mfcc7</th>\n",
              "      <th>mfcc8</th>\n",
              "      <th>mfcc9</th>\n",
              "      <th>mfcc10</th>\n",
              "      <th>mfcc11</th>\n",
              "      <th>mfcc12</th>\n",
              "      <th>mfcc13</th>\n",
              "      <th>mfcc14</th>\n",
              "      <th>mfcc15</th>\n",
              "      <th>mfcc16</th>\n",
              "      <th>mfcc17</th>\n",
              "      <th>mfcc18</th>\n",
              "      <th>mfcc19</th>\n",
              "      <th>mfcc20</th>\n",
              "      <th>mfcc21</th>\n",
              "      <th>mfcc22</th>\n",
              "      <th>mfcc23</th>\n",
              "      <th>mfcc24</th>\n",
              "      <th>mfcc25</th>\n",
              "      <th>mfcc26</th>\n",
              "      <th>mfcc27</th>\n",
              "      <th>mfcc28</th>\n",
              "      <th>mfcc29</th>\n",
              "      <th>mfcc30</th>\n",
              "      <th>mfcc31</th>\n",
              "      <th>mfcc32</th>\n",
              "      <th>mfcc33</th>\n",
              "      <th>mfcc34</th>\n",
              "      <th>mfcc35</th>\n",
              "      <th>mfcc36</th>\n",
              "      <th>mfcc37</th>\n",
              "      <th>mfcc38</th>\n",
              "      <th>mfcc39</th>\n",
              "      <th>label</th>\n",
              "    </tr>\n",
              "  </thead>\n",
              "  <tbody>\n",
              "    <tr>\n",
              "      <th>0</th>\n",
              "      <td>-270.312012</td>\n",
              "      <td>207.169037</td>\n",
              "      <td>31.064449</td>\n",
              "      <td>-37.807789</td>\n",
              "      <td>-1.563168</td>\n",
              "      <td>38.832153</td>\n",
              "      <td>21.351631</td>\n",
              "      <td>-11.033909</td>\n",
              "      <td>0.345012</td>\n",
              "      <td>15.735482</td>\n",
              "      <td>2.733459</td>\n",
              "      <td>-4.456989</td>\n",
              "      <td>-0.844552</td>\n",
              "      <td>1.718250</td>\n",
              "      <td>2.496613</td>\n",
              "      <td>-4.724103</td>\n",
              "      <td>-4.517701</td>\n",
              "      <td>4.093516</td>\n",
              "      <td>-1.923479</td>\n",
              "      <td>-6.525569</td>\n",
              "      <td>0.530774</td>\n",
              "      <td>-0.787213</td>\n",
              "      <td>-3.420860</td>\n",
              "      <td>-1.595782</td>\n",
              "      <td>-3.613968</td>\n",
              "      <td>-2.175891</td>\n",
              "      <td>-1.716591</td>\n",
              "      <td>-5.561532</td>\n",
              "      <td>-1.829583</td>\n",
              "      <td>-0.145201</td>\n",
              "      <td>-4.996367</td>\n",
              "      <td>-2.937857</td>\n",
              "      <td>-0.507813</td>\n",
              "      <td>-2.291254</td>\n",
              "      <td>-1.462487</td>\n",
              "      <td>-2.310789</td>\n",
              "      <td>-3.109460</td>\n",
              "      <td>-0.778054</td>\n",
              "      <td>-1.592859</td>\n",
              "      <td>AS</td>\n",
              "    </tr>\n",
              "    <tr>\n",
              "      <th>1</th>\n",
              "      <td>-270.052887</td>\n",
              "      <td>206.556229</td>\n",
              "      <td>30.668941</td>\n",
              "      <td>-35.199940</td>\n",
              "      <td>-2.381892</td>\n",
              "      <td>38.473564</td>\n",
              "      <td>21.159286</td>\n",
              "      <td>-10.343503</td>\n",
              "      <td>0.922215</td>\n",
              "      <td>16.129637</td>\n",
              "      <td>3.671278</td>\n",
              "      <td>-3.794407</td>\n",
              "      <td>-0.277716</td>\n",
              "      <td>1.708798</td>\n",
              "      <td>2.473710</td>\n",
              "      <td>-4.803007</td>\n",
              "      <td>-4.566629</td>\n",
              "      <td>3.779957</td>\n",
              "      <td>-2.102420</td>\n",
              "      <td>-6.510000</td>\n",
              "      <td>0.075008</td>\n",
              "      <td>-1.511851</td>\n",
              "      <td>-4.351663</td>\n",
              "      <td>-2.211451</td>\n",
              "      <td>-3.479132</td>\n",
              "      <td>-1.592008</td>\n",
              "      <td>-1.310286</td>\n",
              "      <td>-5.439855</td>\n",
              "      <td>-2.417980</td>\n",
              "      <td>-0.899911</td>\n",
              "      <td>-4.763449</td>\n",
              "      <td>-2.278175</td>\n",
              "      <td>-0.365382</td>\n",
              "      <td>-2.815546</td>\n",
              "      <td>-1.993283</td>\n",
              "      <td>-1.950855</td>\n",
              "      <td>-2.142981</td>\n",
              "      <td>-0.708663</td>\n",
              "      <td>-2.475000</td>\n",
              "      <td>AS</td>\n",
              "    </tr>\n",
              "    <tr>\n",
              "      <th>2</th>\n",
              "      <td>-268.828735</td>\n",
              "      <td>206.775223</td>\n",
              "      <td>31.905193</td>\n",
              "      <td>-36.548046</td>\n",
              "      <td>-1.366938</td>\n",
              "      <td>37.607773</td>\n",
              "      <td>20.670069</td>\n",
              "      <td>-10.415323</td>\n",
              "      <td>0.835103</td>\n",
              "      <td>16.207823</td>\n",
              "      <td>3.512309</td>\n",
              "      <td>-4.190484</td>\n",
              "      <td>-0.638978</td>\n",
              "      <td>1.817045</td>\n",
              "      <td>1.854665</td>\n",
              "      <td>-4.814584</td>\n",
              "      <td>-3.994514</td>\n",
              "      <td>4.009584</td>\n",
              "      <td>-1.824206</td>\n",
              "      <td>-6.087352</td>\n",
              "      <td>0.448344</td>\n",
              "      <td>-1.103815</td>\n",
              "      <td>-4.087056</td>\n",
              "      <td>-2.321999</td>\n",
              "      <td>-3.573753</td>\n",
              "      <td>-2.191151</td>\n",
              "      <td>-1.921803</td>\n",
              "      <td>-5.161684</td>\n",
              "      <td>-1.459483</td>\n",
              "      <td>0.158224</td>\n",
              "      <td>-4.362236</td>\n",
              "      <td>-2.837088</td>\n",
              "      <td>-1.177077</td>\n",
              "      <td>-3.376316</td>\n",
              "      <td>-2.469278</td>\n",
              "      <td>-2.042288</td>\n",
              "      <td>-1.881862</td>\n",
              "      <td>-0.180524</td>\n",
              "      <td>-1.840743</td>\n",
              "      <td>AS</td>\n",
              "    </tr>\n",
              "    <tr>\n",
              "      <th>3</th>\n",
              "      <td>-300.040253</td>\n",
              "      <td>207.358673</td>\n",
              "      <td>33.348301</td>\n",
              "      <td>-37.320606</td>\n",
              "      <td>-1.073329</td>\n",
              "      <td>40.692799</td>\n",
              "      <td>22.880648</td>\n",
              "      <td>-9.917540</td>\n",
              "      <td>1.861121</td>\n",
              "      <td>17.844790</td>\n",
              "      <td>4.876935</td>\n",
              "      <td>-2.894202</td>\n",
              "      <td>1.038229</td>\n",
              "      <td>3.931462</td>\n",
              "      <td>3.580698</td>\n",
              "      <td>-4.206943</td>\n",
              "      <td>-3.419557</td>\n",
              "      <td>5.523180</td>\n",
              "      <td>-0.166236</td>\n",
              "      <td>-4.710668</td>\n",
              "      <td>1.758942</td>\n",
              "      <td>0.060099</td>\n",
              "      <td>-2.757664</td>\n",
              "      <td>-0.854891</td>\n",
              "      <td>-2.209420</td>\n",
              "      <td>-0.400690</td>\n",
              "      <td>-0.100001</td>\n",
              "      <td>-4.141811</td>\n",
              "      <td>-0.762151</td>\n",
              "      <td>0.866881</td>\n",
              "      <td>-3.303811</td>\n",
              "      <td>-0.918810</td>\n",
              "      <td>0.519580</td>\n",
              "      <td>-2.473238</td>\n",
              "      <td>-1.295881</td>\n",
              "      <td>-0.510779</td>\n",
              "      <td>-0.282916</td>\n",
              "      <td>1.494027</td>\n",
              "      <td>-0.633609</td>\n",
              "      <td>AS</td>\n",
              "    </tr>\n",
              "    <tr>\n",
              "      <th>4</th>\n",
              "      <td>-268.935150</td>\n",
              "      <td>210.036972</td>\n",
              "      <td>33.190594</td>\n",
              "      <td>-36.907394</td>\n",
              "      <td>-1.104752</td>\n",
              "      <td>39.547722</td>\n",
              "      <td>21.468018</td>\n",
              "      <td>-11.479704</td>\n",
              "      <td>0.714650</td>\n",
              "      <td>16.681379</td>\n",
              "      <td>3.297908</td>\n",
              "      <td>-3.922339</td>\n",
              "      <td>-0.003421</td>\n",
              "      <td>2.405660</td>\n",
              "      <td>2.630570</td>\n",
              "      <td>-4.751607</td>\n",
              "      <td>-4.152561</td>\n",
              "      <td>4.174129</td>\n",
              "      <td>-2.670602</td>\n",
              "      <td>-7.266825</td>\n",
              "      <td>-0.104726</td>\n",
              "      <td>-1.842319</td>\n",
              "      <td>-4.258864</td>\n",
              "      <td>-1.669032</td>\n",
              "      <td>-3.341166</td>\n",
              "      <td>-2.100526</td>\n",
              "      <td>-1.996987</td>\n",
              "      <td>-5.666803</td>\n",
              "      <td>-1.562413</td>\n",
              "      <td>-0.213201</td>\n",
              "      <td>-5.452361</td>\n",
              "      <td>-3.234993</td>\n",
              "      <td>-0.647784</td>\n",
              "      <td>-2.393459</td>\n",
              "      <td>-1.518288</td>\n",
              "      <td>-2.178982</td>\n",
              "      <td>-2.585380</td>\n",
              "      <td>-0.308377</td>\n",
              "      <td>-1.752495</td>\n",
              "      <td>AS</td>\n",
              "    </tr>\n",
              "  </tbody>\n",
              "</table>\n",
              "</div>\n",
              "      <button class=\"colab-df-convert\" onclick=\"convertToInteractive('df-1636fd51-9296-459e-a1e3-29951de76601')\"\n",
              "              title=\"Convert this dataframe to an interactive table.\"\n",
              "              style=\"display:none;\">\n",
              "        \n",
              "  <svg xmlns=\"http://www.w3.org/2000/svg\" height=\"24px\"viewBox=\"0 0 24 24\"\n",
              "       width=\"24px\">\n",
              "    <path d=\"M0 0h24v24H0V0z\" fill=\"none\"/>\n",
              "    <path d=\"M18.56 5.44l.94 2.06.94-2.06 2.06-.94-2.06-.94-.94-2.06-.94 2.06-2.06.94zm-11 1L8.5 8.5l.94-2.06 2.06-.94-2.06-.94L8.5 2.5l-.94 2.06-2.06.94zm10 10l.94 2.06.94-2.06 2.06-.94-2.06-.94-.94-2.06-.94 2.06-2.06.94z\"/><path d=\"M17.41 7.96l-1.37-1.37c-.4-.4-.92-.59-1.43-.59-.52 0-1.04.2-1.43.59L10.3 9.45l-7.72 7.72c-.78.78-.78 2.05 0 2.83L4 21.41c.39.39.9.59 1.41.59.51 0 1.02-.2 1.41-.59l7.78-7.78 2.81-2.81c.8-.78.8-2.07 0-2.86zM5.41 20L4 18.59l7.72-7.72 1.47 1.35L5.41 20z\"/>\n",
              "  </svg>\n",
              "      </button>\n",
              "      \n",
              "  <style>\n",
              "    .colab-df-container {\n",
              "      display:flex;\n",
              "      flex-wrap:wrap;\n",
              "      gap: 12px;\n",
              "    }\n",
              "\n",
              "    .colab-df-convert {\n",
              "      background-color: #E8F0FE;\n",
              "      border: none;\n",
              "      border-radius: 50%;\n",
              "      cursor: pointer;\n",
              "      display: none;\n",
              "      fill: #1967D2;\n",
              "      height: 32px;\n",
              "      padding: 0 0 0 0;\n",
              "      width: 32px;\n",
              "    }\n",
              "\n",
              "    .colab-df-convert:hover {\n",
              "      background-color: #E2EBFA;\n",
              "      box-shadow: 0px 1px 2px rgba(60, 64, 67, 0.3), 0px 1px 3px 1px rgba(60, 64, 67, 0.15);\n",
              "      fill: #174EA6;\n",
              "    }\n",
              "\n",
              "    [theme=dark] .colab-df-convert {\n",
              "      background-color: #3B4455;\n",
              "      fill: #D2E3FC;\n",
              "    }\n",
              "\n",
              "    [theme=dark] .colab-df-convert:hover {\n",
              "      background-color: #434B5C;\n",
              "      box-shadow: 0px 1px 3px 1px rgba(0, 0, 0, 0.15);\n",
              "      filter: drop-shadow(0px 1px 2px rgba(0, 0, 0, 0.3));\n",
              "      fill: #FFFFFF;\n",
              "    }\n",
              "  </style>\n",
              "\n",
              "      <script>\n",
              "        const buttonEl =\n",
              "          document.querySelector('#df-1636fd51-9296-459e-a1e3-29951de76601 button.colab-df-convert');\n",
              "        buttonEl.style.display =\n",
              "          google.colab.kernel.accessAllowed ? 'block' : 'none';\n",
              "\n",
              "        async function convertToInteractive(key) {\n",
              "          const element = document.querySelector('#df-1636fd51-9296-459e-a1e3-29951de76601');\n",
              "          const dataTable =\n",
              "            await google.colab.kernel.invokeFunction('convertToInteractive',\n",
              "                                                     [key], {});\n",
              "          if (!dataTable) return;\n",
              "\n",
              "          const docLinkHtml = 'Like what you see? Visit the ' +\n",
              "            '<a target=\"_blank\" href=https://colab.research.google.com/notebooks/data_table.ipynb>data table notebook</a>'\n",
              "            + ' to learn more about interactive tables.';\n",
              "          element.innerHTML = '';\n",
              "          dataTable['output_type'] = 'display_data';\n",
              "          await google.colab.output.renderOutput(dataTable, element);\n",
              "          const docLink = document.createElement('div');\n",
              "          docLink.innerHTML = docLinkHtml;\n",
              "          element.appendChild(docLink);\n",
              "        }\n",
              "      </script>\n",
              "    </div>\n",
              "  </div>\n",
              "  "
            ],
            "text/plain": [
              "        mfcc1       mfcc2      mfcc3  ...    mfcc38    mfcc39  label\n",
              "0 -270.312012  207.169037  31.064449  ... -0.778054 -1.592859     AS\n",
              "1 -270.052887  206.556229  30.668941  ... -0.708663 -2.475000     AS\n",
              "2 -268.828735  206.775223  31.905193  ... -0.180524 -1.840743     AS\n",
              "3 -300.040253  207.358673  33.348301  ...  1.494027 -0.633609     AS\n",
              "4 -268.935150  210.036972  33.190594  ... -0.308377 -1.752495     AS\n",
              "\n",
              "[5 rows x 40 columns]"
            ]
          },
          "metadata": {},
          "execution_count": 40
        }
      ]
    },
    {
      "cell_type": "code",
      "metadata": {
        "id": "roDUsaW2qWe3",
        "colab": {
          "base_uri": "https://localhost:8080/"
        },
        "outputId": "484c824c-625f-47f6-b80d-71137f7d289d"
      },
      "source": [
        "data1_1.dtypes"
      ],
      "execution_count": null,
      "outputs": [
        {
          "output_type": "execute_result",
          "data": {
            "text/plain": [
              "mfcc1     float64\n",
              "mfcc2     float64\n",
              "mfcc3     float64\n",
              "mfcc4     float64\n",
              "mfcc5     float64\n",
              "mfcc6     float64\n",
              "mfcc7     float64\n",
              "mfcc8     float64\n",
              "mfcc9     float64\n",
              "mfcc10    float64\n",
              "mfcc11    float64\n",
              "mfcc12    float64\n",
              "mfcc13    float64\n",
              "mfcc14    float64\n",
              "mfcc15    float64\n",
              "mfcc16    float64\n",
              "mfcc17    float64\n",
              "mfcc18    float64\n",
              "mfcc19    float64\n",
              "mfcc20    float64\n",
              "mfcc21    float64\n",
              "mfcc22    float64\n",
              "mfcc23    float64\n",
              "mfcc24    float64\n",
              "mfcc25    float64\n",
              "mfcc26    float64\n",
              "mfcc27    float64\n",
              "mfcc28    float64\n",
              "mfcc29    float64\n",
              "mfcc30    float64\n",
              "mfcc31    float64\n",
              "mfcc32    float64\n",
              "mfcc33    float64\n",
              "mfcc34    float64\n",
              "mfcc35    float64\n",
              "mfcc36    float64\n",
              "mfcc37    float64\n",
              "mfcc38    float64\n",
              "mfcc39    float64\n",
              "label      object\n",
              "dtype: object"
            ]
          },
          "metadata": {},
          "execution_count": 41
        }
      ]
    },
    {
      "cell_type": "code",
      "metadata": {
        "id": "--bxzvMjqeJn"
      },
      "source": [
        "data1_1['label'] = pd.Categorical(data1_1['label'])"
      ],
      "execution_count": null,
      "outputs": []
    },
    {
      "cell_type": "code",
      "metadata": {
        "id": "Aer9jdmeqili"
      },
      "source": [
        "y1 = LabelEncoder().fit_transform(data1_1.iloc[:, -1])"
      ],
      "execution_count": null,
      "outputs": []
    },
    {
      "cell_type": "code",
      "metadata": {
        "id": "uZbRbYuiqjJI"
      },
      "source": [
        "X1 = StandardScaler().fit_transform(np.array(data1_1.iloc[:, :-1], dtype = float))"
      ],
      "execution_count": null,
      "outputs": []
    },
    {
      "cell_type": "code",
      "metadata": {
        "id": "lID11QQlqmTY"
      },
      "source": [
        "X1_train, X1_test, y1_train, y1_test = train_test_split(X1, y1, test_size=0.2, random_state=127)"
      ],
      "execution_count": null,
      "outputs": []
    },
    {
      "cell_type": "code",
      "metadata": {
        "id": "QwNFHfY2qnGT",
        "colab": {
          "base_uri": "https://localhost:8080/"
        },
        "outputId": "1bfceb65-0570-4148-9523-383c7344d3ce"
      },
      "source": [
        "X1_train.shape, X1_test.shape"
      ],
      "execution_count": null,
      "outputs": [
        {
          "output_type": "execute_result",
          "data": {
            "text/plain": [
              "((800, 39), (200, 39))"
            ]
          },
          "metadata": {},
          "execution_count": 46
        }
      ]
    },
    {
      "cell_type": "markdown",
      "metadata": {
        "id": "oypskD-uqqZ2"
      },
      "source": [
        "# fitur seleksi"
      ]
    },
    {
      "cell_type": "code",
      "metadata": {
        "id": "EQJc-quUqsqg"
      },
      "source": [
        "#normalization\n",
        "x_train_N = (X1_train-X1_train.mean())/(X1_train.max()-X1_train.min())\n",
        "x_test_N = (X1_test-X1_test.mean())/(X1_test.max()-X1_test.min())"
      ],
      "execution_count": null,
      "outputs": []
    },
    {
      "cell_type": "code",
      "metadata": {
        "id": "NElai_uXq0yB"
      },
      "source": [
        "def calculate_sensitivity_specificity(y_test, y_pred):\n",
        "    # Note: More parameters are defined than necessary. \n",
        "    # This would allow return of other measures other than sensitivity and specificity\n",
        "    \n",
        "    # Get true/false for whether a breach actually occurred\n",
        "    actual_pos = y_test == 1\n",
        "    actual_neg = y_test == 0\n",
        "    \n",
        "    # Get true and false test (true test match actual, false tests differ from actual)\n",
        "    true_pos = (y_pred == 1) & (actual_pos)\n",
        "    false_pos = (y_pred == 1) & (actual_neg)\n",
        "    true_neg = (y_pred == 0) & (actual_neg)\n",
        "    false_neg = (y_pred == 0) & (actual_pos)\n",
        "    \n",
        "    # Calculate accuracy\n",
        "    accuracy = np.mean(y_pred == y_test)\n",
        "    \n",
        "    # Calculate sensitivity and specificity\n",
        "    sensitivity = np.sum(true_pos) / np.sum(actual_pos)\n",
        "    specificity = np.sum(true_neg) / np.sum(actual_neg)\n",
        "    \n",
        "    return sensitivity, specificity, accuracy"
      ],
      "execution_count": null,
      "outputs": []
    },
    {
      "cell_type": "code",
      "metadata": {
        "id": "SmgkBqPNq5NR"
      },
      "source": [
        "# Using PCA from sklearn PCA\n",
        "from sklearn.decomposition import PCA\n",
        "import seaborn as sns"
      ],
      "execution_count": null,
      "outputs": []
    },
    {
      "cell_type": "code",
      "metadata": {
        "id": "I6O4Qj2tq5uH"
      },
      "source": [
        "# initialize model\n",
        "pca = PCA(n_components=0.99)\n",
        "# fit to training data\n",
        "pca.fit(X1_train)\n",
        "# transform\n",
        "X_pca = pca.transform(X1_train)"
      ],
      "execution_count": null,
      "outputs": []
    },
    {
      "cell_type": "code",
      "metadata": {
        "id": "hyeFSkYWq-EP"
      },
      "source": [
        "pca = PCA(n_components=39)\n",
        "# fit to training data\n",
        "pca.fit(X1_train)\n",
        "# transform\n",
        "X_train_pca = pca.transform(X1_train)\n",
        "\n",
        "X_test_pca = pca.transform(X1_test)"
      ],
      "execution_count": null,
      "outputs": []
    },
    {
      "cell_type": "code",
      "metadata": {
        "id": "jqxQag5Cq_Jw",
        "colab": {
          "base_uri": "https://localhost:8080/"
        },
        "outputId": "88f3eb1c-eed5-43b5-c29a-4d56b224a490"
      },
      "source": [
        "X1_train.shape\n",
        "X1_test.shape"
      ],
      "execution_count": null,
      "outputs": [
        {
          "output_type": "execute_result",
          "data": {
            "text/plain": [
              "(200, 39)"
            ]
          },
          "metadata": {},
          "execution_count": 53
        }
      ]
    },
    {
      "cell_type": "code",
      "metadata": {
        "id": "-3tbb0LTq_i_"
      },
      "source": [
        "pca = PCA(n_components=1)\n",
        "X_train = pca.fit_transform(X1_train)\n",
        "X_test = pca.transform(X1_test)"
      ],
      "execution_count": null,
      "outputs": []
    },
    {
      "cell_type": "code",
      "metadata": {
        "id": "U8EuhJaXrcG_"
      },
      "source": [
        "from sklearn.metrics import accuracy_score, confusion_matrix, classification_report\n",
        "def print_score(clf, X_train, y_train, X_test, y_test, train=True):\n",
        "    if train:\n",
        "        pred = clf.predict(X_train)\n",
        "        clf_report = pd.DataFrame(classification_report(y_train, pred, output_dict=True))\n",
        "        print(\"Train Result:n================================================\")\n",
        "        print(f\"Accuracy Score: {accuracy_score(y_train, pred) * 100:.2f}%\")\n",
        "        print(\"_______________________________________________\")\n",
        "        print(f\"CLASSIFICATION REPORT:n{clf_report}\")\n",
        "        print(\"_______________________________________________\")\n",
        "        print(f\"Confusion Matrix: n {confusion_matrix(y_train, pred)}n\")\n",
        "    elif train==False:\n",
        "        pred = clf.predict(X_test)\n",
        "        clf_report = pd.DataFrame(classification_report(y_test, pred, output_dict=True))\n",
        "        print(\"Test Result:n================================================\")        \n",
        "        print(f\"Accuracy Score: {accuracy_score(y_test, pred) * 100:.2f}%\")\n",
        "        print(\"_______________________________________________\")\n",
        "        print(f\"CLASSIFICATION REPORT:n{clf_report}\")\n",
        "        print(\"_______________________________________________\")\n",
        "        print(f\"Confusion Matrix: n {confusion_matrix(y_test, pred)}n\")"
      ],
      "execution_count": null,
      "outputs": []
    },
    {
      "cell_type": "code",
      "metadata": {
        "id": "mYh7-MHJrc44",
        "colab": {
          "base_uri": "https://localhost:8080/"
        },
        "outputId": "81f0ed3b-7f1c-4004-b4d1-b2dcfccd8b79"
      },
      "source": [
        "from sklearn.svm import LinearSVC\n",
        "model = LinearSVC(loss='hinge', dual=True)\n",
        "model.fit(X1_train, y1_train)\n",
        "print_score(model, X1_train, y1_train, X1_test, y1_test, train=True)\n",
        "print_score(model, X1_train, y1_train, X1_test, y1_test, train=False)"
      ],
      "execution_count": null,
      "outputs": [
        {
          "output_type": "stream",
          "name": "stdout",
          "text": [
            "Train Result:n================================================\n",
            "Accuracy Score: 83.75%\n",
            "_______________________________________________\n",
            "CLASSIFICATION REPORT:n                    0           1  ...   macro avg  weighted avg\n",
            "precision    0.782123    0.812121  ...    0.838149      0.838338\n",
            "recall       0.848485    0.870130  ...    0.837772      0.837500\n",
            "f1-score     0.813953    0.840125  ...    0.835513      0.835438\n",
            "support    165.000000  154.000000  ...  800.000000    800.000000\n",
            "\n",
            "[4 rows x 8 columns]\n",
            "_______________________________________________\n",
            "Confusion Matrix: n [[140   5  14   6   0]\n",
            " [ 12 134   7   0   1]\n",
            " [ 20   2 122  12   1]\n",
            " [  7  24   8 114  10]\n",
            " [  0   0   1   0 160]]n\n",
            "Test Result:n================================================\n",
            "Accuracy Score: 85.00%\n",
            "_______________________________________________\n",
            "CLASSIFICATION REPORT:n                   0          1          2  ...  accuracy   macro avg  weighted avg\n",
            "precision   0.842105   0.807692   0.837838  ...      0.85    0.852256      0.850467\n",
            "recall      0.914286   0.913043   0.720930  ...      0.85    0.850192      0.850000\n",
            "f1-score    0.876712   0.857143   0.775000  ...      0.85    0.847239      0.846262\n",
            "support    35.000000  46.000000  43.000000  ...      0.85  200.000000    200.000000\n",
            "\n",
            "[4 rows x 8 columns]\n",
            "_______________________________________________\n",
            "Confusion Matrix: n [[32  2  1  0  0]\n",
            " [ 2 42  2  0  0]\n",
            " [ 4  3 31  4  1]\n",
            " [ 0  5  3 26  3]\n",
            " [ 0  0  0  0 39]]n\n"
          ]
        },
        {
          "output_type": "stream",
          "name": "stderr",
          "text": [
            "/usr/local/lib/python3.7/dist-packages/sklearn/svm/_base.py:1208: ConvergenceWarning: Liblinear failed to converge, increase the number of iterations.\n",
            "  ConvergenceWarning,\n"
          ]
        }
      ]
    },
    {
      "cell_type": "markdown",
      "metadata": {
        "id": "MAQsSoAvri73"
      },
      "source": [
        "# klasifikasi"
      ]
    },
    {
      "cell_type": "markdown",
      "source": [
        "run ke-6 untuk proses Klasifikasi"
      ],
      "metadata": {
        "id": "KziOI0EJ98qb"
      }
    },
    {
      "cell_type": "code",
      "metadata": {
        "id": "5ETrzBnJrlXg",
        "colab": {
          "base_uri": "https://localhost:8080/"
        },
        "outputId": "83f88371-6dfb-4935-d2af-592143a928af"
      },
      "source": [
        "X1_train.shape\n",
        "X1_test.shape"
      ],
      "execution_count": null,
      "outputs": [
        {
          "output_type": "execute_result",
          "data": {
            "text/plain": [
              "(200, 39)"
            ]
          },
          "metadata": {},
          "execution_count": 61
        }
      ]
    },
    {
      "cell_type": "code",
      "metadata": {
        "id": "xCJDhS5ItGvZ"
      },
      "source": [
        "pca = PCA(n_components=39)\n",
        "X_train = pca.fit_transform(X1_train)\n",
        "X_test = pca.transform(X1_test)"
      ],
      "execution_count": null,
      "outputs": []
    },
    {
      "cell_type": "code",
      "metadata": {
        "id": "R22Z9pbctINK",
        "colab": {
          "base_uri": "https://localhost:8080/"
        },
        "outputId": "2358bcab-16eb-49ed-91de-c39eba9193fa"
      },
      "source": [
        "from sklearn import svm\n",
        "from sklearn.model_selection import GridSearchCV\n",
        "  \n",
        "# defining parameter range\n",
        "param_grid = {'C': [0.1, 1, 10, 100, 1000], \n",
        "              'gamma': [1, 0.1, 0.01, 0.001, 0.0001],\n",
        "              'kernel': ['rbf','linear']} \n",
        "  \n",
        "grid = GridSearchCV(svm.SVC(), param_grid, refit = True, verbose = 10, scoring='accuracy')\n",
        "  \n",
        "# fitting the model for grid search\n",
        "grid.fit(X_train, y1_train)"
      ],
      "execution_count": null,
      "outputs": [
        {
          "output_type": "stream",
          "name": "stdout",
          "text": [
            "Fitting 5 folds for each of 50 candidates, totalling 250 fits\n",
            "[CV 1/5; 1/50] START C=0.1, gamma=1, kernel=rbf.................................\n",
            "[CV 1/5; 1/50] END ..C=0.1, gamma=1, kernel=rbf;, score=0.206 total time=   0.1s\n",
            "[CV 2/5; 1/50] START C=0.1, gamma=1, kernel=rbf.................................\n",
            "[CV 2/5; 1/50] END ..C=0.1, gamma=1, kernel=rbf;, score=0.206 total time=   0.1s\n",
            "[CV 3/5; 1/50] START C=0.1, gamma=1, kernel=rbf.................................\n",
            "[CV 3/5; 1/50] END ..C=0.1, gamma=1, kernel=rbf;, score=0.206 total time=   0.1s\n",
            "[CV 4/5; 1/50] START C=0.1, gamma=1, kernel=rbf.................................\n",
            "[CV 4/5; 1/50] END ..C=0.1, gamma=1, kernel=rbf;, score=0.206 total time=   0.1s\n",
            "[CV 5/5; 1/50] START C=0.1, gamma=1, kernel=rbf.................................\n",
            "[CV 5/5; 1/50] END ..C=0.1, gamma=1, kernel=rbf;, score=0.206 total time=   0.1s\n",
            "[CV 1/5; 2/50] START C=0.1, gamma=1, kernel=linear..............................\n",
            "[CV 1/5; 2/50] END C=0.1, gamma=1, kernel=linear;, score=0.856 total time=   0.0s\n",
            "[CV 2/5; 2/50] START C=0.1, gamma=1, kernel=linear..............................\n",
            "[CV 2/5; 2/50] END C=0.1, gamma=1, kernel=linear;, score=0.869 total time=   0.0s\n",
            "[CV 3/5; 2/50] START C=0.1, gamma=1, kernel=linear..............................\n",
            "[CV 3/5; 2/50] END C=0.1, gamma=1, kernel=linear;, score=0.806 total time=   0.0s\n",
            "[CV 4/5; 2/50] START C=0.1, gamma=1, kernel=linear..............................\n",
            "[CV 4/5; 2/50] END C=0.1, gamma=1, kernel=linear;, score=0.812 total time=   0.0s\n",
            "[CV 5/5; 2/50] START C=0.1, gamma=1, kernel=linear..............................\n",
            "[CV 5/5; 2/50] END C=0.1, gamma=1, kernel=linear;, score=0.863 total time=   0.0s\n",
            "[CV 1/5; 3/50] START C=0.1, gamma=0.1, kernel=rbf...............................\n",
            "[CV 1/5; 3/50] END C=0.1, gamma=0.1, kernel=rbf;, score=0.856 total time=   0.1s\n",
            "[CV 2/5; 3/50] START C=0.1, gamma=0.1, kernel=rbf...............................\n",
            "[CV 2/5; 3/50] END C=0.1, gamma=0.1, kernel=rbf;, score=0.856 total time=   0.1s\n",
            "[CV 3/5; 3/50] START C=0.1, gamma=0.1, kernel=rbf...............................\n",
            "[CV 3/5; 3/50] END C=0.1, gamma=0.1, kernel=rbf;, score=0.781 total time=   0.1s\n",
            "[CV 4/5; 3/50] START C=0.1, gamma=0.1, kernel=rbf...............................\n",
            "[CV 4/5; 3/50] END C=0.1, gamma=0.1, kernel=rbf;, score=0.812 total time=   0.0s\n",
            "[CV 5/5; 3/50] START C=0.1, gamma=0.1, kernel=rbf...............................\n",
            "[CV 5/5; 3/50] END C=0.1, gamma=0.1, kernel=rbf;, score=0.800 total time=   0.1s\n",
            "[CV 1/5; 4/50] START C=0.1, gamma=0.1, kernel=linear............................\n",
            "[CV 1/5; 4/50] END C=0.1, gamma=0.1, kernel=linear;, score=0.856 total time=   0.0s\n",
            "[CV 2/5; 4/50] START C=0.1, gamma=0.1, kernel=linear............................\n",
            "[CV 2/5; 4/50] END C=0.1, gamma=0.1, kernel=linear;, score=0.869 total time=   0.0s\n",
            "[CV 3/5; 4/50] START C=0.1, gamma=0.1, kernel=linear............................\n",
            "[CV 3/5; 4/50] END C=0.1, gamma=0.1, kernel=linear;, score=0.806 total time=   0.0s\n",
            "[CV 4/5; 4/50] START C=0.1, gamma=0.1, kernel=linear............................\n",
            "[CV 4/5; 4/50] END C=0.1, gamma=0.1, kernel=linear;, score=0.812 total time=   0.0s\n",
            "[CV 5/5; 4/50] START C=0.1, gamma=0.1, kernel=linear............................\n",
            "[CV 5/5; 4/50] END C=0.1, gamma=0.1, kernel=linear;, score=0.863 total time=   0.0s\n",
            "[CV 1/5; 5/50] START C=0.1, gamma=0.01, kernel=rbf..............................\n",
            "[CV 1/5; 5/50] END C=0.1, gamma=0.01, kernel=rbf;, score=0.725 total time=   0.1s\n",
            "[CV 2/5; 5/50] START C=0.1, gamma=0.01, kernel=rbf..............................\n",
            "[CV 2/5; 5/50] END C=0.1, gamma=0.01, kernel=rbf;, score=0.725 total time=   0.0s\n",
            "[CV 3/5; 5/50] START C=0.1, gamma=0.01, kernel=rbf..............................\n",
            "[CV 3/5; 5/50] END C=0.1, gamma=0.01, kernel=rbf;, score=0.719 total time=   0.1s\n",
            "[CV 4/5; 5/50] START C=0.1, gamma=0.01, kernel=rbf..............................\n",
            "[CV 4/5; 5/50] END C=0.1, gamma=0.01, kernel=rbf;, score=0.762 total time=   0.0s\n",
            "[CV 5/5; 5/50] START C=0.1, gamma=0.01, kernel=rbf..............................\n",
            "[CV 5/5; 5/50] END C=0.1, gamma=0.01, kernel=rbf;, score=0.713 total time=   0.0s\n",
            "[CV 1/5; 6/50] START C=0.1, gamma=0.01, kernel=linear...........................\n",
            "[CV 1/5; 6/50] END C=0.1, gamma=0.01, kernel=linear;, score=0.856 total time=   0.0s\n",
            "[CV 2/5; 6/50] START C=0.1, gamma=0.01, kernel=linear...........................\n",
            "[CV 2/5; 6/50] END C=0.1, gamma=0.01, kernel=linear;, score=0.869 total time=   0.0s\n",
            "[CV 3/5; 6/50] START C=0.1, gamma=0.01, kernel=linear...........................\n",
            "[CV 3/5; 6/50] END C=0.1, gamma=0.01, kernel=linear;, score=0.806 total time=   0.0s\n",
            "[CV 4/5; 6/50] START C=0.1, gamma=0.01, kernel=linear...........................\n",
            "[CV 4/5; 6/50] END C=0.1, gamma=0.01, kernel=linear;, score=0.812 total time=   0.0s\n",
            "[CV 5/5; 6/50] START C=0.1, gamma=0.01, kernel=linear...........................\n",
            "[CV 5/5; 6/50] END C=0.1, gamma=0.01, kernel=linear;, score=0.863 total time=   0.0s\n",
            "[CV 1/5; 7/50] START C=0.1, gamma=0.001, kernel=rbf.............................\n",
            "[CV 1/5; 7/50] END C=0.1, gamma=0.001, kernel=rbf;, score=0.388 total time=   0.1s\n",
            "[CV 2/5; 7/50] START C=0.1, gamma=0.001, kernel=rbf.............................\n",
            "[CV 2/5; 7/50] END C=0.1, gamma=0.001, kernel=rbf;, score=0.400 total time=   0.1s\n",
            "[CV 3/5; 7/50] START C=0.1, gamma=0.001, kernel=rbf.............................\n",
            "[CV 3/5; 7/50] END C=0.1, gamma=0.001, kernel=rbf;, score=0.400 total time=   0.1s\n",
            "[CV 4/5; 7/50] START C=0.1, gamma=0.001, kernel=rbf.............................\n",
            "[CV 4/5; 7/50] END C=0.1, gamma=0.001, kernel=rbf;, score=0.400 total time=   0.1s\n",
            "[CV 5/5; 7/50] START C=0.1, gamma=0.001, kernel=rbf.............................\n",
            "[CV 5/5; 7/50] END C=0.1, gamma=0.001, kernel=rbf;, score=0.412 total time=   0.1s\n",
            "[CV 1/5; 8/50] START C=0.1, gamma=0.001, kernel=linear..........................\n",
            "[CV 1/5; 8/50] END C=0.1, gamma=0.001, kernel=linear;, score=0.856 total time=   0.0s\n",
            "[CV 2/5; 8/50] START C=0.1, gamma=0.001, kernel=linear..........................\n",
            "[CV 2/5; 8/50] END C=0.1, gamma=0.001, kernel=linear;, score=0.869 total time=   0.0s\n",
            "[CV 3/5; 8/50] START C=0.1, gamma=0.001, kernel=linear..........................\n",
            "[CV 3/5; 8/50] END C=0.1, gamma=0.001, kernel=linear;, score=0.806 total time=   0.0s\n",
            "[CV 4/5; 8/50] START C=0.1, gamma=0.001, kernel=linear..........................\n",
            "[CV 4/5; 8/50] END C=0.1, gamma=0.001, kernel=linear;, score=0.812 total time=   0.0s\n",
            "[CV 5/5; 8/50] START C=0.1, gamma=0.001, kernel=linear..........................\n",
            "[CV 5/5; 8/50] END C=0.1, gamma=0.001, kernel=linear;, score=0.863 total time=   0.0s\n",
            "[CV 1/5; 9/50] START C=0.1, gamma=0.0001, kernel=rbf............................\n",
            "[CV 1/5; 9/50] END C=0.1, gamma=0.0001, kernel=rbf;, score=0.206 total time=   0.1s\n",
            "[CV 2/5; 9/50] START C=0.1, gamma=0.0001, kernel=rbf............................\n",
            "[CV 2/5; 9/50] END C=0.1, gamma=0.0001, kernel=rbf;, score=0.206 total time=   0.1s\n",
            "[CV 3/5; 9/50] START C=0.1, gamma=0.0001, kernel=rbf............................\n",
            "[CV 3/5; 9/50] END C=0.1, gamma=0.0001, kernel=rbf;, score=0.206 total time=   0.1s\n",
            "[CV 4/5; 9/50] START C=0.1, gamma=0.0001, kernel=rbf............................\n",
            "[CV 4/5; 9/50] END C=0.1, gamma=0.0001, kernel=rbf;, score=0.206 total time=   0.1s\n",
            "[CV 5/5; 9/50] START C=0.1, gamma=0.0001, kernel=rbf............................\n",
            "[CV 5/5; 9/50] END C=0.1, gamma=0.0001, kernel=rbf;, score=0.206 total time=   0.1s\n",
            "[CV 1/5; 10/50] START C=0.1, gamma=0.0001, kernel=linear........................\n",
            "[CV 1/5; 10/50] END C=0.1, gamma=0.0001, kernel=linear;, score=0.856 total time=   0.0s\n",
            "[CV 2/5; 10/50] START C=0.1, gamma=0.0001, kernel=linear........................\n",
            "[CV 2/5; 10/50] END C=0.1, gamma=0.0001, kernel=linear;, score=0.869 total time=   0.0s\n",
            "[CV 3/5; 10/50] START C=0.1, gamma=0.0001, kernel=linear........................\n",
            "[CV 3/5; 10/50] END C=0.1, gamma=0.0001, kernel=linear;, score=0.806 total time=   0.0s\n",
            "[CV 4/5; 10/50] START C=0.1, gamma=0.0001, kernel=linear........................\n",
            "[CV 4/5; 10/50] END C=0.1, gamma=0.0001, kernel=linear;, score=0.812 total time=   0.0s\n",
            "[CV 5/5; 10/50] START C=0.1, gamma=0.0001, kernel=linear........................\n",
            "[CV 5/5; 10/50] END C=0.1, gamma=0.0001, kernel=linear;, score=0.863 total time=   0.0s\n",
            "[CV 1/5; 11/50] START C=1, gamma=1, kernel=rbf..................................\n",
            "[CV 1/5; 11/50] END ...C=1, gamma=1, kernel=rbf;, score=0.731 total time=   0.1s\n",
            "[CV 2/5; 11/50] START C=1, gamma=1, kernel=rbf..................................\n",
            "[CV 2/5; 11/50] END ...C=1, gamma=1, kernel=rbf;, score=0.775 total time=   0.1s\n",
            "[CV 3/5; 11/50] START C=1, gamma=1, kernel=rbf..................................\n",
            "[CV 3/5; 11/50] END ...C=1, gamma=1, kernel=rbf;, score=0.744 total time=   0.1s\n",
            "[CV 4/5; 11/50] START C=1, gamma=1, kernel=rbf..................................\n",
            "[CV 4/5; 11/50] END ...C=1, gamma=1, kernel=rbf;, score=0.762 total time=   0.1s\n",
            "[CV 5/5; 11/50] START C=1, gamma=1, kernel=rbf..................................\n",
            "[CV 5/5; 11/50] END ...C=1, gamma=1, kernel=rbf;, score=0.806 total time=   0.1s\n",
            "[CV 1/5; 12/50] START C=1, gamma=1, kernel=linear...............................\n",
            "[CV 1/5; 12/50] END C=1, gamma=1, kernel=linear;, score=0.819 total time=   0.0s\n",
            "[CV 2/5; 12/50] START C=1, gamma=1, kernel=linear...............................\n",
            "[CV 2/5; 12/50] END C=1, gamma=1, kernel=linear;, score=0.838 total time=   0.0s\n",
            "[CV 3/5; 12/50] START C=1, gamma=1, kernel=linear...............................\n",
            "[CV 3/5; 12/50] END C=1, gamma=1, kernel=linear;, score=0.838 total time=   0.0s\n",
            "[CV 4/5; 12/50] START C=1, gamma=1, kernel=linear...............................\n",
            "[CV 4/5; 12/50] END C=1, gamma=1, kernel=linear;, score=0.800 total time=   0.0s\n",
            "[CV 5/5; 12/50] START C=1, gamma=1, kernel=linear...............................\n",
            "[CV 5/5; 12/50] END C=1, gamma=1, kernel=linear;, score=0.869 total time=   0.0s\n",
            "[CV 1/5; 13/50] START C=1, gamma=0.1, kernel=rbf................................\n",
            "[CV 1/5; 13/50] END .C=1, gamma=0.1, kernel=rbf;, score=0.975 total time=   0.1s\n",
            "[CV 2/5; 13/50] START C=1, gamma=0.1, kernel=rbf................................\n",
            "[CV 2/5; 13/50] END .C=1, gamma=0.1, kernel=rbf;, score=0.950 total time=   0.0s\n",
            "[CV 3/5; 13/50] START C=1, gamma=0.1, kernel=rbf................................\n",
            "[CV 3/5; 13/50] END .C=1, gamma=0.1, kernel=rbf;, score=0.906 total time=   0.0s\n",
            "[CV 4/5; 13/50] START C=1, gamma=0.1, kernel=rbf................................\n",
            "[CV 4/5; 13/50] END .C=1, gamma=0.1, kernel=rbf;, score=0.938 total time=   0.0s\n",
            "[CV 5/5; 13/50] START C=1, gamma=0.1, kernel=rbf................................\n",
            "[CV 5/5; 13/50] END .C=1, gamma=0.1, kernel=rbf;, score=0.969 total time=   0.0s\n",
            "[CV 1/5; 14/50] START C=1, gamma=0.1, kernel=linear.............................\n",
            "[CV 1/5; 14/50] END C=1, gamma=0.1, kernel=linear;, score=0.819 total time=   0.0s\n",
            "[CV 2/5; 14/50] START C=1, gamma=0.1, kernel=linear.............................\n",
            "[CV 2/5; 14/50] END C=1, gamma=0.1, kernel=linear;, score=0.838 total time=   0.0s\n",
            "[CV 3/5; 14/50] START C=1, gamma=0.1, kernel=linear.............................\n",
            "[CV 3/5; 14/50] END C=1, gamma=0.1, kernel=linear;, score=0.838 total time=   0.0s\n",
            "[CV 4/5; 14/50] START C=1, gamma=0.1, kernel=linear.............................\n",
            "[CV 4/5; 14/50] END C=1, gamma=0.1, kernel=linear;, score=0.800 total time=   0.0s\n",
            "[CV 5/5; 14/50] START C=1, gamma=0.1, kernel=linear.............................\n",
            "[CV 5/5; 14/50] END C=1, gamma=0.1, kernel=linear;, score=0.869 total time=   0.0s\n",
            "[CV 1/5; 15/50] START C=1, gamma=0.01, kernel=rbf...............................\n",
            "[CV 1/5; 15/50] END C=1, gamma=0.01, kernel=rbf;, score=0.887 total time=   0.0s\n",
            "[CV 2/5; 15/50] START C=1, gamma=0.01, kernel=rbf...............................\n",
            "[CV 2/5; 15/50] END C=1, gamma=0.01, kernel=rbf;, score=0.906 total time=   0.0s\n",
            "[CV 3/5; 15/50] START C=1, gamma=0.01, kernel=rbf...............................\n",
            "[CV 3/5; 15/50] END C=1, gamma=0.01, kernel=rbf;, score=0.869 total time=   0.0s\n",
            "[CV 4/5; 15/50] START C=1, gamma=0.01, kernel=rbf...............................\n",
            "[CV 4/5; 15/50] END C=1, gamma=0.01, kernel=rbf;, score=0.869 total time=   0.0s\n",
            "[CV 5/5; 15/50] START C=1, gamma=0.01, kernel=rbf...............................\n",
            "[CV 5/5; 15/50] END C=1, gamma=0.01, kernel=rbf;, score=0.869 total time=   0.0s\n",
            "[CV 1/5; 16/50] START C=1, gamma=0.01, kernel=linear............................\n",
            "[CV 1/5; 16/50] END C=1, gamma=0.01, kernel=linear;, score=0.819 total time=   0.0s\n",
            "[CV 2/5; 16/50] START C=1, gamma=0.01, kernel=linear............................\n",
            "[CV 2/5; 16/50] END C=1, gamma=0.01, kernel=linear;, score=0.838 total time=   0.0s\n",
            "[CV 3/5; 16/50] START C=1, gamma=0.01, kernel=linear............................\n",
            "[CV 3/5; 16/50] END C=1, gamma=0.01, kernel=linear;, score=0.838 total time=   0.0s\n",
            "[CV 4/5; 16/50] START C=1, gamma=0.01, kernel=linear............................\n",
            "[CV 4/5; 16/50] END C=1, gamma=0.01, kernel=linear;, score=0.800 total time=   0.0s\n",
            "[CV 5/5; 16/50] START C=1, gamma=0.01, kernel=linear............................\n",
            "[CV 5/5; 16/50] END C=1, gamma=0.01, kernel=linear;, score=0.869 total time=   0.0s\n",
            "[CV 1/5; 17/50] START C=1, gamma=0.001, kernel=rbf..............................\n",
            "[CV 1/5; 17/50] END C=1, gamma=0.001, kernel=rbf;, score=0.731 total time=   0.0s\n",
            "[CV 2/5; 17/50] START C=1, gamma=0.001, kernel=rbf..............................\n",
            "[CV 2/5; 17/50] END C=1, gamma=0.001, kernel=rbf;, score=0.719 total time=   0.0s\n",
            "[CV 3/5; 17/50] START C=1, gamma=0.001, kernel=rbf..............................\n",
            "[CV 3/5; 17/50] END C=1, gamma=0.001, kernel=rbf;, score=0.738 total time=   0.0s\n",
            "[CV 4/5; 17/50] START C=1, gamma=0.001, kernel=rbf..............................\n",
            "[CV 4/5; 17/50] END C=1, gamma=0.001, kernel=rbf;, score=0.769 total time=   0.0s\n",
            "[CV 5/5; 17/50] START C=1, gamma=0.001, kernel=rbf..............................\n",
            "[CV 5/5; 17/50] END C=1, gamma=0.001, kernel=rbf;, score=0.725 total time=   0.0s\n",
            "[CV 1/5; 18/50] START C=1, gamma=0.001, kernel=linear...........................\n",
            "[CV 1/5; 18/50] END C=1, gamma=0.001, kernel=linear;, score=0.819 total time=   0.0s\n",
            "[CV 2/5; 18/50] START C=1, gamma=0.001, kernel=linear...........................\n",
            "[CV 2/5; 18/50] END C=1, gamma=0.001, kernel=linear;, score=0.838 total time=   0.0s\n",
            "[CV 3/5; 18/50] START C=1, gamma=0.001, kernel=linear...........................\n",
            "[CV 3/5; 18/50] END C=1, gamma=0.001, kernel=linear;, score=0.838 total time=   0.0s\n",
            "[CV 4/5; 18/50] START C=1, gamma=0.001, kernel=linear...........................\n",
            "[CV 4/5; 18/50] END C=1, gamma=0.001, kernel=linear;, score=0.800 total time=   0.0s\n",
            "[CV 5/5; 18/50] START C=1, gamma=0.001, kernel=linear...........................\n",
            "[CV 5/5; 18/50] END C=1, gamma=0.001, kernel=linear;, score=0.869 total time=   0.0s\n",
            "[CV 1/5; 19/50] START C=1, gamma=0.0001, kernel=rbf.............................\n",
            "[CV 1/5; 19/50] END C=1, gamma=0.0001, kernel=rbf;, score=0.388 total time=   0.1s\n",
            "[CV 2/5; 19/50] START C=1, gamma=0.0001, kernel=rbf.............................\n",
            "[CV 2/5; 19/50] END C=1, gamma=0.0001, kernel=rbf;, score=0.400 total time=   0.1s\n",
            "[CV 3/5; 19/50] START C=1, gamma=0.0001, kernel=rbf.............................\n",
            "[CV 3/5; 19/50] END C=1, gamma=0.0001, kernel=rbf;, score=0.381 total time=   0.1s\n",
            "[CV 4/5; 19/50] START C=1, gamma=0.0001, kernel=rbf.............................\n",
            "[CV 4/5; 19/50] END C=1, gamma=0.0001, kernel=rbf;, score=0.394 total time=   0.1s\n",
            "[CV 5/5; 19/50] START C=1, gamma=0.0001, kernel=rbf.............................\n",
            "[CV 5/5; 19/50] END C=1, gamma=0.0001, kernel=rbf;, score=0.412 total time=   0.1s\n",
            "[CV 1/5; 20/50] START C=1, gamma=0.0001, kernel=linear..........................\n",
            "[CV 1/5; 20/50] END C=1, gamma=0.0001, kernel=linear;, score=0.819 total time=   0.0s\n",
            "[CV 2/5; 20/50] START C=1, gamma=0.0001, kernel=linear..........................\n",
            "[CV 2/5; 20/50] END C=1, gamma=0.0001, kernel=linear;, score=0.838 total time=   0.0s\n",
            "[CV 3/5; 20/50] START C=1, gamma=0.0001, kernel=linear..........................\n",
            "[CV 3/5; 20/50] END C=1, gamma=0.0001, kernel=linear;, score=0.838 total time=   0.0s\n",
            "[CV 4/5; 20/50] START C=1, gamma=0.0001, kernel=linear..........................\n",
            "[CV 4/5; 20/50] END C=1, gamma=0.0001, kernel=linear;, score=0.800 total time=   0.0s\n",
            "[CV 5/5; 20/50] START C=1, gamma=0.0001, kernel=linear..........................\n",
            "[CV 5/5; 20/50] END C=1, gamma=0.0001, kernel=linear;, score=0.869 total time=   0.0s\n",
            "[CV 1/5; 21/50] START C=10, gamma=1, kernel=rbf.................................\n",
            "[CV 1/5; 21/50] END ..C=10, gamma=1, kernel=rbf;, score=0.756 total time=   0.1s\n",
            "[CV 2/5; 21/50] START C=10, gamma=1, kernel=rbf.................................\n",
            "[CV 2/5; 21/50] END ..C=10, gamma=1, kernel=rbf;, score=0.806 total time=   0.1s\n",
            "[CV 3/5; 21/50] START C=10, gamma=1, kernel=rbf.................................\n",
            "[CV 3/5; 21/50] END ..C=10, gamma=1, kernel=rbf;, score=0.769 total time=   0.1s\n",
            "[CV 4/5; 21/50] START C=10, gamma=1, kernel=rbf.................................\n",
            "[CV 4/5; 21/50] END ..C=10, gamma=1, kernel=rbf;, score=0.794 total time=   0.1s\n",
            "[CV 5/5; 21/50] START C=10, gamma=1, kernel=rbf.................................\n",
            "[CV 5/5; 21/50] END ..C=10, gamma=1, kernel=rbf;, score=0.806 total time=   0.1s\n",
            "[CV 1/5; 22/50] START C=10, gamma=1, kernel=linear..............................\n",
            "[CV 1/5; 22/50] END C=10, gamma=1, kernel=linear;, score=0.819 total time=   0.2s\n",
            "[CV 2/5; 22/50] START C=10, gamma=1, kernel=linear..............................\n",
            "[CV 2/5; 22/50] END C=10, gamma=1, kernel=linear;, score=0.831 total time=   0.2s\n",
            "[CV 3/5; 22/50] START C=10, gamma=1, kernel=linear..............................\n",
            "[CV 3/5; 22/50] END C=10, gamma=1, kernel=linear;, score=0.850 total time=   0.2s\n",
            "[CV 4/5; 22/50] START C=10, gamma=1, kernel=linear..............................\n",
            "[CV 4/5; 22/50] END C=10, gamma=1, kernel=linear;, score=0.800 total time=   0.2s\n",
            "[CV 5/5; 22/50] START C=10, gamma=1, kernel=linear..............................\n",
            "[CV 5/5; 22/50] END C=10, gamma=1, kernel=linear;, score=0.875 total time=   0.2s\n",
            "[CV 1/5; 23/50] START C=10, gamma=0.1, kernel=rbf...............................\n",
            "[CV 1/5; 23/50] END C=10, gamma=0.1, kernel=rbf;, score=0.975 total time=   0.0s\n",
            "[CV 2/5; 23/50] START C=10, gamma=0.1, kernel=rbf...............................\n",
            "[CV 2/5; 23/50] END C=10, gamma=0.1, kernel=rbf;, score=0.969 total time=   0.0s\n",
            "[CV 3/5; 23/50] START C=10, gamma=0.1, kernel=rbf...............................\n",
            "[CV 3/5; 23/50] END C=10, gamma=0.1, kernel=rbf;, score=0.906 total time=   0.0s\n",
            "[CV 4/5; 23/50] START C=10, gamma=0.1, kernel=rbf...............................\n",
            "[CV 4/5; 23/50] END C=10, gamma=0.1, kernel=rbf;, score=0.938 total time=   0.0s\n",
            "[CV 5/5; 23/50] START C=10, gamma=0.1, kernel=rbf...............................\n",
            "[CV 5/5; 23/50] END C=10, gamma=0.1, kernel=rbf;, score=0.963 total time=   0.0s\n",
            "[CV 1/5; 24/50] START C=10, gamma=0.1, kernel=linear............................\n",
            "[CV 1/5; 24/50] END C=10, gamma=0.1, kernel=linear;, score=0.819 total time=   0.2s\n",
            "[CV 2/5; 24/50] START C=10, gamma=0.1, kernel=linear............................\n",
            "[CV 2/5; 24/50] END C=10, gamma=0.1, kernel=linear;, score=0.831 total time=   0.2s\n",
            "[CV 3/5; 24/50] START C=10, gamma=0.1, kernel=linear............................\n",
            "[CV 3/5; 24/50] END C=10, gamma=0.1, kernel=linear;, score=0.850 total time=   0.2s\n",
            "[CV 4/5; 24/50] START C=10, gamma=0.1, kernel=linear............................\n",
            "[CV 4/5; 24/50] END C=10, gamma=0.1, kernel=linear;, score=0.800 total time=   0.2s\n",
            "[CV 5/5; 24/50] START C=10, gamma=0.1, kernel=linear............................\n",
            "[CV 5/5; 24/50] END C=10, gamma=0.1, kernel=linear;, score=0.875 total time=   0.2s\n",
            "[CV 1/5; 25/50] START C=10, gamma=0.01, kernel=rbf..............................\n",
            "[CV 1/5; 25/50] END C=10, gamma=0.01, kernel=rbf;, score=0.938 total time=   0.0s\n",
            "[CV 2/5; 25/50] START C=10, gamma=0.01, kernel=rbf..............................\n",
            "[CV 2/5; 25/50] END C=10, gamma=0.01, kernel=rbf;, score=0.944 total time=   0.0s\n",
            "[CV 3/5; 25/50] START C=10, gamma=0.01, kernel=rbf..............................\n",
            "[CV 3/5; 25/50] END C=10, gamma=0.01, kernel=rbf;, score=0.906 total time=   0.0s\n",
            "[CV 4/5; 25/50] START C=10, gamma=0.01, kernel=rbf..............................\n",
            "[CV 4/5; 25/50] END C=10, gamma=0.01, kernel=rbf;, score=0.919 total time=   0.0s\n",
            "[CV 5/5; 25/50] START C=10, gamma=0.01, kernel=rbf..............................\n",
            "[CV 5/5; 25/50] END C=10, gamma=0.01, kernel=rbf;, score=0.944 total time=   0.0s\n",
            "[CV 1/5; 26/50] START C=10, gamma=0.01, kernel=linear...........................\n",
            "[CV 1/5; 26/50] END C=10, gamma=0.01, kernel=linear;, score=0.819 total time=   0.2s\n",
            "[CV 2/5; 26/50] START C=10, gamma=0.01, kernel=linear...........................\n",
            "[CV 2/5; 26/50] END C=10, gamma=0.01, kernel=linear;, score=0.831 total time=   0.2s\n",
            "[CV 3/5; 26/50] START C=10, gamma=0.01, kernel=linear...........................\n",
            "[CV 3/5; 26/50] END C=10, gamma=0.01, kernel=linear;, score=0.850 total time=   0.2s\n",
            "[CV 4/5; 26/50] START C=10, gamma=0.01, kernel=linear...........................\n",
            "[CV 4/5; 26/50] END C=10, gamma=0.01, kernel=linear;, score=0.800 total time=   0.2s\n",
            "[CV 5/5; 26/50] START C=10, gamma=0.01, kernel=linear...........................\n",
            "[CV 5/5; 26/50] END C=10, gamma=0.01, kernel=linear;, score=0.875 total time=   0.2s\n",
            "[CV 1/5; 27/50] START C=10, gamma=0.001, kernel=rbf.............................\n",
            "[CV 1/5; 27/50] END C=10, gamma=0.001, kernel=rbf;, score=0.875 total time=   0.0s\n",
            "[CV 2/5; 27/50] START C=10, gamma=0.001, kernel=rbf.............................\n",
            "[CV 2/5; 27/50] END C=10, gamma=0.001, kernel=rbf;, score=0.887 total time=   0.0s\n",
            "[CV 3/5; 27/50] START C=10, gamma=0.001, kernel=rbf.............................\n",
            "[CV 3/5; 27/50] END C=10, gamma=0.001, kernel=rbf;, score=0.838 total time=   0.0s\n",
            "[CV 4/5; 27/50] START C=10, gamma=0.001, kernel=rbf.............................\n",
            "[CV 4/5; 27/50] END C=10, gamma=0.001, kernel=rbf;, score=0.850 total time=   0.0s\n",
            "[CV 5/5; 27/50] START C=10, gamma=0.001, kernel=rbf.............................\n",
            "[CV 5/5; 27/50] END C=10, gamma=0.001, kernel=rbf;, score=0.838 total time=   0.0s\n",
            "[CV 1/5; 28/50] START C=10, gamma=0.001, kernel=linear..........................\n",
            "[CV 1/5; 28/50] END C=10, gamma=0.001, kernel=linear;, score=0.819 total time=   0.2s\n",
            "[CV 2/5; 28/50] START C=10, gamma=0.001, kernel=linear..........................\n",
            "[CV 2/5; 28/50] END C=10, gamma=0.001, kernel=linear;, score=0.831 total time=   0.2s\n",
            "[CV 3/5; 28/50] START C=10, gamma=0.001, kernel=linear..........................\n",
            "[CV 3/5; 28/50] END C=10, gamma=0.001, kernel=linear;, score=0.850 total time=   0.2s\n",
            "[CV 4/5; 28/50] START C=10, gamma=0.001, kernel=linear..........................\n",
            "[CV 4/5; 28/50] END C=10, gamma=0.001, kernel=linear;, score=0.800 total time=   0.2s\n",
            "[CV 5/5; 28/50] START C=10, gamma=0.001, kernel=linear..........................\n",
            "[CV 5/5; 28/50] END C=10, gamma=0.001, kernel=linear;, score=0.875 total time=   0.2s\n",
            "[CV 1/5; 29/50] START C=10, gamma=0.0001, kernel=rbf............................\n",
            "[CV 1/5; 29/50] END C=10, gamma=0.0001, kernel=rbf;, score=0.731 total time=   0.0s\n",
            "[CV 2/5; 29/50] START C=10, gamma=0.0001, kernel=rbf............................\n",
            "[CV 2/5; 29/50] END C=10, gamma=0.0001, kernel=rbf;, score=0.719 total time=   0.0s\n",
            "[CV 3/5; 29/50] START C=10, gamma=0.0001, kernel=rbf............................\n",
            "[CV 3/5; 29/50] END C=10, gamma=0.0001, kernel=rbf;, score=0.725 total time=   0.0s\n",
            "[CV 4/5; 29/50] START C=10, gamma=0.0001, kernel=rbf............................\n",
            "[CV 4/5; 29/50] END C=10, gamma=0.0001, kernel=rbf;, score=0.756 total time=   0.0s\n",
            "[CV 5/5; 29/50] START C=10, gamma=0.0001, kernel=rbf............................\n",
            "[CV 5/5; 29/50] END C=10, gamma=0.0001, kernel=rbf;, score=0.713 total time=   0.0s\n",
            "[CV 1/5; 30/50] START C=10, gamma=0.0001, kernel=linear.........................\n",
            "[CV 1/5; 30/50] END C=10, gamma=0.0001, kernel=linear;, score=0.819 total time=   0.2s\n",
            "[CV 2/5; 30/50] START C=10, gamma=0.0001, kernel=linear.........................\n",
            "[CV 2/5; 30/50] END C=10, gamma=0.0001, kernel=linear;, score=0.831 total time=   0.2s\n",
            "[CV 3/5; 30/50] START C=10, gamma=0.0001, kernel=linear.........................\n",
            "[CV 3/5; 30/50] END C=10, gamma=0.0001, kernel=linear;, score=0.850 total time=   0.2s\n",
            "[CV 4/5; 30/50] START C=10, gamma=0.0001, kernel=linear.........................\n",
            "[CV 4/5; 30/50] END C=10, gamma=0.0001, kernel=linear;, score=0.800 total time=   0.2s\n",
            "[CV 5/5; 30/50] START C=10, gamma=0.0001, kernel=linear.........................\n",
            "[CV 5/5; 30/50] END C=10, gamma=0.0001, kernel=linear;, score=0.875 total time=   0.2s\n",
            "[CV 1/5; 31/50] START C=100, gamma=1, kernel=rbf................................\n",
            "[CV 1/5; 31/50] END .C=100, gamma=1, kernel=rbf;, score=0.756 total time=   0.1s\n",
            "[CV 2/5; 31/50] START C=100, gamma=1, kernel=rbf................................\n",
            "[CV 2/5; 31/50] END .C=100, gamma=1, kernel=rbf;, score=0.806 total time=   0.1s\n",
            "[CV 3/5; 31/50] START C=100, gamma=1, kernel=rbf................................\n",
            "[CV 3/5; 31/50] END .C=100, gamma=1, kernel=rbf;, score=0.769 total time=   0.1s\n",
            "[CV 4/5; 31/50] START C=100, gamma=1, kernel=rbf................................\n",
            "[CV 4/5; 31/50] END .C=100, gamma=1, kernel=rbf;, score=0.794 total time=   0.1s\n",
            "[CV 5/5; 31/50] START C=100, gamma=1, kernel=rbf................................\n",
            "[CV 5/5; 31/50] END .C=100, gamma=1, kernel=rbf;, score=0.806 total time=   0.1s\n",
            "[CV 1/5; 32/50] START C=100, gamma=1, kernel=linear.............................\n",
            "[CV 1/5; 32/50] END C=100, gamma=1, kernel=linear;, score=0.819 total time=   2.5s\n",
            "[CV 2/5; 32/50] START C=100, gamma=1, kernel=linear.............................\n",
            "[CV 2/5; 32/50] END C=100, gamma=1, kernel=linear;, score=0.838 total time=   1.8s\n",
            "[CV 3/5; 32/50] START C=100, gamma=1, kernel=linear.............................\n",
            "[CV 3/5; 32/50] END C=100, gamma=1, kernel=linear;, score=0.819 total time=   1.4s\n",
            "[CV 4/5; 32/50] START C=100, gamma=1, kernel=linear.............................\n",
            "[CV 4/5; 32/50] END C=100, gamma=1, kernel=linear;, score=0.819 total time=   1.6s\n",
            "[CV 5/5; 32/50] START C=100, gamma=1, kernel=linear.............................\n",
            "[CV 5/5; 32/50] END C=100, gamma=1, kernel=linear;, score=0.881 total time=   1.8s\n",
            "[CV 1/5; 33/50] START C=100, gamma=0.1, kernel=rbf..............................\n",
            "[CV 1/5; 33/50] END C=100, gamma=0.1, kernel=rbf;, score=0.975 total time=   0.0s\n",
            "[CV 2/5; 33/50] START C=100, gamma=0.1, kernel=rbf..............................\n",
            "[CV 2/5; 33/50] END C=100, gamma=0.1, kernel=rbf;, score=0.969 total time=   0.0s\n",
            "[CV 3/5; 33/50] START C=100, gamma=0.1, kernel=rbf..............................\n",
            "[CV 3/5; 33/50] END C=100, gamma=0.1, kernel=rbf;, score=0.906 total time=   0.0s\n",
            "[CV 4/5; 33/50] START C=100, gamma=0.1, kernel=rbf..............................\n",
            "[CV 4/5; 33/50] END C=100, gamma=0.1, kernel=rbf;, score=0.938 total time=   0.0s\n",
            "[CV 5/5; 33/50] START C=100, gamma=0.1, kernel=rbf..............................\n",
            "[CV 5/5; 33/50] END C=100, gamma=0.1, kernel=rbf;, score=0.963 total time=   0.0s\n",
            "[CV 1/5; 34/50] START C=100, gamma=0.1, kernel=linear...........................\n",
            "[CV 1/5; 34/50] END C=100, gamma=0.1, kernel=linear;, score=0.819 total time=   2.5s\n",
            "[CV 2/5; 34/50] START C=100, gamma=0.1, kernel=linear...........................\n",
            "[CV 2/5; 34/50] END C=100, gamma=0.1, kernel=linear;, score=0.838 total time=   1.8s\n",
            "[CV 3/5; 34/50] START C=100, gamma=0.1, kernel=linear...........................\n",
            "[CV 3/5; 34/50] END C=100, gamma=0.1, kernel=linear;, score=0.819 total time=   1.3s\n",
            "[CV 4/5; 34/50] START C=100, gamma=0.1, kernel=linear...........................\n",
            "[CV 4/5; 34/50] END C=100, gamma=0.1, kernel=linear;, score=0.819 total time=   1.7s\n",
            "[CV 5/5; 34/50] START C=100, gamma=0.1, kernel=linear...........................\n",
            "[CV 5/5; 34/50] END C=100, gamma=0.1, kernel=linear;, score=0.881 total time=   1.8s\n",
            "[CV 1/5; 35/50] START C=100, gamma=0.01, kernel=rbf.............................\n",
            "[CV 1/5; 35/50] END C=100, gamma=0.01, kernel=rbf;, score=0.950 total time=   0.0s\n",
            "[CV 2/5; 35/50] START C=100, gamma=0.01, kernel=rbf.............................\n",
            "[CV 2/5; 35/50] END C=100, gamma=0.01, kernel=rbf;, score=0.956 total time=   0.0s\n",
            "[CV 3/5; 35/50] START C=100, gamma=0.01, kernel=rbf.............................\n",
            "[CV 3/5; 35/50] END C=100, gamma=0.01, kernel=rbf;, score=0.912 total time=   0.0s\n",
            "[CV 4/5; 35/50] START C=100, gamma=0.01, kernel=rbf.............................\n",
            "[CV 4/5; 35/50] END C=100, gamma=0.01, kernel=rbf;, score=0.938 total time=   0.0s\n",
            "[CV 5/5; 35/50] START C=100, gamma=0.01, kernel=rbf.............................\n",
            "[CV 5/5; 35/50] END C=100, gamma=0.01, kernel=rbf;, score=0.944 total time=   0.0s\n",
            "[CV 1/5; 36/50] START C=100, gamma=0.01, kernel=linear..........................\n",
            "[CV 1/5; 36/50] END C=100, gamma=0.01, kernel=linear;, score=0.819 total time=   2.5s\n",
            "[CV 2/5; 36/50] START C=100, gamma=0.01, kernel=linear..........................\n",
            "[CV 2/5; 36/50] END C=100, gamma=0.01, kernel=linear;, score=0.838 total time=   1.8s\n",
            "[CV 3/5; 36/50] START C=100, gamma=0.01, kernel=linear..........................\n",
            "[CV 3/5; 36/50] END C=100, gamma=0.01, kernel=linear;, score=0.819 total time=   1.3s\n",
            "[CV 4/5; 36/50] START C=100, gamma=0.01, kernel=linear..........................\n",
            "[CV 4/5; 36/50] END C=100, gamma=0.01, kernel=linear;, score=0.819 total time=   1.6s\n",
            "[CV 5/5; 36/50] START C=100, gamma=0.01, kernel=linear..........................\n",
            "[CV 5/5; 36/50] END C=100, gamma=0.01, kernel=linear;, score=0.881 total time=   1.8s\n",
            "[CV 1/5; 37/50] START C=100, gamma=0.001, kernel=rbf............................\n",
            "[CV 1/5; 37/50] END C=100, gamma=0.001, kernel=rbf;, score=0.900 total time=   0.0s\n",
            "[CV 2/5; 37/50] START C=100, gamma=0.001, kernel=rbf............................\n",
            "[CV 2/5; 37/50] END C=100, gamma=0.001, kernel=rbf;, score=0.906 total time=   0.0s\n",
            "[CV 3/5; 37/50] START C=100, gamma=0.001, kernel=rbf............................\n",
            "[CV 3/5; 37/50] END C=100, gamma=0.001, kernel=rbf;, score=0.887 total time=   0.0s\n",
            "[CV 4/5; 37/50] START C=100, gamma=0.001, kernel=rbf............................\n",
            "[CV 4/5; 37/50] END C=100, gamma=0.001, kernel=rbf;, score=0.869 total time=   0.0s\n",
            "[CV 5/5; 37/50] START C=100, gamma=0.001, kernel=rbf............................\n",
            "[CV 5/5; 37/50] END C=100, gamma=0.001, kernel=rbf;, score=0.925 total time=   0.0s\n",
            "[CV 1/5; 38/50] START C=100, gamma=0.001, kernel=linear.........................\n",
            "[CV 1/5; 38/50] END C=100, gamma=0.001, kernel=linear;, score=0.819 total time=   2.5s\n",
            "[CV 2/5; 38/50] START C=100, gamma=0.001, kernel=linear.........................\n",
            "[CV 2/5; 38/50] END C=100, gamma=0.001, kernel=linear;, score=0.838 total time=   1.8s\n",
            "[CV 3/5; 38/50] START C=100, gamma=0.001, kernel=linear.........................\n",
            "[CV 3/5; 38/50] END C=100, gamma=0.001, kernel=linear;, score=0.819 total time=   1.3s\n",
            "[CV 4/5; 38/50] START C=100, gamma=0.001, kernel=linear.........................\n",
            "[CV 4/5; 38/50] END C=100, gamma=0.001, kernel=linear;, score=0.819 total time=   1.6s\n",
            "[CV 5/5; 38/50] START C=100, gamma=0.001, kernel=linear.........................\n",
            "[CV 5/5; 38/50] END C=100, gamma=0.001, kernel=linear;, score=0.881 total time=   1.8s\n",
            "[CV 1/5; 39/50] START C=100, gamma=0.0001, kernel=rbf...........................\n",
            "[CV 1/5; 39/50] END C=100, gamma=0.0001, kernel=rbf;, score=0.844 total time=   0.0s\n",
            "[CV 2/5; 39/50] START C=100, gamma=0.0001, kernel=rbf...........................\n",
            "[CV 2/5; 39/50] END C=100, gamma=0.0001, kernel=rbf;, score=0.838 total time=   0.0s\n",
            "[CV 3/5; 39/50] START C=100, gamma=0.0001, kernel=rbf...........................\n",
            "[CV 3/5; 39/50] END C=100, gamma=0.0001, kernel=rbf;, score=0.806 total time=   0.0s\n",
            "[CV 4/5; 39/50] START C=100, gamma=0.0001, kernel=rbf...........................\n",
            "[CV 4/5; 39/50] END C=100, gamma=0.0001, kernel=rbf;, score=0.825 total time=   0.0s\n",
            "[CV 5/5; 39/50] START C=100, gamma=0.0001, kernel=rbf...........................\n",
            "[CV 5/5; 39/50] END C=100, gamma=0.0001, kernel=rbf;, score=0.825 total time=   0.0s\n",
            "[CV 1/5; 40/50] START C=100, gamma=0.0001, kernel=linear........................\n",
            "[CV 1/5; 40/50] END C=100, gamma=0.0001, kernel=linear;, score=0.819 total time=   2.5s\n",
            "[CV 2/5; 40/50] START C=100, gamma=0.0001, kernel=linear........................\n",
            "[CV 2/5; 40/50] END C=100, gamma=0.0001, kernel=linear;, score=0.838 total time=   1.8s\n",
            "[CV 3/5; 40/50] START C=100, gamma=0.0001, kernel=linear........................\n",
            "[CV 3/5; 40/50] END C=100, gamma=0.0001, kernel=linear;, score=0.819 total time=   1.3s\n",
            "[CV 4/5; 40/50] START C=100, gamma=0.0001, kernel=linear........................\n",
            "[CV 4/5; 40/50] END C=100, gamma=0.0001, kernel=linear;, score=0.819 total time=   1.6s\n",
            "[CV 5/5; 40/50] START C=100, gamma=0.0001, kernel=linear........................\n",
            "[CV 5/5; 40/50] END C=100, gamma=0.0001, kernel=linear;, score=0.881 total time=   1.8s\n",
            "[CV 1/5; 41/50] START C=1000, gamma=1, kernel=rbf...............................\n",
            "[CV 1/5; 41/50] END C=1000, gamma=1, kernel=rbf;, score=0.756 total time=   0.1s\n",
            "[CV 2/5; 41/50] START C=1000, gamma=1, kernel=rbf...............................\n",
            "[CV 2/5; 41/50] END C=1000, gamma=1, kernel=rbf;, score=0.806 total time=   0.1s\n",
            "[CV 3/5; 41/50] START C=1000, gamma=1, kernel=rbf...............................\n",
            "[CV 3/5; 41/50] END C=1000, gamma=1, kernel=rbf;, score=0.769 total time=   0.1s\n",
            "[CV 4/5; 41/50] START C=1000, gamma=1, kernel=rbf...............................\n",
            "[CV 4/5; 41/50] END C=1000, gamma=1, kernel=rbf;, score=0.794 total time=   0.1s\n",
            "[CV 5/5; 41/50] START C=1000, gamma=1, kernel=rbf...............................\n",
            "[CV 5/5; 41/50] END C=1000, gamma=1, kernel=rbf;, score=0.806 total time=   0.1s\n",
            "[CV 1/5; 42/50] START C=1000, gamma=1, kernel=linear............................\n",
            "[CV 1/5; 42/50] END C=1000, gamma=1, kernel=linear;, score=0.794 total time=  20.5s\n",
            "[CV 2/5; 42/50] START C=1000, gamma=1, kernel=linear............................\n",
            "[CV 2/5; 42/50] END C=1000, gamma=1, kernel=linear;, score=0.800 total time=  26.0s\n",
            "[CV 3/5; 42/50] START C=1000, gamma=1, kernel=linear............................\n",
            "[CV 3/5; 42/50] END C=1000, gamma=1, kernel=linear;, score=0.831 total time=  15.1s\n",
            "[CV 4/5; 42/50] START C=1000, gamma=1, kernel=linear............................\n",
            "[CV 4/5; 42/50] END C=1000, gamma=1, kernel=linear;, score=0.769 total time=  15.4s\n",
            "[CV 5/5; 42/50] START C=1000, gamma=1, kernel=linear............................\n",
            "[CV 5/5; 42/50] END C=1000, gamma=1, kernel=linear;, score=0.869 total time=  21.3s\n",
            "[CV 1/5; 43/50] START C=1000, gamma=0.1, kernel=rbf.............................\n",
            "[CV 1/5; 43/50] END C=1000, gamma=0.1, kernel=rbf;, score=0.975 total time=   0.0s\n",
            "[CV 2/5; 43/50] START C=1000, gamma=0.1, kernel=rbf.............................\n",
            "[CV 2/5; 43/50] END C=1000, gamma=0.1, kernel=rbf;, score=0.969 total time=   0.0s\n",
            "[CV 3/5; 43/50] START C=1000, gamma=0.1, kernel=rbf.............................\n",
            "[CV 3/5; 43/50] END C=1000, gamma=0.1, kernel=rbf;, score=0.906 total time=   0.0s\n",
            "[CV 4/5; 43/50] START C=1000, gamma=0.1, kernel=rbf.............................\n",
            "[CV 4/5; 43/50] END C=1000, gamma=0.1, kernel=rbf;, score=0.938 total time=   0.0s\n",
            "[CV 5/5; 43/50] START C=1000, gamma=0.1, kernel=rbf.............................\n",
            "[CV 5/5; 43/50] END C=1000, gamma=0.1, kernel=rbf;, score=0.963 total time=   0.0s\n",
            "[CV 1/5; 44/50] START C=1000, gamma=0.1, kernel=linear..........................\n",
            "[CV 1/5; 44/50] END C=1000, gamma=0.1, kernel=linear;, score=0.794 total time=  20.6s\n",
            "[CV 2/5; 44/50] START C=1000, gamma=0.1, kernel=linear..........................\n",
            "[CV 2/5; 44/50] END C=1000, gamma=0.1, kernel=linear;, score=0.800 total time=  26.2s\n",
            "[CV 3/5; 44/50] START C=1000, gamma=0.1, kernel=linear..........................\n",
            "[CV 3/5; 44/50] END C=1000, gamma=0.1, kernel=linear;, score=0.831 total time=  14.9s\n",
            "[CV 4/5; 44/50] START C=1000, gamma=0.1, kernel=linear..........................\n",
            "[CV 4/5; 44/50] END C=1000, gamma=0.1, kernel=linear;, score=0.769 total time=  15.4s\n",
            "[CV 5/5; 44/50] START C=1000, gamma=0.1, kernel=linear..........................\n",
            "[CV 5/5; 44/50] END C=1000, gamma=0.1, kernel=linear;, score=0.869 total time=  21.5s\n",
            "[CV 1/5; 45/50] START C=1000, gamma=0.01, kernel=rbf............................\n",
            "[CV 1/5; 45/50] END C=1000, gamma=0.01, kernel=rbf;, score=0.950 total time=   0.0s\n",
            "[CV 2/5; 45/50] START C=1000, gamma=0.01, kernel=rbf............................\n",
            "[CV 2/5; 45/50] END C=1000, gamma=0.01, kernel=rbf;, score=0.944 total time=   0.0s\n",
            "[CV 3/5; 45/50] START C=1000, gamma=0.01, kernel=rbf............................\n",
            "[CV 3/5; 45/50] END C=1000, gamma=0.01, kernel=rbf;, score=0.912 total time=   0.0s\n",
            "[CV 4/5; 45/50] START C=1000, gamma=0.01, kernel=rbf............................\n",
            "[CV 4/5; 45/50] END C=1000, gamma=0.01, kernel=rbf;, score=0.925 total time=   0.0s\n",
            "[CV 5/5; 45/50] START C=1000, gamma=0.01, kernel=rbf............................\n",
            "[CV 5/5; 45/50] END C=1000, gamma=0.01, kernel=rbf;, score=0.950 total time=   0.0s\n",
            "[CV 1/5; 46/50] START C=1000, gamma=0.01, kernel=linear.........................\n",
            "[CV 1/5; 46/50] END C=1000, gamma=0.01, kernel=linear;, score=0.794 total time=  20.5s\n",
            "[CV 2/5; 46/50] START C=1000, gamma=0.01, kernel=linear.........................\n",
            "[CV 2/5; 46/50] END C=1000, gamma=0.01, kernel=linear;, score=0.800 total time=  26.0s\n",
            "[CV 3/5; 46/50] START C=1000, gamma=0.01, kernel=linear.........................\n",
            "[CV 3/5; 46/50] END C=1000, gamma=0.01, kernel=linear;, score=0.831 total time=  14.6s\n",
            "[CV 4/5; 46/50] START C=1000, gamma=0.01, kernel=linear.........................\n",
            "[CV 4/5; 46/50] END C=1000, gamma=0.01, kernel=linear;, score=0.769 total time=  15.1s\n",
            "[CV 5/5; 46/50] START C=1000, gamma=0.01, kernel=linear.........................\n",
            "[CV 5/5; 46/50] END C=1000, gamma=0.01, kernel=linear;, score=0.869 total time=  21.1s\n",
            "[CV 1/5; 47/50] START C=1000, gamma=0.001, kernel=rbf...........................\n",
            "[CV 1/5; 47/50] END C=1000, gamma=0.001, kernel=rbf;, score=0.944 total time=   0.0s\n",
            "[CV 2/5; 47/50] START C=1000, gamma=0.001, kernel=rbf...........................\n",
            "[CV 2/5; 47/50] END C=1000, gamma=0.001, kernel=rbf;, score=0.925 total time=   0.0s\n",
            "[CV 3/5; 47/50] START C=1000, gamma=0.001, kernel=rbf...........................\n",
            "[CV 3/5; 47/50] END C=1000, gamma=0.001, kernel=rbf;, score=0.900 total time=   0.0s\n",
            "[CV 4/5; 47/50] START C=1000, gamma=0.001, kernel=rbf...........................\n",
            "[CV 4/5; 47/50] END C=1000, gamma=0.001, kernel=rbf;, score=0.906 total time=   0.0s\n",
            "[CV 5/5; 47/50] START C=1000, gamma=0.001, kernel=rbf...........................\n",
            "[CV 5/5; 47/50] END C=1000, gamma=0.001, kernel=rbf;, score=0.919 total time=   0.0s\n",
            "[CV 1/5; 48/50] START C=1000, gamma=0.001, kernel=linear........................\n",
            "[CV 1/5; 48/50] END C=1000, gamma=0.001, kernel=linear;, score=0.794 total time=  20.5s\n",
            "[CV 2/5; 48/50] START C=1000, gamma=0.001, kernel=linear........................\n",
            "[CV 2/5; 48/50] END C=1000, gamma=0.001, kernel=linear;, score=0.800 total time=  26.1s\n",
            "[CV 3/5; 48/50] START C=1000, gamma=0.001, kernel=linear........................\n",
            "[CV 3/5; 48/50] END C=1000, gamma=0.001, kernel=linear;, score=0.831 total time=  14.6s\n",
            "[CV 4/5; 48/50] START C=1000, gamma=0.001, kernel=linear........................\n",
            "[CV 4/5; 48/50] END C=1000, gamma=0.001, kernel=linear;, score=0.769 total time=  15.0s\n",
            "[CV 5/5; 48/50] START C=1000, gamma=0.001, kernel=linear........................\n",
            "[CV 5/5; 48/50] END C=1000, gamma=0.001, kernel=linear;, score=0.869 total time=  21.1s\n",
            "[CV 1/5; 49/50] START C=1000, gamma=0.0001, kernel=rbf..........................\n",
            "[CV 1/5; 49/50] END C=1000, gamma=0.0001, kernel=rbf;, score=0.875 total time=   0.0s\n",
            "[CV 2/5; 49/50] START C=1000, gamma=0.0001, kernel=rbf..........................\n",
            "[CV 2/5; 49/50] END C=1000, gamma=0.0001, kernel=rbf;, score=0.863 total time=   0.0s\n",
            "[CV 3/5; 49/50] START C=1000, gamma=0.0001, kernel=rbf..........................\n",
            "[CV 3/5; 49/50] END C=1000, gamma=0.0001, kernel=rbf;, score=0.844 total time=   0.0s\n",
            "[CV 4/5; 49/50] START C=1000, gamma=0.0001, kernel=rbf..........................\n",
            "[CV 4/5; 49/50] END C=1000, gamma=0.0001, kernel=rbf;, score=0.844 total time=   0.0s\n",
            "[CV 5/5; 49/50] START C=1000, gamma=0.0001, kernel=rbf..........................\n",
            "[CV 5/5; 49/50] END C=1000, gamma=0.0001, kernel=rbf;, score=0.887 total time=   0.0s\n",
            "[CV 1/5; 50/50] START C=1000, gamma=0.0001, kernel=linear.......................\n",
            "[CV 1/5; 50/50] END C=1000, gamma=0.0001, kernel=linear;, score=0.794 total time=  20.5s\n",
            "[CV 2/5; 50/50] START C=1000, gamma=0.0001, kernel=linear.......................\n",
            "[CV 2/5; 50/50] END C=1000, gamma=0.0001, kernel=linear;, score=0.800 total time=  26.0s\n",
            "[CV 3/5; 50/50] START C=1000, gamma=0.0001, kernel=linear.......................\n",
            "[CV 3/5; 50/50] END C=1000, gamma=0.0001, kernel=linear;, score=0.831 total time=  14.6s\n",
            "[CV 4/5; 50/50] START C=1000, gamma=0.0001, kernel=linear.......................\n",
            "[CV 4/5; 50/50] END C=1000, gamma=0.0001, kernel=linear;, score=0.769 total time=  15.2s\n",
            "[CV 5/5; 50/50] START C=1000, gamma=0.0001, kernel=linear.......................\n",
            "[CV 5/5; 50/50] END C=1000, gamma=0.0001, kernel=linear;, score=0.869 total time=  21.2s\n"
          ]
        },
        {
          "output_type": "execute_result",
          "data": {
            "text/plain": [
              "GridSearchCV(estimator=SVC(),\n",
              "             param_grid={'C': [0.1, 1, 10, 100, 1000],\n",
              "                         'gamma': [1, 0.1, 0.01, 0.001, 0.0001],\n",
              "                         'kernel': ['rbf', 'linear']},\n",
              "             scoring='accuracy', verbose=10)"
            ]
          },
          "metadata": {},
          "execution_count": 63
        }
      ]
    },
    {
      "cell_type": "code",
      "metadata": {
        "id": "hOfJ8wzJtLx2",
        "colab": {
          "base_uri": "https://localhost:8080/"
        },
        "outputId": "70194a63-a649-49ca-d474-aaa64615939b"
      },
      "source": [
        "# print best parameter after tuning\n",
        "print(grid.best_params_)\n",
        "  \n",
        "# print how our model looks after hyper-parameter tuning\n",
        "print(grid.best_estimator_)"
      ],
      "execution_count": null,
      "outputs": [
        {
          "output_type": "stream",
          "name": "stdout",
          "text": [
            "{'C': 10, 'gamma': 0.1, 'kernel': 'rbf'}\n",
            "SVC(C=10, gamma=0.1)\n"
          ]
        }
      ]
    },
    {
      "cell_type": "code",
      "metadata": {
        "id": "2v2BKxzKtOQu"
      },
      "source": [
        "Dataframe = pd.DataFrame(grid.cv_results_)\n",
        "Dataframe = Dataframe.drop(['std_test_score','split4_test_score','split3_test_score','split2_test_score','split1_test_score','split0_test_score','params','std_score_time','mean_score_time','std_fit_time','mean_fit_time'],axis=1)\n",
        "Dataframe.sort_values('rank_test_score', ascending=\"True\")\n",
        "csvpak = Dataframe.sort_values('rank_test_score', ascending=\"True\")\n",
        "csvpak.to_csv('datatuning.csv')"
      ],
      "execution_count": null,
      "outputs": []
    },
    {
      "cell_type": "code",
      "metadata": {
        "id": "jINKH-19tQHJ",
        "colab": {
          "base_uri": "https://localhost:8080/"
        },
        "outputId": "8b7b3bad-0f9f-4a0d-fc9d-73be890ed992"
      },
      "source": [
        "grid_predictions = grid.predict(X_test)\n",
        "\n",
        "print(confusion_matrix(y1_test, grid_predictions))  \n",
        "# print classification report\n",
        "print(classification_report(y1_test, grid_predictions, target_names=['Sinyal AS', 'Sinyal MR','Sinyal MS','Sinyal MVP','Sinyal N']))\n",
        "print(\"Accuracy : \",accuracy_score(y1_test, grid_predictions))"
      ],
      "execution_count": null,
      "outputs": [
        {
          "output_type": "stream",
          "name": "stdout",
          "text": [
            "[[35  0  0  0  0]\n",
            " [ 1 44  0  1  0]\n",
            " [ 2  0 41  0  0]\n",
            " [ 2  2  1 32  0]\n",
            " [ 0  0  0  0 39]]\n",
            "              precision    recall  f1-score   support\n",
            "\n",
            "   Sinyal AS       0.88      1.00      0.93        35\n",
            "   Sinyal MR       0.96      0.96      0.96        46\n",
            "   Sinyal MS       0.98      0.95      0.96        43\n",
            "  Sinyal MVP       0.97      0.86      0.91        37\n",
            "    Sinyal N       1.00      1.00      1.00        39\n",
            "\n",
            "    accuracy                           0.95       200\n",
            "   macro avg       0.96      0.95      0.95       200\n",
            "weighted avg       0.96      0.95      0.95       200\n",
            "\n",
            "Accuracy :  0.955\n"
          ]
        }
      ]
    },
    {
      "cell_type": "code",
      "metadata": {
        "id": "ZkYwjvlJtR7p",
        "colab": {
          "base_uri": "https://localhost:8080/"
        },
        "outputId": "c7a8a99c-46ab-4f8a-af84-9686fb751478"
      },
      "source": [
        "sensitivity, specificity, accuracy = calculate_sensitivity_specificity(y1_test, grid_predictions)\n",
        "print ('Sensitivity:', sensitivity)\n",
        "print ('Specificity:', specificity)\n",
        "print ('Accuracy:', accuracy)"
      ],
      "execution_count": null,
      "outputs": [
        {
          "output_type": "stream",
          "name": "stdout",
          "text": [
            "Sensitivity: 0.9565217391304348\n",
            "Specificity: 1.0\n",
            "Accuracy: 0.955\n"
          ]
        }
      ]
    },
    {
      "cell_type": "code",
      "metadata": {
        "id": "zfFtHESltVjv",
        "colab": {
          "base_uri": "https://localhost:8080/"
        },
        "outputId": "21db505a-921e-40cc-ef01-e3c117d2204a"
      },
      "source": [
        "#no pca\n",
        "from sklearn import svm\n",
        "from sklearn.model_selection import GridSearchCV\n",
        "  \n",
        "# defining parameter range\n",
        "param_grid = {'C': [0.1, 1, 10, 100, 1000], \n",
        "              'gamma': [1, 0.1, 0.01, 0.001, 0.0001],\n",
        "              'kernel': ['rbf','linear']} \n",
        "  \n",
        "grid = GridSearchCV(svm.SVC(), param_grid, refit = True, verbose = 10, scoring='accuracy')\n",
        "  \n",
        "# fitting the model for grid search\n",
        "grid.fit(X1_train, y1_train)"
      ],
      "execution_count": null,
      "outputs": [
        {
          "output_type": "stream",
          "name": "stdout",
          "text": [
            "Fitting 5 folds for each of 50 candidates, totalling 250 fits\n",
            "[CV 1/5; 1/50] START C=0.1, gamma=1, kernel=rbf.................................\n",
            "[CV 1/5; 1/50] END ..C=0.1, gamma=1, kernel=rbf;, score=0.206 total time=   0.1s\n",
            "[CV 2/5; 1/50] START C=0.1, gamma=1, kernel=rbf.................................\n",
            "[CV 2/5; 1/50] END ..C=0.1, gamma=1, kernel=rbf;, score=0.206 total time=   0.1s\n",
            "[CV 3/5; 1/50] START C=0.1, gamma=1, kernel=rbf.................................\n",
            "[CV 3/5; 1/50] END ..C=0.1, gamma=1, kernel=rbf;, score=0.206 total time=   0.1s\n",
            "[CV 4/5; 1/50] START C=0.1, gamma=1, kernel=rbf.................................\n",
            "[CV 4/5; 1/50] END ..C=0.1, gamma=1, kernel=rbf;, score=0.206 total time=   0.1s\n",
            "[CV 5/5; 1/50] START C=0.1, gamma=1, kernel=rbf.................................\n",
            "[CV 5/5; 1/50] END ..C=0.1, gamma=1, kernel=rbf;, score=0.206 total time=   0.1s\n",
            "[CV 1/5; 2/50] START C=0.1, gamma=1, kernel=linear..............................\n",
            "[CV 1/5; 2/50] END C=0.1, gamma=1, kernel=linear;, score=0.856 total time=   0.0s\n",
            "[CV 2/5; 2/50] START C=0.1, gamma=1, kernel=linear..............................\n",
            "[CV 2/5; 2/50] END C=0.1, gamma=1, kernel=linear;, score=0.869 total time=   0.0s\n",
            "[CV 3/5; 2/50] START C=0.1, gamma=1, kernel=linear..............................\n",
            "[CV 3/5; 2/50] END C=0.1, gamma=1, kernel=linear;, score=0.806 total time=   0.0s\n",
            "[CV 4/5; 2/50] START C=0.1, gamma=1, kernel=linear..............................\n",
            "[CV 4/5; 2/50] END C=0.1, gamma=1, kernel=linear;, score=0.812 total time=   0.0s\n",
            "[CV 5/5; 2/50] START C=0.1, gamma=1, kernel=linear..............................\n",
            "[CV 5/5; 2/50] END C=0.1, gamma=1, kernel=linear;, score=0.863 total time=   0.0s\n",
            "[CV 1/5; 3/50] START C=0.1, gamma=0.1, kernel=rbf...............................\n",
            "[CV 1/5; 3/50] END C=0.1, gamma=0.1, kernel=rbf;, score=0.856 total time=   0.1s\n",
            "[CV 2/5; 3/50] START C=0.1, gamma=0.1, kernel=rbf...............................\n",
            "[CV 2/5; 3/50] END C=0.1, gamma=0.1, kernel=rbf;, score=0.856 total time=   0.1s\n",
            "[CV 3/5; 3/50] START C=0.1, gamma=0.1, kernel=rbf...............................\n",
            "[CV 3/5; 3/50] END C=0.1, gamma=0.1, kernel=rbf;, score=0.781 total time=   0.1s\n",
            "[CV 4/5; 3/50] START C=0.1, gamma=0.1, kernel=rbf...............................\n",
            "[CV 4/5; 3/50] END C=0.1, gamma=0.1, kernel=rbf;, score=0.812 total time=   0.1s\n",
            "[CV 5/5; 3/50] START C=0.1, gamma=0.1, kernel=rbf...............................\n",
            "[CV 5/5; 3/50] END C=0.1, gamma=0.1, kernel=rbf;, score=0.800 total time=   0.0s\n",
            "[CV 1/5; 4/50] START C=0.1, gamma=0.1, kernel=linear............................\n",
            "[CV 1/5; 4/50] END C=0.1, gamma=0.1, kernel=linear;, score=0.856 total time=   0.0s\n",
            "[CV 2/5; 4/50] START C=0.1, gamma=0.1, kernel=linear............................\n",
            "[CV 2/5; 4/50] END C=0.1, gamma=0.1, kernel=linear;, score=0.869 total time=   0.0s\n",
            "[CV 3/5; 4/50] START C=0.1, gamma=0.1, kernel=linear............................\n",
            "[CV 3/5; 4/50] END C=0.1, gamma=0.1, kernel=linear;, score=0.806 total time=   0.0s\n",
            "[CV 4/5; 4/50] START C=0.1, gamma=0.1, kernel=linear............................\n",
            "[CV 4/5; 4/50] END C=0.1, gamma=0.1, kernel=linear;, score=0.812 total time=   0.0s\n",
            "[CV 5/5; 4/50] START C=0.1, gamma=0.1, kernel=linear............................\n",
            "[CV 5/5; 4/50] END C=0.1, gamma=0.1, kernel=linear;, score=0.863 total time=   0.0s\n",
            "[CV 1/5; 5/50] START C=0.1, gamma=0.01, kernel=rbf..............................\n",
            "[CV 1/5; 5/50] END C=0.1, gamma=0.01, kernel=rbf;, score=0.725 total time=   0.0s\n",
            "[CV 2/5; 5/50] START C=0.1, gamma=0.01, kernel=rbf..............................\n",
            "[CV 2/5; 5/50] END C=0.1, gamma=0.01, kernel=rbf;, score=0.725 total time=   0.0s\n",
            "[CV 3/5; 5/50] START C=0.1, gamma=0.01, kernel=rbf..............................\n",
            "[CV 3/5; 5/50] END C=0.1, gamma=0.01, kernel=rbf;, score=0.719 total time=   0.0s\n",
            "[CV 4/5; 5/50] START C=0.1, gamma=0.01, kernel=rbf..............................\n",
            "[CV 4/5; 5/50] END C=0.1, gamma=0.01, kernel=rbf;, score=0.762 total time=   0.0s\n",
            "[CV 5/5; 5/50] START C=0.1, gamma=0.01, kernel=rbf..............................\n",
            "[CV 5/5; 5/50] END C=0.1, gamma=0.01, kernel=rbf;, score=0.713 total time=   0.0s\n",
            "[CV 1/5; 6/50] START C=0.1, gamma=0.01, kernel=linear...........................\n",
            "[CV 1/5; 6/50] END C=0.1, gamma=0.01, kernel=linear;, score=0.856 total time=   0.0s\n",
            "[CV 2/5; 6/50] START C=0.1, gamma=0.01, kernel=linear...........................\n",
            "[CV 2/5; 6/50] END C=0.1, gamma=0.01, kernel=linear;, score=0.869 total time=   0.0s\n",
            "[CV 3/5; 6/50] START C=0.1, gamma=0.01, kernel=linear...........................\n",
            "[CV 3/5; 6/50] END C=0.1, gamma=0.01, kernel=linear;, score=0.806 total time=   0.0s\n",
            "[CV 4/5; 6/50] START C=0.1, gamma=0.01, kernel=linear...........................\n",
            "[CV 4/5; 6/50] END C=0.1, gamma=0.01, kernel=linear;, score=0.812 total time=   0.0s\n",
            "[CV 5/5; 6/50] START C=0.1, gamma=0.01, kernel=linear...........................\n",
            "[CV 5/5; 6/50] END C=0.1, gamma=0.01, kernel=linear;, score=0.863 total time=   0.0s\n",
            "[CV 1/5; 7/50] START C=0.1, gamma=0.001, kernel=rbf.............................\n",
            "[CV 1/5; 7/50] END C=0.1, gamma=0.001, kernel=rbf;, score=0.388 total time=   0.1s\n",
            "[CV 2/5; 7/50] START C=0.1, gamma=0.001, kernel=rbf.............................\n",
            "[CV 2/5; 7/50] END C=0.1, gamma=0.001, kernel=rbf;, score=0.400 total time=   0.1s\n",
            "[CV 3/5; 7/50] START C=0.1, gamma=0.001, kernel=rbf.............................\n",
            "[CV 3/5; 7/50] END C=0.1, gamma=0.001, kernel=rbf;, score=0.400 total time=   0.1s\n",
            "[CV 4/5; 7/50] START C=0.1, gamma=0.001, kernel=rbf.............................\n",
            "[CV 4/5; 7/50] END C=0.1, gamma=0.001, kernel=rbf;, score=0.400 total time=   0.1s\n",
            "[CV 5/5; 7/50] START C=0.1, gamma=0.001, kernel=rbf.............................\n",
            "[CV 5/5; 7/50] END C=0.1, gamma=0.001, kernel=rbf;, score=0.412 total time=   0.1s\n",
            "[CV 1/5; 8/50] START C=0.1, gamma=0.001, kernel=linear..........................\n",
            "[CV 1/5; 8/50] END C=0.1, gamma=0.001, kernel=linear;, score=0.856 total time=   0.0s\n",
            "[CV 2/5; 8/50] START C=0.1, gamma=0.001, kernel=linear..........................\n",
            "[CV 2/5; 8/50] END C=0.1, gamma=0.001, kernel=linear;, score=0.869 total time=   0.0s\n",
            "[CV 3/5; 8/50] START C=0.1, gamma=0.001, kernel=linear..........................\n",
            "[CV 3/5; 8/50] END C=0.1, gamma=0.001, kernel=linear;, score=0.806 total time=   0.0s\n",
            "[CV 4/5; 8/50] START C=0.1, gamma=0.001, kernel=linear..........................\n",
            "[CV 4/5; 8/50] END C=0.1, gamma=0.001, kernel=linear;, score=0.812 total time=   0.0s\n",
            "[CV 5/5; 8/50] START C=0.1, gamma=0.001, kernel=linear..........................\n",
            "[CV 5/5; 8/50] END C=0.1, gamma=0.001, kernel=linear;, score=0.863 total time=   0.0s\n",
            "[CV 1/5; 9/50] START C=0.1, gamma=0.0001, kernel=rbf............................\n",
            "[CV 1/5; 9/50] END C=0.1, gamma=0.0001, kernel=rbf;, score=0.206 total time=   0.1s\n",
            "[CV 2/5; 9/50] START C=0.1, gamma=0.0001, kernel=rbf............................\n",
            "[CV 2/5; 9/50] END C=0.1, gamma=0.0001, kernel=rbf;, score=0.206 total time=   0.1s\n",
            "[CV 3/5; 9/50] START C=0.1, gamma=0.0001, kernel=rbf............................\n",
            "[CV 3/5; 9/50] END C=0.1, gamma=0.0001, kernel=rbf;, score=0.206 total time=   0.1s\n",
            "[CV 4/5; 9/50] START C=0.1, gamma=0.0001, kernel=rbf............................\n",
            "[CV 4/5; 9/50] END C=0.1, gamma=0.0001, kernel=rbf;, score=0.206 total time=   0.1s\n",
            "[CV 5/5; 9/50] START C=0.1, gamma=0.0001, kernel=rbf............................\n",
            "[CV 5/5; 9/50] END C=0.1, gamma=0.0001, kernel=rbf;, score=0.206 total time=   0.1s\n",
            "[CV 1/5; 10/50] START C=0.1, gamma=0.0001, kernel=linear........................\n",
            "[CV 1/5; 10/50] END C=0.1, gamma=0.0001, kernel=linear;, score=0.856 total time=   0.0s\n",
            "[CV 2/5; 10/50] START C=0.1, gamma=0.0001, kernel=linear........................\n",
            "[CV 2/5; 10/50] END C=0.1, gamma=0.0001, kernel=linear;, score=0.869 total time=   0.0s\n",
            "[CV 3/5; 10/50] START C=0.1, gamma=0.0001, kernel=linear........................\n",
            "[CV 3/5; 10/50] END C=0.1, gamma=0.0001, kernel=linear;, score=0.806 total time=   0.0s\n",
            "[CV 4/5; 10/50] START C=0.1, gamma=0.0001, kernel=linear........................\n",
            "[CV 4/5; 10/50] END C=0.1, gamma=0.0001, kernel=linear;, score=0.812 total time=   0.0s\n",
            "[CV 5/5; 10/50] START C=0.1, gamma=0.0001, kernel=linear........................\n",
            "[CV 5/5; 10/50] END C=0.1, gamma=0.0001, kernel=linear;, score=0.863 total time=   0.0s\n",
            "[CV 1/5; 11/50] START C=1, gamma=1, kernel=rbf..................................\n",
            "[CV 1/5; 11/50] END ...C=1, gamma=1, kernel=rbf;, score=0.731 total time=   0.1s\n",
            "[CV 2/5; 11/50] START C=1, gamma=1, kernel=rbf..................................\n",
            "[CV 2/5; 11/50] END ...C=1, gamma=1, kernel=rbf;, score=0.775 total time=   0.1s\n",
            "[CV 3/5; 11/50] START C=1, gamma=1, kernel=rbf..................................\n",
            "[CV 3/5; 11/50] END ...C=1, gamma=1, kernel=rbf;, score=0.744 total time=   0.1s\n",
            "[CV 4/5; 11/50] START C=1, gamma=1, kernel=rbf..................................\n",
            "[CV 4/5; 11/50] END ...C=1, gamma=1, kernel=rbf;, score=0.762 total time=   0.1s\n",
            "[CV 5/5; 11/50] START C=1, gamma=1, kernel=rbf..................................\n",
            "[CV 5/5; 11/50] END ...C=1, gamma=1, kernel=rbf;, score=0.806 total time=   0.1s\n",
            "[CV 1/5; 12/50] START C=1, gamma=1, kernel=linear...............................\n",
            "[CV 1/5; 12/50] END C=1, gamma=1, kernel=linear;, score=0.819 total time=   0.0s\n",
            "[CV 2/5; 12/50] START C=1, gamma=1, kernel=linear...............................\n",
            "[CV 2/5; 12/50] END C=1, gamma=1, kernel=linear;, score=0.838 total time=   0.0s\n",
            "[CV 3/5; 12/50] START C=1, gamma=1, kernel=linear...............................\n",
            "[CV 3/5; 12/50] END C=1, gamma=1, kernel=linear;, score=0.838 total time=   0.0s\n",
            "[CV 4/5; 12/50] START C=1, gamma=1, kernel=linear...............................\n",
            "[CV 4/5; 12/50] END C=1, gamma=1, kernel=linear;, score=0.800 total time=   0.0s\n",
            "[CV 5/5; 12/50] START C=1, gamma=1, kernel=linear...............................\n",
            "[CV 5/5; 12/50] END C=1, gamma=1, kernel=linear;, score=0.869 total time=   0.0s\n",
            "[CV 1/5; 13/50] START C=1, gamma=0.1, kernel=rbf................................\n",
            "[CV 1/5; 13/50] END .C=1, gamma=0.1, kernel=rbf;, score=0.975 total time=   0.0s\n",
            "[CV 2/5; 13/50] START C=1, gamma=0.1, kernel=rbf................................\n",
            "[CV 2/5; 13/50] END .C=1, gamma=0.1, kernel=rbf;, score=0.950 total time=   0.0s\n",
            "[CV 3/5; 13/50] START C=1, gamma=0.1, kernel=rbf................................\n",
            "[CV 3/5; 13/50] END .C=1, gamma=0.1, kernel=rbf;, score=0.906 total time=   0.0s\n",
            "[CV 4/5; 13/50] START C=1, gamma=0.1, kernel=rbf................................\n",
            "[CV 4/5; 13/50] END .C=1, gamma=0.1, kernel=rbf;, score=0.938 total time=   0.0s\n",
            "[CV 5/5; 13/50] START C=1, gamma=0.1, kernel=rbf................................\n",
            "[CV 5/5; 13/50] END .C=1, gamma=0.1, kernel=rbf;, score=0.969 total time=   0.0s\n",
            "[CV 1/5; 14/50] START C=1, gamma=0.1, kernel=linear.............................\n",
            "[CV 1/5; 14/50] END C=1, gamma=0.1, kernel=linear;, score=0.819 total time=   0.0s\n",
            "[CV 2/5; 14/50] START C=1, gamma=0.1, kernel=linear.............................\n",
            "[CV 2/5; 14/50] END C=1, gamma=0.1, kernel=linear;, score=0.838 total time=   0.0s\n",
            "[CV 3/5; 14/50] START C=1, gamma=0.1, kernel=linear.............................\n",
            "[CV 3/5; 14/50] END C=1, gamma=0.1, kernel=linear;, score=0.838 total time=   0.0s\n",
            "[CV 4/5; 14/50] START C=1, gamma=0.1, kernel=linear.............................\n",
            "[CV 4/5; 14/50] END C=1, gamma=0.1, kernel=linear;, score=0.800 total time=   0.0s\n",
            "[CV 5/5; 14/50] START C=1, gamma=0.1, kernel=linear.............................\n",
            "[CV 5/5; 14/50] END C=1, gamma=0.1, kernel=linear;, score=0.869 total time=   0.0s\n",
            "[CV 1/5; 15/50] START C=1, gamma=0.01, kernel=rbf...............................\n",
            "[CV 1/5; 15/50] END C=1, gamma=0.01, kernel=rbf;, score=0.887 total time=   0.0s\n",
            "[CV 2/5; 15/50] START C=1, gamma=0.01, kernel=rbf...............................\n",
            "[CV 2/5; 15/50] END C=1, gamma=0.01, kernel=rbf;, score=0.906 total time=   0.0s\n",
            "[CV 3/5; 15/50] START C=1, gamma=0.01, kernel=rbf...............................\n",
            "[CV 3/5; 15/50] END C=1, gamma=0.01, kernel=rbf;, score=0.869 total time=   0.0s\n",
            "[CV 4/5; 15/50] START C=1, gamma=0.01, kernel=rbf...............................\n",
            "[CV 4/5; 15/50] END C=1, gamma=0.01, kernel=rbf;, score=0.869 total time=   0.0s\n",
            "[CV 5/5; 15/50] START C=1, gamma=0.01, kernel=rbf...............................\n",
            "[CV 5/5; 15/50] END C=1, gamma=0.01, kernel=rbf;, score=0.869 total time=   0.0s\n",
            "[CV 1/5; 16/50] START C=1, gamma=0.01, kernel=linear............................\n",
            "[CV 1/5; 16/50] END C=1, gamma=0.01, kernel=linear;, score=0.819 total time=   0.0s\n",
            "[CV 2/5; 16/50] START C=1, gamma=0.01, kernel=linear............................\n",
            "[CV 2/5; 16/50] END C=1, gamma=0.01, kernel=linear;, score=0.838 total time=   0.0s\n",
            "[CV 3/5; 16/50] START C=1, gamma=0.01, kernel=linear............................\n",
            "[CV 3/5; 16/50] END C=1, gamma=0.01, kernel=linear;, score=0.838 total time=   0.0s\n",
            "[CV 4/5; 16/50] START C=1, gamma=0.01, kernel=linear............................\n",
            "[CV 4/5; 16/50] END C=1, gamma=0.01, kernel=linear;, score=0.800 total time=   0.0s\n",
            "[CV 5/5; 16/50] START C=1, gamma=0.01, kernel=linear............................\n",
            "[CV 5/5; 16/50] END C=1, gamma=0.01, kernel=linear;, score=0.869 total time=   0.0s\n",
            "[CV 1/5; 17/50] START C=1, gamma=0.001, kernel=rbf..............................\n",
            "[CV 1/5; 17/50] END C=1, gamma=0.001, kernel=rbf;, score=0.731 total time=   0.0s\n",
            "[CV 2/5; 17/50] START C=1, gamma=0.001, kernel=rbf..............................\n",
            "[CV 2/5; 17/50] END C=1, gamma=0.001, kernel=rbf;, score=0.719 total time=   0.0s\n",
            "[CV 3/5; 17/50] START C=1, gamma=0.001, kernel=rbf..............................\n",
            "[CV 3/5; 17/50] END C=1, gamma=0.001, kernel=rbf;, score=0.738 total time=   0.0s\n",
            "[CV 4/5; 17/50] START C=1, gamma=0.001, kernel=rbf..............................\n",
            "[CV 4/5; 17/50] END C=1, gamma=0.001, kernel=rbf;, score=0.769 total time=   0.0s\n",
            "[CV 5/5; 17/50] START C=1, gamma=0.001, kernel=rbf..............................\n",
            "[CV 5/5; 17/50] END C=1, gamma=0.001, kernel=rbf;, score=0.725 total time=   0.0s\n",
            "[CV 1/5; 18/50] START C=1, gamma=0.001, kernel=linear...........................\n",
            "[CV 1/5; 18/50] END C=1, gamma=0.001, kernel=linear;, score=0.819 total time=   0.0s\n",
            "[CV 2/5; 18/50] START C=1, gamma=0.001, kernel=linear...........................\n",
            "[CV 2/5; 18/50] END C=1, gamma=0.001, kernel=linear;, score=0.838 total time=   0.0s\n",
            "[CV 3/5; 18/50] START C=1, gamma=0.001, kernel=linear...........................\n",
            "[CV 3/5; 18/50] END C=1, gamma=0.001, kernel=linear;, score=0.838 total time=   0.0s\n",
            "[CV 4/5; 18/50] START C=1, gamma=0.001, kernel=linear...........................\n",
            "[CV 4/5; 18/50] END C=1, gamma=0.001, kernel=linear;, score=0.800 total time=   0.0s\n",
            "[CV 5/5; 18/50] START C=1, gamma=0.001, kernel=linear...........................\n",
            "[CV 5/5; 18/50] END C=1, gamma=0.001, kernel=linear;, score=0.869 total time=   0.0s\n",
            "[CV 1/5; 19/50] START C=1, gamma=0.0001, kernel=rbf.............................\n",
            "[CV 1/5; 19/50] END C=1, gamma=0.0001, kernel=rbf;, score=0.388 total time=   0.1s\n",
            "[CV 2/5; 19/50] START C=1, gamma=0.0001, kernel=rbf.............................\n",
            "[CV 2/5; 19/50] END C=1, gamma=0.0001, kernel=rbf;, score=0.400 total time=   0.1s\n",
            "[CV 3/5; 19/50] START C=1, gamma=0.0001, kernel=rbf.............................\n",
            "[CV 3/5; 19/50] END C=1, gamma=0.0001, kernel=rbf;, score=0.381 total time=   0.1s\n",
            "[CV 4/5; 19/50] START C=1, gamma=0.0001, kernel=rbf.............................\n",
            "[CV 4/5; 19/50] END C=1, gamma=0.0001, kernel=rbf;, score=0.394 total time=   0.1s\n",
            "[CV 5/5; 19/50] START C=1, gamma=0.0001, kernel=rbf.............................\n",
            "[CV 5/5; 19/50] END C=1, gamma=0.0001, kernel=rbf;, score=0.412 total time=   0.1s\n",
            "[CV 1/5; 20/50] START C=1, gamma=0.0001, kernel=linear..........................\n",
            "[CV 1/5; 20/50] END C=1, gamma=0.0001, kernel=linear;, score=0.819 total time=   0.0s\n",
            "[CV 2/5; 20/50] START C=1, gamma=0.0001, kernel=linear..........................\n",
            "[CV 2/5; 20/50] END C=1, gamma=0.0001, kernel=linear;, score=0.838 total time=   0.0s\n",
            "[CV 3/5; 20/50] START C=1, gamma=0.0001, kernel=linear..........................\n",
            "[CV 3/5; 20/50] END C=1, gamma=0.0001, kernel=linear;, score=0.838 total time=   0.0s\n",
            "[CV 4/5; 20/50] START C=1, gamma=0.0001, kernel=linear..........................\n",
            "[CV 4/5; 20/50] END C=1, gamma=0.0001, kernel=linear;, score=0.800 total time=   0.0s\n",
            "[CV 5/5; 20/50] START C=1, gamma=0.0001, kernel=linear..........................\n",
            "[CV 5/5; 20/50] END C=1, gamma=0.0001, kernel=linear;, score=0.869 total time=   0.0s\n",
            "[CV 1/5; 21/50] START C=10, gamma=1, kernel=rbf.................................\n",
            "[CV 1/5; 21/50] END ..C=10, gamma=1, kernel=rbf;, score=0.756 total time=   0.1s\n",
            "[CV 2/5; 21/50] START C=10, gamma=1, kernel=rbf.................................\n",
            "[CV 2/5; 21/50] END ..C=10, gamma=1, kernel=rbf;, score=0.806 total time=   0.1s\n",
            "[CV 3/5; 21/50] START C=10, gamma=1, kernel=rbf.................................\n",
            "[CV 3/5; 21/50] END ..C=10, gamma=1, kernel=rbf;, score=0.769 total time=   0.1s\n",
            "[CV 4/5; 21/50] START C=10, gamma=1, kernel=rbf.................................\n",
            "[CV 4/5; 21/50] END ..C=10, gamma=1, kernel=rbf;, score=0.794 total time=   0.1s\n",
            "[CV 5/5; 21/50] START C=10, gamma=1, kernel=rbf.................................\n",
            "[CV 5/5; 21/50] END ..C=10, gamma=1, kernel=rbf;, score=0.806 total time=   0.1s\n",
            "[CV 1/5; 22/50] START C=10, gamma=1, kernel=linear..............................\n",
            "[CV 1/5; 22/50] END C=10, gamma=1, kernel=linear;, score=0.819 total time=   0.2s\n",
            "[CV 2/5; 22/50] START C=10, gamma=1, kernel=linear..............................\n",
            "[CV 2/5; 22/50] END C=10, gamma=1, kernel=linear;, score=0.831 total time=   0.2s\n",
            "[CV 3/5; 22/50] START C=10, gamma=1, kernel=linear..............................\n",
            "[CV 3/5; 22/50] END C=10, gamma=1, kernel=linear;, score=0.850 total time=   0.2s\n",
            "[CV 4/5; 22/50] START C=10, gamma=1, kernel=linear..............................\n",
            "[CV 4/5; 22/50] END C=10, gamma=1, kernel=linear;, score=0.800 total time=   0.2s\n",
            "[CV 5/5; 22/50] START C=10, gamma=1, kernel=linear..............................\n",
            "[CV 5/5; 22/50] END C=10, gamma=1, kernel=linear;, score=0.875 total time=   0.2s\n",
            "[CV 1/5; 23/50] START C=10, gamma=0.1, kernel=rbf...............................\n",
            "[CV 1/5; 23/50] END C=10, gamma=0.1, kernel=rbf;, score=0.975 total time=   0.0s\n",
            "[CV 2/5; 23/50] START C=10, gamma=0.1, kernel=rbf...............................\n",
            "[CV 2/5; 23/50] END C=10, gamma=0.1, kernel=rbf;, score=0.969 total time=   0.0s\n",
            "[CV 3/5; 23/50] START C=10, gamma=0.1, kernel=rbf...............................\n",
            "[CV 3/5; 23/50] END C=10, gamma=0.1, kernel=rbf;, score=0.906 total time=   0.0s\n",
            "[CV 4/5; 23/50] START C=10, gamma=0.1, kernel=rbf...............................\n",
            "[CV 4/5; 23/50] END C=10, gamma=0.1, kernel=rbf;, score=0.938 total time=   0.0s\n",
            "[CV 5/5; 23/50] START C=10, gamma=0.1, kernel=rbf...............................\n",
            "[CV 5/5; 23/50] END C=10, gamma=0.1, kernel=rbf;, score=0.963 total time=   0.0s\n",
            "[CV 1/5; 24/50] START C=10, gamma=0.1, kernel=linear............................\n",
            "[CV 1/5; 24/50] END C=10, gamma=0.1, kernel=linear;, score=0.819 total time=   0.2s\n",
            "[CV 2/5; 24/50] START C=10, gamma=0.1, kernel=linear............................\n",
            "[CV 2/5; 24/50] END C=10, gamma=0.1, kernel=linear;, score=0.831 total time=   0.2s\n",
            "[CV 3/5; 24/50] START C=10, gamma=0.1, kernel=linear............................\n",
            "[CV 3/5; 24/50] END C=10, gamma=0.1, kernel=linear;, score=0.850 total time=   0.2s\n",
            "[CV 4/5; 24/50] START C=10, gamma=0.1, kernel=linear............................\n",
            "[CV 4/5; 24/50] END C=10, gamma=0.1, kernel=linear;, score=0.800 total time=   0.2s\n",
            "[CV 5/5; 24/50] START C=10, gamma=0.1, kernel=linear............................\n",
            "[CV 5/5; 24/50] END C=10, gamma=0.1, kernel=linear;, score=0.875 total time=   0.2s\n",
            "[CV 1/5; 25/50] START C=10, gamma=0.01, kernel=rbf..............................\n",
            "[CV 1/5; 25/50] END C=10, gamma=0.01, kernel=rbf;, score=0.938 total time=   0.0s\n",
            "[CV 2/5; 25/50] START C=10, gamma=0.01, kernel=rbf..............................\n",
            "[CV 2/5; 25/50] END C=10, gamma=0.01, kernel=rbf;, score=0.944 total time=   0.0s\n",
            "[CV 3/5; 25/50] START C=10, gamma=0.01, kernel=rbf..............................\n",
            "[CV 3/5; 25/50] END C=10, gamma=0.01, kernel=rbf;, score=0.906 total time=   0.0s\n",
            "[CV 4/5; 25/50] START C=10, gamma=0.01, kernel=rbf..............................\n",
            "[CV 4/5; 25/50] END C=10, gamma=0.01, kernel=rbf;, score=0.919 total time=   0.0s\n",
            "[CV 5/5; 25/50] START C=10, gamma=0.01, kernel=rbf..............................\n",
            "[CV 5/5; 25/50] END C=10, gamma=0.01, kernel=rbf;, score=0.944 total time=   0.0s\n",
            "[CV 1/5; 26/50] START C=10, gamma=0.01, kernel=linear...........................\n",
            "[CV 1/5; 26/50] END C=10, gamma=0.01, kernel=linear;, score=0.819 total time=   0.2s\n",
            "[CV 2/5; 26/50] START C=10, gamma=0.01, kernel=linear...........................\n",
            "[CV 2/5; 26/50] END C=10, gamma=0.01, kernel=linear;, score=0.831 total time=   0.2s\n",
            "[CV 3/5; 26/50] START C=10, gamma=0.01, kernel=linear...........................\n",
            "[CV 3/5; 26/50] END C=10, gamma=0.01, kernel=linear;, score=0.850 total time=   0.2s\n",
            "[CV 4/5; 26/50] START C=10, gamma=0.01, kernel=linear...........................\n",
            "[CV 4/5; 26/50] END C=10, gamma=0.01, kernel=linear;, score=0.800 total time=   0.2s\n",
            "[CV 5/5; 26/50] START C=10, gamma=0.01, kernel=linear...........................\n",
            "[CV 5/5; 26/50] END C=10, gamma=0.01, kernel=linear;, score=0.875 total time=   0.2s\n",
            "[CV 1/5; 27/50] START C=10, gamma=0.001, kernel=rbf.............................\n",
            "[CV 1/5; 27/50] END C=10, gamma=0.001, kernel=rbf;, score=0.875 total time=   0.0s\n",
            "[CV 2/5; 27/50] START C=10, gamma=0.001, kernel=rbf.............................\n",
            "[CV 2/5; 27/50] END C=10, gamma=0.001, kernel=rbf;, score=0.887 total time=   0.0s\n",
            "[CV 3/5; 27/50] START C=10, gamma=0.001, kernel=rbf.............................\n",
            "[CV 3/5; 27/50] END C=10, gamma=0.001, kernel=rbf;, score=0.838 total time=   0.0s\n",
            "[CV 4/5; 27/50] START C=10, gamma=0.001, kernel=rbf.............................\n",
            "[CV 4/5; 27/50] END C=10, gamma=0.001, kernel=rbf;, score=0.850 total time=   0.0s\n",
            "[CV 5/5; 27/50] START C=10, gamma=0.001, kernel=rbf.............................\n",
            "[CV 5/5; 27/50] END C=10, gamma=0.001, kernel=rbf;, score=0.838 total time=   0.0s\n",
            "[CV 1/5; 28/50] START C=10, gamma=0.001, kernel=linear..........................\n",
            "[CV 1/5; 28/50] END C=10, gamma=0.001, kernel=linear;, score=0.819 total time=   0.2s\n",
            "[CV 2/5; 28/50] START C=10, gamma=0.001, kernel=linear..........................\n",
            "[CV 2/5; 28/50] END C=10, gamma=0.001, kernel=linear;, score=0.831 total time=   0.2s\n",
            "[CV 3/5; 28/50] START C=10, gamma=0.001, kernel=linear..........................\n",
            "[CV 3/5; 28/50] END C=10, gamma=0.001, kernel=linear;, score=0.850 total time=   0.2s\n",
            "[CV 4/5; 28/50] START C=10, gamma=0.001, kernel=linear..........................\n",
            "[CV 4/5; 28/50] END C=10, gamma=0.001, kernel=linear;, score=0.800 total time=   0.2s\n",
            "[CV 5/5; 28/50] START C=10, gamma=0.001, kernel=linear..........................\n",
            "[CV 5/5; 28/50] END C=10, gamma=0.001, kernel=linear;, score=0.875 total time=   0.2s\n",
            "[CV 1/5; 29/50] START C=10, gamma=0.0001, kernel=rbf............................\n",
            "[CV 1/5; 29/50] END C=10, gamma=0.0001, kernel=rbf;, score=0.731 total time=   0.0s\n",
            "[CV 2/5; 29/50] START C=10, gamma=0.0001, kernel=rbf............................\n",
            "[CV 2/5; 29/50] END C=10, gamma=0.0001, kernel=rbf;, score=0.719 total time=   0.0s\n",
            "[CV 3/5; 29/50] START C=10, gamma=0.0001, kernel=rbf............................\n",
            "[CV 3/5; 29/50] END C=10, gamma=0.0001, kernel=rbf;, score=0.725 total time=   0.0s\n",
            "[CV 4/5; 29/50] START C=10, gamma=0.0001, kernel=rbf............................\n",
            "[CV 4/5; 29/50] END C=10, gamma=0.0001, kernel=rbf;, score=0.756 total time=   0.0s\n",
            "[CV 5/5; 29/50] START C=10, gamma=0.0001, kernel=rbf............................\n",
            "[CV 5/5; 29/50] END C=10, gamma=0.0001, kernel=rbf;, score=0.713 total time=   0.0s\n",
            "[CV 1/5; 30/50] START C=10, gamma=0.0001, kernel=linear.........................\n",
            "[CV 1/5; 30/50] END C=10, gamma=0.0001, kernel=linear;, score=0.819 total time=   0.2s\n",
            "[CV 2/5; 30/50] START C=10, gamma=0.0001, kernel=linear.........................\n",
            "[CV 2/5; 30/50] END C=10, gamma=0.0001, kernel=linear;, score=0.831 total time=   0.2s\n",
            "[CV 3/5; 30/50] START C=10, gamma=0.0001, kernel=linear.........................\n",
            "[CV 3/5; 30/50] END C=10, gamma=0.0001, kernel=linear;, score=0.850 total time=   0.2s\n",
            "[CV 4/5; 30/50] START C=10, gamma=0.0001, kernel=linear.........................\n",
            "[CV 4/5; 30/50] END C=10, gamma=0.0001, kernel=linear;, score=0.800 total time=   0.2s\n",
            "[CV 5/5; 30/50] START C=10, gamma=0.0001, kernel=linear.........................\n",
            "[CV 5/5; 30/50] END C=10, gamma=0.0001, kernel=linear;, score=0.875 total time=   0.2s\n",
            "[CV 1/5; 31/50] START C=100, gamma=1, kernel=rbf................................\n",
            "[CV 1/5; 31/50] END .C=100, gamma=1, kernel=rbf;, score=0.756 total time=   0.1s\n",
            "[CV 2/5; 31/50] START C=100, gamma=1, kernel=rbf................................\n",
            "[CV 2/5; 31/50] END .C=100, gamma=1, kernel=rbf;, score=0.806 total time=   0.1s\n",
            "[CV 3/5; 31/50] START C=100, gamma=1, kernel=rbf................................\n",
            "[CV 3/5; 31/50] END .C=100, gamma=1, kernel=rbf;, score=0.769 total time=   0.1s\n",
            "[CV 4/5; 31/50] START C=100, gamma=1, kernel=rbf................................\n",
            "[CV 4/5; 31/50] END .C=100, gamma=1, kernel=rbf;, score=0.794 total time=   0.1s\n",
            "[CV 5/5; 31/50] START C=100, gamma=1, kernel=rbf................................\n",
            "[CV 5/5; 31/50] END .C=100, gamma=1, kernel=rbf;, score=0.806 total time=   0.1s\n",
            "[CV 1/5; 32/50] START C=100, gamma=1, kernel=linear.............................\n",
            "[CV 1/5; 32/50] END C=100, gamma=1, kernel=linear;, score=0.819 total time=   2.2s\n",
            "[CV 2/5; 32/50] START C=100, gamma=1, kernel=linear.............................\n",
            "[CV 2/5; 32/50] END C=100, gamma=1, kernel=linear;, score=0.838 total time=   1.5s\n",
            "[CV 3/5; 32/50] START C=100, gamma=1, kernel=linear.............................\n",
            "[CV 3/5; 32/50] END C=100, gamma=1, kernel=linear;, score=0.819 total time=   1.1s\n",
            "[CV 4/5; 32/50] START C=100, gamma=1, kernel=linear.............................\n",
            "[CV 4/5; 32/50] END C=100, gamma=1, kernel=linear;, score=0.819 total time=   1.7s\n",
            "[CV 5/5; 32/50] START C=100, gamma=1, kernel=linear.............................\n",
            "[CV 5/5; 32/50] END C=100, gamma=1, kernel=linear;, score=0.881 total time=   1.6s\n",
            "[CV 1/5; 33/50] START C=100, gamma=0.1, kernel=rbf..............................\n",
            "[CV 1/5; 33/50] END C=100, gamma=0.1, kernel=rbf;, score=0.975 total time=   0.0s\n",
            "[CV 2/5; 33/50] START C=100, gamma=0.1, kernel=rbf..............................\n",
            "[CV 2/5; 33/50] END C=100, gamma=0.1, kernel=rbf;, score=0.969 total time=   0.0s\n",
            "[CV 3/5; 33/50] START C=100, gamma=0.1, kernel=rbf..............................\n",
            "[CV 3/5; 33/50] END C=100, gamma=0.1, kernel=rbf;, score=0.906 total time=   0.0s\n",
            "[CV 4/5; 33/50] START C=100, gamma=0.1, kernel=rbf..............................\n",
            "[CV 4/5; 33/50] END C=100, gamma=0.1, kernel=rbf;, score=0.938 total time=   0.0s\n",
            "[CV 5/5; 33/50] START C=100, gamma=0.1, kernel=rbf..............................\n",
            "[CV 5/5; 33/50] END C=100, gamma=0.1, kernel=rbf;, score=0.963 total time=   0.1s\n",
            "[CV 1/5; 34/50] START C=100, gamma=0.1, kernel=linear...........................\n",
            "[CV 1/5; 34/50] END C=100, gamma=0.1, kernel=linear;, score=0.819 total time=   2.2s\n",
            "[CV 2/5; 34/50] START C=100, gamma=0.1, kernel=linear...........................\n",
            "[CV 2/5; 34/50] END C=100, gamma=0.1, kernel=linear;, score=0.838 total time=   1.5s\n",
            "[CV 3/5; 34/50] START C=100, gamma=0.1, kernel=linear...........................\n",
            "[CV 3/5; 34/50] END C=100, gamma=0.1, kernel=linear;, score=0.819 total time=   1.1s\n",
            "[CV 4/5; 34/50] START C=100, gamma=0.1, kernel=linear...........................\n",
            "[CV 4/5; 34/50] END C=100, gamma=0.1, kernel=linear;, score=0.819 total time=   1.7s\n",
            "[CV 5/5; 34/50] START C=100, gamma=0.1, kernel=linear...........................\n",
            "[CV 5/5; 34/50] END C=100, gamma=0.1, kernel=linear;, score=0.881 total time=   1.6s\n",
            "[CV 1/5; 35/50] START C=100, gamma=0.01, kernel=rbf.............................\n",
            "[CV 1/5; 35/50] END C=100, gamma=0.01, kernel=rbf;, score=0.950 total time=   0.0s\n",
            "[CV 2/5; 35/50] START C=100, gamma=0.01, kernel=rbf.............................\n",
            "[CV 2/5; 35/50] END C=100, gamma=0.01, kernel=rbf;, score=0.956 total time=   0.0s\n",
            "[CV 3/5; 35/50] START C=100, gamma=0.01, kernel=rbf.............................\n",
            "[CV 3/5; 35/50] END C=100, gamma=0.01, kernel=rbf;, score=0.912 total time=   0.0s\n",
            "[CV 4/5; 35/50] START C=100, gamma=0.01, kernel=rbf.............................\n",
            "[CV 4/5; 35/50] END C=100, gamma=0.01, kernel=rbf;, score=0.938 total time=   0.0s\n",
            "[CV 5/5; 35/50] START C=100, gamma=0.01, kernel=rbf.............................\n",
            "[CV 5/5; 35/50] END C=100, gamma=0.01, kernel=rbf;, score=0.944 total time=   0.0s\n",
            "[CV 1/5; 36/50] START C=100, gamma=0.01, kernel=linear..........................\n",
            "[CV 1/5; 36/50] END C=100, gamma=0.01, kernel=linear;, score=0.819 total time=   2.2s\n",
            "[CV 2/5; 36/50] START C=100, gamma=0.01, kernel=linear..........................\n",
            "[CV 2/5; 36/50] END C=100, gamma=0.01, kernel=linear;, score=0.838 total time=   1.5s\n",
            "[CV 3/5; 36/50] START C=100, gamma=0.01, kernel=linear..........................\n",
            "[CV 3/5; 36/50] END C=100, gamma=0.01, kernel=linear;, score=0.819 total time=   1.1s\n",
            "[CV 4/5; 36/50] START C=100, gamma=0.01, kernel=linear..........................\n",
            "[CV 4/5; 36/50] END C=100, gamma=0.01, kernel=linear;, score=0.819 total time=   1.7s\n",
            "[CV 5/5; 36/50] START C=100, gamma=0.01, kernel=linear..........................\n",
            "[CV 5/5; 36/50] END C=100, gamma=0.01, kernel=linear;, score=0.881 total time=   1.6s\n",
            "[CV 1/5; 37/50] START C=100, gamma=0.001, kernel=rbf............................\n",
            "[CV 1/5; 37/50] END C=100, gamma=0.001, kernel=rbf;, score=0.900 total time=   0.0s\n",
            "[CV 2/5; 37/50] START C=100, gamma=0.001, kernel=rbf............................\n",
            "[CV 2/5; 37/50] END C=100, gamma=0.001, kernel=rbf;, score=0.906 total time=   0.0s\n",
            "[CV 3/5; 37/50] START C=100, gamma=0.001, kernel=rbf............................\n",
            "[CV 3/5; 37/50] END C=100, gamma=0.001, kernel=rbf;, score=0.887 total time=   0.0s\n",
            "[CV 4/5; 37/50] START C=100, gamma=0.001, kernel=rbf............................\n",
            "[CV 4/5; 37/50] END C=100, gamma=0.001, kernel=rbf;, score=0.869 total time=   0.0s\n",
            "[CV 5/5; 37/50] START C=100, gamma=0.001, kernel=rbf............................\n",
            "[CV 5/5; 37/50] END C=100, gamma=0.001, kernel=rbf;, score=0.925 total time=   0.0s\n",
            "[CV 1/5; 38/50] START C=100, gamma=0.001, kernel=linear.........................\n",
            "[CV 1/5; 38/50] END C=100, gamma=0.001, kernel=linear;, score=0.819 total time=   2.2s\n",
            "[CV 2/5; 38/50] START C=100, gamma=0.001, kernel=linear.........................\n",
            "[CV 2/5; 38/50] END C=100, gamma=0.001, kernel=linear;, score=0.838 total time=   1.5s\n",
            "[CV 3/5; 38/50] START C=100, gamma=0.001, kernel=linear.........................\n",
            "[CV 3/5; 38/50] END C=100, gamma=0.001, kernel=linear;, score=0.819 total time=   1.1s\n",
            "[CV 4/5; 38/50] START C=100, gamma=0.001, kernel=linear.........................\n",
            "[CV 4/5; 38/50] END C=100, gamma=0.001, kernel=linear;, score=0.819 total time=   1.7s\n",
            "[CV 5/5; 38/50] START C=100, gamma=0.001, kernel=linear.........................\n",
            "[CV 5/5; 38/50] END C=100, gamma=0.001, kernel=linear;, score=0.881 total time=   1.6s\n",
            "[CV 1/5; 39/50] START C=100, gamma=0.0001, kernel=rbf...........................\n",
            "[CV 1/5; 39/50] END C=100, gamma=0.0001, kernel=rbf;, score=0.844 total time=   0.0s\n",
            "[CV 2/5; 39/50] START C=100, gamma=0.0001, kernel=rbf...........................\n",
            "[CV 2/5; 39/50] END C=100, gamma=0.0001, kernel=rbf;, score=0.838 total time=   0.0s\n",
            "[CV 3/5; 39/50] START C=100, gamma=0.0001, kernel=rbf...........................\n",
            "[CV 3/5; 39/50] END C=100, gamma=0.0001, kernel=rbf;, score=0.806 total time=   0.0s\n",
            "[CV 4/5; 39/50] START C=100, gamma=0.0001, kernel=rbf...........................\n",
            "[CV 4/5; 39/50] END C=100, gamma=0.0001, kernel=rbf;, score=0.825 total time=   0.0s\n",
            "[CV 5/5; 39/50] START C=100, gamma=0.0001, kernel=rbf...........................\n",
            "[CV 5/5; 39/50] END C=100, gamma=0.0001, kernel=rbf;, score=0.825 total time=   0.0s\n",
            "[CV 1/5; 40/50] START C=100, gamma=0.0001, kernel=linear........................\n",
            "[CV 1/5; 40/50] END C=100, gamma=0.0001, kernel=linear;, score=0.819 total time=   2.2s\n",
            "[CV 2/5; 40/50] START C=100, gamma=0.0001, kernel=linear........................\n",
            "[CV 2/5; 40/50] END C=100, gamma=0.0001, kernel=linear;, score=0.838 total time=   1.5s\n",
            "[CV 3/5; 40/50] START C=100, gamma=0.0001, kernel=linear........................\n",
            "[CV 3/5; 40/50] END C=100, gamma=0.0001, kernel=linear;, score=0.819 total time=   1.1s\n",
            "[CV 4/5; 40/50] START C=100, gamma=0.0001, kernel=linear........................\n",
            "[CV 4/5; 40/50] END C=100, gamma=0.0001, kernel=linear;, score=0.819 total time=   1.7s\n",
            "[CV 5/5; 40/50] START C=100, gamma=0.0001, kernel=linear........................\n",
            "[CV 5/5; 40/50] END C=100, gamma=0.0001, kernel=linear;, score=0.881 total time=   1.6s\n",
            "[CV 1/5; 41/50] START C=1000, gamma=1, kernel=rbf...............................\n",
            "[CV 1/5; 41/50] END C=1000, gamma=1, kernel=rbf;, score=0.756 total time=   0.1s\n",
            "[CV 2/5; 41/50] START C=1000, gamma=1, kernel=rbf...............................\n",
            "[CV 2/5; 41/50] END C=1000, gamma=1, kernel=rbf;, score=0.806 total time=   0.1s\n",
            "[CV 3/5; 41/50] START C=1000, gamma=1, kernel=rbf...............................\n",
            "[CV 3/5; 41/50] END C=1000, gamma=1, kernel=rbf;, score=0.769 total time=   0.1s\n",
            "[CV 4/5; 41/50] START C=1000, gamma=1, kernel=rbf...............................\n",
            "[CV 4/5; 41/50] END C=1000, gamma=1, kernel=rbf;, score=0.794 total time=   0.1s\n",
            "[CV 5/5; 41/50] START C=1000, gamma=1, kernel=rbf...............................\n",
            "[CV 5/5; 41/50] END C=1000, gamma=1, kernel=rbf;, score=0.806 total time=   0.1s\n",
            "[CV 1/5; 42/50] START C=1000, gamma=1, kernel=linear............................\n",
            "[CV 1/5; 42/50] END C=1000, gamma=1, kernel=linear;, score=0.794 total time=  18.4s\n",
            "[CV 2/5; 42/50] START C=1000, gamma=1, kernel=linear............................\n",
            "[CV 2/5; 42/50] END C=1000, gamma=1, kernel=linear;, score=0.800 total time=  32.8s\n",
            "[CV 3/5; 42/50] START C=1000, gamma=1, kernel=linear............................\n",
            "[CV 3/5; 42/50] END C=1000, gamma=1, kernel=linear;, score=0.831 total time=  14.8s\n",
            "[CV 4/5; 42/50] START C=1000, gamma=1, kernel=linear............................\n",
            "[CV 4/5; 42/50] END C=1000, gamma=1, kernel=linear;, score=0.769 total time=  12.6s\n",
            "[CV 5/5; 42/50] START C=1000, gamma=1, kernel=linear............................\n",
            "[CV 5/5; 42/50] END C=1000, gamma=1, kernel=linear;, score=0.869 total time=  21.6s\n",
            "[CV 1/5; 43/50] START C=1000, gamma=0.1, kernel=rbf.............................\n",
            "[CV 1/5; 43/50] END C=1000, gamma=0.1, kernel=rbf;, score=0.975 total time=   0.0s\n",
            "[CV 2/5; 43/50] START C=1000, gamma=0.1, kernel=rbf.............................\n",
            "[CV 2/5; 43/50] END C=1000, gamma=0.1, kernel=rbf;, score=0.969 total time=   0.0s\n",
            "[CV 3/5; 43/50] START C=1000, gamma=0.1, kernel=rbf.............................\n",
            "[CV 3/5; 43/50] END C=1000, gamma=0.1, kernel=rbf;, score=0.906 total time=   0.0s\n",
            "[CV 4/5; 43/50] START C=1000, gamma=0.1, kernel=rbf.............................\n",
            "[CV 4/5; 43/50] END C=1000, gamma=0.1, kernel=rbf;, score=0.938 total time=   0.0s\n",
            "[CV 5/5; 43/50] START C=1000, gamma=0.1, kernel=rbf.............................\n",
            "[CV 5/5; 43/50] END C=1000, gamma=0.1, kernel=rbf;, score=0.963 total time=   0.0s\n",
            "[CV 1/5; 44/50] START C=1000, gamma=0.1, kernel=linear..........................\n",
            "[CV 1/5; 44/50] END C=1000, gamma=0.1, kernel=linear;, score=0.794 total time=  18.3s\n",
            "[CV 2/5; 44/50] START C=1000, gamma=0.1, kernel=linear..........................\n",
            "[CV 2/5; 44/50] END C=1000, gamma=0.1, kernel=linear;, score=0.800 total time=  32.6s\n",
            "[CV 3/5; 44/50] START C=1000, gamma=0.1, kernel=linear..........................\n",
            "[CV 3/5; 44/50] END C=1000, gamma=0.1, kernel=linear;, score=0.831 total time=  14.6s\n",
            "[CV 4/5; 44/50] START C=1000, gamma=0.1, kernel=linear..........................\n",
            "[CV 4/5; 44/50] END C=1000, gamma=0.1, kernel=linear;, score=0.769 total time=  12.4s\n",
            "[CV 5/5; 44/50] START C=1000, gamma=0.1, kernel=linear..........................\n",
            "[CV 5/5; 44/50] END C=1000, gamma=0.1, kernel=linear;, score=0.869 total time=  21.4s\n",
            "[CV 1/5; 45/50] START C=1000, gamma=0.01, kernel=rbf............................\n",
            "[CV 1/5; 45/50] END C=1000, gamma=0.01, kernel=rbf;, score=0.950 total time=   0.0s\n",
            "[CV 2/5; 45/50] START C=1000, gamma=0.01, kernel=rbf............................\n",
            "[CV 2/5; 45/50] END C=1000, gamma=0.01, kernel=rbf;, score=0.944 total time=   0.0s\n",
            "[CV 3/5; 45/50] START C=1000, gamma=0.01, kernel=rbf............................\n",
            "[CV 3/5; 45/50] END C=1000, gamma=0.01, kernel=rbf;, score=0.912 total time=   0.0s\n",
            "[CV 4/5; 45/50] START C=1000, gamma=0.01, kernel=rbf............................\n",
            "[CV 4/5; 45/50] END C=1000, gamma=0.01, kernel=rbf;, score=0.925 total time=   0.0s\n",
            "[CV 5/5; 45/50] START C=1000, gamma=0.01, kernel=rbf............................\n",
            "[CV 5/5; 45/50] END C=1000, gamma=0.01, kernel=rbf;, score=0.950 total time=   0.0s\n",
            "[CV 1/5; 46/50] START C=1000, gamma=0.01, kernel=linear.........................\n",
            "[CV 1/5; 46/50] END C=1000, gamma=0.01, kernel=linear;, score=0.794 total time=  18.2s\n",
            "[CV 2/5; 46/50] START C=1000, gamma=0.01, kernel=linear.........................\n",
            "[CV 2/5; 46/50] END C=1000, gamma=0.01, kernel=linear;, score=0.800 total time=  32.6s\n",
            "[CV 3/5; 46/50] START C=1000, gamma=0.01, kernel=linear.........................\n",
            "[CV 3/5; 46/50] END C=1000, gamma=0.01, kernel=linear;, score=0.831 total time=  14.6s\n",
            "[CV 4/5; 46/50] START C=1000, gamma=0.01, kernel=linear.........................\n",
            "[CV 4/5; 46/50] END C=1000, gamma=0.01, kernel=linear;, score=0.769 total time=  12.3s\n",
            "[CV 5/5; 46/50] START C=1000, gamma=0.01, kernel=linear.........................\n",
            "[CV 5/5; 46/50] END C=1000, gamma=0.01, kernel=linear;, score=0.869 total time=  21.4s\n",
            "[CV 1/5; 47/50] START C=1000, gamma=0.001, kernel=rbf...........................\n",
            "[CV 1/5; 47/50] END C=1000, gamma=0.001, kernel=rbf;, score=0.944 total time=   0.0s\n",
            "[CV 2/5; 47/50] START C=1000, gamma=0.001, kernel=rbf...........................\n",
            "[CV 2/5; 47/50] END C=1000, gamma=0.001, kernel=rbf;, score=0.925 total time=   0.0s\n",
            "[CV 3/5; 47/50] START C=1000, gamma=0.001, kernel=rbf...........................\n",
            "[CV 3/5; 47/50] END C=1000, gamma=0.001, kernel=rbf;, score=0.900 total time=   0.0s\n",
            "[CV 4/5; 47/50] START C=1000, gamma=0.001, kernel=rbf...........................\n",
            "[CV 4/5; 47/50] END C=1000, gamma=0.001, kernel=rbf;, score=0.906 total time=   0.0s\n",
            "[CV 5/5; 47/50] START C=1000, gamma=0.001, kernel=rbf...........................\n",
            "[CV 5/5; 47/50] END C=1000, gamma=0.001, kernel=rbf;, score=0.919 total time=   0.0s\n",
            "[CV 1/5; 48/50] START C=1000, gamma=0.001, kernel=linear........................\n",
            "[CV 1/5; 48/50] END C=1000, gamma=0.001, kernel=linear;, score=0.794 total time=  18.3s\n",
            "[CV 2/5; 48/50] START C=1000, gamma=0.001, kernel=linear........................\n",
            "[CV 2/5; 48/50] END C=1000, gamma=0.001, kernel=linear;, score=0.800 total time=  32.6s\n",
            "[CV 3/5; 48/50] START C=1000, gamma=0.001, kernel=linear........................\n",
            "[CV 3/5; 48/50] END C=1000, gamma=0.001, kernel=linear;, score=0.831 total time=  14.7s\n",
            "[CV 4/5; 48/50] START C=1000, gamma=0.001, kernel=linear........................\n",
            "[CV 4/5; 48/50] END C=1000, gamma=0.001, kernel=linear;, score=0.769 total time=  12.5s\n",
            "[CV 5/5; 48/50] START C=1000, gamma=0.001, kernel=linear........................\n",
            "[CV 5/5; 48/50] END C=1000, gamma=0.001, kernel=linear;, score=0.869 total time=  21.5s\n",
            "[CV 1/5; 49/50] START C=1000, gamma=0.0001, kernel=rbf..........................\n",
            "[CV 1/5; 49/50] END C=1000, gamma=0.0001, kernel=rbf;, score=0.875 total time=   0.0s\n",
            "[CV 2/5; 49/50] START C=1000, gamma=0.0001, kernel=rbf..........................\n",
            "[CV 2/5; 49/50] END C=1000, gamma=0.0001, kernel=rbf;, score=0.863 total time=   0.0s\n",
            "[CV 3/5; 49/50] START C=1000, gamma=0.0001, kernel=rbf..........................\n",
            "[CV 3/5; 49/50] END C=1000, gamma=0.0001, kernel=rbf;, score=0.844 total time=   0.0s\n",
            "[CV 4/5; 49/50] START C=1000, gamma=0.0001, kernel=rbf..........................\n",
            "[CV 4/5; 49/50] END C=1000, gamma=0.0001, kernel=rbf;, score=0.844 total time=   0.0s\n",
            "[CV 5/5; 49/50] START C=1000, gamma=0.0001, kernel=rbf..........................\n",
            "[CV 5/5; 49/50] END C=1000, gamma=0.0001, kernel=rbf;, score=0.887 total time=   0.0s\n",
            "[CV 1/5; 50/50] START C=1000, gamma=0.0001, kernel=linear.......................\n",
            "[CV 1/5; 50/50] END C=1000, gamma=0.0001, kernel=linear;, score=0.794 total time=  18.3s\n",
            "[CV 2/5; 50/50] START C=1000, gamma=0.0001, kernel=linear.......................\n",
            "[CV 2/5; 50/50] END C=1000, gamma=0.0001, kernel=linear;, score=0.800 total time=  32.6s\n",
            "[CV 3/5; 50/50] START C=1000, gamma=0.0001, kernel=linear.......................\n",
            "[CV 3/5; 50/50] END C=1000, gamma=0.0001, kernel=linear;, score=0.831 total time=  14.6s\n",
            "[CV 4/5; 50/50] START C=1000, gamma=0.0001, kernel=linear.......................\n",
            "[CV 4/5; 50/50] END C=1000, gamma=0.0001, kernel=linear;, score=0.769 total time=  12.3s\n",
            "[CV 5/5; 50/50] START C=1000, gamma=0.0001, kernel=linear.......................\n",
            "[CV 5/5; 50/50] END C=1000, gamma=0.0001, kernel=linear;, score=0.869 total time=  21.4s\n"
          ]
        },
        {
          "output_type": "execute_result",
          "data": {
            "text/plain": [
              "GridSearchCV(estimator=SVC(),\n",
              "             param_grid={'C': [0.1, 1, 10, 100, 1000],\n",
              "                         'gamma': [1, 0.1, 0.01, 0.001, 0.0001],\n",
              "                         'kernel': ['rbf', 'linear']},\n",
              "             scoring='accuracy', verbose=10)"
            ]
          },
          "metadata": {},
          "execution_count": 68
        }
      ]
    },
    {
      "cell_type": "code",
      "metadata": {
        "id": "jaRS544stXjZ",
        "colab": {
          "base_uri": "https://localhost:8080/"
        },
        "outputId": "5115f963-03b3-4489-c3af-9ce75ba2043f"
      },
      "source": [
        "# print best parameter after tuning\n",
        "print(grid.best_params_)\n",
        "  \n",
        "# print how our model looks after hyper-parameter tuning\n",
        "print(grid.best_estimator_)"
      ],
      "execution_count": null,
      "outputs": [
        {
          "output_type": "stream",
          "name": "stdout",
          "text": [
            "{'C': 10, 'gamma': 0.1, 'kernel': 'rbf'}\n",
            "SVC(C=10, gamma=0.1)\n"
          ]
        }
      ]
    },
    {
      "cell_type": "code",
      "metadata": {
        "id": "x_h2CCE1tlFS"
      },
      "source": [
        "Dataframe = pd.DataFrame(grid.cv_results_)\n",
        "Dataframe = Dataframe.drop(['std_test_score','split4_test_score','split3_test_score','split2_test_score','split1_test_score','split0_test_score','params','std_score_time','mean_score_time','std_fit_time','mean_fit_time'],axis=1)\n",
        "Dataframe.sort_values('rank_test_score', ascending=\"True\")\n",
        "csvpak = Dataframe.sort_values('rank_test_score', ascending=\"True\")\n",
        "csvpak.to_csv('datatuning.csv')"
      ],
      "execution_count": null,
      "outputs": []
    },
    {
      "cell_type": "code",
      "metadata": {
        "id": "Ogn8vhghtmwC",
        "colab": {
          "base_uri": "https://localhost:8080/"
        },
        "outputId": "bc6c5958-c586-4280-e53a-32e10a48cd0a"
      },
      "source": [
        "grid_predictions = grid.predict(X1_test)\n",
        "\n",
        "print(confusion_matrix(y1_test, grid_predictions))  \n",
        "# print classification report\n",
        "print(classification_report(y1_test, grid_predictions, target_names=['Sinyal AS', 'Sinyal MR','Sinyal MS','Sinyal MVP','Sinyal N']))\n",
        "print(\"Accuracy : \",accuracy_score(y1_test, grid_predictions))"
      ],
      "execution_count": null,
      "outputs": [
        {
          "output_type": "stream",
          "name": "stdout",
          "text": [
            "[[35  0  0  0  0]\n",
            " [ 1 44  0  1  0]\n",
            " [ 2  0 41  0  0]\n",
            " [ 2  2  1 32  0]\n",
            " [ 0  0  0  0 39]]\n",
            "              precision    recall  f1-score   support\n",
            "\n",
            "   Sinyal AS       0.88      1.00      0.93        35\n",
            "   Sinyal MR       0.96      0.96      0.96        46\n",
            "   Sinyal MS       0.98      0.95      0.96        43\n",
            "  Sinyal MVP       0.97      0.86      0.91        37\n",
            "    Sinyal N       1.00      1.00      1.00        39\n",
            "\n",
            "    accuracy                           0.95       200\n",
            "   macro avg       0.96      0.95      0.95       200\n",
            "weighted avg       0.96      0.95      0.95       200\n",
            "\n",
            "Accuracy :  0.955\n"
          ]
        }
      ]
    },
    {
      "cell_type": "code",
      "metadata": {
        "id": "4XtoaphOtoRS",
        "colab": {
          "base_uri": "https://localhost:8080/"
        },
        "outputId": "c825af71-117b-46ee-bc63-444e1c53bcd3"
      },
      "source": [
        "sensitivity, specificity, accuracy = calculate_sensitivity_specificity(y1_test, grid_predictions)\n",
        "print ('Sensitivity:', sensitivity)\n",
        "print ('Specificity:', specificity)\n",
        "print ('Accuracy:', accuracy)"
      ],
      "execution_count": null,
      "outputs": [
        {
          "output_type": "stream",
          "name": "stdout",
          "text": [
            "Sensitivity: 0.9565217391304348\n",
            "Specificity: 1.0\n",
            "Accuracy: 0.955\n"
          ]
        }
      ]
    }
  ]
}
